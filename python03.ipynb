{
 "metadata": {
  "name": "",
  "signature": "sha256:c2a8f36ac62251dfdafbb2110fa8aa023b8b6e959ed0c988aa7b730205c38220"
 },
 "nbformat": 3,
 "nbformat_minor": 0,
 "worksheets": [
  {
   "cells": [
    {
     "cell_type": "markdown",
     "metadata": {},
     "source": [
      "***\n",
      "***\n",
      "# 3. \uc218\uce58 \uc790\ub8cc\ud615\uacfc \uc5f0\uc0b0\uc790\n",
      "***\n",
      "***"
     ]
    },
    {
     "cell_type": "markdown",
     "metadata": {},
     "source": [
      "***\n",
      "## 01 \uc218\uce58 \uc790\ub8cc\ud615\n",
      "***"
     ]
    },
    {
     "cell_type": "markdown",
     "metadata": {},
     "source": [
      "### 1-1 \uc815\uc218\ud615 \uc0c1\uc218"
     ]
    },
    {
     "cell_type": "code",
     "collapsed": false,
     "input": [],
     "language": "python",
     "metadata": {},
     "outputs": [],
     "prompt_number": 0
    },
    {
     "cell_type": "markdown",
     "metadata": {},
     "source": [
      "### 1-2 \uc2e4\uc218\ud615 \uc0c1\uc218"
     ]
    },
    {
     "cell_type": "code",
     "collapsed": false,
     "input": [],
     "language": "python",
     "metadata": {},
     "outputs": [],
     "prompt_number": 0
    },
    {
     "cell_type": "markdown",
     "metadata": {},
     "source": [
      "### 1-3 \ub871\ud615 \uc0c1\uc218"
     ]
    },
    {
     "cell_type": "code",
     "collapsed": false,
     "input": [],
     "language": "python",
     "metadata": {},
     "outputs": [],
     "prompt_number": 0
    },
    {
     "cell_type": "markdown",
     "metadata": {},
     "source": [
      "### 1-4 \ubcf5\uc18c\uc218\ud615 \uc0c1\uc218"
     ]
    },
    {
     "cell_type": "code",
     "collapsed": false,
     "input": [],
     "language": "python",
     "metadata": {},
     "outputs": [],
     "prompt_number": 0
    },
    {
     "cell_type": "markdown",
     "metadata": {},
     "source": [
      "***\n",
      "## 02 \ud30c\uc774\uc36c \uc5f0\uc0b0\uc790\n",
      "***"
     ]
    },
    {
     "cell_type": "markdown",
     "metadata": {},
     "source": [
      "### 2-1 \uc0b0\uc220 \uc5f0\uc0b0\uc790"
     ]
    },
    {
     "cell_type": "code",
     "collapsed": false,
     "input": [],
     "language": "python",
     "metadata": {},
     "outputs": [],
     "prompt_number": 0
    },
    {
     "cell_type": "markdown",
     "metadata": {},
     "source": [
      "| \uc5f0\uc0b0\uc790 |   \uc124\uba85  | \uacb0\ud569 \uc21c\uc11c |\n",
      "|:------:|:-----------------:|:-----------:|\n",
      "| +, - |    \ub2e8\ud56d \uc5f0\uc0b0\uc790   |     -    |\n",
      "| ** | \uc9c0\uc218 \uc5f0\uc0b0\uc790 |     \uc67c\ucabd <- \uc624\ub978\ucabd    |\n",
      "| *, /, %, // | \uacf1\ud558\uae30, \ub098\ub204\uae30, \ub098\uba38\uc9c0, \ubaab |     \uc67c\ucabd -> \uc624\ub978\ucabd    |\n",
      "|  +, -  | \ub354\ud558\uae30, \ube7c\uae30 |     \uc67c\ucabd -> \uc624\ub978\ucabd    |"
     ]
    },
    {
     "cell_type": "markdown",
     "metadata": {},
     "source": [
      "### 2-2 \uad00\uacc4 \uc5f0\uc0b0\uc790"
     ]
    },
    {
     "cell_type": "code",
     "collapsed": false,
     "input": [
      "x = [1,2,3]\n",
      "y = [1,2,3]\n",
      "z = y\n",
      "print x == y\n",
      "print x == z\n",
      "print x is y\n",
      "print x is z\n",
      "print y is z"
     ],
     "language": "python",
     "metadata": {},
     "outputs": [
      {
       "output_type": "stream",
       "stream": "stdout",
       "text": [
        "True\n",
        "True\n",
        "False\n",
        "False\n",
        "True\n"
       ]
      }
     ],
     "prompt_number": 5
    },
    {
     "cell_type": "markdown",
     "metadata": {},
     "source": [
      "![image](images/objectIdentity.png)"
     ]
    },
    {
     "cell_type": "code",
     "collapsed": false,
     "input": [
      "y[1] = 10\n",
      "print x\n",
      "print y\n",
      "print z"
     ],
     "language": "python",
     "metadata": {},
     "outputs": [
      {
       "output_type": "stream",
       "stream": "stdout",
       "text": [
        "[1, 2, 3]\n",
        "[1, 10, 3]\n",
        "[1, 10, 3]\n"
       ]
      }
     ],
     "prompt_number": 7
    },
    {
     "cell_type": "markdown",
     "metadata": {},
     "source": [
      "### 2-3 \ub17c\ub9ac \uc5f0\uc0b0\uc790"
     ]
    },
    {
     "cell_type": "code",
     "collapsed": false,
     "input": [],
     "language": "python",
     "metadata": {},
     "outputs": [],
     "prompt_number": 0
    },
    {
     "cell_type": "markdown",
     "metadata": {},
     "source": [
      "### 2-4 \ube44\ud2b8 \ub2e8\uc704 \uc5f0\uc0b0\uc790\n",
      "- Negative numbers are written with a leading one instead of a leading zero. \n",
      "- So if you are using only 8 bits for your twos-complement numbers, then you treat patterns from \"00000000\" to \"01111111\" as the whole numbers from 0 to 127, and reserve \"1xxxxxxx\" for writing negative numbers. \n",
      "- A negative number, -x, is written using the bit pattern for (x-1) with all of the bits complemented (switched from 1 to 0 or 0 to 1). \n",
      "- So -1 is complement(1 - 1) = complement(0) = \"11111111\", and -10 is complement(10 - 1) = complement(9) = complement(\"00001001\") = \"11110110\". \n",
      "- This means that negative numbers go all the way down to -128 (\"10000000\")."
     ]
    },
    {
     "cell_type": "code",
     "collapsed": false,
     "input": [],
     "language": "python",
     "metadata": {},
     "outputs": [],
     "prompt_number": 0
    },
    {
     "cell_type": "markdown",
     "metadata": {},
     "source": [
      "### 2-5 \uc5f0\uc0b0\uc790 \uc6b0\uc120 \uc21c\uc704 \ud45c"
     ]
    },
    {
     "cell_type": "code",
     "collapsed": false,
     "input": [],
     "language": "python",
     "metadata": {},
     "outputs": [],
     "prompt_number": 0
    },
    {
     "cell_type": "markdown",
     "metadata": {},
     "source": [
      "***\n",
      "## 03 \ud30c\uc774\uc36c \uc218\uce58 \uc5f0\uc0b0 \ud568\uc218\n",
      "***"
     ]
    },
    {
     "cell_type": "markdown",
     "metadata": {},
     "source": [
      "### 3-1 \ub0b4\uc7a5 \uc218\uce58 \uc5f0\uc0b0 \ud568\uc218"
     ]
    },
    {
     "cell_type": "code",
     "collapsed": false,
     "input": [],
     "language": "python",
     "metadata": {},
     "outputs": [],
     "prompt_number": 0
    },
    {
     "cell_type": "markdown",
     "metadata": {},
     "source": [
      "### 3-2 math \ubaa8\ub4c8\uc758 \uc218\uce58 \uc5f0\uc0b0 \ud568\uc218"
     ]
    },
    {
     "cell_type": "code",
     "collapsed": false,
     "input": [],
     "language": "python",
     "metadata": {},
     "outputs": []
    }
   ],
   "metadata": {}
  }
 ]
}