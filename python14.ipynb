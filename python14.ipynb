{
 "metadata": {
  "name": "",
  "signature": "sha256:08dcb9cc8c09817081c5317658e169aa147149a384f62088b7fe7a2c36f3dc79"
 },
 "nbformat": 3,
 "nbformat_minor": 0,
 "worksheets": [
  {
   "cells": [
    {
     "cell_type": "markdown",
     "metadata": {},
     "source": [
      "***\n",
      "***\n",
      "# 14. \uc57d\ud55c\ucc38\uc870, \ubc18\ubcf5\uc790, \ubc1c\uc0dd\uc790\n",
      "***\n",
      "***"
     ]
    },
    {
     "cell_type": "markdown",
     "metadata": {},
     "source": [
      "***\n",
      "## 01 \uc57d\ud55c \ucc38\uc870\n",
      "***"
     ]
    },
    {
     "cell_type": "markdown",
     "metadata": {},
     "source": [
      "### 1-1 \uc57d\ud55c \ucc38\uc870\ub780 \ubb34\uc5c7\uc778\uac00?"
     ]
    },
    {
     "cell_type": "markdown",
     "metadata": {},
     "source": [
      "### 1-2 \uc57d\ud55c \ucc38\uc870\ub294 \uc65c \ud544\uc694\ud55c\uac00?"
     ]
    },
    {
     "cell_type": "markdown",
     "metadata": {},
     "source": [
      "### 1-3 \uc57d\ud55c \ucc38\uc870 \ubaa8\ub4c8"
     ]
    },
    {
     "cell_type": "code",
     "collapsed": false,
     "input": [
      "import weakref #\ubaa8\ub4c8 \uc784\ud3ec\ud2b8\n",
      "class C:\n",
      "    pass"
     ],
     "language": "python",
     "metadata": {},
     "outputs": [],
     "prompt_number": 1
    },
    {
     "cell_type": "code",
     "collapsed": false,
     "input": [
      "c = C() #\uc778\uc2a4\ud134\uc2a4 \uc0dd\uc131 \n",
      "c.a = 1 #\ud14c\uc2a4\ud2b8\uc6a9 \uac12 \uc124\uc815 \n",
      "r = weakref.ref(c) #\uc57d\ud55c \ucc38\uc870 \uac1d\uccb4 \uc0dd\uc131\n",
      "\n",
      "print r #\uc57d\ud55c \ucc38\uc870(weakref) \uac1d\uccb4\n",
      "print r() #c \uc778\uc2a4\ud134\uc2a4 \uac1d\uccb4\uc758 \uc8fc\uc18c(c\uc640 \ub3d9\uc77c\ud568)\n",
      "print c \n",
      "print \n",
      "print r().a #\uc57d\ud55c \ucc38\uc870\ub97c \uc774\uc6a9\ud55c \uba64\ubc84 \ucc38\uc870\n",
      "\n",
      "del c #\uac1d\uccb4 \uc81c\uac70 \n",
      "print r() #None\uc744 \ub9ac\ud134\ud55c\ub2e4"
     ],
     "language": "python",
     "metadata": {},
     "outputs": [
      {
       "output_type": "stream",
       "stream": "stdout",
       "text": [
        "<weakref at 0x101d3e998; to 'instance' at 0x1025a1758>\n",
        "<__main__.C instance at 0x1025a1758>\n",
        "<__main__.C instance at 0x1025a1758>\n",
        "1\n",
        "None\n"
       ]
      }
     ],
     "prompt_number": 5
    },
    {
     "cell_type": "code",
     "collapsed": false,
     "input": [
      "print r().a #\uc18d\uc131\ub3c4 \ucc38\uc870\ud560 \uc218 \uc5c6\ub2e4"
     ],
     "language": "python",
     "metadata": {},
     "outputs": [
      {
       "ename": "AttributeError",
       "evalue": "'NoneType' object has no attribute 'a'",
       "output_type": "pyerr",
       "traceback": [
        "\u001b[0;31m---------------------------------------------------------------------------\u001b[0m\n\u001b[0;31mAttributeError\u001b[0m                            Traceback (most recent call last)",
        "\u001b[0;32m<ipython-input-6-dad97ebb83a4>\u001b[0m in \u001b[0;36m<module>\u001b[0;34m()\u001b[0m\n\u001b[0;32m----> 1\u001b[0;31m \u001b[0;32mprint\u001b[0m \u001b[0mr\u001b[0m\u001b[0;34m(\u001b[0m\u001b[0;34m)\u001b[0m\u001b[0;34m.\u001b[0m\u001b[0ma\u001b[0m\u001b[0;34m\u001b[0m\u001b[0m\n\u001b[0m",
        "\u001b[0;31mAttributeError\u001b[0m: 'NoneType' object has no attribute 'a'"
       ]
      }
     ],
     "prompt_number": 6
    },
    {
     "cell_type": "code",
     "collapsed": false,
     "input": [
      "class C:\n",
      "    pass\n",
      "\n",
      "c = C()\n",
      "c.a = 2\n",
      "p = weakref.proxy(c) #\ud504\ub85d\uc2dc \uac1d\uccb4\ub97c \ub9cc\ub4e0\ub2e4\n",
      "print p\n",
      "print p.a"
     ],
     "language": "python",
     "metadata": {},
     "outputs": [
      {
       "output_type": "stream",
       "stream": "stdout",
       "text": [
        "<__main__.C instance at 0x10259a7a0>\n",
        "2\n"
       ]
      }
     ],
     "prompt_number": 7
    },
    {
     "cell_type": "code",
     "collapsed": false,
     "input": [
      "c = C() #\ucc38\uc870\ud560 \uac1d\uccb4 \uc0dd\uc131\n",
      "r = weakref.ref(c) #weakref\n",
      "p = weakref.proxy(c) #proxy weakref\n",
      "print weakref.getweakrefcount(c)#weakref \uac1c\uc218\n",
      "print weakref.getweakrefs #weakref \ubaa9\ub85d"
     ],
     "language": "python",
     "metadata": {},
     "outputs": [
      {
       "output_type": "stream",
       "stream": "stdout",
       "text": [
        "2\n",
        "<built-in function getweakrefs>\n"
       ]
      }
     ],
     "prompt_number": 8
    },
    {
     "cell_type": "markdown",
     "metadata": {},
     "source": [
      "### 1-4 \uc57d\ud55c \uc0ac\uc804"
     ]
    },
    {
     "cell_type": "code",
     "collapsed": false,
     "input": [
      "class C:\n",
      "    pass\n",
      "\n",
      "c = C()\n",
      "c.a = 4\n",
      "d = weakref.WeakValueDictionary() #WeakValueDictionary \uac1d\uccb4 \uc0dd\uc131\n",
      "print d\n",
      "\n",
      "d[1] = c #\ud56d\ubaa9 \uc0dd\uc131\n",
      "print d.items() #\uc0ac\uc804 \ub0b4\uc6a9 \ud655\uc778\n",
      "print d[1].a #\ucc38\uc870\n",
      "\n",
      "del c #\uac1d\uccb4 \uc0ad\uc81c\n",
      "print d.items() #\ud56d\ubaa9\uc774 \uc0ac\ub77c\uc84c\ub2e4."
     ],
     "language": "python",
     "metadata": {},
     "outputs": [
      {
       "output_type": "stream",
       "stream": "stdout",
       "text": [
        "<WeakValueDictionary at 4335043864>\n",
        "[(1, <__main__.C instance at 0x102596830>)]\n",
        "4\n",
        "[]\n"
       ]
      }
     ],
     "prompt_number": 9
    },
    {
     "cell_type": "code",
     "collapsed": false,
     "input": [
      "d = weakref.WeakKeyDictionary()\n",
      "c = C()\n",
      "c.a = 4\n",
      "d[c] = 1\n",
      "\n",
      "print d.items()\n",
      "\n",
      "del c\n",
      "print d.items()"
     ],
     "language": "python",
     "metadata": {},
     "outputs": [
      {
       "output_type": "stream",
       "stream": "stdout",
       "text": [
        "[(<__main__.C instance at 0x102638518>, 1)]\n",
        "[]\n"
       ]
      }
     ],
     "prompt_number": 11
    },
    {
     "cell_type": "markdown",
     "metadata": {},
     "source": [
      "***\n",
      "## 02 \ubc18\ubcf5\uc790\n",
      "***"
     ]
    },
    {
     "cell_type": "markdown",
     "metadata": {},
     "source": [
      "### 2-1 \uae30\uc874 \uc778\ub371\uc2f1\uc758 \ubb38\uc81c\uc810"
     ]
    },
    {
     "cell_type": "code",
     "collapsed": false,
     "input": [
      "class Even:\n",
      "    def __getitem__(self, k):\n",
      "        return k * 2\n",
      "    \n",
      "E = Even()\n",
      "for x in E: #for\ub8e8\ud504\ub85c \ucc38\uc870\ud558\ub294 \uacbd\uc6b0\n",
      "    print x,\n",
      "    if x > 20: break\n",
      "\n",
      "print        \n",
      "print E[2]"
     ],
     "language": "python",
     "metadata": {},
     "outputs": [
      {
       "output_type": "stream",
       "stream": "stdout",
       "text": [
        "0 2 4 6 8 10 12 14 16 18 20 22\n",
        "4\n"
       ]
      }
     ],
     "prompt_number": 13
    },
    {
     "cell_type": "code",
     "collapsed": false,
     "input": [
      "class Seq:\n",
      "    def __init__(self, fname): #\uc77d\uc744 \ud30c\uc77c \uc774\ub984 \uc124\uc815\n",
      "        self.file = open(fname)\n",
      "    def __getitem__(self, k):\n",
      "        line = self.file.readline() #\ud55c \ub77c\uc778\uc744 \uc77d\ub294\ub2e4.\n",
      "        if not line: raise IndexError #\uc77d\uc744 \uc218 \uc5c6\uc73c\uba74 \uc608\uc678 \ubc1c\uc0dd\n",
      "        return line #\uc77d\uc740 \ub77c\uc778\uc744 \ub9ac\ud134\ud55c\ub2e4.\n",
      "        \n",
      "S = Seq('readme.txt')\n",
      "for line in S:\n",
      "    print line,"
     ],
     "language": "python",
     "metadata": {},
     "outputs": [],
     "prompt_number": 16
    },
    {
     "cell_type": "code",
     "collapsed": false,
     "input": [
      "S = Seq('readme.txt')\n",
      "S[3]"
     ],
     "language": "python",
     "metadata": {},
     "outputs": [
      {
       "metadata": {},
       "output_type": "pyout",
       "prompt_number": 19,
       "text": [
        "'This is Python version 2.2'"
       ]
      }
     ],
     "prompt_number": 19
    },
    {
     "cell_type": "markdown",
     "metadata": {},
     "source": [
      "### 2-2 \ubc18\ubcf5\uc790 \uac1d\uccb4"
     ]
    },
    {
     "cell_type": "code",
     "collapsed": false,
     "input": [
      "I = iter([1,2,3])\n",
      "print I\n",
      "\n",
      "print I.next()\n",
      "print I.next()\n",
      "print I.next()\n",
      "print I.next()"
     ],
     "language": "python",
     "metadata": {},
     "outputs": [
      {
       "output_type": "stream",
       "stream": "stdout",
       "text": [
        "<listiterator object at 0x102648cd0>\n",
        "1\n",
        "2\n",
        "3\n"
       ]
      },
      {
       "ename": "StopIteration",
       "evalue": "",
       "output_type": "pyerr",
       "traceback": [
        "\u001b[0;31m---------------------------------------------------------------------------\u001b[0m\n\u001b[0;31mStopIteration\u001b[0m                             Traceback (most recent call last)",
        "\u001b[0;32m<ipython-input-20-98af67aeb8bc>\u001b[0m in \u001b[0;36m<module>\u001b[0;34m()\u001b[0m\n\u001b[1;32m      5\u001b[0m \u001b[0;32mprint\u001b[0m \u001b[0mI\u001b[0m\u001b[0;34m.\u001b[0m\u001b[0mnext\u001b[0m\u001b[0;34m(\u001b[0m\u001b[0;34m)\u001b[0m\u001b[0;34m\u001b[0m\u001b[0m\n\u001b[1;32m      6\u001b[0m \u001b[0;32mprint\u001b[0m \u001b[0mI\u001b[0m\u001b[0;34m.\u001b[0m\u001b[0mnext\u001b[0m\u001b[0;34m(\u001b[0m\u001b[0;34m)\u001b[0m\u001b[0;34m\u001b[0m\u001b[0m\n\u001b[0;32m----> 7\u001b[0;31m \u001b[0;32mprint\u001b[0m \u001b[0mI\u001b[0m\u001b[0;34m.\u001b[0m\u001b[0mnext\u001b[0m\u001b[0;34m(\u001b[0m\u001b[0;34m)\u001b[0m\u001b[0;34m\u001b[0m\u001b[0m\n\u001b[0m",
        "\u001b[0;31mStopIteration\u001b[0m: "
       ]
      }
     ],
     "prompt_number": 20
    },
    {
     "cell_type": "markdown",
     "metadata": {},
     "source": [
      "### 2-3 \ud074\ub798\uc2a4\uc5d0 \ubc18\ubcf5\uc790 \uad6c\ud604\ud558\uae30"
     ]
    },
    {
     "cell_type": "code",
     "collapsed": false,
     "input": [
      "class Seq:\n",
      "    def __init__(self, fname):\n",
      "        self.file = open(fname)\n",
      "    def __iter__(self): #iter(..)\uc5d0 \uc758\ud574\uc11c \ud638\ucd9c\ub418\ub294 \uba54\uc18c\ub4dc\n",
      "        return self #next \uba54\uc18c\ub4dc\ub97c \uac00\uc9c0\uace0 \uc788\uc73c\ubbc0\ub85c self\uac00 \ubc18\ubcf5\uc790\uac00 \ub41c\ub2e4\n",
      "    def next(self): #\ubc18\ubcf5\uc790\uac00 \uac00\uc838\uc57c \ud560 \uba54\uc18c\ub4dc\n",
      "        line = self.file.readline()\n",
      "        if not line: raise StopIteration\n",
      "        return line\n",
      "    \n",
      "S = Seq('readme.txt')\n",
      "for line in S:\n",
      "    print line,"
     ],
     "language": "python",
     "metadata": {},
     "outputs": [
      {
       "output_type": "stream",
       "stream": "stdout",
       "text": [
        "This is Python version 2.2\n"
       ]
      }
     ],
     "prompt_number": 25
    },
    {
     "cell_type": "markdown",
     "metadata": {},
     "source": [
      "### 2-4 \uc0ac\uc804\uc758 \ubc18\ubcf5\uc790"
     ]
    },
    {
     "cell_type": "code",
     "collapsed": false,
     "input": [
      "d = {'one':1, 'two':2, 'three':3, 'four':4, 'five':5}\n",
      "for key in d:\n",
      "    print key, d[key]"
     ],
     "language": "python",
     "metadata": {},
     "outputs": [
      {
       "output_type": "stream",
       "stream": "stdout",
       "text": [
        "four 4\n",
        "three 3\n",
        "five 5\n",
        "two 2\n",
        "one 1\n"
       ]
      }
     ],
     "prompt_number": 26
    },
    {
     "cell_type": "code",
     "collapsed": false,
     "input": [
      "for key in d.iterkeys(): #\ud0a4\uc5d0 \ub300\ud55c \ubc18\ubcf5\uc790, \uadf8\ub0e5 d\ub77c\ud558\ub294 \uac83\uacfc \ub3d9\uc77c\ud568\n",
      "    print key,\n",
      "\n",
      "print\n",
      "print\n",
      "\n",
      "for value in d.itervalues(): #\uac12\uc5d0 \ub300\ud55c \ubc18\ubcf5\uc790\n",
      "    print value, \n",
      "    \n",
      "print\n",
      "print\n",
      "\n",
      "for key, value in d.iteritems(): #(\ud0a4,\uac12)\uc5d0 \ub300\ud55c \ubc18\ubcf5\uc790\n",
      "    print key, value"
     ],
     "language": "python",
     "metadata": {},
     "outputs": [
      {
       "output_type": "stream",
       "stream": "stdout",
       "text": [
        "four three five two one\n",
        "\n",
        "4 3 5 2 1\n",
        "\n",
        "four 4\n",
        "three 3\n",
        "five 5\n",
        "two 2\n",
        "one 1\n"
       ]
      }
     ],
     "prompt_number": 30
    },
    {
     "cell_type": "markdown",
     "metadata": {},
     "source": [
      "### 2-5 \ud30c\uc77c \uac1d\uccb4\uc758 \ubc18\ubcf5\uc790"
     ]
    },
    {
     "cell_type": "code",
     "collapsed": false,
     "input": [
      "f = open('readme.txt')\n",
      "for line in f:\n",
      "    print line, #\ub77c\uc778 \ub2e8\uc704\ub85c \ucd9c\ub825\ub41c\ub2e4."
     ],
     "language": "python",
     "metadata": {},
     "outputs": [
      {
       "output_type": "stream",
       "stream": "stdout",
       "text": [
        "This is Python version 2.2\n"
       ]
      }
     ],
     "prompt_number": 31
    },
    {
     "cell_type": "markdown",
     "metadata": {},
     "source": [
      "### 2-6 \ud638\ucd9c \uac00\ub2a5\ud55c \uac1d\uccb4\uc5d0 \ubc18\ubcf5\uc790 \uc801\uc6a9\ud558\uae30"
     ]
    },
    {
     "cell_type": "code",
     "collapsed": false,
     "input": [
      "def accum(sum, a):\n",
      "    return sum + a\n",
      "\n",
      "sum = 0\n",
      "for sum in iter(lambda: accum(sum, 2), 40):\n",
      "    print sum,"
     ],
     "language": "python",
     "metadata": {},
     "outputs": [
      {
       "output_type": "stream",
       "stream": "stdout",
       "text": [
        "2 4 6 8 10 12 14 16 18 20 22 24 26 28 30 32 34 36 38\n"
       ]
      }
     ],
     "prompt_number": 37
    },
    {
     "cell_type": "code",
     "collapsed": false,
     "input": [
      "def accum(sum, a):\n",
      "    return sum + a\n",
      "\n",
      "sum = 0\n",
      "sum = accum(sum, 2)\n",
      "\n",
      "while sum > 40 :\n",
      "    print sum,\n",
      "    sum = accum(sum, 2)"
     ],
     "language": "python",
     "metadata": {},
     "outputs": [],
     "prompt_number": 41
    },
    {
     "cell_type": "code",
     "collapsed": false,
     "input": [
      "import math\n",
      "def accum(sum, a):\n",
      "    return sum + a\n",
      "\n",
      "sum = 0\n",
      "for sum in iter(lambda:accum(sum, math.pi), None): #\uc5ec\uae30\ub294 \ub098\uc624\uc9c0 \uc54a\ub294 \uac12(none)\uc744 \uc4f4\ub2e4.\n",
      "    if sum >= 20 : break #\uc5ec\uae30\uc11c \uc870\uac74\uc744 \uac80\uc0ac\ud55c\ub2e4.\n",
      "    print sum,"
     ],
     "language": "python",
     "metadata": {},
     "outputs": [
      {
       "output_type": "stream",
       "stream": "stdout",
       "text": [
        "3.14159265359 6.28318530718 9.42477796077 12.5663706144 15.7079632679 18.8495559215\n"
       ]
      }
     ],
     "prompt_number": 42
    },
    {
     "cell_type": "markdown",
     "metadata": {},
     "source": [
      "### 2-7 itertools \ubaa8\ub4c8"
     ]
    },
    {
     "cell_type": "code",
     "collapsed": false,
     "input": [
      "from itertools import *\n",
      "L1 = [1,2,3]\n",
      "L2 = [4,5,6]\n",
      "for k in chain(L1, L2):\n",
      "    print k, #L1, L2\uc5d0 \ub300\ud574 \uc5f0\uc18d\ub41c \ub370\uc774\ud130\ub97c \ub118\uaca8\uc900\ub2e4.\n",
      "print\n",
      "for k in (L1+L2):\n",
      "    print k, #\uc774 \ubc29\ubc95\uc740 \uc0c8\ub85c\uc6b4 \ub9ac\uc2a4\ud2b8\ub97c \uc0dd\uc131\ud558\ubbc0\ub85c \uba54\ubaa8\ub9ac\ub97c \ub0ad\ube44\ud55c\ub2e4."
     ],
     "language": "python",
     "metadata": {},
     "outputs": [
      {
       "output_type": "stream",
       "stream": "stdout",
       "text": [
        "1 2 3 4 5 6\n",
        "1 2 3 4 5 6\n"
       ]
      }
     ],
     "prompt_number": 1
    },
    {
     "cell_type": "code",
     "collapsed": false,
     "input": [
      "#for k in count(10):\n",
      "    #print k, \n",
      "    #\ub05d\uc5c6\uc774 \ucd9c\ub825\ub41c\ub2e4."
     ],
     "language": "python",
     "metadata": {},
     "outputs": [],
     "prompt_number": 2
    },
    {
     "cell_type": "code",
     "collapsed": false,
     "input": [
      "names = ['gslee', 'kim', 'park']\n",
      "for regNo, name in izip(count(140), names): #\ud544\uc694\ud55c \ub9cc\ud07c \uac00\uc838\ub2e4\uc4f4\ub2e4.\n",
      "    print regNo, name"
     ],
     "language": "python",
     "metadata": {},
     "outputs": [
      {
       "output_type": "stream",
       "stream": "stdout",
       "text": [
        "140 gslee\n",
        "141 kim\n",
        "142 park\n"
       ]
      }
     ],
     "prompt_number": 3
    },
    {
     "cell_type": "markdown",
     "metadata": {},
     "source": [
      "***\n",
      "## 03 \ubc1c\uc0dd\uc790\n",
      "***"
     ]
    },
    {
     "cell_type": "markdown",
     "metadata": {},
     "source": [
      "### 3-1 \ubc1c\uc0dd\uc790\ub780?"
     ]
    },
    {
     "cell_type": "markdown",
     "metadata": {},
     "source": [
      "### 3-1 \ubc1c\uc0dd\uc790\ub780?"
     ]
    },
    {
     "cell_type": "markdown",
     "metadata": {},
     "source": [
      "### 3-2 \ubc1c\uc0dd\uc790\uac00 \uc5b4\ub514\uc5d0 \uc88b\uc744\uae4c"
     ]
    },
    {
     "cell_type": "markdown",
     "metadata": {},
     "source": [
      "### 3-3 \ubc1c\uc0dd\uc790\uc758 \ud65c\uc6a9 \uc6081-\ud53c\ubcf4\ub098\uce58 \uc218\uc5f4"
     ]
    },
    {
     "cell_type": "markdown",
     "metadata": {},
     "source": [
      "### 3-4 \ubc1c\uc0dd\uc790\uc758 \ud65c\uc6a9 \uc6082-\ud640\uc218 \uc9d1\ud569 \ub9cc\ub4e4\uae30"
     ]
    },
    {
     "cell_type": "markdown",
     "metadata": {},
     "source": [
      "### 3-5 \ubc1c\uc0dd\uc790\uc758 \ud65c\uc6a9 \uc6083-\ud558\ub098\uc529 \uac74\ub108 \ub6f0\uc5b4\uc11c \uac12 \ucde8\ud558\uae30"
     ]
    },
    {
     "cell_type": "markdown",
     "metadata": {},
     "source": [
      "### 3-6 \ubc1c\uc0dd\uc790\uc758 \ud65c\uc6a9 \uc6084-\ud2b8\ub9ac\ud0d0\uc0c9"
     ]
    },
    {
     "cell_type": "markdown",
     "metadata": {},
     "source": [
      "### 3-7 \ubc1c\uc0dd\uc790\uc758 \ud65c\uc6a9 \uc6085-\uc911\ucca9 \ub9ac\uc2a4\ud2b8\ub97c \ub2e8\uc77c \ub9ac\uc2a4\ud2b8\ub85c \ub9cc\ub4e4\uae30"
     ]
    }
   ],
   "metadata": {}
  }
 ]
}