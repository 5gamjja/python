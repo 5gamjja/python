{
 "metadata": {
  "name": "",
  "signature": "sha256:249eac690a4ce6e215b29593f443c048f6a691ef4580b5c3c4ec7b3e32741bd1"
 },
 "nbformat": 3,
 "nbformat_minor": 0,
 "worksheets": [
  {
   "cells": [
    {
     "cell_type": "markdown",
     "metadata": {},
     "source": [
      "***\n",
      "***\n",
      "# 14. \uc57d\ud55c\ucc38\uc870, \ubc18\ubcf5\uc790, \ubc1c\uc0dd\uc790\n",
      "***\n",
      "***"
     ]
    },
    {
     "cell_type": "markdown",
     "metadata": {},
     "source": [
      "***\n",
      "## 01 \uc57d\ud55c \ucc38\uc870\n",
      "***"
     ]
    },
    {
     "cell_type": "markdown",
     "metadata": {},
     "source": [
      "### 1-1 \uc57d\ud55c \ucc38\uc870\ub780 \ubb34\uc5c7\uc778\uac00?"
     ]
    },
    {
     "cell_type": "markdown",
     "metadata": {},
     "source": [
      "### 1-2 \uc57d\ud55c \ucc38\uc870\ub294 \uc65c \ud544\uc694\ud55c\uac00?"
     ]
    },
    {
     "cell_type": "markdown",
     "metadata": {},
     "source": [
      "### 1-3 \uc57d\ud55c \ucc38\uc870 \ubaa8\ub4c8"
     ]
    },
    {
     "cell_type": "markdown",
     "metadata": {},
     "source": [
      "### 1-4 \uc57d\ud55c \uc0ac\uc804"
     ]
    },
    {
     "cell_type": "markdown",
     "metadata": {},
     "source": [
      "***\n",
      "## 02 \ubc18\ubcf5\uc790\n",
      "***"
     ]
    },
    {
     "cell_type": "markdown",
     "metadata": {},
     "source": [
      "### 2-1 \uae30\uc874 \uc778\ub371\uc2f1\uc758 \ubb38\uc81c\uc810"
     ]
    },
    {
     "cell_type": "markdown",
     "metadata": {},
     "source": [
      "### 2-2 \ubc18\ubcf5\uc790 \uac1d\uccb4"
     ]
    },
    {
     "cell_type": "markdown",
     "metadata": {},
     "source": [
      "### 2-3 \ud074\ub798\uc2a4\uc5d0 \ubc18\ubcf5\uc790 \uad6c\ud604\ud558\uae30"
     ]
    },
    {
     "cell_type": "markdown",
     "metadata": {},
     "source": [
      "### 2-4 \uc0ac\uc804\uc758 \ubc18\ubcf5\uc790"
     ]
    },
    {
     "cell_type": "markdown",
     "metadata": {},
     "source": [
      "### 2-5 \ud30c\uc77c \uac1d\ud14c\uc758 \ubc18\ubcf5\uc790"
     ]
    },
    {
     "cell_type": "markdown",
     "metadata": {},
     "source": [
      "### 2-6 \ud638\ucd9c \uac00\ub2a5\ud55c \uac1d\uccb4\uc5d0 \ubc18\ubcf5\uc790 \uc801\uc6a9\ud558\uae30"
     ]
    },
    {
     "cell_type": "markdown",
     "metadata": {},
     "source": [
      "***\n",
      "## 03 \ubc1c\uc0dd\uc790\n",
      "***"
     ]
    },
    {
     "cell_type": "markdown",
     "metadata": {},
     "source": [
      "### 3-1 \ubc1c\uc0dd\uc790\ub780?"
     ]
    },
    {
     "cell_type": "markdown",
     "metadata": {},
     "source": [
      "### 3-2 \ubc1c\uc0dd\uc790\uac00 \uc5b4\ub514\uc5d0 \uc88b\uc744\uae4c"
     ]
    },
    {
     "cell_type": "markdown",
     "metadata": {},
     "source": [
      "### 3-3 \ubc1c\uc0dd\uc790\uc758 \ud65c\uc6a9 \uc6081-\ud53c\ubcf4\ub098\uce58 \uc218\uc5f4"
     ]
    },
    {
     "cell_type": "markdown",
     "metadata": {},
     "source": [
      "### 3-4 \ubc1c\uc0dd\uc790\uc758 \ud65c\uc6a9 \uc6082-\ud640\uc218 \uc9d1\ud569 \ub9cc\ub4e4\uae30"
     ]
    },
    {
     "cell_type": "markdown",
     "metadata": {},
     "source": [
      "### 3-5 \ubc1c\uc0dd\uc790\uc758 \ud65c\uc6a9 \uc6083-\ud558\ub098\uc529 \uac74\ub108 \ub6f0\uc5b4\uc11c \uac12 \ucde8\ud558\uae30"
     ]
    },
    {
     "cell_type": "markdown",
     "metadata": {},
     "source": [
      "### 3-6 \ubc1c\uc0dd\uc790\uc758 \ud65c\uc6a9 \uc6084-\ud2b8\ub9ac\ud0d0\uc0c9"
     ]
    },
    {
     "cell_type": "markdown",
     "metadata": {},
     "source": [
      "### 3-7 \ubc1c\uc0dd\uc790\uc758 \ud65c\uc6a9 \uc6085-\uc911\ucca9 \ub9ac\uc2a4\ud2b8\ub97c \ub2e8\uc77c \ub9ac\uc2a4\ud2b8\ub85c \ub9cc\ub4e4\uae30"
     ]
    }
   ],
   "metadata": {}
  }
 ]
}