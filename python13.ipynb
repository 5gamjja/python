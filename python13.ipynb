{
 "metadata": {
  "name": "",
  "signature": "sha256:c0d6bef34693d61abfe421369f90acbfacd8cb57bd37e11781dc64169450d66a"
 },
 "nbformat": 3,
 "nbformat_minor": 0,
 "worksheets": [
  {
   "cells": [
    {
     "cell_type": "markdown",
     "metadata": {},
     "source": [
      "***\n",
      "***\n",
      "# 13. \uc608\uc678\ucc98\ub9ac\n",
      "***\n",
      "***"
     ]
    },
    {
     "cell_type": "markdown",
     "metadata": {},
     "source": [
      "***\n",
      "## 01 try/except/slse \uc808 \uc0ac\uc6a9\ud558\uae30\n",
      "***"
     ]
    },
    {
     "cell_type": "markdown",
     "metadata": {},
     "source": [
      "***\n",
      "## 02 try/finally \uc808 \uc0ac\uc6a9\ud558\uae30\n",
      "***"
     ]
    },
    {
     "cell_type": "markdown",
     "metadata": {},
     "source": [
      "***\n",
      "## 03 \ub0b4\uc7a5 \uc608\uc678\uc758 \uc885\ub958\n",
      "***"
     ]
    },
    {
     "cell_type": "markdown",
     "metadata": {},
     "source": [
      "***\n",
      "## 04 \uac19\uc740 \ubd80\ub958\uc758 \uc608\uc678 \ub2e4 \uc7a1\uc544\ub0b4\uae30\n",
      "***"
     ]
    },
    {
     "cell_type": "markdown",
     "metadata": {},
     "source": [
      "***\n",
      "## 05 raise\ub85c \uc608\uc678 \ubc1c\uc0dd\ud558\uae30\n",
      "***"
     ]
    },
    {
     "cell_type": "markdown",
     "metadata": {},
     "source": [
      "### 5-1 \uc0ac\uc6a9\uc790 \uc608\uc678 \ubc1c\uc0dd"
     ]
    },
    {
     "cell_type": "markdown",
     "metadata": {},
     "source": [
      "### 5-2 \ub0b4\uc7a5 \uc608\uc678\uc758 \ubc1c\uc0dd"
     ]
    },
    {
     "cell_type": "markdown",
     "metadata": {},
     "source": [
      "### 5-3 \ud074\ub798\uc2a4 \uc608\uc678 \ubc1c\uc0dd\uc2dc\ud0a4\uae30 "
     ]
    },
    {
     "cell_type": "markdown",
     "metadata": {},
     "source": [
      "***\n",
      "## 06 assert\ubb38\uc73c\ub85c \uc608\uc678 \ubc1c\uc0dd\uc2dc\ud0a4\uae30\n",
      "***"
     ]
    },
    {
     "cell_type": "code",
     "collapsed": false,
     "input": [
      "\u3147``"
     ],
     "language": "python",
     "metadata": {},
     "outputs": []
    }
   ],
   "metadata": {}
  }
 ]
}