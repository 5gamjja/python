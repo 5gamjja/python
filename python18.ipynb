{
 "metadata": {
  "name": "",
  "signature": "sha256:dc225e19091767559466feabfbc1818056ab8dd8b95d97a21b43c28ff76d1231"
 },
 "nbformat": 3,
 "nbformat_minor": 0,
 "worksheets": [
  {
   "cells": [
    {
     "cell_type": "markdown",
     "metadata": {},
     "source": [
      "***\n",
      "***\n",
      "# 18. \ub514\ub809\ud1a0\ub9ac\uc640 \ud30c\uc77c \ub2e4\ub8e8\uae30\n",
      "***\n",
      "***"
     ]
    },
    {
     "cell_type": "markdown",
     "metadata": {},
     "source": [
      "***\n",
      "## 01 \ud30c\uc77c \ub2e4\ub8e8\uae30\n",
      "***"
     ]
    },
    {
     "cell_type": "markdown",
     "metadata": {},
     "source": [
      "### 1-1 \ud30c\uc77c \ubaa9\ub85d \uc5bb\uae30"
     ]
    },
    {
     "cell_type": "markdown",
     "metadata": {},
     "source": [
      "### 1-2 \ud30c\uc77c \uc885\ub958 \uc54c\uc544\ubcf4\uae30"
     ]
    },
    {
     "cell_type": "markdown",
     "metadata": {},
     "source": [
      "### 1-3 \ud30c\uc77c\uc758 \ud5c8\uac00\uad8c"
     ]
    },
    {
     "cell_type": "markdown",
     "metadata": {},
     "source": [
      "### 1-4 \ud30c\uc77c \uc870\uc791\ud558\uae30"
     ]
    },
    {
     "cell_type": "markdown",
     "metadata": {},
     "source": [
      "### 1-5 \ub9c1\ud06c \ud30c\uc77c"
     ]
    },
    {
     "cell_type": "markdown",
     "metadata": {},
     "source": [
      "### 1-6 \ud30c\uc77c\uc758 \uc811\uadfc/\uc218\uc815 \uc2dc\uac04 \uc124\uc815\ud558\uae30"
     ]
    },
    {
     "cell_type": "markdown",
     "metadata": {},
     "source": [
      "### 1-7 \ud30c\uc77c \uc18c\uc720\uc790"
     ]
    },
    {
     "cell_type": "markdown",
     "metadata": {},
     "source": [
      "### 1-8 \uc784\uc2dc \ud30c\uc77c\uc774\ub984 \uc0dd\uc131\ud558\uae30"
     ]
    },
    {
     "cell_type": "markdown",
     "metadata": {},
     "source": [
      "***\n",
      "## 02 \ud30c\uc77c\uc5d0 \uad00\ud55c \uc815\ubcf4 \uc54c\uc544\ub0b4\uae30\n",
      "***"
     ]
    },
    {
     "cell_type": "markdown",
     "metadata": {},
     "source": [
      "***\n",
      "## 03 \ub514\ub809\ud1a0\ub9ac \ub2e4\ub8e8\uae30\n",
      "***"
     ]
    },
    {
     "cell_type": "markdown",
     "metadata": {},
     "source": [
      "### 3-1 \ub514\ub809\ud1a0\ub9ac\uc5d0 \uad00\ub828\ub41c \uc77c\ubc18 \uc791\uc5c5"
     ]
    },
    {
     "cell_type": "markdown",
     "metadata": {},
     "source": [
      "### 3-2 \ub514\ub809\ud1a0\ub9ac(\ud2b8\ub9ac) \ud0d0\uc0c9\ud558\uae30"
     ]
    },
    {
     "cell_type": "markdown",
     "metadata": {},
     "source": [
      "***\n",
      "## 04 \ud30c\uc77c \uc774\ub984(\uacbd\ub85c\uba85) \ub2e4\ub8e8\uae30\n",
      "***"
     ]
    },
    {
     "cell_type": "markdown",
     "metadata": {},
     "source": [
      "### 4-1 \uacbd\ub85c\uba85 \ubd84\ub9ac\ud558\uae30"
     ]
    },
    {
     "cell_type": "markdown",
     "metadata": {},
     "source": [
      "### 4-2 \ud30c\uc77c \uc774\ub984\uc774 \ud328\ud134\uacfc \uc77c\uce58\ud558\ub294\uc9c0 \uc54c\uc544\ubcf4\uae30"
     ]
    },
    {
     "cell_type": "code",
     "collapsed": false,
     "input": [],
     "language": "python",
     "metadata": {},
     "outputs": []
    }
   ],
   "metadata": {}
  }
 ]
}