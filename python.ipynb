{
 "metadata": {
  "name": "",
  "signature": "sha256:e8b118235bf1c67eebd4d2ae9a41ef66f9f9b8a79c5dc52211db508c820e44d2"
 },
 "nbformat": 3,
 "nbformat_minor": 0,
 "worksheets": [
  {
   "cells": [
    {
     "cell_type": "markdown",
     "metadata": {},
     "source": [
      "***\n",
      "***\n",
      "# 1. Python \uc2dc\uc791\ud558\uae30\n",
      "***\n",
      "***"
     ]
    },
    {
     "cell_type": "markdown",
     "metadata": {},
     "source": [
      "***\n",
      "## 01 \ud30c\uc774\uc36c\uc774\ub780?\n",
      "***"
     ]
    },
    {
     "cell_type": "markdown",
     "metadata": {},
     "source": [
      "### 1-1 \ud30c\uc774\uc36c\uc774\ub780 \ubb34\uc5c7\uc778\uac00?"
     ]
    },
    {
     "cell_type": "markdown",
     "metadata": {},
     "source": [
      "- Python\uc758 \uc0ac\uc804\uc801 \uc758\ubbf8\ub294 \ub3c5\uc774 \uc5c6\ub294 \ubc40\uc73c\ub85c \uba39\uc774\ub97c \ubab8\uc73c\ub85c \uac10\uc544\uc11c \uc555\uc0ac\uc2dc\ud0a4\ub294 \ud070\ubc40, \ub610\ub294 \uadf8\ub9ac\uc2a4 \uc2e0\ud654\uc5d0 \ub098\uc624\ub294 \uc545\ub9c8"
     ]
    },
    {
     "cell_type": "markdown",
     "metadata": {},
     "source": [
      "### 1-2 \uc65c \ud30c\uc774\uc36c\uc774\ub780 \uc774\ub984\uc774 \ubd99\uc5c8\ub098?"
     ]
    },
    {
     "cell_type": "markdown",
     "metadata": {},
     "source": [
      "- \ud504\ub85c\uadf8\ub798\ubc0d \uc5b8\uc5b4\ub85c\uc11c Python \uc774\ub984\uc758 \uc720\ub798\ub294 1970\ub144\ub300\uc5d0 \uc601\uad6d BBC\uc5d0\uc11c \ubc29\uc601\ud55c \"Monty Python's Flying Circus\" \ubc29\uc601 \ud504\ub85c\uadf8\ub7a8\uc5d0\uc11c \uc720\ub798\ub418\uc5c8\ub2e4. \uc774 \ud504\ub85c\uadf8\ub7a8\uc740 \ub9e4\uc6b0 \uc5b4\uc0c9\ud558\uace0 \uc774\uc0c1\ud55c \ud589\ub3d9\uc744 \ubcf4\uc774\ub294 \uc0ac\ub78c\ub4e4\uc744 \uc1fc\ud615\ud0dc\ub85c \ubc29\uc601\ud558\uc5ec \ub9ce\uc740 \uc778\uae30\ub97c \ub204\ub838\ub2e4. \n",
      "- \uc774 \uc5b8\uc5b4\ub97c \ub9cc\ub4e0 <a href=\"http://en.wikipedia.org/wiki/Guido_van_Rossum\" target=\"_blank\">Guido van Rossum</a>\uc774 \uc774 \ud504\ub85c\uadf8\ub7a8\uc758 \ub300\ub2e8\ud55c \ud32c\uc774\uc5c8\uae30 \ub54c\ubb38\uc774\uc5c8\ub2e4. \n",
      "- 1989\ub144 12\uc6d4 \ud06c\ub9ac\uc2a4\ub9c8\uc2a4 \ud734\uac00\ub97c \ubcf4\ub0b4\uace0 \uc788\ub358 Guido\ub294 \ud734\uac00 \uae30\uac04\ub3d9\uc548 \ubb34\uc5c7\uc778\uac00 \uc7ac\ubbf8\uc788\uac8c \ud560 \uc218 \uc788\ub294 \ubb34\uc5b8\uac00\ub97c \ucc3e\uace0 \uc788\uc5c8\ub2e4. \n",
      "- \uc5f0\ud734\ub77c\uc11c \uc5f0\uad6c\uc2e4\uc774 \ub2eb\ud78c \uc0c1\ud669\uc5d0\uc11c \uc9d1\uc5d0\uc11c \ucef4\ud4e8\ud130\ub97c \uac00\uc9c0\uace0 \uc608\uc804\ubd80\ud130 \uc0dd\uac01\ud558\uace0 \uc788\uc5c8\ub358 \uc778\ud130\ud504\ub9ac\ud130(interpreter)\ub97c \ub9cc\ub4e4\uc5b4 \ubcf4\uae30\ub85c \uacb0\uc2ec\ud558\uc600\ub2e4. \n",
      "- \uc989, Guido\uac00 \ubb34\ub8cc\ud55c \ud55c\ub54c\ub97c \ubcf4\ub0b4\uae30 \uc704\ud558\uc5ec \ub9cc\ub4e4\uae30 \uc2dc\uc791\ud588\ub358 \uc5b8\uc5b4\uac00 \uc9c0\uae08 \ub9ce\uc740 \uc0ac\ub78c\ub4e4\uc774 \uc0ac\uc6a9\ud558\ub294 Python \uc5b8\uc5b4\uac00 \ub418\uc5c8\ub2e4."
     ]
    },
    {
     "cell_type": "markdown",
     "metadata": {},
     "source": [
      "### 1-3 \uc65c \ud30c\uc774\uc36c\uc744 \ubc30\uc6cc\uc57c \ud558\ub294\uac00?"
     ]
    },
    {
     "cell_type": "markdown",
     "metadata": {},
     "source": [
      "- \uac00\uc7a5 \uc911\uc694\ud55c \ub300\ub2f5: \"\uc0dd\uc0b0\uc131\uc774 \ub744\uc5b4\ub098\uae30 \ub54c\ubb38\"\n",
      "- \uba3c\uc800 \uac1c\ubc1c\ud558\ub77c! \uadf8\ub9ac\uace0 \ub098\uc11c \uc131\ub2a5\uc744 \uac1c\uc120\ud558\ub77c."
     ]
    },
    {
     "cell_type": "markdown",
     "metadata": {},
     "source": [
      "### 1-4 \ud30c\uc774\uc36c\uc740 \uc5b4\ub5a4 \uc5b8\uc5b4\uc778\uac00?"
     ]
    },
    {
     "cell_type": "markdown",
     "metadata": {},
     "source": [
      "- \ub300\ud654 \uae30\ub2a5\uc758 \uc778\ud130\ud504\ub9ac\ud130 \uc5b8\uc5b4\n",
      "- \ub3d9\uc801\uc778 \ub370\uc774\ud130 \ud0c0\uc785 \uacb0\uc815 \uc9c0\uc6d0"
     ]
    },
    {
     "cell_type": "code",
     "collapsed": false,
     "input": [
      "def add(a,b):\n",
      "    return a+b\n",
      "\n",
      "print add(1,2)\n",
      "print add('abc', 'def')\n",
      "print add([1, 2, 3], [4, 5, 6])"
     ],
     "language": "python",
     "metadata": {},
     "outputs": [
      {
       "output_type": "stream",
       "stream": "stdout",
       "text": [
        "3\n",
        "abcdef\n",
        "[1, 2, 3, 4, 5, 6]\n"
       ]
      }
     ],
     "prompt_number": 16
    },
    {
     "cell_type": "markdown",
     "metadata": {},
     "source": [
      "- \ud50c\ub7ab\ud3fc \ub3c5\ub9bd\uc801 \uc5b8\uc5b4\n",
      "- \uac1c\ubc1c \uae30\uac04 \ub2e8\ucd95\uc5d0 \ucd1b\uc810\uc744 \ub454 \uc5b8\uc5b4\n",
      "- \uac04\ub2e8\ud558\uace0 \uc26c\uc6b4 \ubb38\ubc95\n",
      "- \uace0\uc218\uc900\uc758 \ub0b4\uc7a5 \uac1d\uccb4 \uc790\ub8cc\ud615 \uc81c\uacf5"
     ]
    },
    {
     "cell_type": "code",
     "collapsed": false,
     "input": [
      "a=[12, 'abcde', 4+2j, [3,4,5]]\n",
      "a.append('add')\n",
      "print a;"
     ],
     "language": "python",
     "metadata": {},
     "outputs": [
      {
       "output_type": "stream",
       "stream": "stdout",
       "text": [
        "[12, 'abcde', (4+2j), [3, 4, 5], 'add']\n"
       ]
      }
     ],
     "prompt_number": 17
    },
    {
     "cell_type": "markdown",
     "metadata": {},
     "source": [
      "- \uba54\ubaa8\ub9ac \uc790\ub3d9 \uad00\ub9ac\n",
      "- \ud300\uc6cc\ud06c\uc5d0 \uc720\uc6a9\n",
      "- \uc26c\uc6b4 \uc720\uc9c0 \ubcf4\uc218\n",
      "- \ub9ce\uc740 \uc218\uc758 \ub77c\uc774\ube0c\ub7ec\ub9ac \uc81c\uacf5\n",
      "- \uc9e7\uc544\uc9c0\ub294 \ucf54\ub4dc\n",
      "- \ub192\uc740 \ud655\uc7a5\uc131\n",
      "- \ud655\uc7a5 \ubc0f \ub0b4\uc7a5\uae30\ub2a5\n",
      "- \ubb34\ub8cc"
     ]
    },
    {
     "cell_type": "markdown",
     "metadata": {},
     "source": [
      "### 1-5 \ud30c\uc774\uc36c\uc744 \uc5b4\ub514\uc5d0 \uc0ac\uc6a9\ud558\uba74 \uc801\ub2f9\ud55c\uac00?"
     ]
    },
    {
     "cell_type": "markdown",
     "metadata": {},
     "source": [
      "- \uc2dc\uc2a4\ud15c \uc720\ud2f8\ub9ac\ud2f0\n",
      "- GUI\n",
      "- \uc778\ud130\ub137 \ud504\ub85c\uadf8\ub798\ubc0d\n",
      "- DB \ud504\ub85c\uadf8\ub798\ubc0d\n",
      "- \uac01\uc885 \ud14d\uc2a4\ud2b8 \ud504\ub85c\uc138\uc2f1\n",
      "- \uae30\ud0c0"
     ]
    },
    {
     "cell_type": "markdown",
     "metadata": {},
     "source": [
      "### 1-6 \ud30c\uc774\uc36c\uc758 \ucd9c\ubc1c"
     ]
    },
    {
     "cell_type": "markdown",
     "metadata": {},
     "source": [
      "- \ud30c\uc774\uc36c\uc758 \uae30\ubc18\uc740 80\ub144\ub300 \ucd08\ubc18\uc5d0 Guido\uac00 \ub3d9\ub8cc\ub4e4\uacfc \ud568\uaed8 \uac1c\ubc1c\uc744 \ud558\uc600\ub358 ABC\ub77c\ub294 \uc5b8\uc5b4\uc774\ub2e4. \n",
      "- 80\ub144\ub300\uc5d0 ABC\ub77c\ub294 \uc5b8\uc5b4\ub294 \ucd5c\uace0\uc758 \uad50\uc721\uc6a9 \uc5b8\uc5b4\ub85c \uc54c\ub824\uc84c\uc5c8\uace0 \uc804\ubb38 \ud504\ub85c\uadf8\ub798\uba38\uac00 \uc544\ub2cc \uc0ac\ub78c\uc774 \ubc30\uc6b0\uae30 \ud3b8\ud558\uac8c \ub9cc\ub4e4\uc5b4\uc9c4 \uc544\uc8fc \ud6cc\ub96d\ud55c \uc5b8\uc5b4\uc600\ub2e4. \n",
      "- \uadf8\ub7fc\uc5d0\ub3c4 \ubd88\uad6c\ud558\uace0 \uc804\ubb38 \ud504\ub85c\uadf8\ub798\uba38\ub4e4\uc5d0\uac8c\ub294 \uac70\uc758 \ubc1b\uc544 \ub4e4\uc5ec\uc9c0\uc9c0\ub3c4 \uc54a\uc558\uace0 \uc798 \uc0ac\uc6a9\ub418\uc9c0\ub3c4 \uc54a\uc558\ub2e4.\n",
      "- \uc774\ub294 \ud504\ub85c\uadf8\ub798\ubc0d\uc774 \uadf8\ub807\uac8c \ub9ce\uc774 \ub300\uc911\ud654\uac00 \ub418\uc9c0 \uc54a\uc740 \uc0c1\ud669\uc5d0\uc11c \uc804\ubb38 \ud504\ub85c\uadf8\ub798\uba38\ub4e4\uc5d0\uac8c \uc678\uba74\ubc1b\uc558\uc744 \ub54c\uc5d0 \ub098\uc62c \uc218 \uc788\ub294 \uacb0\uacfc\ub77c\uace0 \ubcfc \uc218 \uc788\ub2e4. \n",
      "- Guido\ub294 \ud30c\uc774\uc36c\uc73c\ub85c \uc2e4\uc81c \ubb38\uc81c\ub97c \ub354\uc6b1\ub354 \uc27d\uac8c \ud574\uacb0\ud560 \uc218 \uc788\ub3c4\ub85d \uc124\uacc4\ud558\uc600\uc73c\uba70 C\uc5b8\uc5b4\ub098 \uc720\ub2c9\uc2a4 \uc258\uc744 \ub300\uc2e0\ud574\uc11c \uc880 \ub354 \ud3b8\ud558\uac8c \uc0ac\uc6a9\ud560 \uc218 \uc788\ub294 \uc5b8\uc5b4\ub97c \uac1c\ubc1c\ud558\ub294 \ub370 \ucd08\uc810\uc744 \ub9de\ucd94\uc5c8\ub2e4. \n",
      "- Guido\uac00 \uc0dd\uac01\ud588\ub358 \ub610\ud558\ub098\uc758 \uc5b8\uc5b4\uc801 \ud2b9\uc9d5\uc740 \ub4e4\uc5ec\uc4f0\uae30\ub97c \ucca0\uc800\ud558\uac8c \uc9c0\ud0a8\ub3c4\ub85d \uc5b8\uc5b4\ub97c \uc124\uacc4\ud588\ub2e4\ub294 \uc810\uc774\ub2e4. \n",
      "- \uc774\ub7ec\ud55c \uc5b8\uc5b4\uc801\uc778 \ud2b9\uc9d5\ub3c4 ABC\ub77c\ub294 \uc5b8\uc5b4\uc5d0\uc11c \ub098\uc628 \uac83\uc774\uba70 \uc774\ub294 \ucf54\ub4dc\uc758 \uac00\ub3c5\uc131\uc744 \ub9e4\uc6b0 \ub192\ud600\uc8fc\ub294 \ud2b9\uc9d5\uc774\ub2e4.\n",
      "- \ud504\ub85c\uadf8\ub798\uba38\uac00 \ucf54\ub529\uc2dc\uc5d0 \uc5c4\uaca9\ud55c \ub4e4\uc5ec\uc4f0\uae30\ub97c \ud558\uc5ec \ud504\ub85c\uadf8\ub7a8\uc744 \ub9cc\ub4e4\uba74 \ub9cc\ub4e4\uba74 \ub2e4\ub978 \uc0ac\ub78c\uc774 \uadf8 \ucf54\ub4dc\ub97c \uc77d\ub294\ub370 \uc5b4\ub824\uc6c0\uc744 \ub35c\uc5b4\uc900\ub2e4. \n",
      "- C \uc5b8\uc5b4\uc5d0\uc11c\ucc98\ub7fc {} \ub4f1\uc758 \uad04\ud638\ub97c \ub123\uc9c0 \uc54a\ub294 \ub2e4\ub294 \uac83\uc774 \ud504\ub85c\uadf8\ub7a8\uc744 \uc880\ub354 \uae54\ub054\ud558\uace0 \uae68\ub057\ud558\uac8c \ub9cc\ub4e4\uc5b4\uc900\ub2e4. \n",
      "- \ud30c\uc774\uc36c\uc740 \uadf8 \ucf54\ub4dc\ub97c \uc7ac\uc0ac\uc6a9\ud558\uae30 \uc27d\uac8c \ub9cc\ub4e4\uc5b4\uc900\ub2e4. \n",
      "- \ucf54\ub4dc\uc758 \ubd84\uc11d\ub3c4 \uc26c\uc6b8\ubfd0 \uc544\ub2c8\ub77c \uc774\ub85c \uc778\ud574 \uadf8 \ucf54\ub4dc\ub97c \ubc1b\uc544\uc11c \uc791\uc5c5\ud558\ub294 \ub2e4\ub978 \uc0ac\ub78c\ub3c4 \ud6e8\uc52c \ub354 \uc791\uc5c5\uc744 \ud3b8\ud558\uac8c \ud574\uc900\ub2e4. \n",
      "- \uc774\ub294 ABC \uc5b8\uc5b4\ub97c \uac00\ub974\uce60 \ub54c \ud56d\uc0c1 \uac15\uc870\ud558\ub294 \ucf54\ub4dc\uc758 \uae54\ub054\ud568\uc744 Guido\uac00 \uadf8\ub300\ub85c \uac00\uc838\uc628 \uac83\uc774\ub77c \ud560 \uc218 \uc788\ub2e4. "
     ]
    },
    {
     "cell_type": "markdown",
     "metadata": {},
     "source": [
      "***\n",
      "## 02 \ud30c\uc774\uc36c \uc124\uce58\n",
      "***"
     ]
    },
    {
     "cell_type": "markdown",
     "metadata": {},
     "source": [
      "### 2-1 \ud30c\uc774\uc36c \ucf54\ub529 \ud658\uacbd \uad6c\ucd95 "
     ]
    },
    {
     "cell_type": "markdown",
     "metadata": {},
     "source": [
      "- Enthought Canopy\n",
      "  - https://www.enthought.com/products/canopy/\n",
      "  - CANOPY EXPRESS (Free) \ub2e4\uc6b4\ub85c\ub4dc \n",
      "- \ud30c\uc77c\ud3b8\uc9d1\uae30\n",
      "  - acroedit (http://www.acrosoft.pe.kr/board)\ub4f1 \uc0ac\uc6a9\n",
      "- Python \uc2e4\ud589\n",
      "  - CMD \ucc3d\n",
      "  - ipython \uba85\ub839\uc5b4 \uc774\uc6a9"
     ]
    },
    {
     "cell_type": "markdown",
     "metadata": {},
     "source": [
      "### 2-2 Github\ub97c \ud1b5\ud55c \uc18c\uc2a4\ucf54\ub4dc \uad00\ub9ac"
     ]
    },
    {
     "cell_type": "markdown",
     "metadata": {},
     "source": [
      "- github \uac00\uc785\n",
      "  - http://www.github.com\n",
      "  - sourcetree (http://www.sourcetreeapp.com/) \ud504\ub85c\uadf8\ub7a8\uc73c\ub85c git \uad00\ub828 \uc0ac\ud56d \ucc98\ub9ac"
     ]
    },
    {
     "cell_type": "markdown",
     "metadata": {},
     "source": [
      "### 2-3 ipython notebook\uc744 \ud1b5\ud55c \uc219\uc81c \ubcf4\uace0\uc11c \uc791\uc131"
     ]
    },
    {
     "cell_type": "markdown",
     "metadata": {},
     "source": [
      "- ipython \n",
      "http://analyticsstory.com/20\n",
      "- ipyhton notebook \uc2e4\ud589 \ubc0f \ube0c\ub77c\uc6b0\uc800\uc5d0\uc11c \ubcf4\uace0\uc11c \uc791\uc131\n",
      "- gist.github.com\uc5d0 sourcetree\ub97c \ud65c\uc6a9\ud558\uc5ec \ubcf4\uace0\uc11c \uc18c\uc2a4 \uad00\ub9ac\n",
      "- ipython notebook viewer(http://nbviewer.ipython.org )\ub97c \ud1b5\ud55c \ubcf4\uace0\uc11c \ub4f1\ub85d\n",
      "- el.koreatech.ac.kr\uc5d0 \ubcf4\uace0\uc11c URL \ub4f1\ub85d"
     ]
    },
    {
     "cell_type": "markdown",
     "metadata": {},
     "source": [
      "***\n",
      "## 03 \ud30c\uc774\uc36c \ud504\ub85c\uadf8\ub7a8 \uac04\ub2e8\ud788 \uc2e4\ud589\ud574 \ubcf4\uae30 (\uad50\uc7ac 48\ud398\uc774\uc9c0)\n",
      "***"
     ]
    },
    {
     "cell_type": "markdown",
     "metadata": {},
     "source": [
      "### 3-1 \ub300\ud654\uc2dd \ubaa8\ub4dc\ub85c \ubb38 \uc2e4\ud589\ud558\uae30"
     ]
    },
    {
     "cell_type": "code",
     "collapsed": false,
     "input": [
      "print 4+5\n",
      "print \"Hello World!\""
     ],
     "language": "python",
     "metadata": {},
     "outputs": [
      {
       "output_type": "stream",
       "stream": "stdout",
       "text": [
        "9\n",
        "Hello World!\n"
       ]
      }
     ],
     "prompt_number": 2
    },
    {
     "cell_type": "heading",
     "level": 3,
     "metadata": {},
     "source": [
      "3-2 \uc0b0\uc220 \uc5f0\uc0b0\ud558\uae30"
     ]
    },
    {
     "cell_type": "code",
     "collapsed": false,
     "input": [
      "print 2 ** 3"
     ],
     "language": "python",
     "metadata": {},
     "outputs": [
      {
       "output_type": "stream",
       "stream": "stdout",
       "text": [
        "8\n"
       ]
      }
     ],
     "prompt_number": 2
    },
    {
     "cell_type": "markdown",
     "metadata": {},
     "source": [
      "###3-3 \ubb38\uc790\uc5f4 \uc5f0\uc0b0\ud558\uae30"
     ]
    },
    {
     "cell_type": "code",
     "collapsed": false,
     "input": [
      "a = 'My name is '\n",
      "b = 'Amenda'\n",
      "print a + b"
     ],
     "language": "python",
     "metadata": {},
     "outputs": [
      {
       "output_type": "stream",
       "stream": "stdout",
       "text": [
        "My name is Amenda\n"
       ]
      }
     ],
     "prompt_number": 3
    },
    {
     "cell_type": "markdown",
     "metadata": {},
     "source": [
      "### 3-4 \uc885\ub8cc\ud558\uae30"
     ]
    },
    {
     "cell_type": "code",
     "collapsed": false,
     "input": [
      "raise SystemExit"
     ],
     "language": "python",
     "metadata": {},
     "outputs": [
      {
       "ename": "SystemExit",
       "evalue": "",
       "output_type": "pyerr",
       "traceback": [
        "An exception has occurred, use %tb to see the full traceback.\n",
        "\u001b[0;31mSystemExit\u001b[0m\n"
       ]
      },
      {
       "output_type": "stream",
       "stream": "stderr",
       "text": [
        "To exit: use 'exit', 'quit', or Ctrl-D.\n"
       ]
      }
     ],
     "prompt_number": 4
    },
    {
     "cell_type": "markdown",
     "metadata": {},
     "source": [
      "### 3-5 \ud30c\uc774\uc36c \ubc84\uc804 \uc54c\uc544\ubcf4\uae30"
     ]
    },
    {
     "cell_type": "code",
     "collapsed": false,
     "input": [
      "print sys.version"
     ],
     "language": "python",
     "metadata": {},
     "outputs": [
      {
       "output_type": "stream",
       "stream": "stdout",
       "text": [
        "2.7.6 | 64-bit | (default, Jun  4 2014, 16:42:26) \n",
        "[GCC 4.2.1 (Apple Inc. build 5666) (dot 3)]\n"
       ]
      }
     ],
     "prompt_number": 6
    },
    {
     "cell_type": "markdown",
     "metadata": {},
     "source": [
      "### 3-6 \uc2e4\ud589\ud558\uae30"
     ]
    },
    {
     "cell_type": "code",
     "collapsed": false,
     "input": [
      "%run git/python/cal.py"
     ],
     "language": "python",
     "metadata": {},
     "outputs": [
      {
       "output_type": "stream",
       "stream": "stdout",
       "text": [
        "   September 2014\n",
        "Mo Tu We Th Fr Sa Su\n",
        " 1  2  3  4  5  6  7\n",
        " 8  9 10 11 12 13 14\n",
        "15 16 17 18 19 20 21\n",
        "22 23 24 25 26 27 28\n",
        "29 30\n"
       ]
      }
     ],
     "prompt_number": 9
    },
    {
     "cell_type": "markdown",
     "metadata": {},
     "source": [
      "### 3-7 \ub300\ud654\uc2dd \ubaa8\ub4dc\uc5d0\uc11c \ud639\uc740 \ub2e4\ub978 \ubaa8\ub4c8\uc5d0\uc11c \ubaa8\ub4c8 \ud30c\uc77c \uc2e4\ud589\ud558\uae30"
     ]
    },
    {
     "cell_type": "code",
     "collapsed": false,
     "input": [
      "sys.path"
     ],
     "language": "python",
     "metadata": {},
     "outputs": [
      {
       "metadata": {},
       "output_type": "pyout",
       "prompt_number": 10,
       "text": [
        "['',\n",
        " '/Applications/Canopy.app/appdata/canopy-1.4.1.1975.macosx-x86_64/Canopy.app/Contents/lib/python27.zip',\n",
        " '/Applications/Canopy.app/appdata/canopy-1.4.1.1975.macosx-x86_64/Canopy.app/Contents/lib/python2.7',\n",
        " '/Applications/Canopy.app/appdata/canopy-1.4.1.1975.macosx-x86_64/Canopy.app/Contents/lib/python2.7/plat-darwin',\n",
        " '/Applications/Canopy.app/appdata/canopy-1.4.1.1975.macosx-x86_64/Canopy.app/Contents/lib/python2.7/plat-mac',\n",
        " '/Applications/Canopy.app/appdata/canopy-1.4.1.1975.macosx-x86_64/Canopy.app/Contents/lib/python2.7/plat-mac/lib-scriptpackages',\n",
        " '/Applications/Canopy.app/appdata/canopy-1.4.1.1975.macosx-x86_64/Canopy.app/Contents/lib/python2.7/lib-tk',\n",
        " '/Applications/Canopy.app/appdata/canopy-1.4.1.1975.macosx-x86_64/Canopy.app/Contents/lib/python2.7/lib-old',\n",
        " '/Applications/Canopy.app/appdata/canopy-1.4.1.1975.macosx-x86_64/Canopy.app/Contents/lib/python2.7/lib-dynload',\n",
        " '/Users/yhhan/Library/Enthought/Canopy_64bit/User/lib/python2.7/site-packages',\n",
        " '/Users/yhhan/Library/Enthought/Canopy_64bit/User/lib/python2.7/site-packages/PIL',\n",
        " '/Applications/Canopy.app/appdata/canopy-1.4.1.1975.macosx-x86_64/Canopy.app/Contents/lib/python2.7/site-packages',\n",
        " '/Users/yhhan/Library/Enthought/Canopy_64bit/User/lib/python2.7/site-packages/IPython/extensions']"
       ]
      }
     ],
     "prompt_number": 10
    },
    {
     "cell_type": "code",
     "collapsed": false,
     "input": [
      "sys.path.append('/Users/yhhan/git/python/')\n",
      "import cal"
     ],
     "language": "python",
     "metadata": {},
     "outputs": [
      {
       "output_type": "stream",
       "stream": "stdout",
       "text": [
        "   September 2014\n",
        "Mo Tu We Th Fr Sa Su\n",
        " 1  2  3  4  5  6  7\n",
        " 8  9 10 11 12 13 14\n",
        "15 16 17 18 19 20 21\n",
        "22 23 24 25 26 27 28\n",
        "29 30\n"
       ]
      }
     ],
     "prompt_number": 25
    },
    {
     "cell_type": "markdown",
     "metadata": {},
     "source": [
      "***\n",
      "## 04 \ud130\ud2c0 \uadf8\ub798\ud53d \uc2e4\ud589 (\uad50\uc7ac 60\ud398\uc774\uc9c0)\n",
      "***"
     ]
    },
    {
     "cell_type": "code",
     "collapsed": false,
     "input": [
      "from turtle import *\n",
      "reset()\n",
      "forward(100)\n",
      "left(90)\n",
      "forward(100)\n",
      "left(90)\n",
      "forward(100)\n",
      "left(90)\n",
      "forward(100)\n",
      "left(90)"
     ],
     "language": "python",
     "metadata": {},
     "outputs": [],
     "prompt_number": 3
    },
    {
     "cell_type": "code",
     "collapsed": true,
     "input": [
      "import matplotlib.pyplot as plt\n",
      "plt.plot([1,2,3,4,5], [1,4,9,16,25])\n",
      "plt.ylabel('some numbers')\n",
      "plt.show()"
     ],
     "language": "python",
     "metadata": {},
     "outputs": [
      {
       "metadata": {},
       "output_type": "display_data",
       "png": "[encoded data removed]",
       "text": [
        "<matplotlib.figure.Figure at 0x10b56c510>"
       ]
      }
     ],
     "prompt_number": 2
    },
    {
     "cell_type": "markdown",
     "metadata": {},
     "source": [
      "***\n",
      "## 05 \ub3c4\uc6c0\ub9d0 \uc5bb\uae30 (\uad50\uc7ac 62\ud398\uc774\uc9c0)\n",
      "***"
     ]
    },
    {
     "cell_type": "code",
     "collapsed": false,
     "input": [
      "help(sys.exit)"
     ],
     "language": "python",
     "metadata": {},
     "outputs": [
      {
       "output_type": "stream",
       "stream": "stdout",
       "text": [
        "Help on built-in function exit in module sys:\n",
        "\n",
        "exit(...)\n",
        "    exit([status])\n",
        "    \n",
        "    Exit the interpreter by raising SystemExit(status).\n",
        "    If the status is omitted or None, it defaults to zero (i.e., success).\n",
        "    If the status is an integer, it will be used as the system exit status.\n",
        "    If it is another kind of object, it will be printed and the system\n",
        "    exit status will be one (i.e., failure).\n",
        "\n"
       ]
      }
     ],
     "prompt_number": 10
    },
    {
     "cell_type": "markdown",
     "metadata": {},
     "source": []
    }
   ],
   "metadata": {}
  }
 ]
}