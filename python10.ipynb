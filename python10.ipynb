{
 "metadata": {
  "name": "",
  "signature": "sha256:3866a6b6ac57eeee2239f54ca72828224ad877273a4ae5563d1d5389280561ad"
 },
 "nbformat": 3,
 "nbformat_minor": 0,
 "worksheets": [
  {
   "cells": [
    {
     "cell_type": "markdown",
     "metadata": {},
     "source": [
      "***\n",
      "***\n",
      "# 10. \ud568\uc218\n",
      "***\n",
      "***"
     ]
    },
    {
     "cell_type": "markdown",
     "metadata": {},
     "source": [
      "***\n",
      "## 01 \ud568\uc218\ub780\n",
      "***"
     ]
    },
    {
     "cell_type": "markdown",
     "metadata": {},
     "source": [
      "### 1-1 \uac04\ub2e8\ud55c \ud568\uc218\uc758 \uc815\uc758"
     ]
    },
    {
     "cell_type": "markdown",
     "metadata": {},
     "source": [
      "***\n",
      "## 02 \ud568\uc218\uc758 \uc815\uc758\uc640 \ud638\ucd9c\n",
      "***"
     ]
    },
    {
     "cell_type": "markdown",
     "metadata": {},
     "source": [
      "***\n",
      "## 03 \uc778\uc218 \uc804\ub2ec\ubc29\ubc95\n",
      "***"
     ]
    },
    {
     "cell_type": "markdown",
     "metadata": {},
     "source": [
      "***\n",
      "## 04 return\ubb38\uc5d0 \ub300\ud558\uc5ec\n",
      "***"
     ]
    },
    {
     "cell_type": "markdown",
     "metadata": {},
     "source": [
      "### 4-1 \uc778\uc218\uc5c6\uc774 \ub9ac\ud134\ud558\uae30"
     ]
    },
    {
     "cell_type": "markdown",
     "metadata": {},
     "source": [
      "### 4-2 return\ubb38 \uc5c6\uc774 \ub9ac\ud134\ud558\uae30"
     ]
    },
    {
     "cell_type": "markdown",
     "metadata": {},
     "source": [
      "### 4-3 \ud55c \uac1c\uc758 \uac12\uc744 \ub9ac\ud134\ud560 \ub54c"
     ]
    },
    {
     "cell_type": "markdown",
     "metadata": {},
     "source": [
      "### 4-4 \ub450 \uac1c \uc774\uc0c1\uc758 \uac12\uc744 \ub9ac\ud134\ud560 \ub54c"
     ]
    },
    {
     "cell_type": "markdown",
     "metadata": {},
     "source": [
      "***\n",
      "## 05 \ub3d9\uc801\uc778 \uc790\ub8cc\ud615 \uacb0\uc815\n",
      "***"
     ]
    },
    {
     "cell_type": "markdown",
     "metadata": {},
     "source": [
      "***\n",
      "## 06 \uc2a4\ucf54\ud551 \ub8f0(Scoping Rule)\n",
      "***"
     ]
    },
    {
     "cell_type": "markdown",
     "metadata": {},
     "source": [
      "### 6-1 \ud568\uc218 \ub0b4\ubd80\uc5d0\uc11c \uc804\uc5ed \ubcc0\uc218 \uce58\ud658\ud558\uae30"
     ]
    },
    {
     "cell_type": "markdown",
     "metadata": {},
     "source": [
      "### 6-2 \ub0b4\uc7a5 \uc601\uc5ed\uc758 \uc774\ub984 \uc54c\uc544\ubcf4\uae30"
     ]
    },
    {
     "cell_type": "markdown",
     "metadata": {},
     "source": [
      "### 6-3 \uc911\ucca9 \uc601\uc5ed(Nested Scopes) \uc9c0\uc6d0(2.1)"
     ]
    },
    {
     "cell_type": "markdown",
     "metadata": {},
     "source": [
      "***\n",
      "## 07 \ud568\uc218 \uc778\uc218\n",
      "***"
     ]
    },
    {
     "cell_type": "markdown",
     "metadata": {},
     "source": [
      "### 7-1 \uae30\ubcf8 \uc778\uc218 \uac12"
     ]
    },
    {
     "cell_type": "markdown",
     "metadata": {},
     "source": [
      "### 7-2 \ud0a4\uc6cc\ub4dc \uc778\uc218"
     ]
    },
    {
     "cell_type": "markdown",
     "metadata": {},
     "source": [
      "### 7-3 \uac00\ubcc0 \uc778\uc218 \ub9ac\uc2a4\ud2b8"
     ]
    },
    {
     "cell_type": "markdown",
     "metadata": {},
     "source": [
      "### 7-4 \uc815\uc758\ub418\uc9c0 \uc54a\uc740 \ud0a4\uc6cc\ub4dc \uc778\uc218 \ucc98\ub9ac\ud558\uae30"
     ]
    },
    {
     "cell_type": "markdown",
     "metadata": {},
     "source": [
      "### 7-5 \ud29c\ud50c \uc778\uc218\uc640 \uc0ac\uc804 \uc778\uc218\ub85c \ud568\uc218 \ud638\ucd9c\ud558\uae30(2.0)"
     ]
    },
    {
     "cell_type": "markdown",
     "metadata": {},
     "source": [
      "***\n",
      "## 08 \ud55c \uc904 \uc9dc\ub9ac \ud568\uc218-\ub78c\ub2e4(lambda)\n",
      "***"
     ]
    },
    {
     "cell_type": "markdown",
     "metadata": {},
     "source": [
      "### 8-1 \ub78c\ub2e4 \ud568\uc218 \uc815\uc758\ud558\uae30"
     ]
    },
    {
     "cell_type": "markdown",
     "metadata": {},
     "source": [
      "### 8-2 \ub78c\ub2e4 \ud568\uc218 \uc0ac\uc6a9\ud558\uae30"
     ]
    },
    {
     "cell_type": "markdown",
     "metadata": {},
     "source": [
      "### 8-3 \uc8fc\uc758 \uc0ac\ud56d"
     ]
    },
    {
     "cell_type": "markdown",
     "metadata": {},
     "source": [
      "***\n",
      "## 09 \ud568\uc218\uc801 \ud504\ub85c\uadf8\ub798\ubc0d(apply, map, filter, reduce)\n",
      "***"
     ]
    },
    {
     "cell_type": "markdown",
     "metadata": {},
     "source": [
      "### 9-1 map \ub0b4\uc7a5 \ud568\uc218"
     ]
    },
    {
     "cell_type": "markdown",
     "metadata": {},
     "source": [
      "### 9-2 \uc21c\uc11c\uc30d \ub9cc\ub4e4\uae30(map, zip)"
     ]
    },
    {
     "cell_type": "markdown",
     "metadata": {},
     "source": [
      "### 9-3 filter \ub0b4\uc7a5 \ud568\uc218"
     ]
    },
    {
     "cell_type": "markdown",
     "metadata": {},
     "source": [
      "### 9-4 reduce \ub0b4\uc7a5 \ud568\uc218"
     ]
    },
    {
     "cell_type": "markdown",
     "metadata": {},
     "source": [
      "### 9-5 apply \ub0b4\uc7a5 \ud568\uc218"
     ]
    },
    {
     "cell_type": "markdown",
     "metadata": {},
     "source": [
      "***\n",
      "## 10 \ud568\uc218 \uac1d\uccb4\uc758 \uc18d\uc131*\n",
      "***"
     ]
    },
    {
     "cell_type": "markdown",
     "metadata": {},
     "source": [
      "### 10-1 func_code"
     ]
    },
    {
     "cell_type": "markdown",
     "metadata": {},
     "source": [
      "***\n",
      "## 11 \uc7ac\uadc0\uc801 \ud504\ub85c\uadf8\ub798\ubc0d*\n",
      "***"
     ]
    },
    {
     "cell_type": "code",
     "collapsed": false,
     "input": [],
     "language": "python",
     "metadata": {},
     "outputs": []
    }
   ],
   "metadata": {}
  }
 ]
}