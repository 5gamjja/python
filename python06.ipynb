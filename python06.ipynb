{
 "metadata": {
  "name": "",
  "signature": "sha256:16671fa0292eed57432db2d3f7733c78cfd7631521e4ce180f3c97684d96705f"
 },
 "nbformat": 3,
 "nbformat_minor": 0,
 "worksheets": [
  {
   "cells": [
    {
     "cell_type": "markdown",
     "metadata": {},
     "source": [
      "***\n",
      "***\n",
      "# 6. \ud29c\ud50c(Tuples)\n",
      "***\n",
      "***"
     ]
    },
    {
     "cell_type": "markdown",
     "metadata": {},
     "source": [
      "***\n",
      "## 01 \ud29c\ud50c\uc758 \uc5f0\uc0b0\n",
      "***"
     ]
    },
    {
     "cell_type": "code",
     "collapsed": false,
     "input": [
      "t = () #\uacf5 \ud29c\ud50c\n",
      "t = (1,2,3) #\uad04\ud638 \uc0ac\uc6a9\n",
      "\n",
      "t = 1,2,3 #\uad04\ud638\uac00 \uc5c6\uc5b4\ub3c4 \ud29c\ud50c\uc774 \ub428"
     ],
     "language": "python",
     "metadata": {},
     "outputs": [],
     "prompt_number": 3
    },
    {
     "cell_type": "code",
     "collapsed": false,
     "input": [
      "r = (1,) #\uc790\ub8cc\uac00 \ud55c \uac1c\uc77c \ub54c\ub294 \ubc18\ub4dc\uc2dc \ucf64\ub9c8\uac00 \uc788\uc5b4\uc57c \ud55c\ub2e4.\n",
      "r = 1, #\uad04\ud638\ub294 \uc5c6\uc5b4\ub3c4 \ucf64\ub9c8\ub294 \uc788\uc5b4\uc57c \ud55c\ub2e4."
     ],
     "language": "python",
     "metadata": {},
     "outputs": [],
     "prompt_number": 4
    },
    {
     "cell_type": "code",
     "collapsed": false,
     "input": [
      "print t * 2 #\ubc18\ubcf5\n",
      "print t + ('PyKUG', 'users') #\uc5f0\uacb0\n",
      "print t[0], t[1:3] #\uc778\ub371\uc2f1, \uc2ac\ub77c\uc774\uc2f1\n",
      "print len(t) #\uae38\uc774\n",
      "print 1 in t #\uba64\ubc84\uc2ed \ud14c\uc2a4\ud2b8"
     ],
     "language": "python",
     "metadata": {},
     "outputs": [
      {
       "output_type": "stream",
       "stream": "stdout",
       "text": [
        "(1, 2, 3, 1, 2, 3)\n",
        "(1, 2, 3, 'PyKUG', 'users')\n",
        "1 (2, 3)\n",
        "3\n",
        "True\n"
       ]
      }
     ],
     "prompt_number": 9
    },
    {
     "cell_type": "code",
     "collapsed": false,
     "input": [
      "t[0] = 100 #\ud5c8\uc6a9 \uc548\ub428, \uc5d0\ub7ec\ubc1c\uc0dd"
     ],
     "language": "python",
     "metadata": {},
     "outputs": [
      {
       "ename": "TypeError",
       "evalue": "'tuple' object does not support item assignment",
       "output_type": "pyerr",
       "traceback": [
        "\u001b[0;31m---------------------------------------------------------------------------\u001b[0m\n\u001b[0;31mTypeError\u001b[0m                                 Traceback (most recent call last)",
        "\u001b[0;32m<ipython-input-14-baacc3053cea>\u001b[0m in \u001b[0;36m<module>\u001b[0;34m()\u001b[0m\n\u001b[0;32m----> 1\u001b[0;31m \u001b[0mt\u001b[0m\u001b[0;34m[\u001b[0m\u001b[0;36m0\u001b[0m\u001b[0;34m]\u001b[0m \u001b[0;34m=\u001b[0m \u001b[0;36m100\u001b[0m \u001b[0;31m#\ud5c8\uc6a9 \uc548\ub428, \uc5d0\ub7ec\ubc1c\uc0dd\u001b[0m\u001b[0;34m\u001b[0m\u001b[0m\n\u001b[0m",
        "\u001b[0;31mTypeError\u001b[0m: 'tuple' object does not support item assignment"
       ]
      }
     ],
     "prompt_number": 14
    },
    {
     "cell_type": "code",
     "collapsed": false,
     "input": [
      "t = (12345, 54321, 'hello!') \n",
      "u = t, (1, 2, 3, 4, 5) #\ud29c\ud50c\uc758 \uc911\ucca9\uc774 \uac00\ub2a5\ud558\ub2e4.\n",
      "print u"
     ],
     "language": "python",
     "metadata": {},
     "outputs": [
      {
       "output_type": "stream",
       "stream": "stdout",
       "text": [
        "((12345, 54321, 'hello!'), (1, 2, 3, 4, 5))\n"
       ]
      }
     ],
     "prompt_number": 15
    },
    {
     "cell_type": "code",
     "collapsed": false,
     "input": [
      "x, y, z = 1, 2, 3"
     ],
     "language": "python",
     "metadata": {},
     "outputs": [],
     "prompt_number": 16
    },
    {
     "cell_type": "code",
     "collapsed": false,
     "input": [
      "x = 1\n",
      "y = 2\n",
      "x, y = y, x \n",
      "x, y"
     ],
     "language": "python",
     "metadata": {},
     "outputs": [
      {
       "metadata": {},
       "output_type": "pyout",
       "prompt_number": 18,
       "text": [
        "(2, 1)"
       ]
      }
     ],
     "prompt_number": 18
    },
    {
     "cell_type": "markdown",
     "metadata": {},
     "source": [
      "***\n",
      "## 02 \ud328\ud0b9\uacfc \uc5b8\ud328\ud0b9\n",
      "***"
     ]
    },
    {
     "cell_type": "code",
     "collapsed": false,
     "input": [
      "t = 1, 2, 'hello'"
     ],
     "language": "python",
     "metadata": {},
     "outputs": [],
     "prompt_number": 19
    },
    {
     "cell_type": "code",
     "collapsed": false,
     "input": [
      "x,y,z = t"
     ],
     "language": "python",
     "metadata": {},
     "outputs": [],
     "prompt_number": 21
    },
    {
     "cell_type": "code",
     "collapsed": false,
     "input": [
      "a = ['foo', 'bar', 4, 5]\n",
      "[x, y, z, w] = a"
     ],
     "language": "python",
     "metadata": {},
     "outputs": [],
     "prompt_number": 22
    },
    {
     "cell_type": "markdown",
     "metadata": {},
     "source": [
      "***\n",
      "## 03 \ub9ac\uc2a4\ud2b8\uc640\uc758 \uacf5\ud1b5\uc810\uacfc \ucc28\uc774\uc810\n",
      "***"
     ]
    },
    {
     "cell_type": "code",
     "collapsed": false,
     "input": [
      "T = (1,2,3,4,5)\n",
      "L = list(T)\n",
      "L[0] = 100\n",
      "print L\n",
      "\n",
      "T = tuple(L)\n",
      "print T"
     ],
     "language": "python",
     "metadata": {},
     "outputs": [
      {
       "output_type": "stream",
       "stream": "stdout",
       "text": [
        "[100, 2, 3, 4, 5]\n",
        "(100, 2, 3, 4, 5)\n"
       ]
      }
     ],
     "prompt_number": 25
    },
    {
     "cell_type": "markdown",
     "metadata": {},
     "source": [
      "***\n",
      "## 04 \ud29c\ud50c\uc744 \uc0ac\uc6a9\ud558\ub294 \uacbd\uc6b0\n",
      "***"
     ]
    },
    {
     "cell_type": "code",
     "collapsed": false,
     "input": [
      "def calc(a, b):\n",
      "    return a+b, a*b\n",
      "\n",
      "x, y = calc(5, 4)"
     ],
     "language": "python",
     "metadata": {},
     "outputs": [],
     "prompt_number": 27
    },
    {
     "cell_type": "code",
     "collapsed": false,
     "input": [
      "print 'id : %s, name : %s' % ('gslee', 'GangSeong')"
     ],
     "language": "python",
     "metadata": {},
     "outputs": [
      {
       "output_type": "stream",
       "stream": "stdout",
       "text": [
        "id : gslee, name : GangSeong\n"
       ]
      }
     ],
     "prompt_number": 28
    },
    {
     "cell_type": "code",
     "collapsed": false,
     "input": [
      "args = (4,5)\n",
      "calc(*args)"
     ],
     "language": "python",
     "metadata": {},
     "outputs": [
      {
       "metadata": {},
       "output_type": "pyout",
       "prompt_number": 29,
       "text": [
        "(9, 20)"
       ]
      }
     ],
     "prompt_number": 29
    },
    {
     "cell_type": "code",
     "collapsed": false,
     "input": [
      "d = {'one':1, 'two':2}\n",
      "d.items()"
     ],
     "language": "python",
     "metadata": {},
     "outputs": [
      {
       "metadata": {},
       "output_type": "pyout",
       "prompt_number": 30,
       "text": [
        "[('two', 2), ('one', 1)]"
       ]
      }
     ],
     "prompt_number": 30
    },
    {
     "cell_type": "markdown",
     "metadata": {},
     "source": [
      "***\n",
      "## 05 \uacbd\ub85c\uba85\uc744 \ub2e4\ub904\ubcf4\uc790(os.path \ubaa8\ub4c8)\n",
      "***"
     ]
    },
    {
     "cell_type": "code",
     "collapsed": false,
     "input": [
      "import os\n",
      "p = os.path.abspath('python06.ipynb') #\uc0c1\ub300\uacbd\ub85c\ub97c \uc808\ub300\uacbd\ub85c\ub85c..\n",
      "print p\n",
      "\n",
      "print os.path.exists(p) #\ud30c\uc77c\uc758 \uc874\uc7ac\uc5ec\ubd80\n",
      "print os.path.getsize(p) #\ud30c\uc77c \ud06c\uae30\n",
      "print os.path.split(p) #(head, tail)\ub85c \ubd84\ub9ac, (\ub514\ub809\ud1a0\ub9ac\uba85, \ud30c\uc77c\uba85)\n",
      "print\n",
      "print os.path.join('/Users/Soo-Jin/python', 'python05.ipynb') #\ub514\ub809\ud1a0\ub9ac\ud654 \ud30c\uc77c\uba85 \uacb0\ud569\n",
      "print os.path.normpath('/Users/Soo-Jin/python//.//python05.ipynb') #\ud30c\uc77c\uba85 \uc815\uaddc\ud654\n",
      "print os.path.splitext('/Users/Soo-Jin/python//python05.ipynb') "
     ],
     "language": "python",
     "metadata": {},
     "outputs": [
      {
       "output_type": "stream",
       "stream": "stdout",
       "text": [
        "/Users/Soo-Jin/python/python06.ipynb\n",
        "True\n",
        "11549\n",
        "('/Users/Soo-Jin/python', 'python06.ipynb')\n",
        "\n",
        "/Users/Soo-Jin/python/python05.ipynb\n",
        "/Users/Soo-Jin/python/python05.ipynb\n",
        "('/Users/Soo-Jin/python//python05', '.ipynb')\n"
       ]
      }
     ],
     "prompt_number": 50
    },
    {
     "cell_type": "markdown",
     "metadata": {},
     "source": [
      "***\n",
      "## 06 URL \ub2e4\ub8e8\uae30(urlparse \ubaa8\ub4c8)\n",
      "***"
     ]
    },
    {
     "cell_type": "markdown",
     "metadata": {},
     "source": [
      "### 6-1 urlparse()"
     ]
    },
    {
     "cell_type": "code",
     "collapsed": false,
     "input": [
      "import urlparse\n",
      "\n",
      "a = 'http://some.where.or.kr:8080/a/b/c.html;param?x=1&y=2#fragment'\n",
      "print urlparse.urlparse(a)"
     ],
     "language": "python",
     "metadata": {},
     "outputs": [
      {
       "output_type": "stream",
       "stream": "stdout",
       "text": [
        "ParseResult(scheme='http', netloc='some.where.or.kr:8080', path='/a/b/c.html', params='param', query='x=1&y=2', fragment='fragment')\n"
       ]
      }
     ],
     "prompt_number": 45
    },
    {
     "cell_type": "markdown",
     "metadata": {},
     "source": [
      "### 6-2 urlunparse()"
     ]
    },
    {
     "cell_type": "code",
     "collapsed": false,
     "input": [
      "a = 'http://some.where.or.kr:8080/a/b/c.html;param?x=1&y=2#fragment'\n",
      "u = urlparse.urlparse(a)\n",
      "\n",
      "urlparse.urlunparse(u)"
     ],
     "language": "python",
     "metadata": {},
     "outputs": [
      {
       "metadata": {},
       "output_type": "pyout",
       "prompt_number": 46,
       "text": [
        "'http://some.where.or.kr:8080/a/b/c.html;param?x=1&y=2#fragment'"
       ]
      }
     ],
     "prompt_number": 46
    },
    {
     "cell_type": "code",
     "collapsed": false,
     "input": [
      "import urlparse\n",
      "import os\n",
      "\n",
      "a = 'http://some.where.or.kr:8080/a/b/c.html;param?x=1&y=2#fragment'\n",
      "u = urlparse.urlparse(a)\n",
      "print u\n",
      "\n",
      "lu = list(u)\n",
      "lu[2] = os.path.split(lu[2])[0] #'/a/b'\uc640 'c.html'\ub85c \ubd84\ub9ac\n",
      "lu[3] = ''\n",
      "print lu\n",
      "print urlparse.urlunparse(lu)"
     ],
     "language": "python",
     "metadata": {},
     "outputs": [
      {
       "output_type": "stream",
       "stream": "stdout",
       "text": [
        "ParseResult(scheme='http', netloc='some.where.or.kr:8080', path='/a/b/c.html', params='param', query='x=1&y=2', fragment='fragment')\n",
        "['http', 'some.where.or.kr:8080', '/a/b', '', 'x=1&y=2', 'fragment']\n",
        "http://some.where.or.kr:8080/a/b?x=1&y=2#fragment\n"
       ]
      }
     ],
     "prompt_number": 51
    },
    {
     "cell_type": "markdown",
     "metadata": {},
     "source": [
      "### 6-3 urljoin()"
     ]
    },
    {
     "cell_type": "code",
     "collapsed": false,
     "input": [
      "b = 'http://some.where.or.kr:8080/a/b/c.html?x=1'\n",
      "urlparse.urljoin(b, 'd.html')"
     ],
     "language": "python",
     "metadata": {},
     "outputs": [
      {
       "metadata": {},
       "output_type": "pyout",
       "prompt_number": 53,
       "text": [
        "'http://some.where.or.kr:8080/a/b/d.html'"
       ]
      }
     ],
     "prompt_number": 53
    },
    {
     "cell_type": "code",
     "collapsed": false,
     "input": [
      "urlparse.urljoin(b, '/')"
     ],
     "language": "python",
     "metadata": {},
     "outputs": [
      {
       "metadata": {},
       "output_type": "pyout",
       "prompt_number": 54,
       "text": [
        "'http://some.where.or.kr:8080/'"
       ]
      }
     ],
     "prompt_number": 54
    }
   ],
   "metadata": {}
  }
 ]
}