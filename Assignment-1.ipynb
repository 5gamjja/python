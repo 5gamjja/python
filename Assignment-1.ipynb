{
 "metadata": {
  "name": "",
  "signature": "sha256:e4dafef6827ac5c5f0ee2dc0b0990eeb60dfaa85887e4ac0d773614b7a877460"
 },
 "nbformat": 3,
 "nbformat_minor": 0,
 "worksheets": [
  {
   "cells": [
    {
     "cell_type": "markdown",
     "metadata": {},
     "source": [
      "- Due Date: 2014\ub144 9\uc6d4 17\uc77c, 11\uc2dc 59\ubd84\n",
      "- \uc81c\ucd9c\ubc29\ubc95: URL\uc744 EL \uc0ac\uc774\ud2b8\uc5d0 \uc81c\ucd9c"
     ]
    },
    {
     "cell_type": "markdown",
     "metadata": {},
     "source": [
      "1. a=\"Hello Python\" \ubb38\uc790\uc5f4\uc744 Slicing\uacfc \uc5f0\uacb0 \uc5f0\uc0b0\uc790 (+)\ub97c \uc0ac\uc6a9\ud558\uc5ec \"Python Hello\"\ub85c \ubcc0\uacbd\ud558\uc2dc\uc624.\n",
      "  - [\uc8fc\uc758] a \ubcc0\uc218 \uc790\uccb4\uc5d0 \"Python Hello\" \ubb38\uc790\uc5f4\uc774 \uc800\uc7a5\ub418\uc5b4\uc57c \ud568\n",
      "2. b=\"Hello Python World\" \ubb38\uc790\uc5f4\uc744 Slicing\uacfc \uc5f0\uacb0 \uc5f0\uc0b0\uc790 (+)\ub97c \uc0ac\uc6a9\ud558\uc5ec \"World Python Hello\"\ub85c \ubcc0\uacbd\ud558\uc2dc\uc624.\n",
      "  - [\uc8fc\uc758] b \ubcc0\uc218 \uc790\uccb4\uc5d0 \"Python Hello\" \ubb38\uc790\uc5f4\uc774 \uc800\uc7a5\ub418\uc5b4\uc57c \ud568  \n",
      "3. c=\"Hello\"\ub97c \"olleH\"\ub85c \ubcc0\uacbd\ud558\uc2dc\uc624\n",
      "  - [\uc8fc\uc758] c \ubcc0\uc218 \uc790\uccb4\uc5d0 \"olleH\" \ubb38\uc790\uc5f4\uc774 \uc800\uc7a5\ub418\uc5b4\uc57c \ud568"
     ]
    }
   ],
   "metadata": {}
  }
 ]
}