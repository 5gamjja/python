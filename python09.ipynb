{
 "metadata": {
  "name": "",
  "signature": "sha256:bda7dafba986e0fffce7e02be829ed42c6c50a8693f44b0052f59e4180a48178"
 },
 "nbformat": 3,
 "nbformat_minor": 0,
 "worksheets": [
  {
   "cells": [
    {
     "cell_type": "markdown",
     "metadata": {},
     "source": [
      "***\n",
      "***\n",
      "# 9. \ud30c\uc77c\n",
      "***\n",
      "***"
     ]
    },
    {
     "cell_type": "markdown",
     "metadata": {},
     "source": [
      "***\n",
      "## 01 \ud30c\uc77c \uc4f0\uae30\n",
      "***\n",
      "- \ud30c\uc77c\uc744 \uc5f4\uc5b4\uc11c \uc77d\uace0, \uc4f0\uace0, \ub367\ubd99\uc774\ub294 \ubc29\ubc95\n",
      "  - open(filename, mode) \ub0b4\uc7a5 \ud568\uc218\ub85c filename \uc774\ub984\uc744 \uc9c0\ub2cc file \uac1d\uccb4\ub97c \uc5bb\ub294\ub2e4. \n",
      "    - file() \uc740 \ub0b4\uc7a5 \ud568\uc218\uac00 \uc544\ub2c8\ub77c file \ud074\ub798\uc2a4\uc758 \uc0dd\uc131\uc790\n",
      "    - \ud30c\uc77c\uc744 \uc5f4\uae30 \uc704\ud558\uc5ec file() \uc0dd\uc131\uc790 \ud568\uc218 \uc0ac\uc6a9\uc740 \ube44\ucd94\ucc9c\n",
      "      - https://docs.python.org/2/library/functions.html#file\n",
      "      - http://stackoverflow.com/questions/112970/python-when-to-use-file-vs-open\n",
      "  - \uc5bb\uc5b4\uc9c4 \ud30c\uc77c \uac1d\uccb4\uc5d0\uc11c \uc790\ub8cc\ub97c \uc77d\uac70\ub098, \uc4f0\uac70\ub098, \ub367\ubd99\uc774\ub294 \uc791\uc5c5 \uc218\ud589\n",
      "  - close()\ub97c \ud638\ucd9c\ud558\uc5ec \uc791\uc5c5 \ud504\ub85c\uc138\uc2a4\uc758 \uc790\uc6d0 \uc810\uc720 \ud574\uc81c\n",
      "- \ub450\ubc88\uc9f8 \uc778\uc790 mode \uc124\uba85\n",
      " \n",
      "|  Mode  |          Description        |\n",
      "|--------|-----------------------------|\n",
      "|  'r'   |          \uc77d\uae30 \uc804\uc6a9            |\n",
      "|  'w'   |          \uc4f0\uae30 \uc804\uc6a9            |\n",
      "|  'a'   |      \ud30c\uc77c \ub05d\uc5d0 \ucd94\uac00(\uc4f0\uae30 \uc804\uc6a9)   |\n",
      "|  'r+'  |      \uc77d\uace0 \uc4f0\uae30 |\n",
      "|  'w+'  |      \uc77d\uace0 \uc4f0\uae30(\uae30\uc874 \ud30c\uc77c \uc0ad\uc81c) |\n",
      "|  'a+'  |      \ud30c\uc77c \ub05d\uc5d0 \ucd94\uac00(\uc77d\uae30\ub3c4 \uac00\ub2a5) |\n",
      "|  'rb'  |      \uc774\uc9c4 \ud30c\uc77c \uc77d\uae30 \uc804\uc6a9 |\n",
      "|  'wb'  |      \uc774\uc9c4 \ud30c\uc77c \uc4f0\uae30 \uc804\uc6a9 |\n",
      "|  'ab'  |      \uc774\uc9c4 \ud30c\uc77c \ub05d\uc5d0 \ucd94\uac00(\uc4f0\uae30 \uc804\uc6a9) |\n",
      "|  'rb+' |      \uc774\uc9c4 \ud30c\uc77c \uc77d\uace0 \uc4f0\uae30 |\n",
      "|  'wb+' |      \uc774\uc9c4 \ud30c\uc77c \uc77d\uace0 \uc4f0\uae30(\uae30\uc874 \ud30c\uc77c \uc0ad\uc81c) |\n",
      "|  'ab+' |      \uc774\uc9c4 \ud30c\uc77c \ub05d\uc5d0 \ucd94\uac00(\uc77d\uae30\ub3c4 \uac00\ub2a5) |"
     ]
    },
    {
     "cell_type": "code",
     "collapsed": false,
     "input": [
      "import os\n",
      "\n",
      "print os.getcwd()"
     ],
     "language": "python",
     "metadata": {},
     "outputs": [
      {
       "output_type": "stream",
       "stream": "stdout",
       "text": [
        "/Users/yhhan/git/ipython\n"
       ]
      }
     ],
     "prompt_number": 1
    },
    {
     "cell_type": "code",
     "collapsed": false,
     "input": [
      "s = \"\"\"\n",
      "Its power: Python developers typically report \n",
      "they are able to develop applications in a half\n",
      "to a tenth the amount of time it takes them to do\n",
      "the same work in such languages as C.\n",
      "\"\"\"\n",
      "f = open('t.txt', 'w+')\n",
      "f.write(s) #\ubb38\uc790\uc5f4\uc744 \ud30c\uc77c\uc5d0 \uae30\ub85d\n",
      "\n",
      "s = f.read()\n",
      "print s\n",
      "f.close()"
     ],
     "language": "python",
     "metadata": {},
     "outputs": [
      {
       "output_type": "stream",
       "stream": "stdout",
       "text": [
        "\n"
       ]
      }
     ],
     "prompt_number": 6
    },
    {
     "cell_type": "markdown",
     "metadata": {},
     "source": [
      "***\n",
      "## 02 \ud30c\uc77c \uc77d\uae30\n",
      "***"
     ]
    },
    {
     "cell_type": "code",
     "collapsed": false,
     "input": [
      "f = file('t.txt')\n",
      "s = f.read()\n",
      "print s"
     ],
     "language": "python",
     "metadata": {},
     "outputs": [
      {
       "output_type": "stream",
       "stream": "stdout",
       "text": [
        "\n",
        "Its power: Python developers typically report \n",
        "they are able to develop applications in a half\n",
        "to a tenth the amount of time it takes them to do\n",
        "the same work in such languages as C.\n",
        "\n"
       ]
      }
     ],
     "prompt_number": 7
    },
    {
     "cell_type": "markdown",
     "metadata": {},
     "source": [
      "***\n",
      "## 03 \ub77c\uc778 \ub2e8\uc704\ub85c \ud30c\uc77c \uc77d\uae30\n",
      "***"
     ]
    },
    {
     "cell_type": "code",
     "collapsed": false,
     "input": [
      "f = open('t.txt')\n",
      "for line in f:\n",
      "    print line,"
     ],
     "language": "python",
     "metadata": {},
     "outputs": [
      {
       "output_type": "stream",
       "stream": "stdout",
       "text": [
        "\n",
        "Its power: Python developers typically report \n",
        "they are able to develop applications in a half\n",
        "to a tenth the amount of time it takes them to do\n",
        "the same work in such languages as C.\n"
       ]
      }
     ],
     "prompt_number": 3
    },
    {
     "cell_type": "code",
     "collapsed": false,
     "input": [
      "f = open('t.txt')\n",
      "line = f.readline()\n",
      "while line:\n",
      "    print line,\n",
      "    line = f.readline()"
     ],
     "language": "python",
     "metadata": {},
     "outputs": [
      {
       "output_type": "stream",
       "stream": "stdout",
       "text": [
        "\n",
        "Its power: Python developers typically report \n",
        "they are able to develop applications in a half\n",
        "to a tenth the amount of time it takes them to do\n",
        "the same work in such languages as C.\n"
       ]
      }
     ],
     "prompt_number": 4
    },
    {
     "cell_type": "code",
     "collapsed": false,
     "input": [
      "f = open('t.txt')\n",
      "for line in f.readline():\n",
      "    print line,"
     ],
     "language": "python",
     "metadata": {},
     "outputs": [
      {
       "output_type": "stream",
       "stream": "stdout",
       "text": [
        "\n"
       ]
      }
     ],
     "prompt_number": 5
    },
    {
     "cell_type": "code",
     "collapsed": false,
     "input": [
      "f = open('t.txt')\n",
      "for line in f.xreadlines():\n",
      "    print line,"
     ],
     "language": "python",
     "metadata": {},
     "outputs": [
      {
       "output_type": "stream",
       "stream": "stdout",
       "text": [
        "\n",
        "Its power: Python developers typically report \n",
        "they are able to develop applications in a half\n",
        "to a tenth the amount of time it takes them to do\n",
        "the same work in such languages as C.\n"
       ]
      }
     ],
     "prompt_number": 6
    },
    {
     "cell_type": "markdown",
     "metadata": {},
     "source": [
      "***\n",
      "## 04 \ub77c\uc778 \ub2e8\uc704\ub85c \ud30c\uc77c \uc4f0\uae30\n",
      "***"
     ]
    },
    {
     "cell_type": "code",
     "collapsed": false,
     "input": [
      "lines = ['first line\\n', 'second line\\n', 'third line\\n']\n",
      "f = open('t1.txt', 'w')\n",
      "f.writelines(lines)"
     ],
     "language": "python",
     "metadata": {},
     "outputs": [],
     "prompt_number": 7
    },
    {
     "cell_type": "code",
     "collapsed": false,
     "input": [
      "lines = ['first line\\n', 'second line\\n', 'third line\\n']\n",
      "f = open('t1.txt', 'w')\n",
      "f.write(''.join(lines))"
     ],
     "language": "python",
     "metadata": {},
     "outputs": [],
     "prompt_number": 9
    },
    {
     "cell_type": "code",
     "collapsed": false,
     "input": [
      "lines = ['first line', 'second line', 'third line']\n",
      "f = open('t1.txt', 'w')\n",
      "f.write('\\n'.join(lines))"
     ],
     "language": "python",
     "metadata": {},
     "outputs": [],
     "prompt_number": 12
    },
    {
     "cell_type": "code",
     "collapsed": false,
     "input": [
      "f = open('t1.txt')\n",
      "print f.read()"
     ],
     "language": "python",
     "metadata": {},
     "outputs": [
      {
       "output_type": "stream",
       "stream": "stdout",
       "text": [
        "first line\n",
        "second line\n",
        "third line\n",
        "\n"
       ]
      }
     ],
     "prompt_number": 13
    },
    {
     "cell_type": "markdown",
     "metadata": {},
     "source": [
      "#### \uc608\uc81c1 - \ud14d\uc2a4\ud2b8 \ud30c\uc77c t.txt\uc758 \ub2e8\uc5b4 \uc218\ub97c \ucd9c\ub825\ud558\ub294 \ud504\ub85c\uadf8\ub7a8\uc744 \uc791\uc131\ud558\ub77c. \uc5ec\uae30\uc11c \ub2e8\uc5b4\ub780, \uacf5\ubc31\uc73c\ub85c \ubd84\ub9ac\ub41c \ubb38\uc790\uc758 \ubaa8\uc784\uc744 \ub73b\ud55c\ub2e4."
     ]
    },
    {
     "cell_type": "code",
     "collapsed": false,
     "input": [
      "#\ud574\ubc95 1\n",
      "f = open('t.txt')\n",
      "s = f.read()\n",
      "n = len(s.split())\n",
      "print n"
     ],
     "language": "python",
     "metadata": {},
     "outputs": [
      {
       "output_type": "stream",
       "stream": "stdout",
       "text": [
        "35\n"
       ]
      }
     ],
     "prompt_number": 15
    },
    {
     "cell_type": "code",
     "collapsed": false,
     "input": [
      "#\ud574\ubc95 2 : \uc880 \ub354 \uac04\ub2e8\ud788 \ud45c\ud604\ud560 \uc218\ub3c4 \uc788\ub2e4.\n",
      "n = len(open('t.txt').read().split())\n",
      "print n"
     ],
     "language": "python",
     "metadata": {},
     "outputs": [
      {
       "output_type": "stream",
       "stream": "stdout",
       "text": [
        "35\n"
       ]
      }
     ],
     "prompt_number": 16
    },
    {
     "cell_type": "markdown",
     "metadata": {},
     "source": [
      "#### \uc608\uc81c2 - \ud14d\uc2a4\ud2b8 \ud30c\uc77c t.txt\uc758 \ub77c\uc778 \uc218\ub97c \ucd9c\ub825\ud558\ub294 \ud504\ub85c\uadf8\ub7a8\uc744 \uc791\uc131\ud558\ub77c."
     ]
    },
    {
     "cell_type": "code",
     "collapsed": false,
     "input": [
      "#\ud574\ubc95 1\n",
      "f = open('t.txt')\n",
      "s = f.read()\n",
      "print s.count('\\n')"
     ],
     "language": "python",
     "metadata": {},
     "outputs": [
      {
       "output_type": "stream",
       "stream": "stdout",
       "text": [
        "5\n"
       ]
      }
     ],
     "prompt_number": 17
    },
    {
     "cell_type": "code",
     "collapsed": false,
     "input": [
      "#\ud574\ubc95 2\n",
      "f = open('t.txt')\n",
      "print len(f.readlines())"
     ],
     "language": "python",
     "metadata": {},
     "outputs": [
      {
       "output_type": "stream",
       "stream": "stdout",
       "text": [
        "5\n"
       ]
      }
     ],
     "prompt_number": 19
    },
    {
     "cell_type": "code",
     "collapsed": false,
     "input": [
      "#\ud574\ubc95 3\n",
      "print len(open('t.txt').readlines())"
     ],
     "language": "python",
     "metadata": {},
     "outputs": [
      {
       "output_type": "stream",
       "stream": "stdout",
       "text": [
        "5\n"
       ]
      }
     ],
     "prompt_number": 20
    },
    {
     "cell_type": "code",
     "collapsed": false,
     "input": [
      "#\ud574\ubc95 4\n",
      "print open('t.txt').read().count('\\n')"
     ],
     "language": "python",
     "metadata": {},
     "outputs": [
      {
       "output_type": "stream",
       "stream": "stdout",
       "text": [
        "5\n"
       ]
      }
     ],
     "prompt_number": 23
    },
    {
     "cell_type": "markdown",
     "metadata": {},
     "source": [
      "#### \uc608\uc81c3 - \ud14d\uc2a4\ud2b8 \ud30c\uc77c t.txt\uc758 \ubb38\uc790 \uc218\ub97c \ucd9c\ub825\ud558\ub294 \ud504\ub85c\uadf8\ub7a8\uc744 \uc791\uc131\ud558\ub77c."
     ]
    },
    {
     "cell_type": "code",
     "collapsed": false,
     "input": [
      "#\ud574\ubc95 1\n",
      "f = open('t.txt')\n",
      "print len(f.read())"
     ],
     "language": "python",
     "metadata": {},
     "outputs": [
      {
       "output_type": "stream",
       "stream": "stdout",
       "text": [
        "184\n"
       ]
      }
     ],
     "prompt_number": 25
    },
    {
     "cell_type": "code",
     "collapsed": false,
     "input": [
      "#\ud574\ubc95 2 : \ubb38\uc790 \uc218\ub294 \ud30c\uc77c \ud06c\uae30\uc640 \uac19\ub2e4??\n",
      "import os\n",
      "os.path.getsize('t.txt')"
     ],
     "language": "python",
     "metadata": {},
     "outputs": [
      {
       "metadata": {},
       "output_type": "pyout",
       "prompt_number": 26,
       "text": [
        "184"
       ]
      }
     ],
     "prompt_number": 26
    },
    {
     "cell_type": "code",
     "collapsed": false,
     "input": [
      "import os\n",
      "os.linesep #\uc708\ub3c4\uc6b0/\ub3c4\uc2a4\uc5d0\uc11c\uc758 \ucd9c\ub825"
     ],
     "language": "python",
     "metadata": {},
     "outputs": [
      {
       "metadata": {},
       "output_type": "pyout",
       "prompt_number": 27,
       "text": [
        "'\\n'"
       ]
      }
     ],
     "prompt_number": 27
    },
    {
     "cell_type": "markdown",
     "metadata": {},
     "source": [
      "***\n",
      "## 05 \ud30c\uc77c\uc5d0\uc11c \uc6d0\ud558\ub294 \ub9cc\ud07c\uc758 \ubb38\uc790 \uc77d\uae30\n",
      "***"
     ]
    },
    {
     "cell_type": "code",
     "collapsed": false,
     "input": [
      "f = open('t.txt')\n",
      "print f.read(10)\n",
      "print f.read(10)"
     ],
     "language": "python",
     "metadata": {},
     "outputs": [
      {
       "output_type": "stream",
       "stream": "stdout",
       "text": [
        "\n",
        "Its power\n",
        ": Python d\n"
       ]
      }
     ],
     "prompt_number": 29
    },
    {
     "cell_type": "markdown",
     "metadata": {},
     "source": [
      "***\n",
      "## 06 \ud30c\uc77c \ucc98\ub9ac \ubaa8\ub4dc\n",
      "***"
     ]
    },
    {
     "cell_type": "markdown",
     "metadata": {},
     "source": [
      "### 6-1 \ud30c\uc77c \ucc98\ub9ac \ubaa8\ub4dc\uc758 \uc885\ub958"
     ]
    },
    {
     "cell_type": "markdown",
     "metadata": {},
     "source": [
      "### 6-2 \ud30c\uc77c \ucd94\uac00\uc758 \uc608"
     ]
    },
    {
     "cell_type": "code",
     "collapsed": false,
     "input": [
      "# fileappend.py\n",
      "f = open('removeme.txt', 'w') #\uc6b0\uc120 \ud30c\uc77c\uc744 \uc0dd\uc131\ud558\uc790.\n",
      "f.write('first line\\n')\n",
      "f.write('second line\\n')\n",
      "f.close()"
     ],
     "language": "python",
     "metadata": {},
     "outputs": [],
     "prompt_number": 31
    },
    {
     "cell_type": "code",
     "collapsed": false,
     "input": [
      "f = open('removeme.txt', 'a') #\ud30c\uc77c \ucd94\uac00 \ubaa8\ub4dc\ub85c \uc624\ud508\n",
      "f.write('third line\\n')\n",
      "f.close()\n",
      "\n",
      "f = open('removeme.txt') #\uc77d\uae30\n",
      "print f.read()"
     ],
     "language": "python",
     "metadata": {},
     "outputs": [
      {
       "output_type": "stream",
       "stream": "stdout",
       "text": [
        "first line\n",
        "second line\n",
        "third line\n",
        "\n"
       ]
      }
     ],
     "prompt_number": 32
    },
    {
     "cell_type": "markdown",
     "metadata": {},
     "source": [
      "***\n",
      "## 07 \uc784\uc758 \uc811\uadfc \ud30c\uc77c\n",
      "***"
     ]
    },
    {
     "cell_type": "code",
     "collapsed": false,
     "input": [
      "name = 't.txt' #\uc77d\uace0 \uc4f0\uae30\ub85c \uc624\ud508, \ub2e8, \ud30c\uc77c\uc774 \uc774\ubbf8 \uc874\uc7ac\ud55c\ub2e4\uba74\n",
      "               #\uae30\uc874 \ud30c\uc77c\uc740 \uc5c6\uc5b4\uc9c0\uace0 \ub2e4\uc2dc \uc0dd\uc131\ub41c\ub2e4.\n",
      "\n",
      "f = open(name, 'w+')\n",
      "s = '0123456789abcdef'\n",
      "f.write(s)\n",
      "               #\uc2dc\uc791\ubd80\ud130 5\ubc88\uc9f8 \uc9c0\uc810\n",
      "f.seek(5)\n",
      "print f.tell() #\ud604\uc7ac \uc704\uce58 \ub3cc\ub824\uc90c\n",
      "print f.read(1) #1\ubb38\uc790 \uc77d\uae30\n",
      "\n",
      "f.seek(-3,2) #\ub05d\ubd80\ud130 \uc55e\uc73c\ub85c 3\ubc88\uc9f8 \uc9c0\uc810\n",
      "print f.tell()\n",
      "print f.read(1)"
     ],
     "language": "python",
     "metadata": {},
     "outputs": [
      {
       "output_type": "stream",
       "stream": "stdout",
       "text": [
        "5\n",
        "5\n",
        "13\n",
        "d\n"
       ]
      }
     ],
     "prompt_number": 37
    },
    {
     "cell_type": "markdown",
     "metadata": {},
     "source": [
      "***\n",
      "## 08 \ud30c\uc77c \uac1d\uccb4 \uc18d\uc131\ub4e4\n",
      "***"
     ]
    },
    {
     "cell_type": "markdown",
     "metadata": {},
     "source": [
      "***\n",
      "## 09 \ud30c\uc77c \uc785\ucd9c\ub825 \uc608\uc81c\n",
      "***"
     ]
    },
    {
     "cell_type": "markdown",
     "metadata": {},
     "source": [
      "Do you work in C, C++, or Java on large projects?\n",
      "We'll show how Python will give you results quicker and more reliably.\n",
      "Are you already scripting in a laguage other than Python?\n",
      "Whatever programming you're doing now, Python can improve it."
     ]
    },
    {
     "cell_type": "markdown",
     "metadata": {},
     "source": [
      "***\n",
      "## 10 \ud45c\uc900 \uc785\ucd9c\ub825 \ubc29\ud669 \uc804\ud658\n",
      "***"
     ]
    },
    {
     "cell_type": "markdown",
     "metadata": {},
     "source": [
      "### 10-1 \ud45c\uc900 \ucd9c\ub825\uc744 \ud30c\uc77c\ub85c \uc800\uc7a5\ud558\uae30"
     ]
    },
    {
     "cell_type": "code",
     "collapsed": false,
     "input": [
      "# redirect.py\n",
      "import sys\n",
      "\n",
      "f = open('t.txt', 'w')\n",
      "stdout = sys.stdout #\ud45c\uc900 \ucd9c\ub825 \ud30c\uc77c \uc800\uc7a5\ud574 \ub450\uae30\n",
      "sys.stdout = f #\ud30c\uc77c \uac1d\uccb4\ub85c \ubcc0\uacbd\n",
      "print 'Sample output'\n",
      "print 'Good'\n",
      "print 'Good'\n",
      "f.close()\n",
      "sys.stdout = stdout #\ud544\uc694\ud558\uba74 \ubcf5\uad6c"
     ],
     "language": "python",
     "metadata": {},
     "outputs": [],
     "prompt_number": 12
    },
    {
     "cell_type": "code",
     "collapsed": false,
     "input": [
      "f = open('t.txt')\n",
      "print f.read()"
     ],
     "language": "python",
     "metadata": {},
     "outputs": [
      {
       "output_type": "stream",
       "stream": "stdout",
       "text": [
        "Sample output\n",
        "Good\n",
        "Good\n"
       ]
      }
     ],
     "prompt_number": 17
    },
    {
     "cell_type": "code",
     "collapsed": false,
     "input": [
      "print >> sys.stderr, \"Warning, action field not supplied\""
     ],
     "language": "python",
     "metadata": {},
     "outputs": [
      {
       "output_type": "stream",
       "stream": "stderr",
       "text": [
        "Warning, action field not supplied\n"
       ]
      }
     ],
     "prompt_number": 14
    },
    {
     "cell_type": "code",
     "collapsed": false,
     "input": [
      "f = open('t.txt', 'w')\n",
      "print >> f, 'spam string'\n",
      "f.close()"
     ],
     "language": "python",
     "metadata": {},
     "outputs": [],
     "prompt_number": 15
    },
    {
     "cell_type": "markdown",
     "metadata": {},
     "source": [
      "### 10-2 \ud45c\uc900 \ucd9c\ub825\uc744 \ubb38\uc790\uc5f4\ub85c \uc800\uc7a5\ud558\uae30(StringIO)"
     ]
    },
    {
     "cell_type": "code",
     "collapsed": false,
     "input": [
      "# redirect2str.py\n",
      "\n",
      "import sys\n",
      "import StringIO\n",
      "\n",
      "stdout = sys.stdout\n",
      "sys.stdout = f = StringIO.StringIO()\n",
      "\n",
      "print 'Sample output'\n",
      "print 'Good'\n",
      "print 'Good'\n",
      "\n",
      "sys.stdout = stdout"
     ],
     "language": "python",
     "metadata": {},
     "outputs": [],
     "prompt_number": 30
    },
    {
     "cell_type": "code",
     "collapsed": false,
     "input": [
      "s = f.getvalue()\n",
      "\n",
      "print 'Done-------'\n",
      "print s"
     ],
     "language": "python",
     "metadata": {},
     "outputs": [
      {
       "output_type": "stream",
       "stream": "stdout",
       "text": [
        "Done-------\n",
        "Sample output\n",
        "Good\n",
        "Good\n"
       ]
      }
     ],
     "prompt_number": 23
    },
    {
     "cell_type": "markdown",
     "metadata": {},
     "source": [
      "### 10-3 \ubb38\uc790\uc5f4\uc744 \ud30c\uc77c \uac1d\uccb4\ucc98\ub7fc \uc77d\uc5b4\ub0b4\uae30(StringIO)"
     ]
    },
    {
     "cell_type": "code",
     "collapsed": false,
     "input": [
      "# stringfile.py\n",
      "import StringIO\n",
      "\n",
      "s = '''Python is a coollittle language.\n",
      "It is well designed, compact, easy to learn and fun to program in.\n",
      "Python strongly encourages the programmer to program in an OO-way,\n",
      "but does not require it.\n",
      "'''\n",
      "\n",
      "f = StringIO.StringIO(s) #\ubb38\uc790\uc5f4 \uac1d\uccb4\uc5d0\uc11c \ud30c\uc77c \uac1d\uccb4 \uc5bb\uc5b4 \ub0b4\uae30\n",
      "f.read().upper() #\ub300\ubb38\uc790\ub85c \ubcc0\ud658"
     ],
     "language": "python",
     "metadata": {},
     "outputs": [
      {
       "metadata": {},
       "output_type": "pyout",
       "prompt_number": 32,
       "text": [
        "'PYTHON IS A COOLLITTLE LANGUAGE.\\nIT IS WELL DESIGNED, COMPACT, EASY TO LEARN AND FUN TO PROGRAM IN.\\nPYTHON STRONGLY ENCOURAGES THE PROGRAMMER TO PROGRAM IN AN OO-WAY,\\nBUT DOES NOT REQUIRE IT.\\n'"
       ]
      }
     ],
     "prompt_number": 32
    },
    {
     "cell_type": "markdown",
     "metadata": {},
     "source": [
      "***\n",
      "## 11 \uc9c0\uc18d \ubaa8\ub4c8(Persistent Modules)\n",
      "***"
     ]
    },
    {
     "cell_type": "markdown",
     "metadata": {},
     "source": [
      "### 11-1 DBM \ud30c\uc77c \uad00\ub828 \ubaa8\ub4c8 \uc0ac\uc6a9\ud558\uae30"
     ]
    },
    {
     "cell_type": "code",
     "collapsed": false,
     "input": [
      "import anydbm\n",
      "f = anydbm.open('music','c')\n",
      "\n",
      "f['flute'] = 'wood wind'\n",
      "f['violin'] = 'string'\n",
      "f['piano'] = 'keyboard'\n",
      "\n",
      "print f.keys() #keys() \uba54\uc18c\ub4dc\n",
      "print f.values() \n",
      "print f.items()\n",
      "print\n",
      "print len(f) #\ub808\ucf54\ub4dc \uc218\n",
      "print\n",
      "print 'oboe' in f #\uba64\ubc84\uc2ed \ud14c\uc2a4\ud2b8\n",
      "print\n",
      "print f['flute'] #\uc778\ub371\uc2f1\uc73c\ub85c \uac12 \uc77d\uc5b4\uc624\uae30\n",
      "print f['violin']\n",
      "f.close() #\ud30c\uc77c \ub2eb\uae30"
     ],
     "language": "python",
     "metadata": {},
     "outputs": [
      {
       "output_type": "stream",
       "stream": "stdout",
       "text": [
        "['flute', 'piano', 'violin']\n",
        "['wood wind', 'keyboard', 'string']\n",
        "[('flute', 'wood wind'), ('piano', 'keyboard'), ('violin', 'string')]\n",
        "\n",
        "3\n",
        "\n",
        "False\n",
        "\n",
        "wood wind\n",
        "string\n"
       ]
      }
     ],
     "prompt_number": 3
    },
    {
     "cell_type": "code",
     "collapsed": false,
     "input": [
      "import anydbm\n",
      "f = anydbm.open('music','c') #'music' \ud30c\uc77c \uc5f4\uae30\n",
      "\n",
      "print f.keys() #\ud0a4 \ubaa9\ub85d \uc5bb\uae30\n",
      "\n",
      "for k in f: #\uc804\uccb4 \ub0b4\uc6a9 \ucd9c\ub825\n",
      "    print k, f[k]"
     ],
     "language": "python",
     "metadata": {},
     "outputs": [
      {
       "output_type": "stream",
       "stream": "stdout",
       "text": [
        "['flute', 'piano', 'violin']\n",
        "flute wood wind\n",
        "piano keyboard\n",
        "violin string\n"
       ]
      }
     ],
     "prompt_number": 5
    },
    {
     "cell_type": "code",
     "collapsed": false,
     "input": [
      "f['oboe'] = 'wood wind' #\ub0b4\uc6a9 \ucd94\uac00\n",
      "f['piano'] = 'keyboard instrument' #\ub0b4\uc6a9 \ubcc0\uacbd\n",
      "del f['violin'] #\ub0b4\uc6a9 \uc0ad\uc81c\n",
      "for k in f:\n",
      "    print k, f[k] #\ub2e4\uc2dc \uc804\uccb4 \ub0b4\uc6a9 \ucd9c\ub825"
     ],
     "language": "python",
     "metadata": {},
     "outputs": [
      {
       "output_type": "stream",
       "stream": "stdout",
       "text": [
        "flute wood wind\n",
        "oboe wood wind\n",
        "piano keyboard instrument\n"
       ]
      }
     ],
     "prompt_number": 6
    },
    {
     "cell_type": "markdown",
     "metadata": {},
     "source": [
      "### 11-2 \ud53c\ud074\ub9c1(pickling)"
     ]
    },
    {
     "cell_type": "code",
     "collapsed": false,
     "input": [
      "# pickleSample.py\n",
      "import pickle\n",
      "\n",
      "phone = {'tom':4358382, 'jack':9465215, 'jim':6851325, 'Joseph':6584321}\n",
      "List = ['string', 1234, 0.2345]\n",
      "Tuple = (phone, List) #\ub9ac\uc2a4\ud2b8, \ud29c\ud50c, \uc0ac\uc804\uc758 \ubcf5\ud569 \uac1d\uccb4\n",
      "\n",
      "f = open('t2.txt', 'w') #\ud30c\uc77c \uac1d\uccb4\ub97c \uc5bb\ub294\ub2e4.\n",
      "\n",
      "pickle.dump(Tuple, f) #\ud30c\uc77c\ub85c \ucd9c\ub825(pickleing), \ubcf5\ud569 \uac1d\uccb4 \ucd9c\ub825 \n",
      "f.close() \n",
      "\n",
      "f = open('t2.txt')     \n",
      "                      #\ud30c\uc77c\uc5d0\uc11c \uc77d\uc5b4\uc624\uae30\n",
      "x,y = pickle.load(f) #\ud29c\ud50c\uc758 \ub0b4\uc6a9\uc744 x, y\uc5d0 \ubc1b\ub294\ub2e4.\n",
      "print x #\uc0ac\uc804\n",
      "print y #\ub9ac\uc2a4\ud2b8"
     ],
     "language": "python",
     "metadata": {},
     "outputs": [
      {
       "output_type": "stream",
       "stream": "stdout",
       "text": [
        "{'jim': 6851325, 'Joseph': 6584321, 'jack': 9465215, 'tom': 4358382}\n",
        "['string', 1234, 0.2345]\n"
       ]
      }
     ],
     "prompt_number": 8
    },
    {
     "cell_type": "code",
     "collapsed": false,
     "input": [
      "import pickle\n",
      "\n",
      "class Simple: #\uac00\uc7a5 \ub2e8\uc21c\ud55c \ud074\ub798\uc2a4\ub97c \uc815\uc758\n",
      "    pass\n",
      "\n",
      "s = Simple() #\uc778\uc2a4\ud134\uc2a4 \uac1d\uccb4 \uc0dd\uc131\n",
      "s.count = 10 #\uc778\uc2a4\ud134\uc2a4 \uc774\ub984 \uacf5\uac04\uc5d0 \ubcc0\uc218 \uc0dd\uc131\n",
      "\n",
      "f = open('t3.txt', 'w')\n",
      "pickle.dump(s, f) #\uc778\uc2a4\ud134\uc2a4 \uc800\uc7a5\n",
      "f.close()\n",
      "\n",
      "f = open('t3.txt')\n",
      "t = pickle.load(f) #\uc778\uc2a4\ud134\uc2a4 \uac00\uc838\uc624\uae30\n",
      "print t.count"
     ],
     "language": "python",
     "metadata": {},
     "outputs": [
      {
       "output_type": "stream",
       "stream": "stdout",
       "text": [
        "10\n"
       ]
      }
     ],
     "prompt_number": 9
    },
    {
     "cell_type": "code",
     "collapsed": false,
     "input": [
      "f = open('t3.txt')\n",
      "print f.read()"
     ],
     "language": "python",
     "metadata": {},
     "outputs": [
      {
       "output_type": "stream",
       "stream": "stdout",
       "text": [
        "(i__main__\n",
        "Simple\n",
        "p0\n",
        "(dp1\n",
        "S'count'\n",
        "p2\n",
        "I10\n",
        "sb.\n"
       ]
      }
     ],
     "prompt_number": 11
    },
    {
     "cell_type": "code",
     "collapsed": false,
     "input": [],
     "language": "python",
     "metadata": {},
     "outputs": []
    }
   ],
   "metadata": {}
  }
 ]
}