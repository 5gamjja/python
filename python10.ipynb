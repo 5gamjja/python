{
 "metadata": {
  "name": "",
  "signature": "sha256:28d09297b7666e5468004e40fc35b9f362e69a1a76c5d27acd8bfc303beb70a2"
 },
 "nbformat": 3,
 "nbformat_minor": 0,
 "worksheets": []
}