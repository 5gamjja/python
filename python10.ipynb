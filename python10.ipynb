{
 "metadata": {
  "name": "",
  "signature": "sha256:3a7edf45b3545479b80d2c34e7f4507f06cbaa093c2aec827e9dc11f4625ae40"
 },
 "nbformat": 3,
 "nbformat_minor": 0,
 "worksheets": [
  {
   "cells": [
    {
     "cell_type": "markdown",
     "metadata": {},
     "source": [
      "***\n",
      "***\n",
      "# 10. \ud568\uc218\n",
      "***\n",
      "***"
     ]
    },
    {
     "cell_type": "markdown",
     "metadata": {},
     "source": [
      "***\n",
      "## 01 \ud568\uc218\ub780\n",
      "***"
     ]
    },
    {
     "cell_type": "markdown",
     "metadata": {},
     "source": [
      "### 1-1 \uac04\ub2e8\ud55c \ud568\uc218\uc758 \uc815\uc758"
     ]
    },
    {
     "cell_type": "markdown",
     "metadata": {},
     "source": [
      "***\n",
      "## 02 \ud568\uc218\uc758 \uc815\uc758\uc640 \ud638\ucd9c\n",
      "***"
     ]
    },
    {
     "cell_type": "markdown",
     "metadata": {},
     "source": [
      "***\n",
      "## 03 \uc778\uc218 \uc804\ub2ec\ubc29\ubc95\n",
      "***"
     ]
    },
    {
     "cell_type": "markdown",
     "metadata": {},
     "source": [
      "***\n",
      "## 04 return\ubb38\uc5d0 \ub300\ud558\uc5ec\n",
      "***"
     ]
    },
    {
     "cell_type": "markdown",
     "metadata": {},
     "source": [
      "### 4-1 \uc778\uc218\uc5c6\uc774 \ub9ac\ud134\ud558\uae30"
     ]
    },
    {
     "cell_type": "markdown",
     "metadata": {},
     "source": [
      "### 4-2 return\ubb38 \uc5c6\uc774 \ub9ac\ud134\ud558\uae30"
     ]
    },
    {
     "cell_type": "markdown",
     "metadata": {},
     "source": [
      "### 4-3 \ud55c \uac1c\uc758 \uac12\uc744 \ub9ac\ud134\ud560 \ub54c"
     ]
    },
    {
     "cell_type": "markdown",
     "metadata": {},
     "source": [
      "### 4-4 \ub450 \uac1c \uc774\uc0c1\uc758 \uac12\uc744 \ub9ac\ud134\ud560 \ub54c"
     ]
    },
    {
     "cell_type": "markdown",
     "metadata": {},
     "source": [
      "***\n",
      "## 05 \ub3d9\uc801\uc778 \uc790\ub8cc\ud615 \uacb0\uc815\n",
      "***"
     ]
    },
    {
     "cell_type": "markdown",
     "metadata": {},
     "source": [
      "***\n",
      "## 06 \uc2a4\ucf54\ud551 \ub8f0(Scoping Rule)\n",
      "***\n",
      "- \uc774\ub984 \uacf5\uac04 \ub610\ub294 \uc2a4\ucf54\ud504 (Naming Space or Scope): \uc774\ub984\uc774 \uc874\uc7ac\ud558\ub294 \uc7a5\uc18c. \ud30c\uc774\uc36c\uc740 \uc2e4\ud589 \uc2dc\uac04\uc5d0 \uac01 \uc774\ub984\ub4e4\uc744 \uc801\uc808\ud55c \uc774\ub984 \uacf5\uac04\uc5d0 \ub123\uc5b4 \uad00\ub9ac\ud55c\ub2e4.\n",
      "- \uc774\ub984 \uacf5\uac04(\uc2a4\ucf54\ud504)\uc758 \uc885\ub958\n",
      "  - \uc9c0\uc5ed(Local): \uac01 \ud568\uc218 \ub0b4\ubd80\n",
      "  - \uc804\uc5ed(Global): \ubaa8\ub4c8 (\ud30c\uc77c) \ub0b4\ubd80\n",
      "  - \ub0b4\uc7a5(Built-in): \ud30c\uc774\uc36c \uc5b8\uc5b4 \uc790\uccb4\uc5d0\uc11c \uc815\uc758\ud55c \uc601\uc5ed\n",
      "- \ubcc0\uc218\uc758 \uc2a4\ucf54\ud504\uac00 \uacb0\uc815\ub418\ub294 \uaddc\uce59\n",
      "  - \ubcc0\uc218\uac00 \uc815\uc758\ub418\ub294 \uc704\uce58\uc5d0 \uc758\ud574 \uc815\ud574\uc9d0\n",
      "  - \ud30c\uc774\uc36c\uc5d0\uc11c \ubcc0\uc218\uc758 \uc815\uc758\n",
      "    - \ubcc0\uc218\uac00 l-value\ub85c \uc0ac\uc6a9\ub420 \ub54c\n",
      "- \ubcc0\uc218\uac00 r-value\ub85c \uc0ac\uc6a9\ub420 \ub54c \ud574\ub2f9 \ubcc0\uc218\uc758 \uac12\uc744 \ucc3e\ub294 \uc21c\uc11c \uaddc\uce59\n",
      "  - L --> G --> B"
     ]
    },
    {
     "cell_type": "markdown",
     "metadata": {},
     "source": [
      "### 6-1 \uc9c0\uc5ed\ubcc0\uc218\uc640 \uc804\uc5ed\ubcc0\uc218"
     ]
    },
    {
     "cell_type": "markdown",
     "metadata": {},
     "source": [
      "### 6-2 \ub0b4\uc7a5 \uc601\uc5ed\uc758 \uc774\ub984 \uc54c\uc544\ubcf4\uae30"
     ]
    },
    {
     "cell_type": "markdown",
     "metadata": {},
     "source": [
      "### 6-3 \uc911\ucca9 \uc601\uc5ed(Nested Scopes) \uc9c0\uc6d0(2.1)"
     ]
    },
    {
     "cell_type": "markdown",
     "metadata": {},
     "source": [
      "***\n",
      "## 07 \ud568\uc218 \uc778\uc218\n",
      "***"
     ]
    },
    {
     "cell_type": "markdown",
     "metadata": {},
     "source": [
      "### 7-1 \uae30\ubcf8 \uc778\uc218 \uac12"
     ]
    },
    {
     "cell_type": "markdown",
     "metadata": {},
     "source": [
      "### 7-2 \ud0a4\uc6cc\ub4dc \uc778\uc218"
     ]
    },
    {
     "cell_type": "markdown",
     "metadata": {},
     "source": [
      "### 7-3 \uac00\ubcc0 \uc778\uc218 \ub9ac\uc2a4\ud2b8"
     ]
    },
    {
     "cell_type": "markdown",
     "metadata": {},
     "source": [
      "### 7-4 \uc815\uc758\ub418\uc9c0 \uc54a\uc740 \ud0a4\uc6cc\ub4dc \uc778\uc218 \ucc98\ub9ac\ud558\uae30"
     ]
    },
    {
     "cell_type": "markdown",
     "metadata": {},
     "source": [
      "### 7-5 \ud29c\ud50c \uc778\uc218\uc640 \uc0ac\uc804 \uc778\uc218\ub85c \ud568\uc218 \ud638\ucd9c\ud558\uae30(2.0)"
     ]
    },
    {
     "cell_type": "markdown",
     "metadata": {},
     "source": [
      "***\n",
      "## 08 \ud55c \uc904 \uc9dc\ub9ac \ud568\uc218-\ub78c\ub2e4(lambda)\n",
      "***"
     ]
    },
    {
     "cell_type": "markdown",
     "metadata": {},
     "source": [
      "### 8-1 \ub78c\ub2e4 \ud568\uc218 \uc815\uc758\ud558\uae30"
     ]
    },
    {
     "cell_type": "markdown",
     "metadata": {},
     "source": [
      "### 8-2 \ub78c\ub2e4 \ud568\uc218 \uc0ac\uc6a9\ud558\uae30"
     ]
    },
    {
     "cell_type": "markdown",
     "metadata": {},
     "source": [
      "### 8-3 \uc8fc\uc758 \uc0ac\ud56d"
     ]
    },
    {
     "cell_type": "markdown",
     "metadata": {},
     "source": [
      "***\n",
      "## 09 \ud568\uc218\uc801 \ud504\ub85c\uadf8\ub798\ubc0d(map, filter, reduce)\n",
      "***\n",
      "- \ub0b4\uc7a5 \ud568\uc218 map, filter, reducre\n",
      "  - \uccab\ubc88\uc9f8 \uc778\uc790: function\n",
      "  - \ub450\ubc88\uc9f8 \uc778\uc790: \uc2dc\ud000\uc2a4 \uc790\ub8cc\ud615 (\ubb38\uc790\uc5f4, \ub9ac\uc2a4\ud2b8, \ud29c\ud50c)"
     ]
    },
    {
     "cell_type": "markdown",
     "metadata": {},
     "source": [
      "### 9-1 map \ub0b4\uc7a5 \ud568\uc218\n",
      "- map(function, seq)\n",
      "  - seq \uc2dc\ud000\uc2a4 \uc790\ub8cc\ud615\uc774 \uc9c0\ub2cc \uac01 \uc6d0\uc18c\uac12\ub4e4\uc5d0 \ub300\ud574 function\uc5d0 \uc801\uc6a9\ud55c \uacb0\uacfc\ub97c \ub3d9\uc77c \uc2dc\ud000\uc2a4 \uc790\ub8cc\ud615\uc73c\ub85c \ubc18\ud658\ud55c\ub2e4."
     ]
    },
    {
     "cell_type": "code",
     "collapsed": false,
     "input": [
      "def f(x):\n",
      "    return x * x\n",
      "\n",
      "X = [1, 2, 3, 4, 5]\n",
      "Y = map(f, X)\n",
      "print Y"
     ],
     "language": "python",
     "metadata": {},
     "outputs": [
      {
       "output_type": "stream",
       "stream": "stdout",
       "text": [
        "[1, 4, 9, 16, 25]\n"
       ]
      }
     ],
     "prompt_number": 22
    },
    {
     "cell_type": "markdown",
     "metadata": {},
     "source": [
      "- map \ub0b4\uc7a5 \ud568\uc218\ub97c \uc0ac\uc6a9\ud558\uc9c0 \uc54a\uc744 \ub54c \ucf54\ub4dc"
     ]
    },
    {
     "cell_type": "code",
     "collapsed": false,
     "input": [
      "def f(x):\n",
      "    return x * x\n",
      "\n",
      "X = [1, 2, 3, 4, 5]\n",
      "Y = []\n",
      "for x in X:\n",
      "    y = f(x)\n",
      "    Y.append(y)\n",
      "print Y"
     ],
     "language": "python",
     "metadata": {},
     "outputs": [
      {
       "output_type": "stream",
       "stream": "stdout",
       "text": [
        "[1, 4, 9, 16, 25]\n"
       ]
      }
     ],
     "prompt_number": 24
    },
    {
     "cell_type": "markdown",
     "metadata": {},
     "source": [
      "- map\uacfc \ub78c\ub2e4 \ud568\uc218\ub97c \ub3d9\uc2dc\uc5d0 \uc0ac\uc6a9\ud558\ub294 \ucf54\ub4dc (\uac00\uc7a5 \ucd94\ucc9c\ud558\ub294 \ucf54\ub4dc)"
     ]
    },
    {
     "cell_type": "code",
     "collapsed": false,
     "input": [
      "X = [1, 2, 3, 4, 5]\n",
      "print map(lambda x: x * x, X)"
     ],
     "language": "python",
     "metadata": {},
     "outputs": [
      {
       "output_type": "stream",
       "stream": "stdout",
       "text": [
        "[1, 4, 9, 16, 25]\n"
       ]
      }
     ],
     "prompt_number": 25
    },
    {
     "cell_type": "markdown",
     "metadata": {},
     "source": [
      "- X = range(10)\uc758 \ubaa8\ub4e0 \uac12 x\uc5d0 \ub300\ud574 f = x * x + 4 * x + 5\uc758 \uacc4\uc0b0 \uacb0\uacfc\ub97c \ub9ac\uc2a4\ud2b8\ub85c \uad6c\ud568"
     ]
    },
    {
     "cell_type": "code",
     "collapsed": false,
     "input": [
      "Y = map(lambda x: x * x + 4 * x + 5, range(10))\n",
      "print Y"
     ],
     "language": "python",
     "metadata": {},
     "outputs": [
      {
       "output_type": "stream",
       "stream": "stdout",
       "text": [
        "[5, 10, 17, 26, 37, 50, 65, 82, 101, 122]\n"
       ]
      }
     ],
     "prompt_number": 26
    },
    {
     "cell_type": "markdown",
     "metadata": {},
     "source": [
      "- map\ud568\uc218\uc5d0 \uc2dc\ud000\uc2a4 \uc790\ub8cc\ud615\uc744 \ub450 \uac1c \uc774\uc0c1 \ud560\ub2f9\ud560 \uc218 \uc788\ub2e4.\n",
      "  - \uc2dc\ud000\uc2a4 \uc790\ub8cc\ud615\uc774 n\uac1c \uc774\uba74 function\uc758 \uc778\uc790\ub3c4 n\uac1c \uc774\uc5b4\uc57c \ud568"
     ]
    },
    {
     "cell_type": "code",
     "collapsed": false,
     "input": [
      "Y1 = map(lambda x, y: x + y, [1, 2, 3, 4, 5], [6, 7, 8, 9, 10])\n",
      "Y2 = map(lambda x, y, z: x + y + z, [1, 2, 3], [4, 5, 6], [7, 8, 9])\n",
      "print Y1\n",
      "print Y2"
     ],
     "language": "python",
     "metadata": {},
     "outputs": [
      {
       "output_type": "stream",
       "stream": "stdout",
       "text": [
        "[7, 9, 11, 13, 15]\n",
        "[12, 15, 18]\n"
       ]
      }
     ],
     "prompt_number": 30
    },
    {
     "cell_type": "markdown",
     "metadata": {},
     "source": [
      "### 9-2 \uc21c\uc11c\uc30d \ub9cc\ub4e4\uae30(map, zip)"
     ]
    },
    {
     "cell_type": "markdown",
     "metadata": {},
     "source": [
      "- \ub450 \uac1c \uc774\uc0c1\uc758 \uc2dc\ud000\uc2a4 \uc790\ub8cc\ud615\ub4e4\uc5d0 \ub300\ud574 map \ud568\uc218\ub97c \uc0ac\uc6a9\ud558\uc5ec \uc21c\uc11c\uc30d \ub9cc\ub4e4\uae30\n",
      "  - function \uc778\uc790\ub97c None\uc73c\ub85c \ud560\ub2f9"
     ]
    },
    {
     "cell_type": "code",
     "collapsed": false,
     "input": [
      "a = ['a', 'b', 'c', 'd']\n",
      "b = [1, 2, 3, 4]\n",
      "map(None, a, b)"
     ],
     "language": "python",
     "metadata": {},
     "outputs": [
      {
       "metadata": {},
       "output_type": "pyout",
       "prompt_number": 44,
       "text": [
        "[('a', 1), ('b', 2), ('c', 3), ('d', 4)]"
       ]
      }
     ],
     "prompt_number": 44
    },
    {
     "cell_type": "code",
     "collapsed": false,
     "input": [
      "a = ['a', 'b', 'c', 'd']\n",
      "b = [1, 2, 3, 4]\n",
      "c = [5, 6, 7, 8]\n",
      "map(None, a, b, c)"
     ],
     "language": "python",
     "metadata": {},
     "outputs": [
      {
       "metadata": {},
       "output_type": "pyout",
       "prompt_number": 34,
       "text": [
        "[('a', 1, 5), ('b', 2, 6), ('c', 3, 7), ('d', 4, 8)]"
       ]
      }
     ],
     "prompt_number": 34
    },
    {
     "cell_type": "code",
     "collapsed": false,
     "input": [
      "a = ['a', 'b', 'c', 'd']\n",
      "b = (1, 2, 3, 4)\n",
      "c = [5, 6, 7, 8]\n",
      "d = {'a': 1, 'b': 2, 'c': 3, 'd': 4}\n",
      "map(None, a, b, c, d)"
     ],
     "language": "python",
     "metadata": {},
     "outputs": [
      {
       "metadata": {},
       "output_type": "pyout",
       "prompt_number": 35,
       "text": [
        "[('a', 1, 5, 'a'), ('b', 2, 6, 'c'), ('c', 3, 7, 'b'), ('d', 4, 8, 'd')]"
       ]
      }
     ],
     "prompt_number": 35
    },
    {
     "cell_type": "markdown",
     "metadata": {},
     "source": [
      "- \ub450 \uac1c\uc758 \uc2dc\ud000\uc2a4 \uc790\ub8cc\ud615\uc758 \uc6d0\uc18c\uc758 \uac1c\uc218\uac00 \ub2e4\ub974\uba74 \ubd80\uc871\ud55c \uc6d0\uc18c\uc5d0\ub294 None\uc744 \ud560\ub2f9"
     ]
    },
    {
     "cell_type": "code",
     "collapsed": false,
     "input": [
      "a = ['a', 'b']\n",
      "b = [1, 2, 3, 4]\n",
      "map(None, a, b)"
     ],
     "language": "python",
     "metadata": {},
     "outputs": [
      {
       "metadata": {},
       "output_type": "pyout",
       "prompt_number": 38,
       "text": [
        "[('a', 1), ('b', 2), (None, 3), (None, 4)]"
       ]
      }
     ],
     "prompt_number": 38
    },
    {
     "cell_type": "markdown",
     "metadata": {},
     "source": [
      "- \uc21c\uc11c\uc30d\uc744 \ub9cc\ub4dc\ub294 \uc804\uc6a9 \ub0b4\uc7a5 \ud568\uc218 zip\uc740 None\uc744 \ucd94\uac00\ud558\uc9c0 \uc54a\uace0 \uc9e7\uc740 \uc778\uc790\ub97c \uae30\uc900\uc73c\ub85c \ub098\uba38\uc9c0\ub294 \ubc84\ub9b0\ub2e4."
     ]
    },
    {
     "cell_type": "code",
     "collapsed": false,
     "input": [
      "a = ['a', 'b']\n",
      "b = [1, 2, 3, 4]\n",
      "zip(a, b)"
     ],
     "language": "python",
     "metadata": {},
     "outputs": [
      {
       "metadata": {},
       "output_type": "pyout",
       "prompt_number": 37,
       "text": [
        "[('a', 1), ('b', 2)]"
       ]
      }
     ],
     "prompt_number": 37
    },
    {
     "cell_type": "code",
     "collapsed": false,
     "input": [
      "zip([1, 2, 3], [4, 5, 6, 7, 8])"
     ],
     "language": "python",
     "metadata": {},
     "outputs": [
      {
       "metadata": {},
       "output_type": "pyout",
       "prompt_number": 43,
       "text": [
        "[(1, 4), (2, 5), (3, 6)]"
       ]
      }
     ],
     "prompt_number": 43
    },
    {
     "cell_type": "markdown",
     "metadata": {},
     "source": [
      "- \uc5ec\ub7ec \uac1c\uc758 \uc2dc\ud000\uc2a4 \uc790\ub8cc\ud615\uc73c\ub85c \uc21c\uc11c\uc30d \ub9cc\ub4e4\uae30"
     ]
    },
    {
     "cell_type": "code",
     "collapsed": false,
     "input": [
      "zip([1, 2, 3], [4, 5, 6], [7, 8, 9], [10, 11, 12])"
     ],
     "language": "python",
     "metadata": {},
     "outputs": [
      {
       "metadata": {},
       "output_type": "pyout",
       "prompt_number": 39,
       "text": [
        "[(1, 4, 7, 10), (2, 5, 8, 11), (3, 6, 9, 12)]"
       ]
      }
     ],
     "prompt_number": 39
    },
    {
     "cell_type": "markdown",
     "metadata": {},
     "source": [
      "- \uc2dc\ud000\uc2a4 \uc790\ub8cc\ud615\uc744 \uc6d0\uc18c\ub85c \uc9c0\ub2cc \ucee8\ud14c\uc774\ub108 \uc790\ub8cc\ud615\uc744 zip\uc5d0 \ub123\ub294 \ubc29\ubc95"
     ]
    },
    {
     "cell_type": "code",
     "collapsed": false,
     "input": [
      "a = [[1, 2, 3], [4, 5, 6]]\n",
      "print zip(*a)\n",
      "print\n",
      "\n",
      "b = [(1, 2, 3), (4, 5, 6)]\n",
      "print zip(*b)\n",
      "print\n",
      "\n",
      "c = ([1, 2, 3], [4, 5, 6])\n",
      "print zip(*c)\n",
      "print\n",
      "\n",
      "d = ((1, 2, 3), (4, 5, 6))\n",
      "print zip(*d)"
     ],
     "language": "python",
     "metadata": {},
     "outputs": [
      {
       "output_type": "stream",
       "stream": "stdout",
       "text": [
        "[(1, 4), (2, 5), (3, 6)]\n",
        "\n",
        "[(1, 4), (2, 5), (3, 6)]\n",
        "\n",
        "[(1, 4), (2, 5), (3, 6)]\n",
        "\n",
        "[(1, 4), (2, 5), (3, 6)]\n"
       ]
      }
     ],
     "prompt_number": 42
    },
    {
     "cell_type": "markdown",
     "metadata": {},
     "source": [
      "### 9-3 filter \ub0b4\uc7a5 \ud568\uc218\n",
      "- filter(function, seq)\n",
      "  - seq \uc2dc\ud000\uc2a4 \uc790\ub8cc\ud615\uc774 \uc9c0\ub2cc \uac01 \uc6d0\uc18c\uac12\ub4e4\uc5d0 \ub300\ud574 function\uc5d0 \uc801\uc6a9\ud55c \uacb0\uacfc\uac00 \ucc38\uc778 \uc6d0\uc18c\uac12\ub4e4\ub9cc\uc744 \ub3d9\uc77c \uc2dc\ud000\uc2a4 \uc790\ub8cc\ud615\uc73c\ub85c \ubc18\ud658\ud55c\ub2e4."
     ]
    },
    {
     "cell_type": "code",
     "collapsed": false,
     "input": [
      "filter(lambda x: x > 2, [1, 2, 3, 34])"
     ],
     "language": "python",
     "metadata": {},
     "outputs": [
      {
       "metadata": {},
       "output_type": "pyout",
       "prompt_number": 8,
       "text": [
        "[3, 34]"
       ]
      }
     ],
     "prompt_number": 8
    },
    {
     "cell_type": "markdown",
     "metadata": {},
     "source": [
      "- \uc704 \ucf54\ub4dc\ub294 \uc544\ub798\uc640 \ub3d9\uc77c\ud558\ub2e4."
     ]
    },
    {
     "cell_type": "code",
     "collapsed": false,
     "input": [
      "y = []\n",
      "for x in [1, 2, 3, 34]:\n",
      "    if x > 2:\n",
      "        y.append(x)\n",
      "print y"
     ],
     "language": "python",
     "metadata": {},
     "outputs": [
      {
       "output_type": "stream",
       "stream": "stdout",
       "text": [
        "[3, 34]\n"
       ]
      }
     ],
     "prompt_number": 12
    },
    {
     "cell_type": "markdown",
     "metadata": {},
     "source": [
      "- \uc8fc\uc5b4\uc9c4 \uc2dc\ud000\uc2a4 \ub0b4\uc5d0 \uc788\ub294 \uc815\uc218\uc911 \ud640\uc218\ub9cc \ud544\ud130\ub9c1"
     ]
    },
    {
     "cell_type": "code",
     "collapsed": false,
     "input": [
      "filter(lambda x: x % 2, [1, 2, 3, 4, 5, 6])"
     ],
     "language": "python",
     "metadata": {},
     "outputs": [
      {
       "metadata": {},
       "output_type": "pyout",
       "prompt_number": 9,
       "text": [
        "[1, 3, 5]"
       ]
      }
     ],
     "prompt_number": 9
    },
    {
     "cell_type": "markdown",
     "metadata": {},
     "source": [
      "- \uc8fc\uc5b4\uc9c4 \uc2dc\ud000\uc2a4 \ub0b4\uc5d0 \uc788\ub294 \uc815\uc218\uc911 \uc9dd\uc218\ub9cc \ud544\ud130\ub9c1"
     ]
    },
    {
     "cell_type": "code",
     "collapsed": false,
     "input": [
      "filter(lambda x: x % 2 - 1, [1, 2, 3, 4, 5, 6])"
     ],
     "language": "python",
     "metadata": {},
     "outputs": [
      {
       "metadata": {},
       "output_type": "pyout",
       "prompt_number": 11,
       "text": [
        "[2, 4, 6]"
       ]
      }
     ],
     "prompt_number": 11
    },
    {
     "cell_type": "markdown",
     "metadata": {},
     "source": [
      "- filter\uc758 \uacb0\uacfc\ub294 \uc8fc\uc5b4\uc9c4 seq \uc790\ub8cc\ud615\uacfc \ub3d9\uc77c\ud568"
     ]
    },
    {
     "cell_type": "code",
     "collapsed": false,
     "input": [
      "print filter(lambda x: x > 2, [1, 2, 3, 34])\n",
      "print filter(lambda x: x > 2, (1, 2, 3, 34))\n",
      "print filter(lambda x: x < 'a', 'abcABCdefDEF')"
     ],
     "language": "python",
     "metadata": {},
     "outputs": [
      {
       "output_type": "stream",
       "stream": "stdout",
       "text": [
        "[3, 34]\n",
        "(3, 34)\n",
        "ABCDEF\n"
       ]
      }
     ],
     "prompt_number": 17
    },
    {
     "cell_type": "markdown",
     "metadata": {},
     "source": [
      "- filter\uc758 \uccab \uc778\uc790\uc758 \ud568\uc218\ub97c None\uc744 \ud560\ub2f9\ud558\uba74 seq \uc790\ub8cc\ud615\uc5d0 \uc788\ub294 \uac01 \uc6d0\uc18c\uac12 \uc790\uccb4\ub4e4\uc744 \ucc38, \uac70\uc9d3\uac12\uc744 \ud310\ubcc4\ud558\uae30 \uc704\ud574 \uc0ac\uc6a9\ud55c\ub2e4."
     ]
    },
    {
     "cell_type": "code",
     "collapsed": false,
     "input": [
      "L = ['high', False, 'level', '', 'built-in', '', 'function', 0, 10]\n",
      "L = filter(None, L)\n",
      "print L"
     ],
     "language": "python",
     "metadata": {},
     "outputs": [
      {
       "output_type": "stream",
       "stream": "stdout",
       "text": [
        "['high', 'level', 'built-in', 'function', 10]\n"
       ]
      }
     ],
     "prompt_number": 20
    },
    {
     "cell_type": "markdown",
     "metadata": {},
     "source": [
      "### 9-4 reduce \ub0b4\uc7a5 \ud568\uc218\n",
      "- reduce (function, seq[, initial])\n",
      "  - seq \uc2dc\ud000\uc2a4 \uc790\ub8cc\ud615\uc774 \uc9c0\ub2cc \uc6d0\uc18c\uac12\ub4e4\uc5d0 \ub300\ud574 function \ud568\uc218\ub97c \uc801\uc6a9\ud558\uba74\uc11c \ud558\ub098\uc758 \uac12\uc73c\ub85c \ub9e4\ud551\ud55c\ub2e4.\n",
      "  - \uccab\ubc88\uc9f8 \uc778\uc790\uc778 function \ud568\uc218\ub294 \ubc18\ub4dc\uc2dc \ub450 \uac1c\uc758 \uc778\uc790 (\uc608\ub97c \ub4e4\uc5b4, x, y)\ub97c \ubc1b\uc544\uc57c \ud55c\ub2e4.\n",
      "    - seq \uc2dc\ud000\uc2a4 \uc790\ub8cc\ud615\uc758 \uac01 \uc6d0\uc18c\uac12\ub4e4\uc740 \uac01 \ub2e8\uacc4\ubcc4\ub85c y\uc5d0 \uc21c\ucc28\uc801\uc73c\ub85c \ub4e4\uc5b4\uac04\ub2e4. \n",
      "    - \ud568\uc218\uac00 \uc218\ud589\ub41c \uac12\uc740 \uac01 \ub2e8\uacc4\ubcc4\ub85c x\uc5d0 \uc21c\ucc28\uc801\uc73c\ub85c \ub4e4\uc5b4\uac04\ub2e4.\n",
      "  - \ucd94\uac00\uc801\uc73c\ub85c \uc81c\uacf5\uac00\ub2a5\ud55c \uc138\ubc88\uc9f8 \uc778\uc790\uc778 initial\uc740 \uccab\ubc88\uc9f8 \ub2e8\uacc4\uc5d0 x\uc5d0 \ud560\ub2f9\ud560 \ucd08\uae30\uac12\uc73c\ub85c \uc0ac\uc6a9\ub41c\ub2e4. "
     ]
    },
    {
     "cell_type": "code",
     "collapsed": false,
     "input": [
      "reduce(lambda x, y: x + y, [1, 2, 3, 4, 5])"
     ],
     "language": "python",
     "metadata": {},
     "outputs": [
      {
       "metadata": {},
       "output_type": "pyout",
       "prompt_number": 7,
       "text": [
        "15"
       ]
      }
     ],
     "prompt_number": 7
    },
    {
     "cell_type": "markdown",
     "metadata": {},
     "source": [
      "| \ub2e8\uacc4 | x | y | reduce  |\n",
      "|-----|---|---|---------|\n",
      "|  1  | 0 | 1 |    1    |\n",
      "|  2  | 1 | 2 |    3    |\n",
      "|  3  | 3 | 3 |    6    |\n",
      "|  4  | 6 | 4 |    10   |\n",
      "|  5  | 10| 5 |    15   | "
     ]
    },
    {
     "cell_type": "markdown",
     "metadata": {},
     "source": [
      "- initial \uac12 \ud560\ub2f9"
     ]
    },
    {
     "cell_type": "code",
     "collapsed": false,
     "input": [
      "reduce(lambda x, y: x + y, [1, 2, 3, 4, 5], 100)"
     ],
     "language": "python",
     "metadata": {},
     "outputs": [
      {
       "metadata": {},
       "output_type": "pyout",
       "prompt_number": 2,
       "text": [
        "115"
       ]
      }
     ],
     "prompt_number": 2
    },
    {
     "cell_type": "markdown",
     "metadata": {},
     "source": [
      "- 1\ubd80\ud130 10\uae4c\uc9c0 \uac01 \uc218\uc5d0 \ub300\ud55c \uc81c\uacf1\uac12\uc744 \ubaa8\ub450 \ub354\ud55c \uacb0\uacfc \uad6c\ud568"
     ]
    },
    {
     "cell_type": "code",
     "collapsed": false,
     "input": [
      "reduce(lambda x, y: x + y * y, range(1, 11), 0)"
     ],
     "language": "python",
     "metadata": {},
     "outputs": [
      {
       "metadata": {},
       "output_type": "pyout",
       "prompt_number": 5,
       "text": [
        "385"
       ]
      }
     ],
     "prompt_number": 5
    },
    {
     "cell_type": "code",
     "collapsed": false,
     "input": [
      "x = 0\n",
      "for y in range(1, 11):\n",
      "    x = x + y * y\n",
      "print x"
     ],
     "language": "python",
     "metadata": {},
     "outputs": [
      {
       "output_type": "stream",
       "stream": "stdout",
       "text": [
        "385\n"
       ]
      }
     ],
     "prompt_number": 13
    },
    {
     "cell_type": "markdown",
     "metadata": {},
     "source": [
      "- \ubb38\uc790\uc5f4 \uc21c\uc11c \ub4a4\uc9d1\uae30"
     ]
    },
    {
     "cell_type": "code",
     "collapsed": false,
     "input": [
      "reduce(lambda x, y: y + x, 'abcdefg')"
     ],
     "language": "python",
     "metadata": {},
     "outputs": [
      {
       "metadata": {},
       "output_type": "pyout",
       "prompt_number": 6,
       "text": [
        "'gfedcba'"
       ]
      }
     ],
     "prompt_number": 6
    },
    {
     "cell_type": "markdown",
     "metadata": {},
     "source": [
      "***\n",
      "## 10 \ud568\uc218 \uac1d\uccb4\uc758 \uc18d\uc131*\n",
      "***"
     ]
    },
    {
     "cell_type": "markdown",
     "metadata": {},
     "source": [
      "### 10-1 func_code"
     ]
    },
    {
     "cell_type": "markdown",
     "metadata": {},
     "source": [
      "***\n",
      "## 11 \uc7ac\uadc0\uc801 \ud504\ub85c\uadf8\ub798\ubc0d*\n",
      "***"
     ]
    },
    {
     "cell_type": "code",
     "collapsed": false,
     "input": [],
     "language": "python",
     "metadata": {},
     "outputs": []
    }
   ],
   "metadata": {}
  }
 ]
}