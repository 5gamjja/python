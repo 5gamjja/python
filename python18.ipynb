{
 "metadata": {
  "name": "",
  "signature": "sha256:528104945a592e3647c5cad3d761c502adc81704742c3cc55e0d70902f171950"
 },
 "nbformat": 3,
 "nbformat_minor": 0,
 "worksheets": [
  {
   "cells": [
    {
     "cell_type": "markdown",
     "metadata": {},
     "source": [
      "***\n",
      "***\n",
      "# 18. \ub514\ub809\ud1a0\ub9ac\uc640 \ud30c\uc77c \ub2e4\ub8e8\uae30\n",
      "***\n",
      "***"
     ]
    },
    {
     "cell_type": "markdown",
     "metadata": {},
     "source": [
      "***\n",
      "## 01 \ud30c\uc77c \ub2e4\ub8e8\uae30\n",
      "***"
     ]
    },
    {
     "cell_type": "markdown",
     "metadata": {},
     "source": [
      "### 1-1 \ud30c\uc77c \ubaa9\ub85d \uc5bb\uae30\n",
      "- \ub514\ub809\ud1a0\ub9ac \uc548\uc5d0 \ub4e4\uc5b4 \uc788\ub294 \uac01 \ud30c\uc77c \ubaa9\ub85d\uc744 \uc5bb\ub294 \ubc29\ubc95\n",
      "#### 1) glob \ubaa8\ub4c8 \uc774\uc6a9\ud558\uae30"
     ]
    },
    {
     "cell_type": "code",
     "collapsed": false,
     "input": [
      "import glob\n",
      "print glob.glob('*')\n",
      "print\n",
      "print glob.glob('[pa]*.ipynb')"
     ],
     "language": "python",
     "metadata": {},
     "outputs": [
      {
       "output_type": "stream",
       "stream": "stdout",
       "text": [
        "['assignment-1.ipynb', 'assignment-2.ipynb', 'assignment-3.ipynb', 'assignment-4.ipynb', 'docstring.pyc', 'examples', 'images', 'modfile.pyc', 'music', 'mymath.py', 'mymath.pyc', 'mymath02.pyc', 'myweb_backup', 'name_attr_test.pyc', 'pickle.txt', 'pickle2.txt', 'prname.py', 'prname.pyc', 'public_html', 'python01.ipynb', 'python02.ipynb', 'python03.ipynb', 'python04.ipynb', 'python05.ipynb', 'python06.ipynb', 'python07.ipynb', 'python08.ipynb', 'python09.ipynb', 'python10.ipynb', 'python11.ipynb', 'python12.ipynb', 'python13.ipynb', 'python14.ipynb', 'python18.ipynb', 'README.md', 'readme.txt', 'removeme.txt', 'sample.txt', 'Speech', 't.c', 't.lnk', 't.slnk', 't.txt', 't1.c', 't1.txt', 't2.txt', 't3.txt', 'teststring2.pyc']\n",
        "\n",
        "['assignment-1.ipynb', 'assignment-2.ipynb', 'assignment-3.ipynb', 'assignment-4.ipynb', 'python01.ipynb', 'python02.ipynb', 'python03.ipynb', 'python04.ipynb', 'python05.ipynb', 'python06.ipynb', 'python07.ipynb', 'python08.ipynb', 'python09.ipynb', 'python10.ipynb', 'python11.ipynb', 'python12.ipynb', 'python13.ipynb', 'python14.ipynb', 'python18.ipynb']\n"
       ]
      }
     ],
     "prompt_number": 4
    },
    {
     "cell_type": "code",
     "collapsed": false,
     "input": [
      "import os\n",
      "\n",
      "print os.listdir('.') #\ud604\uc7ac \ub514\ub809\ud1a0\ub9ac\uc758 \ud30c\uc77c \ubaa9\ub85d \uc5bb\uae30"
     ],
     "language": "python",
     "metadata": {},
     "outputs": [
      {
       "output_type": "stream",
       "stream": "stdout",
       "text": [
        "['.DS_Store', '.git', '.gitignore', '.ipynb_checkpoints', 'assignment-1.ipynb', 'assignment-2.ipynb', 'assignment-3.ipynb', 'assignment-4.ipynb', 'docstring.pyc', 'examples', 'images', 'modfile.pyc', 'music', 'mymath.py', 'mymath.pyc', 'mymath02.pyc', 'name_attr_test.pyc', 'pickle.txt', 'pickle2.txt', 'prname.py', 'prname.pyc', 'python01.ipynb', 'python02.ipynb', 'python03.ipynb', 'python04.ipynb', 'python05.ipynb', 'python06.ipynb', 'python07.ipynb', 'python08.ipynb', 'python09.ipynb', 'python10.ipynb', 'python11.ipynb', 'python12.ipynb', 'python13.ipynb', 'python14.ipynb', 'python18.ipynb', 'README.md', 'removeme.txt', 'sample.txt', 'Speech', 't.txt', 't1.txt', 't2.txt', 't3.txt', 'teststring2.pyc']\n"
       ]
      }
     ],
     "prompt_number": 6
    },
    {
     "cell_type": "code",
     "collapsed": false,
     "input": [
      "import dircache\n",
      "a = dircache.listdir('/') #\ub514\ub809\ud1a0\ub9ac \ubaa9\ub85d\uc744 a\uc5d0 \uc800\uc7a5\ud55c\ub2e4.\n",
      "print a\n",
      "print \n",
      "dircache.annotate('/', a) #\ub514\ub809\ud1a0\ub9ac \ud30c\uc77c\uba85 \ub4a4\uc5d0 '/'\ub97c \ucd94\uac00\ud55c\ub2e4.\n",
      "print a"
     ],
     "language": "python",
     "metadata": {},
     "outputs": [
      {
       "output_type": "stream",
       "stream": "stdout",
       "text": [
        "['.DocumentRevisions-V100/', '.Spotlight-V100/', '.Trashes/', '.dbfseventsd', '.file', '.fseventsd/', '.vol/', 'Applications/', 'Library/', 'Network/', 'System/', 'Users/', 'Volumes/', 'betweenness.py', 'bin/', 'cores/', 'dev/', 'efi/', 'etc/', 'home/', 'mach_kernel', 'mymath.py', 'net/', 'opt/', 'private/', 'python 2.ipynb', 'python.ipynb', 'sbin/', 'tmp/', 'usr/', 'var/']\n",
        "\n",
        "['.DocumentRevisions-V100//', '.Spotlight-V100//', '.Trashes//', '.dbfseventsd', '.file', '.fseventsd//', '.vol//', 'Applications//', 'Library//', 'Network//', 'System//', 'Users//', 'Volumes//', 'betweenness.py', 'bin//', 'cores//', 'dev//', 'efi//', 'etc//', 'home//', 'mach_kernel', 'mymath.py', 'net//', 'opt//', 'private//', 'python 2.ipynb', 'python.ipynb', 'sbin//', 'tmp//', 'usr//', 'var//']\n"
       ]
      }
     ],
     "prompt_number": 8
    },
    {
     "cell_type": "markdown",
     "metadata": {},
     "source": [
      "### 1-2 \ud30c\uc77c \uc885\ub958 \uc54c\uc544\ubcf4\uae30"
     ]
    },
    {
     "cell_type": "code",
     "collapsed": false,
     "input": [
      "import os\n",
      "def filetype(fpath):\n",
      "    print fpath, ':',\n",
      "    if os.path.isfile(fpath):\n",
      "        print 'Regular file'\n",
      "    if os.path.isdir(fpath):\n",
      "        print 'Directory'\n",
      "    if os.path.islink(fpath):\n",
      "        print 'Symbolic link'\n",
      "    if os.path.ismount(fpath):\n",
      "        print 'Mount point'\n",
      "        \n",
      "flist = glob.glob('*')\n",
      "for fname in flist:\n",
      "    filetype(fname)"
     ],
     "language": "python",
     "metadata": {},
     "outputs": [
      {
       "output_type": "stream",
       "stream": "stdout",
       "text": [
        "assignment-1.ipynb : Regular file\n",
        "assignment-2.ipynb : Regular file\n",
        "assignment-3.ipynb : Regular file\n",
        "assignment-4.ipynb : Regular file\n",
        "docstring.pyc : Regular file\n",
        "examples : Directory\n",
        "images : Directory\n",
        "modfile.pyc : Regular file\n",
        "music : Regular file\n",
        "mymath.py : Regular file\n",
        "mymath.pyc : Regular file\n",
        "mymath02.pyc : Regular file\n",
        "name_attr_test.pyc : Regular file\n",
        "pickle.txt : Regular file\n",
        "pickle2.txt : Regular file\n",
        "prname.py : Regular file\n",
        "prname.pyc : Regular file\n",
        "python01.ipynb : Regular file\n",
        "python02.ipynb : Regular file\n",
        "python03.ipynb : Regular file\n",
        "python04.ipynb : Regular file\n",
        "python05.ipynb : Regular file\n",
        "python06.ipynb : Regular file\n",
        "python07.ipynb : Regular file\n",
        "python08.ipynb : Regular file\n",
        "python09.ipynb : Regular file\n",
        "python10.ipynb : Regular file\n",
        "python11.ipynb : Regular file\n",
        "python12.ipynb : Regular file\n",
        "python13.ipynb : Regular file\n",
        "python14.ipynb : Regular file\n",
        "python18.ipynb : Regular file\n",
        "README.md : Regular file\n",
        "removeme.txt : Regular file\n",
        "sample.txt : Regular file\n",
        "Speech : Directory\n",
        "t.txt : Regular file\n",
        "t1.txt : Regular file\n",
        "t2.txt : Regular file\n",
        "t3.txt : Regular file\n",
        "teststring2.pyc : Regular file\n"
       ]
      }
     ],
     "prompt_number": 9
    },
    {
     "cell_type": "markdown",
     "metadata": {},
     "source": [
      "### 1-3 \ud30c\uc77c\uc758 \ud5c8\uac00\uad8c"
     ]
    },
    {
     "cell_type": "code",
     "collapsed": false,
     "input": [
      "import os, glob\n",
      "def fileaccess(fpath):\n",
      "    print fpath, ':',\n",
      "    if os.access(fpath, os.F_OK): print 'Exists',\n",
      "    else: return\n",
      "    if os.access(fpath, os.R_OK): print 'R',\n",
      "    if os.access(fpath, os.W_OK): print 'W',\n",
      "    if os.access(fpath, os.X_OK): print 'X',\n",
      "    print \n",
      "    \n",
      "flist = glob.glob('*')\n",
      "for fname in flist:\n",
      "    fileaccess(fname)\n",
      "    "
     ],
     "language": "python",
     "metadata": {},
     "outputs": [
      {
       "output_type": "stream",
       "stream": "stdout",
       "text": [
        "assignment-1.ipynb : Exists R W\n",
        "assignment-2.ipynb : Exists R W\n",
        "assignment-3.ipynb : Exists R W\n",
        "assignment-4.ipynb : Exists R W\n",
        "docstring.pyc : Exists R W\n",
        "examples : Exists R W X\n",
        "images : Exists R W X\n",
        "modfile.pyc : Exists R W\n",
        "music : Exists R W\n",
        "mymath.py : Exists R W\n",
        "mymath.pyc : Exists R W\n",
        "mymath02.pyc : Exists R W\n",
        "name_attr_test.pyc : Exists R W\n",
        "pickle.txt : Exists R W\n",
        "pickle2.txt : Exists R W\n",
        "prname.py : Exists R W\n",
        "prname.pyc : Exists R W\n",
        "python01.ipynb : Exists R W\n",
        "python02.ipynb : Exists R W\n",
        "python03.ipynb : Exists R W\n",
        "python04.ipynb : Exists R W\n",
        "python05.ipynb : Exists R W\n",
        "python06.ipynb : Exists R W\n",
        "python07.ipynb : Exists R W\n",
        "python08.ipynb : Exists R W\n",
        "python09.ipynb : Exists R W\n",
        "python10.ipynb : Exists R W\n",
        "python11.ipynb : Exists R W\n",
        "python12.ipynb : Exists R W\n",
        "python13.ipynb : Exists R W\n",
        "python14.ipynb : Exists R W\n",
        "python18.ipynb : Exists R W\n",
        "README.md : Exists R W\n",
        "removeme.txt : Exists R W\n",
        "sample.txt : Exists R W\n",
        "Speech : Exists R W X\n",
        "t.txt : Exists R W\n",
        "t1.txt : Exists R W\n",
        "t2.txt : Exists R W\n",
        "t3.txt : Exists R W\n",
        "teststring2.pyc : Exists R W\n"
       ]
      }
     ],
     "prompt_number": 10
    },
    {
     "cell_type": "code",
     "collapsed": false,
     "input": [
      "os.access('tags', os.R_OK | os.W_OK | os.X_OK) #\uc77d\uae30, \uc4f0\uae30, \uc2e4\ud589 \uad8c\ud55c \ubaa8\ub450\uac00 \uc788\ub2e4\uba74 1\uc744 \ub9ac\ud134"
     ],
     "language": "python",
     "metadata": {},
     "outputs": [
      {
       "metadata": {},
       "output_type": "pyout",
       "prompt_number": 13,
       "text": [
        "False"
       ]
      }
     ],
     "prompt_number": 13
    },
    {
     "cell_type": "code",
     "collapsed": false,
     "input": [
      "os.access('tags', os.R_OK | os.W_OK)"
     ],
     "language": "python",
     "metadata": {},
     "outputs": [
      {
       "metadata": {},
       "output_type": "pyout",
       "prompt_number": 12,
       "text": [
        "False"
       ]
      }
     ],
     "prompt_number": 12
    },
    {
     "cell_type": "code",
     "collapsed": false,
     "input": [
      "os.chmod('t.c', 0777) #\ub9ac\ub205\uc2a4\uc5d0\uc11c\uc758 \uc2e4\ud589 \uc608"
     ],
     "language": "python",
     "metadata": {},
     "outputs": [],
     "prompt_number": 14
    },
    {
     "cell_type": "markdown",
     "metadata": {},
     "source": [
      "### 1-4 \ud30c\uc77c \uc870\uc791\ud558\uae30"
     ]
    },
    {
     "cell_type": "code",
     "collapsed": false,
     "input": [
      "os.rename('t.c', 't1.c') #t.c\ub97c t1.c\ub85c \ubc14\uafbc\ub2e4"
     ],
     "language": "python",
     "metadata": {},
     "outputs": [],
     "prompt_number": 21
    },
    {
     "cell_type": "code",
     "collapsed": false,
     "input": [
      "os.rename('t1.c', 'public_html/t1.c') #\ud604\uc7ac \uc791\uc5c5 \ub514\ub809\ud1a0\ub9ac\uc758 t1.c\ub97c public_html\uc5d0 t1.c\uc774\ub984\uc73c\ub85c \uc62e\uae34\ub2e4."
     ],
     "language": "python",
     "metadata": {},
     "outputs": [],
     "prompt_number": 22
    },
    {
     "cell_type": "code",
     "collapsed": false,
     "input": [
      "import shutil\n",
      "shutil.copyfile('t.c', 't1.c') #t.c -> t1.c"
     ],
     "language": "python",
     "metadata": {},
     "outputs": [],
     "prompt_number": 24
    },
    {
     "cell_type": "markdown",
     "metadata": {},
     "source": [
      "### 1-5 \ub9c1\ud06c \ud30c\uc77c"
     ]
    },
    {
     "cell_type": "code",
     "collapsed": false,
     "input": [
      "os.link('t.c', 't.lnk')"
     ],
     "language": "python",
     "metadata": {},
     "outputs": [],
     "prompt_number": 25
    },
    {
     "cell_type": "code",
     "collapsed": false,
     "input": [
      "os.symlink('t.c', 't.slnk')"
     ],
     "language": "python",
     "metadata": {},
     "outputs": [],
     "prompt_number": 26
    },
    {
     "cell_type": "code",
     "collapsed": false,
     "input": [
      "os.readlink('t.slnk')"
     ],
     "language": "python",
     "metadata": {},
     "outputs": []
    },
    {
     "cell_type": "markdown",
     "metadata": {},
     "source": [
      "### 1-6 \ud30c\uc77c\uc758 \uc811\uadfc/\uc218\uc815 \uc2dc\uac04 \uc124\uc815\ud558\uae30"
     ]
    },
    {
     "cell_type": "code",
     "collapsed": false,
     "input": [
      "import os\n",
      "import time\n",
      "os.utime('t.txt', None) #\ud604\uc7ac \uc2dc\uac04\uc73c\ub85c \uc811\uadfc \uc2dc\uac04\uacfc \uc218\uc815 \uc2dc\uac04\uc744 \uc124\uc815\ud55c\ub2e4.\n",
      "\n",
      "atime = time.time()\n",
      "mtime = atime - 60 * 60\n",
      "os.utime('t.txt', (atime, mtime)) #\uc811\uadfc \uc2dc\uac04\uc740 \ud604\uc7ac \uc2dc\uac04, \uc218\uc815 \uc2dc\uac04\uc740 1\uc2dc\uac04 \uc804\uc73c\ub85c \uc124\uc815"
     ],
     "language": "python",
     "metadata": {},
     "outputs": [],
     "prompt_number": 4
    },
    {
     "cell_type": "code",
     "collapsed": false,
     "input": [
      "import os, stat\n",
      "import time\n",
      "atime = os.stat('t.txt')[stat.ST_ATIME] #\uc811\uadfc \uc2dc\uac04 \uc77d\uc5b4\uc624\uae30\n",
      "mtime = os.stat('t.txt')[stat.ST_MTIME] #\uc218\uc815 \uc2dc\uac04 \uc77d\uc5b4\uc624\uae30\n",
      "print atime #\uc22b\uc790\ub85c\ub41c \uc2dc\uac04\n",
      "print mtime\n",
      "print\n",
      "print time.ctime(atime) #\ubb38\uc790\uc5f4\ub85c \ubcc0\ud658\n",
      "print time.ctime(mtime)"
     ],
     "language": "python",
     "metadata": {},
     "outputs": [
      {
       "output_type": "stream",
       "stream": "stdout",
       "text": [
        "1416295900\n",
        "1416292300\n",
        "\n",
        "Tue Nov 18 16:31:40 2014\n",
        "Tue Nov 18 15:31:40 2014\n"
       ]
      }
     ],
     "prompt_number": 7
    },
    {
     "cell_type": "markdown",
     "metadata": {},
     "source": [
      "### 1-7 \ud30c\uc77c \uc18c\uc720\uc790"
     ]
    },
    {
     "cell_type": "code",
     "collapsed": false,
     "input": [
      "os.chown('t.c', 501, 101) #root\ub9cc \uc0ac\uc6a9 \uac00\ub2a5"
     ],
     "language": "python",
     "metadata": {},
     "outputs": [
      {
       "ename": "OSError",
       "evalue": "[Errno 1] Operation not permitted: 't.c'",
       "output_type": "pyerr",
       "traceback": [
        "\u001b[0;31m---------------------------------------------------------------------------\u001b[0m\n\u001b[0;31mOSError\u001b[0m                                   Traceback (most recent call last)",
        "\u001b[0;32m<ipython-input-10-0b7740b0eedd>\u001b[0m in \u001b[0;36m<module>\u001b[0;34m()\u001b[0m\n\u001b[0;32m----> 1\u001b[0;31m \u001b[0mos\u001b[0m\u001b[0;34m.\u001b[0m\u001b[0mchown\u001b[0m\u001b[0;34m(\u001b[0m\u001b[0;34m't.c'\u001b[0m\u001b[0;34m,\u001b[0m \u001b[0;36m501\u001b[0m\u001b[0;34m,\u001b[0m \u001b[0;36m101\u001b[0m\u001b[0;34m)\u001b[0m \u001b[0;31m#root\ub9cc \uc0ac\uc6a9 \uac00\ub2a5\u001b[0m\u001b[0;34m\u001b[0m\u001b[0m\n\u001b[0m",
        "\u001b[0;31mOSError\u001b[0m: [Errno 1] Operation not permitted: 't.c'"
       ]
      }
     ],
     "prompt_number": 10
    },
    {
     "cell_type": "code",
     "collapsed": false,
     "input": [
      "import stat\n",
      "os.stat('t.c')[stat.ST_UID]"
     ],
     "language": "python",
     "metadata": {},
     "outputs": [
      {
       "metadata": {},
       "output_type": "pyout",
       "prompt_number": 11,
       "text": [
        "501"
       ]
      }
     ],
     "prompt_number": 11
    },
    {
     "cell_type": "markdown",
     "metadata": {},
     "source": [
      "### 1-8 \uc784\uc2dc \ud30c\uc77c\uc774\ub984 \uc0dd\uc131\ud558\uae30"
     ]
    },
    {
     "cell_type": "code",
     "collapsed": false,
     "input": [
      "import tempfile\n",
      "tempfile.mktemp()"
     ],
     "language": "python",
     "metadata": {},
     "outputs": [
      {
       "metadata": {},
       "output_type": "pyout",
       "prompt_number": 12,
       "text": [
        "'/var/folders/3y/ym9f_mwj2lx_8h6q9n94vgxm0000gn/T/tmpjlSgFO'"
       ]
      }
     ],
     "prompt_number": 12
    },
    {
     "cell_type": "markdown",
     "metadata": {},
     "source": [
      "***\n",
      "## 02 \ud30c\uc77c\uc5d0 \uad00\ud55c \uc815\ubcf4 \uc54c\uc544\ub0b4\uae30\n",
      "***"
     ]
    },
    {
     "cell_type": "code",
     "collapsed": false,
     "input": [
      "print os.stat('t.c')"
     ],
     "language": "python",
     "metadata": {},
     "outputs": [
      {
       "output_type": "stream",
       "stream": "stdout",
       "text": [
        "posix.stat_result(st_mode=33188, st_ino=13008344, st_dev=16777218L, st_nlink=2, st_uid=501, st_gid=20, st_size=3, st_atime=1416295654, st_mtime=1416287052, st_ctime=1416295668)\n"
       ]
      }
     ],
     "prompt_number": 14
    },
    {
     "cell_type": "code",
     "collapsed": false,
     "input": [
      "import stat\n",
      "\n",
      "print os.stat('t.c')[stat.ST_INO] #Inode\ubc88\ud638\n",
      "print os.stat('t.c')[stat.ST_UID] #\uc0ac\uc6a9\uc790 ID\n",
      "print os.stat('t.c')[stat.ST_SIZE] #\ud30c\uc77c \ud06c\uae30\n",
      "\n",
      "\n",
      "\n"
     ],
     "language": "python",
     "metadata": {},
     "outputs": [
      {
       "output_type": "stream",
       "stream": "stdout",
       "text": [
        "13008344\n",
        "501\n",
        "3\n"
       ]
      }
     ],
     "prompt_number": 15
    },
    {
     "cell_type": "code",
     "collapsed": false,
     "input": [
      "mode = os.stat('t.c')[stat.ST_MODE]\n",
      "stat.S_ISDIR(mode)"
     ],
     "language": "python",
     "metadata": {},
     "outputs": [
      {
       "metadata": {},
       "output_type": "pyout",
       "prompt_number": 16,
       "text": [
        "False"
       ]
      }
     ],
     "prompt_number": 16
    },
    {
     "cell_type": "markdown",
     "metadata": {},
     "source": [
      "***\n",
      "## 03 \ub514\ub809\ud1a0\ub9ac \ub2e4\ub8e8\uae30\n",
      "***"
     ]
    },
    {
     "cell_type": "markdown",
     "metadata": {},
     "source": [
      "### 3-1 \ub514\ub809\ud1a0\ub9ac\uc5d0 \uad00\ub828\ub41c \uc77c\ubc18 \uc791\uc5c5"
     ]
    },
    {
     "cell_type": "code",
     "collapsed": false,
     "input": [
      "os.chdir('/home')"
     ],
     "language": "python",
     "metadata": {},
     "outputs": [],
     "prompt_number": 17
    },
    {
     "cell_type": "code",
     "collapsed": false,
     "input": [
      "os.getcwd()"
     ],
     "language": "python",
     "metadata": {},
     "outputs": [
      {
       "metadata": {},
       "output_type": "pyout",
       "prompt_number": 19,
       "text": [
        "'/home'"
       ]
      }
     ],
     "prompt_number": 19
    },
    {
     "cell_type": "code",
     "collapsed": false,
     "input": [
      "import os\n",
      "\n",
      "os.mkdir('temp') #0777 \uae30\ubcf8 \ubaa8\ub4dc(rwxrwxrwx)\ub85c \ub9cc\ub4e4\uc5b4\uc9d0\n",
      "os.mkdir('temp2', 0700) #0700 \ubaa8\ub4dc(rwx------)\ub85c \ub9cc\ub4e4\uc5b4\uc9d0\n",
      "os.makedirs('temp/level1/level2') #0777 \uae30\ubcf8 \ubaa8\ub4dc, \uc911\uac04\uc5d0 \ud544\uc694\ud55c \ub514\ub809\ud1a0\ub9ac\ub3c4 \ubaa8\ub450\uc0dd\uc131"
     ],
     "language": "python",
     "metadata": {},
     "outputs": [],
     "prompt_number": 12
    },
    {
     "cell_type": "code",
     "collapsed": false,
     "input": [
      "os.rmdir('temp2') #\ub514\ub809\ud1a0\ub9ac\uc5d0 \ub0b4\uc6a9\uc774 \uc5c6\uc744 \ub54c \uc0ad\uc81c\uac00\ub2a5"
     ],
     "language": "python",
     "metadata": {},
     "outputs": [],
     "prompt_number": 7
    },
    {
     "cell_type": "code",
     "collapsed": false,
     "input": [
      "os.rmdir('temp') #\ub514\ub809\ud1a0\ub9ac\uc5d0 \ub2e4\ub978 \ud30c\uc77c\uc774 \uc788\uc73c\uba74 \uc0ad\uc81c\ud560 \uc218 \uc5c6\uc74c"
     ],
     "language": "python",
     "metadata": {},
     "outputs": [
      {
       "ename": "OSError",
       "evalue": "[Errno 66] Directory not empty: 'temp'",
       "output_type": "pyerr",
       "traceback": [
        "\u001b[0;31m---------------------------------------------------------------------------\u001b[0m\n\u001b[0;31mOSError\u001b[0m                                   Traceback (most recent call last)",
        "\u001b[0;32m<ipython-input-8-cb2ef2e59e2c>\u001b[0m in \u001b[0;36m<module>\u001b[0;34m()\u001b[0m\n\u001b[0;32m----> 1\u001b[0;31m \u001b[0mos\u001b[0m\u001b[0;34m.\u001b[0m\u001b[0mrmdir\u001b[0m\u001b[0;34m(\u001b[0m\u001b[0;34m'temp'\u001b[0m\u001b[0;34m)\u001b[0m \u001b[0;31m#\ub514\ub809\ud1a0\ub9ac\uc5d0 \ub2e4\ub978 \ud30c\uc77c\uc774 \uc788\uc73c\uba74 \uc0ad\uc81c\ud560 \uc218 \uc5c6\uc74c\u001b[0m\u001b[0;34m\u001b[0m\u001b[0m\n\u001b[0m",
        "\u001b[0;31mOSError\u001b[0m: [Errno 66] Directory not empty: 'temp'"
       ]
      }
     ],
     "prompt_number": 8
    },
    {
     "cell_type": "code",
     "collapsed": false,
     "input": [
      "os.removedirs('level1/level2')"
     ],
     "language": "python",
     "metadata": {},
     "outputs": [
      {
       "ename": "OSError",
       "evalue": "[Errno 66] Directory not empty: 'level1/level2'",
       "output_type": "pyerr",
       "traceback": [
        "\u001b[0;31m---------------------------------------------------------------------------\u001b[0m\n\u001b[0;31mOSError\u001b[0m                                   Traceback (most recent call last)",
        "\u001b[0;32m<ipython-input-14-1f6a0e4f4d7f>\u001b[0m in \u001b[0;36m<module>\u001b[0;34m()\u001b[0m\n\u001b[0;32m----> 1\u001b[0;31m \u001b[0mos\u001b[0m\u001b[0;34m.\u001b[0m\u001b[0mremovedirs\u001b[0m\u001b[0;34m(\u001b[0m\u001b[0;34m'level1/level2'\u001b[0m\u001b[0;34m)\u001b[0m\u001b[0;34m\u001b[0m\u001b[0m\n\u001b[0m",
        "\u001b[0;32m/Applications/Canopy.app/appdata/canopy-1.4.1.1975.macosx-x86_64/Canopy.app/Contents/lib/python2.7/os.pyc\u001b[0m in \u001b[0;36mremovedirs\u001b[0;34m(name)\u001b[0m\n\u001b[1;32m    168\u001b[0m \u001b[0;34m\u001b[0m\u001b[0m\n\u001b[1;32m    169\u001b[0m     \"\"\"\n\u001b[0;32m--> 170\u001b[0;31m     \u001b[0mrmdir\u001b[0m\u001b[0;34m(\u001b[0m\u001b[0mname\u001b[0m\u001b[0;34m)\u001b[0m\u001b[0;34m\u001b[0m\u001b[0m\n\u001b[0m\u001b[1;32m    171\u001b[0m     \u001b[0mhead\u001b[0m\u001b[0;34m,\u001b[0m \u001b[0mtail\u001b[0m \u001b[0;34m=\u001b[0m \u001b[0mpath\u001b[0m\u001b[0;34m.\u001b[0m\u001b[0msplit\u001b[0m\u001b[0;34m(\u001b[0m\u001b[0mname\u001b[0m\u001b[0;34m)\u001b[0m\u001b[0;34m\u001b[0m\u001b[0m\n\u001b[1;32m    172\u001b[0m     \u001b[0;32mif\u001b[0m \u001b[0;32mnot\u001b[0m \u001b[0mtail\u001b[0m\u001b[0;34m:\u001b[0m\u001b[0;34m\u001b[0m\u001b[0m\n",
        "\u001b[0;31mOSError\u001b[0m: [Errno 66] Directory not empty: 'level1/level2'"
       ]
      }
     ],
     "prompt_number": 14
    },
    {
     "cell_type": "code",
     "collapsed": false,
     "input": [
      "import shutil\n",
      "shutil.rmtree('temp') #shutil \ubaa8\ub4c8\uc758 rmtree()\ub97c \uc774\uc6a9\ud558\uba74 \ud558\uc704\ud30c\uc77c, \ub514\ub809\ud1a0\ub9ac\ub97c \ud55c \ubc88\uc5d0 \uc0ad\uc81c\ud568(\uc870\uc2ec\ud574\uc11c \uc0ac\uc6a9\ud560 \uac83!!!)"
     ],
     "language": "python",
     "metadata": {},
     "outputs": [],
     "prompt_number": 15
    },
    {
     "cell_type": "code",
     "collapsed": false,
     "input": [
      "shutil.copytree('public_html', 'myweb_backup') #public_html\ub514\ub809\ud1a0\ub9ac\ub97c myweb_backup\ub514\ub809\ud1a0\ub9ac\ub85c \ubcf5\uc0ac"
     ],
     "language": "python",
     "metadata": {},
     "outputs": [],
     "prompt_number": 16
    },
    {
     "cell_type": "markdown",
     "metadata": {},
     "source": [
      "### 3-2 \ub514\ub809\ud1a0\ub9ac(\ud2b8\ub9ac) \ud0d0\uc0c9\ud558\uae30"
     ]
    },
    {
     "cell_type": "code",
     "collapsed": false,
     "input": [
      "import os\n",
      "for root, dirs, files in os.walk(\"/Soo-jin/python/myweb_backup\"):\n",
      "    for fname in files:\n",
      "        if fname.endswith('.bak'):\n",
      "            fullpath = os.path.join(root, fname)\n",
      "            print 'removing', fullpath\n",
      "            os.remove(fullpath)"
     ],
     "language": "python",
     "metadata": {},
     "outputs": [],
     "prompt_number": 21
    },
    {
     "cell_type": "code",
     "collapsed": false,
     "input": [
      "for root, dirs, files in os.walk(\"/Soo-jin/python/myweb_backup\"):\n",
      "    print '%s files in %s' %(len(files), root) #\ub514\ub809\ud1a0\ub9ac\uc5d0 \uc788\ub294 \ud30c\uc77c \uc218\ucd9c\ub825\n",
      "    if 'CVS' in dirs:\n",
      "        dirs.remove('CVS') #\ub0a8\uc544 \uc788\ub294 dirs \uc11c\ube0c \ub514\ub809\ud1a0\ub9ac\uc5d0 \ub300\ud574\uc11c\ub9cc \ubc29\ubb38"
     ],
     "language": "python",
     "metadata": {},
     "outputs": [],
     "prompt_number": 24
    },
    {
     "cell_type": "code",
     "collapsed": false,
     "input": [
      "for root, dirs, files in os.walk(\"/Soo-jin/python/myweb_backup\"):\n",
      "    print '%s files in %s' % (len(files), root) #\ub514\ub809\ud1a0\ub9ac\uc5d0 \uc788\ub294 \ud30c\uc77c \uc218 \ucd9c\ub825"
     ],
     "language": "python",
     "metadata": {},
     "outputs": [],
     "prompt_number": 26
    },
    {
     "cell_type": "markdown",
     "metadata": {},
     "source": [
      "***\n",
      "## 04 \ud30c\uc77c \uc774\ub984 \ub2e4\ub8e8\uae30\n",
      "***"
     ]
    },
    {
     "cell_type": "markdown",
     "metadata": {},
     "source": [
      "### 4-1 \ud30c\uc77c\uacfc \uad00\ub828\ub41c \uc77c\ubc18 \uc791\uc5c5"
     ]
    },
    {
     "cell_type": "code",
     "collapsed": false,
     "input": [
      "import os\n",
      "os.path.abspath('t.txt')"
     ],
     "language": "python",
     "metadata": {},
     "outputs": [
      {
       "metadata": {},
       "output_type": "pyout",
       "prompt_number": 27,
       "text": [
        "'/Users/Soo-Jin/python/t.txt'"
       ]
      }
     ],
     "prompt_number": 27
    },
    {
     "cell_type": "code",
     "collapsed": false,
     "input": [
      "f = '/Users/Soo-Jin/python/t.txt'\n",
      "print os.path.exists(f)\n",
      "print os.path.exists('asdf.txt')"
     ],
     "language": "python",
     "metadata": {},
     "outputs": [
      {
       "output_type": "stream",
       "stream": "stdout",
       "text": [
        "True\n",
        "False\n"
       ]
      }
     ],
     "prompt_number": 30
    },
    {
     "cell_type": "code",
     "collapsed": false,
     "input": [
      "import os\n",
      "os.path.expanduser('~/t.txt')"
     ],
     "language": "python",
     "metadata": {},
     "outputs": [
      {
       "metadata": {},
       "output_type": "pyout",
       "prompt_number": 31,
       "text": [
        "'/Users/Soo-Jin/t.txt'"
       ]
      }
     ],
     "prompt_number": 31
    },
    {
     "cell_type": "code",
     "collapsed": false,
     "input": [
      "os.path.expandvars('$HOME/t.txt')"
     ],
     "language": "python",
     "metadata": {},
     "outputs": [
      {
       "metadata": {},
       "output_type": "pyout",
       "prompt_number": 32,
       "text": [
        "'/Users/Soo-Jin/t.txt'"
       ]
      }
     ],
     "prompt_number": 32
    },
    {
     "cell_type": "code",
     "collapsed": false,
     "input": [
      "os.path.join('a', 'b', 'c', 'd.txt')"
     ],
     "language": "python",
     "metadata": {},
     "outputs": [
      {
       "metadata": {},
       "output_type": "pyout",
       "prompt_number": 33,
       "text": [
        "'a/b/c/d.txt'"
       ]
      }
     ],
     "prompt_number": 33
    },
    {
     "cell_type": "code",
     "collapsed": false,
     "input": [
      "os.path.normcase('/Down/Python.exe')"
     ],
     "language": "python",
     "metadata": {},
     "outputs": [
      {
       "metadata": {},
       "output_type": "pyout",
       "prompt_number": 34,
       "text": [
        "'/Down/Python.exe'"
       ]
      }
     ],
     "prompt_number": 34
    },
    {
     "cell_type": "code",
     "collapsed": false,
     "input": [
      "os.path.normpath('A/B/../B/./t.txt')"
     ],
     "language": "python",
     "metadata": {},
     "outputs": [
      {
       "metadata": {},
       "output_type": "pyout",
       "prompt_number": 35,
       "text": [
        "'A/B/t.txt'"
       ]
      }
     ],
     "prompt_number": 35
    },
    {
     "cell_type": "code",
     "collapsed": false,
     "input": [
      "print os.curdir #\ud604\uc7ac \ub514\ub809\ud1a0\ub9ac\n",
      "print os.pardir #\ubd80\ubaa8 \ub514\ub809\ud1a0\ub9ac"
     ],
     "language": "python",
     "metadata": {},
     "outputs": [
      {
       "output_type": "stream",
       "stream": "stdout",
       "text": [
        ".\n",
        "..\n"
       ]
      }
     ],
     "prompt_number": 36
    },
    {
     "cell_type": "code",
     "collapsed": false,
     "input": [
      "os.sep"
     ],
     "language": "python",
     "metadata": {},
     "outputs": [
      {
       "metadata": {},
       "output_type": "pyout",
       "prompt_number": 37,
       "text": [
        "'/'"
       ]
      }
     ],
     "prompt_number": 37
    },
    {
     "cell_type": "markdown",
     "metadata": {},
     "source": [
      "### 4-2 \uacbd\ub85c\uba85 \ubd84\ub9ac\ud558\uae30"
     ]
    },
    {
     "cell_type": "code",
     "collapsed": false,
     "input": [
      "f = '/Users/Soo-Jin/python/t.txt'\n",
      "\n",
      "print os.path.basename(f) #\ud30c\uc77c\uba85\ub9cc \ucd94\ucd9c\n",
      "print os.path.dirname(f) #\ub514\ub809\ud1a0\ub9ac \uacbd\ub85c \ucd94\ucd9c"
     ],
     "language": "python",
     "metadata": {},
     "outputs": [
      {
       "output_type": "stream",
       "stream": "stdout",
       "text": [
        "t.txt\n",
        "/Users/Soo-Jin/python\n"
       ]
      }
     ],
     "prompt_number": 38
    },
    {
     "cell_type": "code",
     "collapsed": false,
     "input": [
      "os.path.split(f)"
     ],
     "language": "python",
     "metadata": {},
     "outputs": [
      {
       "metadata": {},
       "output_type": "pyout",
       "prompt_number": 39,
       "text": [
        "('/Users/Soo-Jin/python', 't.txt')"
       ]
      }
     ],
     "prompt_number": 39
    },
    {
     "cell_type": "code",
     "collapsed": false,
     "input": [
      "os.path.splitdrive(f)"
     ],
     "language": "python",
     "metadata": {},
     "outputs": [
      {
       "metadata": {},
       "output_type": "pyout",
       "prompt_number": 40,
       "text": [
        "('', '/Users/Soo-Jin/python/t.txt')"
       ]
      }
     ],
     "prompt_number": 40
    },
    {
     "cell_type": "code",
     "collapsed": false,
     "input": [
      "os.path.splitext(f)"
     ],
     "language": "python",
     "metadata": {},
     "outputs": [
      {
       "metadata": {},
       "output_type": "pyout",
       "prompt_number": 41,
       "text": [
        "('/Users/Soo-Jin/python/t', '.txt')"
       ]
      }
     ],
     "prompt_number": 41
    },
    {
     "cell_type": "markdown",
     "metadata": {},
     "source": [
      "### 4-2 \ud30c\uc77c \uc774\ub984\uc774 \ud328\ud134\uacfc \uc77c\uce58\ud558\ub294\uc9c0 \uc54c\uc544\ubcf4\uae30"
     ]
    },
    {
     "cell_type": "code",
     "collapsed": false,
     "input": [
      "import fnmatch\n",
      "fnmatch.fnmatch('t.txt', '?.txt')"
     ],
     "language": "python",
     "metadata": {},
     "outputs": [
      {
       "metadata": {},
       "output_type": "pyout",
       "prompt_number": 42,
       "text": [
        "True"
       ]
      }
     ],
     "prompt_number": 42
    },
    {
     "cell_type": "code",
     "collapsed": false,
     "input": [
      "fnmatch.fnmatch('a.txt', '[abc].txt')"
     ],
     "language": "python",
     "metadata": {},
     "outputs": [
      {
       "metadata": {},
       "output_type": "pyout",
       "prompt_number": 43,
       "text": [
        "True"
       ]
      }
     ],
     "prompt_number": 43
    }
   ],
   "metadata": {}
  }
 ]
}