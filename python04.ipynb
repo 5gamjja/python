{
 "metadata": {
  "name": "",
  "signature": "sha256:645c6ba42bcabec4af614d582d82c0d283678f9a772013d8904553bc8064e961"
 },
 "nbformat": 3,
 "nbformat_minor": 0,
 "worksheets": [
  {
   "cells": [
    {
     "cell_type": "markdown",
     "metadata": {},
     "source": [
      "***\n",
      "***\n",
      "# 4. \ubb38\uc790\uc5f4\n",
      "***\n",
      "***"
     ]
    },
    {
     "cell_type": "markdown",
     "metadata": {},
     "source": [
      "***\n",
      "## 01 \uc2dc\ud000\uc2a4 \uc790\ub8cc\ud615\uc758 \ud2b9\uc131\n",
      "***\n",
      "### 1-1 \uc2dc\ud000\uc2a4 \uc790\ub8cc\ud615\uc774\ub780?\n",
      "- \uc2dc\ud000\uc2a4(Sequence) \uc790\ub8cc\ud615: \ubb38\uc790\uc5f4, \ub9ac\uc2a4\ud2b8, \ud29c\ud50c"
     ]
    },
    {
     "cell_type": "code",
     "collapsed": false,
     "input": [
      "s = 'abcdef'\n",
      "L = [100,200,300]\n",
      "t = ('tuple', 'object', 1, 2)"
     ],
     "language": "python",
     "metadata": {},
     "outputs": [],
     "prompt_number": 2
    },
    {
     "cell_type": "markdown",
     "metadata": {},
     "source": [
      "### 1-2 \uc778\ub371\uc2f1"
     ]
    },
    {
     "cell_type": "code",
     "collapsed": false,
     "input": [
      "s = 'abcdef'\n",
      "l = [100,200,300]\n",
      "print s[0]\n",
      "print s[1]\n",
      "print s[-1]\n",
      "print l[1]\n",
      "\n",
      "l[1] = 900\n",
      "print l[1]"
     ],
     "language": "python",
     "metadata": {},
     "outputs": [
      {
       "output_type": "stream",
       "stream": "stdout",
       "text": [
        "a\n",
        "b\n",
        "f\n",
        "200\n",
        "900\n"
       ]
      }
     ],
     "prompt_number": 13
    },
    {
     "cell_type": "code",
     "collapsed": false,
     "input": [
      "print l[100]"
     ],
     "language": "python",
     "metadata": {},
     "outputs": [
      {
       "ename": "IndexError",
       "evalue": "list index out of range",
       "output_type": "pyerr",
       "traceback": [
        "\u001b[0;31m---------------------------------------------------------------------------\u001b[0m\n\u001b[0;31mIndexError\u001b[0m                                Traceback (most recent call last)",
        "\u001b[0;32m<ipython-input-14-dd85adc9a089>\u001b[0m in \u001b[0;36m<module>\u001b[0;34m()\u001b[0m\n\u001b[0;32m----> 1\u001b[0;31m \u001b[0;32mprint\u001b[0m \u001b[0ml\u001b[0m\u001b[0;34m[\u001b[0m\u001b[0;36m100\u001b[0m\u001b[0;34m]\u001b[0m\u001b[0;34m\u001b[0m\u001b[0m\n\u001b[0m",
        "\u001b[0;31mIndexError\u001b[0m: list index out of range"
       ]
      }
     ],
     "prompt_number": 14
    },
    {
     "cell_type": "markdown",
     "metadata": {},
     "source": [
      "### 1-3 \uc2ac\ub77c\uc774\uc2f1"
     ]
    },
    {
     "cell_type": "code",
     "collapsed": false,
     "input": [
      "s = 'abcdef'\n",
      "L = [100, 200, 300]"
     ],
     "language": "python",
     "metadata": {},
     "outputs": [],
     "prompt_number": 15
    },
    {
     "cell_type": "code",
     "collapsed": false,
     "input": [
      "print s[1:3]\n",
      "print s[1:]\n",
      "print s[:]\n",
      "print s[-100:100]\n",
      "print L[:-1]"
     ],
     "language": "python",
     "metadata": {},
     "outputs": [
      {
       "output_type": "stream",
       "stream": "stdout",
       "text": [
        "bc\n",
        "bcdef\n",
        "abcdef\n",
        "abcdef\n",
        "[100, 200]\n"
       ]
      }
     ],
     "prompt_number": 18
    },
    {
     "cell_type": "markdown",
     "metadata": {},
     "source": [
      "### 1-4 \ud655\uc7a5 \uc2ac\ub77c\uc774\uc2f1"
     ]
    },
    {
     "cell_type": "code",
     "collapsed": false,
     "input": [
      "s = 'abcd'\n",
      "print s[::2]\n",
      "print s[::-1]"
     ],
     "language": "python",
     "metadata": {},
     "outputs": [
      {
       "output_type": "stream",
       "stream": "stdout",
       "text": [
        "ac\n",
        "dcba\n"
       ]
      }
     ],
     "prompt_number": 19
    },
    {
     "cell_type": "markdown",
     "metadata": {},
     "source": [
      "### 1-5 \uc5f0\uacb0\ud558\uae30"
     ]
    },
    {
     "cell_type": "code",
     "collapsed": false,
     "input": [
      "s = 'abc' + 'def'\n",
      "print s\n",
      "\n",
      "L = [1,2,3] + [4,5,6]\n",
      "print L"
     ],
     "language": "python",
     "metadata": {},
     "outputs": [
      {
       "output_type": "stream",
       "stream": "stdout",
       "text": [
        "abcdef\n",
        "[1, 2, 3, 4, 5, 6]\n"
       ]
      }
     ],
     "prompt_number": 21
    },
    {
     "cell_type": "markdown",
     "metadata": {},
     "source": [
      "### 1-6 \ubc18\ubcf5\ud558\uae30"
     ]
    },
    {
     "cell_type": "code",
     "collapsed": false,
     "input": [
      "s = 'Abc'\n",
      "print s * 4\n",
      "\n",
      "L = [1,2,3]\n",
      "print L * 2"
     ],
     "language": "python",
     "metadata": {},
     "outputs": [
      {
       "output_type": "stream",
       "stream": "stdout",
       "text": [
        "AbcAbcAbcAbc\n",
        "[1, 2, 3, 1, 2, 3]\n"
       ]
      }
     ],
     "prompt_number": 23
    },
    {
     "cell_type": "markdown",
     "metadata": {},
     "source": [
      "### 1-7 \uba64\ubc84\uc2ed \ud14c\uc2a4\ud2b8"
     ]
    },
    {
     "cell_type": "code",
     "collapsed": false,
     "input": [
      "s = 'abcde'\n",
      "print 'c' in s\n",
      "\n",
      "t = (1,2,3,4,5)\n",
      "print 2 in t\n",
      "print 10 in t\n",
      "print 10 not in t"
     ],
     "language": "python",
     "metadata": {},
     "outputs": [
      {
       "output_type": "stream",
       "stream": "stdout",
       "text": [
        "True\n",
        "True\n",
        "False\n",
        "True\n"
       ]
      }
     ],
     "prompt_number": 25
    },
    {
     "cell_type": "code",
     "collapsed": false,
     "input": [
      "print 'ab' in 'abcd'\n",
      "print 'ad' in 'abcd'\n",
      "print ' '  in 'abcd'"
     ],
     "language": "python",
     "metadata": {},
     "outputs": [
      {
       "output_type": "stream",
       "stream": "stdout",
       "text": [
        "True\n",
        "False\n",
        "False\n"
       ]
      }
     ],
     "prompt_number": 26
    },
    {
     "cell_type": "markdown",
     "metadata": {},
     "source": [
      "### 1-8 \uae38\uc774 \uc815\ubcf4"
     ]
    },
    {
     "cell_type": "code",
     "collapsed": false,
     "input": [
      "s = 'abcde'\n",
      "L = [1,2,3]\n",
      "print len(s)\n",
      "print len(L)"
     ],
     "language": "python",
     "metadata": {},
     "outputs": [
      {
       "output_type": "stream",
       "stream": "stdout",
       "text": [
        "5\n",
        "3\n"
       ]
      }
     ],
     "prompt_number": 27
    },
    {
     "cell_type": "markdown",
     "metadata": {},
     "source": [
      "***\n",
      "## 02 \ubb38\uc790\uc5f4 \uc815\uc758\ud558\uae30\n",
      "***"
     ]
    },
    {
     "cell_type": "markdown",
     "metadata": {},
     "source": [
      "### 2-1 \ud55c \uc904 \ubb38\uc790\uc5f4"
     ]
    },
    {
     "cell_type": "code",
     "collapsed": false,
     "input": [
      "s = ''\n",
      "str1 = 'Python is great!'\n",
      "str2 = \"Yes, it is.\"\n",
      "str3 = \"It's not like any other languages\""
     ],
     "language": "python",
     "metadata": {},
     "outputs": [],
     "prompt_number": 30
    },
    {
     "cell_type": "code",
     "collapsed": false,
     "input": [
      "str4 = 'Don\\'t walk. \"Run\"'\n",
      "print str4"
     ],
     "language": "python",
     "metadata": {},
     "outputs": [
      {
       "output_type": "stream",
       "stream": "stdout",
       "text": [
        "Don't walk. \"Run\"\n"
       ]
      }
     ],
     "prompt_number": 32
    },
    {
     "cell_type": "code",
     "collapsed": false,
     "input": [
      "long_str = \"This is a rather long string \\\n",
      "containing back slash and new line.\\nGood!\"\n",
      "print long_str"
     ],
     "language": "python",
     "metadata": {},
     "outputs": [
      {
       "output_type": "stream",
       "stream": "stdout",
       "text": [
        "This is a rather long string containing back slash and new line.\n",
        "Good!\n"
       ]
      }
     ],
     "prompt_number": 33
    },
    {
     "cell_type": "markdown",
     "metadata": {},
     "source": [
      "### 2-2 \uc5ec\ub7ec \uc904 \ubb38\uc790\uc5f4"
     ]
    },
    {
     "cell_type": "code",
     "collapsed": false,
     "input": [
      "multiline = \"\"\" While the rest of the world has been catching on to\n",
      "the Perl scripting language, the Linux commnunity,\n",
      "long since past the pleasing shock of Perl's power,\n",
      "has been catching on to a different scripting animal -- Python.\"\"\"\n",
      "print multiline\n",
      "\n",
      "ml = ''' While the rest of the world has been catching on to\n",
      "the Perl scripting language, the Linux commnunity,\n",
      "long since past the pleasing shock of Perl's power,\n",
      "has been catching on to a different scripting animal -- Python.'''\n",
      "print ml"
     ],
     "language": "python",
     "metadata": {},
     "outputs": [
      {
       "output_type": "stream",
       "stream": "stdout",
       "text": [
        " While the rest of the world has been catching on to\n",
        "the Perl scripting language, the Linux commnunity,\n",
        "long since past the pleasing shock of Perl's power,\n",
        "has been catching on to a different scripting animal -- Python.\n",
        " While the rest of the world has been catching on to\n",
        "the Perl scripting language, the Linux commnunity,\n",
        "long since past the pleasing shock of Perl's power,\n",
        "has been catching on to a different scripting animal -- Python.\n"
       ]
      }
     ],
     "prompt_number": 38
    },
    {
     "cell_type": "markdown",
     "metadata": {},
     "source": [
      "### 2-3 \uc774\uc2a4\ucf00\uc774\ud504 \ubb38\uc790"
     ]
    },
    {
     "cell_type": "code",
     "collapsed": false,
     "input": [
      "a =\\\n",
      "2\n",
      "print a\n",
      "print 'abc\\tdef\\tghi'\n",
      "print 'a\\nb\\nc'"
     ],
     "language": "python",
     "metadata": {},
     "outputs": [
      {
       "output_type": "stream",
       "stream": "stdout",
       "text": [
        "2\n",
        "abc\tdef\tghi\n",
        "a\n",
        "b\n",
        "c\n"
       ]
      }
     ],
     "prompt_number": 42
    },
    {
     "cell_type": "markdown",
     "metadata": {},
     "source": [
      "### 2-4 \ubb38\uc790\uc5f4 \uc5f0\uc0b0"
     ]
    },
    {
     "cell_type": "code",
     "collapsed": false,
     "input": [
      "str1 = 'First String'\n",
      "str2 = 'Second String'\n",
      "str3 = str1 + ' ' + str2\n",
      "print str3\n",
      "print str1 * 3\n",
      "\n",
      "print str1[2]\n",
      "print str1[1:-1]\n",
      "print len(str1)"
     ],
     "language": "python",
     "metadata": {},
     "outputs": [
      {
       "output_type": "stream",
       "stream": "stdout",
       "text": [
        "First String Second String\n",
        "First StringFirst StringFirst String\n",
        "r\n",
        "irst Strin\n",
        "12\n"
       ]
      }
     ],
     "prompt_number": 44
    },
    {
     "cell_type": "code",
     "collapsed": false,
     "input": [
      "str1[0] = 'f'"
     ],
     "language": "python",
     "metadata": {},
     "outputs": [
      {
       "ename": "TypeError",
       "evalue": "'str' object does not support item assignment",
       "output_type": "pyerr",
       "traceback": [
        "\u001b[0;31m---------------------------------------------------------------------------\u001b[0m\n\u001b[0;31mTypeError\u001b[0m                                 Traceback (most recent call last)",
        "\u001b[0;32m<ipython-input-47-7213ba3e679f>\u001b[0m in \u001b[0;36m<module>\u001b[0;34m()\u001b[0m\n\u001b[0;32m----> 1\u001b[0;31m \u001b[0mstr1\u001b[0m\u001b[0;34m[\u001b[0m\u001b[0;36m0\u001b[0m\u001b[0;34m]\u001b[0m \u001b[0;34m=\u001b[0m \u001b[0;34m'f'\u001b[0m\u001b[0;34m\u001b[0m\u001b[0m\n\u001b[0m",
        "\u001b[0;31mTypeError\u001b[0m: 'str' object does not support item assignment"
       ]
      }
     ],
     "prompt_number": 47
    },
    {
     "cell_type": "code",
     "collapsed": false,
     "input": [
      "str1[0:3] = 'abc'"
     ],
     "language": "python",
     "metadata": {},
     "outputs": [
      {
       "ename": "TypeError",
       "evalue": "'str' object does not support item assignment",
       "output_type": "pyerr",
       "traceback": [
        "\u001b[0;31m---------------------------------------------------------------------------\u001b[0m\n\u001b[0;31mTypeError\u001b[0m                                 Traceback (most recent call last)",
        "\u001b[0;32m<ipython-input-48-08d42bad7f22>\u001b[0m in \u001b[0;36m<module>\u001b[0;34m()\u001b[0m\n\u001b[0;32m----> 1\u001b[0;31m \u001b[0mstr1\u001b[0m\u001b[0;34m[\u001b[0m\u001b[0;36m0\u001b[0m\u001b[0;34m:\u001b[0m\u001b[0;36m3\u001b[0m\u001b[0;34m]\u001b[0m \u001b[0;34m=\u001b[0m \u001b[0;34m'abc'\u001b[0m\u001b[0;34m\u001b[0m\u001b[0m\n\u001b[0m",
        "\u001b[0;31mTypeError\u001b[0m: 'str' object does not support item assignment"
       ]
      }
     ],
     "prompt_number": 48
    },
    {
     "cell_type": "code",
     "collapsed": false,
     "input": [
      "for c in 'abcd':\n",
      "    print c,"
     ],
     "language": "python",
     "metadata": {},
     "outputs": [
      {
       "output_type": "stream",
       "stream": "stdout",
       "text": [
        "a b c d\n"
       ]
      }
     ],
     "prompt_number": 49
    },
    {
     "cell_type": "markdown",
     "metadata": {},
     "source": [
      "***\n",
      "## 03 \ubb38\uc790\uc5f4\uc758 \ubcc0\uacbd\n",
      "***"
     ]
    },
    {
     "cell_type": "code",
     "collapsed": false,
     "input": [
      "s = 'spam and egg'\n",
      "s = s[:5] + 'cheese ' + s[5:]\n",
      "s"
     ],
     "language": "python",
     "metadata": {},
     "outputs": [
      {
       "metadata": {},
       "output_type": "pyout",
       "prompt_number": 50,
       "text": [
        "'spam cheese and egg'"
       ]
      }
     ],
     "prompt_number": 50
    },
    {
     "cell_type": "markdown",
     "metadata": {},
     "source": [
      "***\n",
      "## 04 \ubb38\uc790\uc5f4 \ud3ec\ub9e4\ud305\n",
      "***"
     ]
    },
    {
     "cell_type": "markdown",
     "metadata": {},
     "source": [
      "### 4-1 \ud29c\ud50c\uc744 \uc774\uc6a9\ud55c \ud3ec\ub9e4\ud305"
     ]
    },
    {
     "cell_type": "markdown",
     "metadata": {},
     "source": [
      "#### 1) \ubb38\uc790\uc5f4 \ubcc0\ud658"
     ]
    },
    {
     "cell_type": "code",
     "collapsed": false,
     "input": [
      "format = 'name = %s, age = %s'\n",
      "format"
     ],
     "language": "python",
     "metadata": {},
     "outputs": [
      {
       "metadata": {},
       "output_type": "pyout",
       "prompt_number": 51,
       "text": [
        "'name = %s, age = %s'"
       ]
      }
     ],
     "prompt_number": 51
    },
    {
     "cell_type": "code",
     "collapsed": false,
     "input": [
      "format % ('gslee', 24)"
     ],
     "language": "python",
     "metadata": {},
     "outputs": [
      {
       "metadata": {},
       "output_type": "pyout",
       "prompt_number": 52,
       "text": [
        "'name = gslee, age = 24'"
       ]
      }
     ],
     "prompt_number": 52
    },
    {
     "cell_type": "code",
     "collapsed": false,
     "input": [
      "letter = '''\n",
      "\uc548\ub155\ud558\uc138\uc694 %s\ub2d8,\n",
      "\n",
      "\uc624\ub298 \ubc24 \ud30c\ud2f0\uc5d0 \ucc38\uc11d\ud574 \uc8fc\uc2e4 \uc218 \uc788\ub098\uc694?\n",
      "\n",
      "\uadf8\ub7fc..\n",
      "\n",
      "\uc774\uac15\uc131'''\n",
      "name = '\ud64d\uae38\ub3d9'\n",
      "print letter % name\n",
      "\n",
      "names = ['\ud55c\ud559\uc2e0', '\uc815\uc778\uc219', '\ubc15\ubbf8\uacbd']\n",
      "for name in names:\n",
      "    print letter % name\n",
      "    print '-' * 40"
     ],
     "language": "python",
     "metadata": {},
     "outputs": [
      {
       "output_type": "stream",
       "stream": "stdout",
       "text": [
        "\n",
        "\uc548\ub155\ud558\uc138\uc694 \ud64d\uae38\ub3d9\ub2d8,\n",
        "\n",
        "\uc624\ub298 \ubc24 \ud30c\ud2f0\uc5d0 \ucc38\uc11d\ud574 \uc8fc\uc2e4 \uc218 \uc788\ub098\uc694?\n",
        "\n",
        "\uadf8\ub7fc..\n",
        "\n",
        "\uc774\uac15\uc131\n",
        "\n",
        "\uc548\ub155\ud558\uc138\uc694 \ud55c\ud559\uc2e0\ub2d8,\n",
        "\n",
        "\uc624\ub298 \ubc24 \ud30c\ud2f0\uc5d0 \ucc38\uc11d\ud574 \uc8fc\uc2e4 \uc218 \uc788\ub098\uc694?\n",
        "\n",
        "\uadf8\ub7fc..\n",
        "\n",
        "\uc774\uac15\uc131\n",
        "----------------------------------------\n",
        "\n",
        "\uc548\ub155\ud558\uc138\uc694 \uc815\uc778\uc219\ub2d8,\n",
        "\n",
        "\uc624\ub298 \ubc24 \ud30c\ud2f0\uc5d0 \ucc38\uc11d\ud574 \uc8fc\uc2e4 \uc218 \uc788\ub098\uc694?\n",
        "\n",
        "\uadf8\ub7fc..\n",
        "\n",
        "\uc774\uac15\uc131\n",
        "----------------------------------------\n",
        "\n",
        "\uc548\ub155\ud558\uc138\uc694 \ubc15\ubbf8\uacbd\ub2d8,\n",
        "\n",
        "\uc624\ub298 \ubc24 \ud30c\ud2f0\uc5d0 \ucc38\uc11d\ud574 \uc8fc\uc2e4 \uc218 \uc788\ub098\uc694?\n",
        "\n",
        "\uadf8\ub7fc..\n",
        "\n",
        "\uc774\uac15\uc131\n",
        "----------------------------------------\n"
       ]
      }
     ],
     "prompt_number": 54
    },
    {
     "cell_type": "markdown",
     "metadata": {},
     "source": [
      "#### 2) \uc22b\uc790 \ubcc0\ud658"
     ]
    },
    {
     "cell_type": "code",
     "collapsed": false,
     "input": [
      "\"%s -- %s -- %d -- %f -- %e\" % ((1, 2), [3,4,5], 5, 5.3, 101.3)\n"
     ],
     "language": "python",
     "metadata": {},
     "outputs": [
      {
       "metadata": {},
       "output_type": "pyout",
       "prompt_number": 56,
       "text": [
        "'(1, 2) -- [3, 4, 5] -- 5 -- 5.300000 -- 1.013000e+02'"
       ]
      }
     ],
     "prompt_number": 56
    },
    {
     "cell_type": "code",
     "collapsed": false,
     "input": [
      "\"%3d -- %5.2f -- %.2e\" % (5, 5.356, 101.3)"
     ],
     "language": "python",
     "metadata": {},
     "outputs": [
      {
       "metadata": {},
       "output_type": "pyout",
       "prompt_number": 57,
       "text": [
        "'  5 --  5.36 -- 1.01e+02'"
       ]
      }
     ],
     "prompt_number": 57
    },
    {
     "cell_type": "code",
     "collapsed": false,
     "input": [
      "a = 456\n",
      "'%d -- %o -- %x -- %X' % (a, a, a, a)"
     ],
     "language": "python",
     "metadata": {},
     "outputs": [
      {
       "metadata": {},
       "output_type": "pyout",
       "prompt_number": 58,
       "text": [
        "'456 -- 710 -- 1c8 -- 1C8'"
       ]
      }
     ],
     "prompt_number": 58
    },
    {
     "cell_type": "code",
     "collapsed": false,
     "input": [
      "f = 1.23456789123456789\n",
      "f"
     ],
     "language": "python",
     "metadata": {},
     "outputs": [
      {
       "metadata": {},
       "output_type": "pyout",
       "prompt_number": 63,
       "text": [
        "1.234567891234568"
       ]
      }
     ],
     "prompt_number": 63
    },
    {
     "cell_type": "code",
     "collapsed": false,
     "input": [
      "print f\n",
      "print '%f' % f\n",
      "print '%g' % f\n",
      "\n",
      "g = 1.23456789123E30\n",
      "g"
     ],
     "language": "python",
     "metadata": {},
     "outputs": [
      {
       "output_type": "stream",
       "stream": "stdout",
       "text": [
        "1.23456789123\n",
        "1.234568\n",
        "1.23457\n"
       ]
      },
      {
       "metadata": {},
       "output_type": "pyout",
       "prompt_number": 67,
       "text": [
        "1.23456789123e+30"
       ]
      }
     ],
     "prompt_number": 67
    },
    {
     "cell_type": "code",
     "collapsed": false,
     "input": [
      "print g\n",
      "print '%f' % g\n",
      "print '%g' % g"
     ],
     "language": "python",
     "metadata": {},
     "outputs": [
      {
       "output_type": "stream",
       "stream": "stdout",
       "text": [
        "1.23456789123e+30\n",
        "1234567891230000003315149045760.000000\n",
        "1.23457e+30\n"
       ]
      }
     ],
     "prompt_number": 68
    },
    {
     "cell_type": "code",
     "collapsed": false,
     "input": [
      "print str(f)\n",
      "print repr(f)"
     ],
     "language": "python",
     "metadata": {},
     "outputs": [
      {
       "output_type": "stream",
       "stream": "stdout",
       "text": [
        "1.23456789123\n",
        "1.234567891234568\n"
       ]
      }
     ],
     "prompt_number": 70
    },
    {
     "cell_type": "markdown",
     "metadata": {},
     "source": [
      "### 4-2 \uc0ac\uc804\uc744 \uc774\uc6a9\ud55c \ud3ec\ub9e4\ud305"
     ]
    },
    {
     "cell_type": "code",
     "collapsed": false,
     "input": [
      "print '%(\uc774\ub984)s -- %(\uc804\ud654\ubc88\ud638)s' %{'\uc774\ub984':'\uc774\uac15\uc131', '\uc804\ud654\ubc88\ud638':5284}"
     ],
     "language": "python",
     "metadata": {},
     "outputs": [
      {
       "output_type": "stream",
       "stream": "stdout",
       "text": [
        "\uc774\uac15\uc131 -- 5284\n"
       ]
      }
     ],
     "prompt_number": 1
    },
    {
     "cell_type": "code",
     "collapsed": false,
     "input": [
      "name = 'gslee'"
     ],
     "language": "python",
     "metadata": {},
     "outputs": [],
     "prompt_number": 2
    },
    {
     "cell_type": "code",
     "collapsed": false,
     "input": [
      "vars()"
     ],
     "language": "python",
     "metadata": {},
     "outputs": [
      {
       "metadata": {},
       "output_type": "pyout",
       "prompt_number": 3,
       "text": [
        "{'In': ['',\n",
        "  u\"print '%(\\uc774\\ub984)s -- %(\\uc804\\ud654\\ubc88\\ud638)s' %{'\\uc774\\ub984':'\\uc774\\uac15\\uc131', '\\uc804\\ud654\\ubc88\\ud638':5284}\",\n",
        "  u\"name = 'gslee'\",\n",
        "  u'vars()'],\n",
        " 'Out': {},\n",
        " '_': '',\n",
        " '__': '',\n",
        " '___': '',\n",
        " '__builtin__': <module '__builtin__' (built-in)>,\n",
        " '__builtins__': <module '__builtin__' (built-in)>,\n",
        " '__doc__': 'Automatically created module for IPython interactive environment',\n",
        " '__name__': '__main__',\n",
        " '_dh': [u'/Users/Soo-Jin/python'],\n",
        " '_i': u\"name = 'gslee'\",\n",
        " '_i1': u\"print '%(\\uc774\\ub984)s -- %(\\uc804\\ud654\\ubc88\\ud638)s' %{'\\uc774\\ub984':'\\uc774\\uac15\\uc131', '\\uc804\\ud654\\ubc88\\ud638':5284}\",\n",
        " '_i2': u\"name = 'gslee'\",\n",
        " '_i3': u'vars()',\n",
        " '_ih': ['',\n",
        "  u\"print '%(\\uc774\\ub984)s -- %(\\uc804\\ud654\\ubc88\\ud638)s' %{'\\uc774\\ub984':'\\uc774\\uac15\\uc131', '\\uc804\\ud654\\ubc88\\ud638':5284}\",\n",
        "  u\"name = 'gslee'\",\n",
        "  u'vars()'],\n",
        " '_ii': u\"print '%(\\uc774\\ub984)s -- %(\\uc804\\ud654\\ubc88\\ud638)s' %{'\\uc774\\ub984':'\\uc774\\uac15\\uc131', '\\uc804\\ud654\\ubc88\\ud638':5284}\",\n",
        " '_iii': u'',\n",
        " '_oh': {},\n",
        " '_sh': <module 'IPython.core.shadowns' from '/Users/Soo-Jin/Library/Enthought/Canopy_64bit/User/lib/python2.7/site-packages/IPython/core/shadowns.pyc'>,\n",
        " 'exit': <IPython.core.autocall.ZMQExitAutocall at 0x101d3e990>,\n",
        " 'get_ipython': <bound method ZMQInteractiveShell.get_ipython of <IPython.kernel.zmq.zmqshell.ZMQInteractiveShell object at 0x101d358d0>>,\n",
        " 'name': 'gslee',\n",
        " 'quit': <IPython.core.autocall.ZMQExitAutocall at 0x101d3e990>}"
       ]
      }
     ],
     "prompt_number": 3
    },
    {
     "cell_type": "code",
     "collapsed": false,
     "input": [
      "name = 'gslee'\n",
      "phone = 5284\n",
      "'%(name)s -- %(phone)s' % vars()"
     ],
     "language": "python",
     "metadata": {},
     "outputs": [
      {
       "metadata": {},
       "output_type": "pyout",
       "prompt_number": 4,
       "text": [
        "'gslee -- 5284'"
       ]
      }
     ],
     "prompt_number": 4
    },
    {
     "cell_type": "markdown",
     "metadata": {},
     "source": [
      "### 4-3 \ub2e8\uc21c\ud55c \ubb38\uc790\uc5f4 \ub300\uce58 \uae30\ub2a5"
     ]
    },
    {
     "cell_type": "code",
     "collapsed": false,
     "input": [
      "import string\n",
      "t = string.Template('$page: $title')\n",
      "t.substitute({'page':2, 'title': 'The Best of Times'})"
     ],
     "language": "python",
     "metadata": {},
     "outputs": [
      {
       "metadata": {},
       "output_type": "pyout",
       "prompt_number": 5,
       "text": [
        "'2: The Best of Times'"
       ]
      }
     ],
     "prompt_number": 5
    },
    {
     "cell_type": "code",
     "collapsed": false,
     "input": [
      "t = string.Template('$page: $title')\n",
      "t.safe_substitute({'page':3})"
     ],
     "language": "python",
     "metadata": {},
     "outputs": [
      {
       "metadata": {},
       "output_type": "pyout",
       "prompt_number": 6,
       "text": [
        "'3: $title'"
       ]
      }
     ],
     "prompt_number": 6
    },
    {
     "cell_type": "code",
     "collapsed": false,
     "input": [
      "t = string.Template('$page: $title $$')\n",
      "t.substitute({'page':2, 'title':'The Best'})"
     ],
     "language": "python",
     "metadata": {},
     "outputs": [
      {
       "metadata": {},
       "output_type": "pyout",
       "prompt_number": 7,
       "text": [
        "'2: The Best $'"
       ]
      }
     ],
     "prompt_number": 7
    },
    {
     "cell_type": "markdown",
     "metadata": {},
     "source": [
      "***\n",
      "## 05 \ubb38\uc790\uc5f4 \uba54\uc3d8\ub4dc\n",
      "***"
     ]
    },
    {
     "cell_type": "code",
     "collapsed": false,
     "input": [
      "s = 'i like programming.'\n",
      "print s.upper()\n",
      "print s.upper().lower()\n",
      "print 'I Like Programming'.swapcase()\n",
      "print s.capitalize()\n",
      "print s.title()"
     ],
     "language": "python",
     "metadata": {},
     "outputs": [
      {
       "output_type": "stream",
       "stream": "stdout",
       "text": [
        "I LIKE PROGRAMMING.\n",
        "i like programming.\n",
        "i lIKE pROGRAMMING\n",
        "I like programming.\n",
        "I Like Programming.\n"
       ]
      }
     ],
     "prompt_number": 9
    },
    {
     "cell_type": "code",
     "collapsed": false,
     "input": [
      "s = 'i like programming, i like swimming.'\n",
      "print s.count('like')\n",
      "print s.find('like')\n",
      "print s.find('like', 3)\n",
      "print s.find('my')\n",
      "print s.rfind('like')\n",
      "print s.index('like')\n",
      "print s.index('my')\n"
     ],
     "language": "python",
     "metadata": {},
     "outputs": [
      {
       "output_type": "stream",
       "stream": "stdout",
       "text": [
        "2\n",
        "2\n",
        "22\n",
        "-1\n",
        "22\n",
        "2\n"
       ]
      },
      {
       "ename": "ValueError",
       "evalue": "substring not found",
       "output_type": "pyerr",
       "traceback": [
        "\u001b[0;31m---------------------------------------------------------------------------\u001b[0m\n\u001b[0;31mValueError\u001b[0m                                Traceback (most recent call last)",
        "\u001b[0;32m<ipython-input-17-030150366695>\u001b[0m in \u001b[0;36m<module>\u001b[0;34m()\u001b[0m\n\u001b[1;32m      6\u001b[0m \u001b[0;32mprint\u001b[0m \u001b[0ms\u001b[0m\u001b[0;34m.\u001b[0m\u001b[0mrfind\u001b[0m\u001b[0;34m(\u001b[0m\u001b[0;34m'like'\u001b[0m\u001b[0;34m)\u001b[0m\u001b[0;34m\u001b[0m\u001b[0m\n\u001b[1;32m      7\u001b[0m \u001b[0;32mprint\u001b[0m \u001b[0ms\u001b[0m\u001b[0;34m.\u001b[0m\u001b[0mindex\u001b[0m\u001b[0;34m(\u001b[0m\u001b[0;34m'like'\u001b[0m\u001b[0;34m)\u001b[0m\u001b[0;34m\u001b[0m\u001b[0m\n\u001b[0;32m----> 8\u001b[0;31m \u001b[0;32mprint\u001b[0m \u001b[0ms\u001b[0m\u001b[0;34m.\u001b[0m\u001b[0mindex\u001b[0m\u001b[0;34m(\u001b[0m\u001b[0;34m'my'\u001b[0m\u001b[0;34m)\u001b[0m\u001b[0;34m\u001b[0m\u001b[0m\n\u001b[0m",
        "\u001b[0;31mValueError\u001b[0m: substring not found"
       ]
      }
     ],
     "prompt_number": 17
    },
    {
     "cell_type": "code",
     "collapsed": false,
     "input": [
      "print s.rindex('like')\n",
      "print s.startswith('i like')\n",
      "print s.endswith('swimming.')\n",
      "print s.startswith('progr', 7)\n",
      "print s.endswith('like', 0, 26)"
     ],
     "language": "python",
     "metadata": {},
     "outputs": [
      {
       "output_type": "stream",
       "stream": "stdout",
       "text": [
        "22\n",
        "True\n",
        "True\n",
        "True\n",
        "True\n"
       ]
      }
     ],
     "prompt_number": 19
    },
    {
     "cell_type": "code",
     "collapsed": false,
     "input": [
      "u = ' spam and ham     '\n",
      "print u.strip()\n",
      "print u.rstrip()\n",
      "print u.lstrip()\n",
      "print '     abc '.strip()\n",
      "print '><><abc<><><>'.strip('<>')\n",
      "print '><><abc<><><>\\n'.strip('<>')\n",
      "print u'\\u4000\\u4001abc\\u4000'.strip(u'\\u4000')\n",
      "print u.replace('spam', 'spam, egg')"
     ],
     "language": "python",
     "metadata": {},
     "outputs": [
      {
       "output_type": "stream",
       "stream": "stdout",
       "text": [
        "spam and ham\n",
        " spam and ham\n",
        "spam and ham     \n",
        "abc\n",
        "abc\n",
        "abc<><><>\n",
        "\n",
        "\u4001abc\n",
        " spam, egg and ham     \n"
       ]
      }
     ],
     "prompt_number": 26
    },
    {
     "cell_type": "code",
     "collapsed": false,
     "input": [
      "u = ' spam and ham     '\n",
      "print u.split()\n",
      "print u.split('and')\n",
      "\n",
      "t = u.split()\n",
      "print ':'.join(t)\n",
      "print '\\n'.join(t)\n",
      "\n",
      "lines = '''first line\n",
      "second line\n",
      "third line'''\n",
      "print lines.splitlines()"
     ],
     "language": "python",
     "metadata": {},
     "outputs": [
      {
       "output_type": "stream",
       "stream": "stdout",
       "text": [
        "['spam', 'and', 'ham']\n",
        "[' spam ', ' ham     ']\n",
        "spam:and:ham\n",
        "spam\n",
        "and\n",
        "ham\n",
        "['first line', 'second line', 'third line']\n"
       ]
      }
     ],
     "prompt_number": 36
    },
    {
     "cell_type": "code",
     "collapsed": false,
     "input": [
      "s = 'one:two:three:four'\n",
      "print s.split(':', 2)\n",
      "print s.rsplit(':', 1)"
     ],
     "language": "python",
     "metadata": {},
     "outputs": [
      {
       "output_type": "stream",
       "stream": "stdout",
       "text": [
        "['one', 'two', 'three:four']\n",
        "['one:two:three', 'four']\n"
       ]
      }
     ],
     "prompt_number": 37
    },
    {
     "cell_type": "code",
     "collapsed": false,
     "input": [
      "u = 'spam and egg'\n",
      "print u.center(60)\n",
      "print u.ljust(60)\n",
      "print u.rjust(60)"
     ],
     "language": "python",
     "metadata": {},
     "outputs": [
      {
       "output_type": "stream",
       "stream": "stdout",
       "text": [
        "                        spam and egg                        \n",
        "spam and egg                                                \n",
        "                                                spam and egg\n"
       ]
      }
     ],
     "prompt_number": 38
    },
    {
     "cell_type": "code",
     "collapsed": false,
     "input": [
      "u.center(60, '-')"
     ],
     "language": "python",
     "metadata": {},
     "outputs": [
      {
       "metadata": {},
       "output_type": "pyout",
       "prompt_number": 39,
       "text": [
        "'------------------------spam and egg------------------------'"
       ]
      }
     ],
     "prompt_number": 39
    },
    {
     "cell_type": "code",
     "collapsed": false,
     "input": [
      "print '1\\tand\\t2'.expandtabs()\n",
      "print '1\\tand\\t2'.expandtabs(4)"
     ],
     "language": "python",
     "metadata": {},
     "outputs": [
      {
       "output_type": "stream",
       "stream": "stdout",
       "text": [
        "1       and     2\n",
        "1   and 2\n"
       ]
      }
     ],
     "prompt_number": 42
    },
    {
     "cell_type": "code",
     "collapsed": false,
     "input": [
      "print '1234'.isdigit()\n",
      "print 'abcd'.isalpha()\n",
      "print '1abc234'.isalnum()\n",
      "print 'abc'.islower()\n",
      "print 'ABC'.isupper()\n",
      "print '\\t\\r\\n'.isspace()\n",
      "print 'This Is A Title'.istitle()"
     ],
     "language": "python",
     "metadata": {},
     "outputs": [
      {
       "output_type": "stream",
       "stream": "stdout",
       "text": [
        "True\n",
        "True\n",
        "True\n",
        "True\n",
        "True\n",
        "True\n",
        "True\n"
       ]
      }
     ],
     "prompt_number": 44
    },
    {
     "cell_type": "code",
     "collapsed": false,
     "input": [
      "s = '123'\n",
      "print s.zfill(5)\n",
      "print 'goofy'.zfill(6)"
     ],
     "language": "python",
     "metadata": {},
     "outputs": [
      {
       "output_type": "stream",
       "stream": "stdout",
       "text": [
        "00123\n",
        "0goofy\n"
       ]
      }
     ],
     "prompt_number": 45
    },
    {
     "cell_type": "markdown",
     "metadata": {},
     "source": [
      "#### \uc608\uc81c1 \ubb38\uc790\uc5f4 \ubd99\uc774\uae30 \ucf54\ub529 \ubc29\ubc95 \ube44\uad50"
     ]
    },
    {
     "cell_type": "code",
     "collapsed": false,
     "input": [
      "import time\n",
      "start_time = time.time()\n",
      "s = ''\n",
      "for k in range(1000000):\n",
      "    s += 'python'\n",
      "end_time = time.time()\n",
      "print end_time - start_time"
     ],
     "language": "python",
     "metadata": {},
     "outputs": [
      {
       "output_type": "stream",
       "stream": "stdout",
       "text": [
        "0.500844955444\n"
       ]
      }
     ],
     "prompt_number": 11
    },
    {
     "cell_type": "code",
     "collapsed": false,
     "input": [
      "start_time = time.time()\n",
      "t = []\n",
      "for k in range(1000000):\n",
      "    t.append('python')\n",
      "s = ''.join(t)\n",
      "end_time = time.time()\n",
      "print end_time - start_time"
     ],
     "language": "python",
     "metadata": {},
     "outputs": [
      {
       "output_type": "stream",
       "stream": "stdout",
       "text": [
        "0.426742076874\n"
       ]
      }
     ],
     "prompt_number": 12
    },
    {
     "cell_type": "code",
     "collapsed": false,
     "input": [
      "start_time = time.time()\n",
      "s = 'python' * 1000000\n",
      "end_time = time.time()\n",
      "print end_time - start_time"
     ],
     "language": "python",
     "metadata": {},
     "outputs": [
      {
       "output_type": "stream",
       "stream": "stdout",
       "text": [
        "0.00513911247253\n"
       ]
      }
     ],
     "prompt_number": 13
    },
    {
     "cell_type": "markdown",
     "metadata": {},
     "source": [
      "***\n",
      "## 06 string \ubaa8\ub4c8\n",
      "***"
     ]
    },
    {
     "cell_type": "markdown",
     "metadata": {},
     "source": [
      "### 6-1 String \ubaa8\ub4c8 \uc0c1\uc218"
     ]
    },
    {
     "cell_type": "code",
     "collapsed": false,
     "input": [
      "import string\n",
      "\n",
      "print string.digits\n",
      "print string.octdigits\n",
      "print string.hexdigits\n",
      "print string.letters\n",
      "print string.lowercase\n",
      "print string.uppercase\n",
      "print string.punctuation\n",
      "print string.printable\n",
      "print string.whitespace"
     ],
     "language": "python",
     "metadata": {},
     "outputs": [
      {
       "output_type": "stream",
       "stream": "stdout",
       "text": [
        "0123456789\n",
        "01234567\n",
        "0123456789abcdefABCDEF\n",
        "ABCDEFGHIJKLMNOPQRSTUVWXYZabcdefghijklmnopqrstuvwxyz\n",
        "abcdefghijklmnopqrstuvwxyz\n",
        "ABCDEFGHIJKLMNOPQRSTUVWXYZ\n",
        "!\"#$%&'()*+,-./:;<=>?@[\\]^_`{|}~\n",
        "0123456789abcdefghijklmnopqrstuvwxyzABCDEFGHIJKLMNOPQRSTUVWXYZ!\"#$%&'()*+,-./:;<=>?@[\\]^_`{|}~ \t\n",
        "\r",
        "\u000b",
        "\f",
        "\n",
        "\t\n",
        "\u000b",
        "\f",
        "\r",
        " \n"
       ]
      }
     ],
     "prompt_number": 48
    },
    {
     "cell_type": "code",
     "collapsed": false,
     "input": [
      "x = 'a'\n",
      "print x in string.uppercase\n",
      "print x in string.lowercase"
     ],
     "language": "python",
     "metadata": {},
     "outputs": [
      {
       "output_type": "stream",
       "stream": "stdout",
       "text": [
        "False\n",
        "True\n"
       ]
      }
     ],
     "prompt_number": 49
    },
    {
     "cell_type": "code",
     "collapsed": false,
     "input": [
      "d = string.letters + string.digits\n",
      "print d\n",
      "\n",
      "userid = raw_input('your id : ')"
     ],
     "language": "python",
     "metadata": {},
     "outputs": [
      {
       "output_type": "stream",
       "stream": "stdout",
       "text": [
        "ABCDEFGHIJKLMNOPQRSTUVWXYZabcdefghijklmnopqrstuvwxyz0123456789\n"
       ]
      },
      {
       "name": "stdout",
       "output_type": "stream",
       "stream": "stdout",
       "text": [
        "your id : @#4\n"
       ]
      }
     ],
     "prompt_number": 59
    },
    {
     "cell_type": "code",
     "collapsed": false,
     "input": [
      "for ch in userid:\n",
      "    if ch not in d:\n",
      "        print 'invalid user id'\n",
      "        break"
     ],
     "language": "python",
     "metadata": {},
     "outputs": [
      {
       "output_type": "stream",
       "stream": "stdout",
       "text": [
        "invalid user id\n"
       ]
      }
     ],
     "prompt_number": 60
    },
    {
     "cell_type": "code",
     "collapsed": false,
     "input": [
      "userid"
     ],
     "language": "python",
     "metadata": {},
     "outputs": [
      {
       "metadata": {},
       "output_type": "pyout",
       "prompt_number": 62,
       "text": [
        "'@#4'"
       ]
      }
     ],
     "prompt_number": 62
    },
    {
     "cell_type": "markdown",
     "metadata": {},
     "source": [
      "***\n",
      "## 07 \uc720\ub2c8\ucf54\ub4dc\n",
      "***"
     ]
    },
    {
     "cell_type": "code",
     "collapsed": false,
     "input": [
      "print u'Spam and Egg'"
     ],
     "language": "python",
     "metadata": {},
     "outputs": [
      {
       "output_type": "stream",
       "stream": "stdout",
       "text": [
        "Spam and Egg\n"
       ]
      }
     ],
     "prompt_number": 63
    },
    {
     "cell_type": "code",
     "collapsed": false,
     "input": [
      "print u'Spam \\uB610 Egg'"
     ],
     "language": "python",
     "metadata": {},
     "outputs": [
      {
       "output_type": "stream",
       "stream": "stdout",
       "text": [
        "Spam \ub610 Egg\n"
       ]
      }
     ],
     "prompt_number": 64
    },
    {
     "cell_type": "code",
     "collapsed": false,
     "input": [
      "print unicode(1)\n",
      "print unicode(12345.2134)\n",
      "print unicode(abs)"
     ],
     "language": "python",
     "metadata": {},
     "outputs": [
      {
       "output_type": "stream",
       "stream": "stdout",
       "text": [
        "1\n",
        "12345.2134\n",
        "<built-in function abs>\n"
       ]
      }
     ],
     "prompt_number": 2
    },
    {
     "cell_type": "code",
     "collapsed": false,
     "input": [
      "unicode('\ud55c\uae00')"
     ],
     "language": "python",
     "metadata": {},
     "outputs": [
      {
       "ename": "UnicodeDecodeError",
       "evalue": "'ascii' codec can't decode byte 0xed in position 0: ordinal not in range(128)",
       "output_type": "pyerr",
       "traceback": [
        "\u001b[0;31m---------------------------------------------------------------------------\u001b[0m\n\u001b[0;31mUnicodeDecodeError\u001b[0m                        Traceback (most recent call last)",
        "\u001b[0;32m<ipython-input-3-5076cf3f98de>\u001b[0m in \u001b[0;36m<module>\u001b[0;34m()\u001b[0m\n\u001b[0;32m----> 1\u001b[0;31m \u001b[0municode\u001b[0m\u001b[0;34m(\u001b[0m\u001b[0;34m'\ud55c\uae00'\u001b[0m\u001b[0;34m)\u001b[0m\u001b[0;34m\u001b[0m\u001b[0m\n\u001b[0m",
        "\u001b[0;31mUnicodeDecodeError\u001b[0m: 'ascii' codec can't decode byte 0xed in position 0: ordinal not in range(128)"
       ]
      }
     ],
     "prompt_number": 3
    },
    {
     "cell_type": "code",
     "collapsed": false,
     "input": [
      "unicode('\ud55c\uae00').encode('utf-8) "
     ],
     "language": "python",
     "metadata": {},
     "outputs": [
      {
       "ename": "SyntaxError",
       "evalue": "EOL while scanning string literal (<ipython-input-4-dfd52ed8a0c7>, line 1)",
       "output_type": "pyerr",
       "traceback": [
        "\u001b[0;36m  File \u001b[0;32m\"<ipython-input-4-dfd52ed8a0c7>\"\u001b[0;36m, line \u001b[0;32m1\u001b[0m\n\u001b[0;31m    unicode('\ud55c\uae00').encode('utf-8)\u001b[0m\n\u001b[0m                                 \n^\u001b[0m\n\u001b[0;31mSyntaxError\u001b[0m\u001b[0;31m:\u001b[0m EOL while scanning string literal\n"
       ]
      }
     ],
     "prompt_number": 4
    },
    {
     "cell_type": "code",
     "collapsed": false,
     "input": [],
     "language": "python",
     "metadata": {},
     "outputs": []
    },
    {
     "cell_type": "code",
     "collapsed": false,
     "input": [],
     "language": "python",
     "metadata": {},
     "outputs": []
    },
    {
     "cell_type": "code",
     "collapsed": false,
     "input": [],
     "language": "python",
     "metadata": {},
     "outputs": []
    },
    {
     "cell_type": "markdown",
     "metadata": {},
     "source": [
      "***\n",
      "## 08 \ubb38\uc11c \ubb38\uc790\uc5f4\n",
      "***"
     ]
    },
    {
     "cell_type": "code",
     "collapsed": false,
     "input": [
      "docstring.__doc__\n",
      "docstring.Ham.__doc__\n",
      "docstring.Ham.func.__doc__\n",
      "\n",
      "help(docstring)\n",
      "help(docstring.Ham)\n",
      "help(docstring.Ham.func)\n",
      "\n",
      "?docstring\n",
      "?docstring.Ham\n",
      "?docstring.Ham.func"
     ],
     "language": "python",
     "metadata": {},
     "outputs": []
    }
   ],
   "metadata": {}
  }
 ]
}