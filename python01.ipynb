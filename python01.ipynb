{
 "metadata": {
  "name": "",
  "signature": "sha256:372c404d3fd4a9240930537c7a850f558a4e647c6d2a0d2cd4e77c76d2e6f0a5"
 },
 "nbformat": 3,
 "nbformat_minor": 0,
 "worksheets": [
  {
   "cells": [
    {
     "cell_type": "markdown",
     "metadata": {},
     "source": [
      "***\n",
      "***\n",
      "# 1. Python \uc2dc\uc791\ud558\uae30\n",
      "***\n",
      "***"
     ]
    },
    {
     "cell_type": "markdown",
     "metadata": {},
     "source": [
      "***\n",
      "## 01 \ud30c\uc774\uc36c\uc774\ub780?\n",
      "***"
     ]
    },
    {
     "cell_type": "markdown",
     "metadata": {},
     "source": [
      "### 1-1 \ud30c\uc774\uc36c\uc774\ub780 \ubb34\uc5c7\uc778\uac00?"
     ]
    },
    {
     "cell_type": "markdown",
     "metadata": {},
     "source": [
      "- Python\uc758 \uc0ac\uc804\uc801 \uc758\ubbf8\ub294 \ub3c5\uc774 \uc5c6\ub294 \ubc40\uc73c\ub85c \uba39\uc774\ub97c \ubab8\uc73c\ub85c \uac10\uc544\uc11c \uc555\uc0ac\uc2dc\ud0a4\ub294 \ud070\ubc40, \ub610\ub294 \uadf8\ub9ac\uc2a4 \uc2e0\ud654\uc5d0 \ub098\uc624\ub294 \uc545\ub9c8"
     ]
    },
    {
     "cell_type": "markdown",
     "metadata": {},
     "source": [
      "### 1-2 \uc65c \ud30c\uc774\uc36c\uc774\ub780 \uc774\ub984\uc774 \ubd99\uc5c8\ub098?"
     ]
    },
    {
     "cell_type": "markdown",
     "metadata": {},
     "source": [
      "- \ud504\ub85c\uadf8\ub798\ubc0d \uc5b8\uc5b4\ub85c\uc11c Python \uc774\ub984\uc758 \uc720\ub798\ub294 1970\ub144\ub300\uc5d0 \uc601\uad6d BBC\uc5d0\uc11c \ubc29\uc601\ud55c \"Monty Python's Flying Circus\" \ubc29\uc601 \ud504\ub85c\uadf8\ub7a8\uc5d0\uc11c \uc720\ub798\ub418\uc5c8\ub2e4. \uc774 \ud504\ub85c\uadf8\ub7a8\uc740 \ub9e4\uc6b0 \uc5b4\uc0c9\ud558\uace0 \uc774\uc0c1\ud55c \ud589\ub3d9\uc744 \ubcf4\uc774\ub294 \uc0ac\ub78c\ub4e4\uc744 \uc1fc\ud615\ud0dc\ub85c \ubc29\uc601\ud558\uc5ec \ub9ce\uc740 \uc778\uae30\ub97c \ub204\ub838\ub2e4. \n",
      "- \uc774 \uc5b8\uc5b4\ub97c \ub9cc\ub4e0 <a href=\"http://en.wikipedia.org/wiki/Guido_van_Rossum\" target=\"_blank\">Guido van Rossum</a>\uc774 \uc774 \ud504\ub85c\uadf8\ub7a8\uc758 \ub300\ub2e8\ud55c \ud32c\uc774\uc5c8\uae30 \ub54c\ubb38\uc774\uc5c8\ub2e4. \n",
      "- 1989\ub144 12\uc6d4 \ud06c\ub9ac\uc2a4\ub9c8\uc2a4 \ud734\uac00\ub97c \ubcf4\ub0b4\uace0 \uc788\ub358 Guido\ub294 \ud734\uac00 \uae30\uac04\ub3d9\uc548 \ubb34\uc5c7\uc778\uac00 \uc7ac\ubbf8\uc788\uac8c \ud560 \uc218 \uc788\ub294 \ubb34\uc5b8\uac00\ub97c \ucc3e\uace0 \uc788\uc5c8\ub2e4. \n",
      "- \uc5f0\ud734\ub77c\uc11c \uc5f0\uad6c\uc2e4\uc774 \ub2eb\ud78c \uc0c1\ud669\uc5d0\uc11c \uc9d1\uc5d0\uc11c \ucef4\ud4e8\ud130\ub97c \uac00\uc9c0\uace0 \uc608\uc804\ubd80\ud130 \uc0dd\uac01\ud558\uace0 \uc788\uc5c8\ub358 \uc778\ud130\ud504\ub9ac\ud130(interpreter)\ub97c \ub9cc\ub4e4\uc5b4 \ubcf4\uae30\ub85c \uacb0\uc2ec\ud558\uc600\ub2e4. \n",
      "- \uc989, Guido\uac00 \ubb34\ub8cc\ud55c \ud55c\ub54c\ub97c \ubcf4\ub0b4\uae30 \uc704\ud558\uc5ec \ub9cc\ub4e4\uae30 \uc2dc\uc791\ud588\ub358 \uc5b8\uc5b4\uac00 \uc9c0\uae08 \ub9ce\uc740 \uc0ac\ub78c\ub4e4\uc774 \uc0ac\uc6a9\ud558\ub294 Python \uc5b8\uc5b4\uac00 \ub418\uc5c8\ub2e4."
     ]
    },
    {
     "cell_type": "markdown",
     "metadata": {},
     "source": [
      "### 1-3 \uc65c \ud30c\uc774\uc36c\uc744 \ubc30\uc6cc\uc57c \ud558\ub294\uac00?"
     ]
    },
    {
     "cell_type": "markdown",
     "metadata": {},
     "source": [
      "- \uac00\uc7a5 \uc911\uc694\ud55c \ub300\ub2f5: \"\uc0dd\uc0b0\uc131\uc774 \ub744\uc5b4\ub098\uae30 \ub54c\ubb38\"\n",
      "- \uba3c\uc800 \uac1c\ubc1c\ud558\ub77c! \uadf8\ub9ac\uace0 \ub098\uc11c \uc131\ub2a5\uc744 \uac1c\uc120\ud558\ub77c."
     ]
    },
    {
     "cell_type": "markdown",
     "metadata": {},
     "source": [
      "### 1-4 \ud30c\uc774\uc36c\uc740 \uc5b4\ub5a4 \uc5b8\uc5b4\uc778\uac00?"
     ]
    },
    {
     "cell_type": "markdown",
     "metadata": {},
     "source": [
      "- \ub300\ud654 \uae30\ub2a5\uc758 \uc778\ud130\ud504\ub9ac\ud130 \uc5b8\uc5b4\n",
      "- \ub3d9\uc801\uc778 \ub370\uc774\ud130 \ud0c0\uc785 \uacb0\uc815 \uc9c0\uc6d0"
     ]
    },
    {
     "cell_type": "code",
     "collapsed": false,
     "input": [
      "def add(a,b):\n",
      "    return a+b\n",
      "\n",
      "print add(1,2)\n",
      "print add('abc', 'def')\n",
      "print add([1, 2, 3], [4, 5, 6])"
     ],
     "language": "python",
     "metadata": {},
     "outputs": [
      {
       "output_type": "stream",
       "stream": "stdout",
       "text": [
        "3\n",
        "abcdef\n",
        "[1, 2, 3, 4, 5, 6]\n"
       ]
      }
     ],
     "prompt_number": 1
    },
    {
     "cell_type": "markdown",
     "metadata": {},
     "source": [
      "- \ud50c\ub7ab\ud3fc \ub3c5\ub9bd\uc801 \uc5b8\uc5b4\n",
      "- \uac1c\ubc1c \uae30\uac04 \ub2e8\ucd95\uc5d0 \ucd1b\uc810\uc744 \ub454 \uc5b8\uc5b4\n",
      "- \uac04\ub2e8\ud558\uace0 \uc26c\uc6b4 \ubb38\ubc95\n",
      "- \uace0\uc218\uc900\uc758 \ub0b4\uc7a5 \uac1d\uccb4 \uc790\ub8cc\ud615 \uc81c\uacf5"
     ]
    },
    {
     "cell_type": "code",
     "collapsed": false,
     "input": [
      "a=[12, 'abcde', 4+2j, [3,4,5]]\n",
      "a.append('add')\n",
      "print a;"
     ],
     "language": "python",
     "metadata": {},
     "outputs": [
      {
       "output_type": "stream",
       "stream": "stdout",
       "text": [
        "[12, 'abcde', (4+2j), [3, 4, 5], 'add']\n"
       ]
      }
     ],
     "prompt_number": 2
    },
    {
     "cell_type": "markdown",
     "metadata": {},
     "source": [
      "- \uba54\ubaa8\ub9ac \uc790\ub3d9 \uad00\ub9ac\n",
      "- \ud300\uc6cc\ud06c\uc5d0 \uc720\uc6a9\n",
      "- \uc26c\uc6b4 \uc720\uc9c0 \ubcf4\uc218\n",
      "- \ub9ce\uc740 \uc218\uc758 \ub77c\uc774\ube0c\ub7ec\ub9ac \uc81c\uacf5\n",
      "- \uc9e7\uc544\uc9c0\ub294 \ucf54\ub4dc\n",
      "- \ub192\uc740 \ud655\uc7a5\uc131\n",
      "- \ud655\uc7a5 \ubc0f \ub0b4\uc7a5\uae30\ub2a5\n",
      "- \ubb34\ub8cc"
     ]
    },
    {
     "cell_type": "markdown",
     "metadata": {},
     "source": [
      "### 1-5 \ud30c\uc774\uc36c\uc744 \uc5b4\ub514\uc5d0 \uc0ac\uc6a9\ud558\uba74 \uc801\ub2f9\ud55c\uac00?"
     ]
    },
    {
     "cell_type": "markdown",
     "metadata": {},
     "source": [
      "- \uc2dc\uc2a4\ud15c \uc720\ud2f8\ub9ac\ud2f0\n",
      "- GUI\n",
      "- \uc778\ud130\ub137 \ud504\ub85c\uadf8\ub798\ubc0d\n",
      "- DB \ud504\ub85c\uadf8\ub798\ubc0d\n",
      "- \uac01\uc885 \ud14d\uc2a4\ud2b8 \ud504\ub85c\uc138\uc2f1\n",
      "- \uae30\ud0c0"
     ]
    },
    {
     "cell_type": "markdown",
     "metadata": {},
     "source": [
      "### 1-6 \ud30c\uc774\uc36c\uc758 \ucd9c\ubc1c"
     ]
    },
    {
     "cell_type": "markdown",
     "metadata": {},
     "source": [
      "- \ud30c\uc774\uc36c\uc758 \uae30\ubc18\uc740 80\ub144\ub300 \ucd08\ubc18\uc5d0 Guido\uac00 \ub3d9\ub8cc\ub4e4\uacfc \ud568\uaed8 \uac1c\ubc1c\uc744 \ud558\uc600\ub358 ABC\ub77c\ub294 \uc5b8\uc5b4\uc774\ub2e4. \n",
      "- 80\ub144\ub300\uc5d0 ABC\ub77c\ub294 \uc5b8\uc5b4\ub294 \ucd5c\uace0\uc758 \uad50\uc721\uc6a9 \uc5b8\uc5b4\ub85c \uc54c\ub824\uc84c\uc5c8\uace0 \uc804\ubb38 \ud504\ub85c\uadf8\ub798\uba38\uac00 \uc544\ub2cc \uc0ac\ub78c\uc774 \ubc30\uc6b0\uae30 \ud3b8\ud558\uac8c \ub9cc\ub4e4\uc5b4\uc9c4 \uc544\uc8fc \ud6cc\ub96d\ud55c \uc5b8\uc5b4\uc600\ub2e4. \n",
      "- \uadf8\ub7fc\uc5d0\ub3c4 \ubd88\uad6c\ud558\uace0 \uc804\ubb38 \ud504\ub85c\uadf8\ub798\uba38\ub4e4\uc5d0\uac8c\ub294 \uac70\uc758 \ubc1b\uc544 \ub4e4\uc5ec\uc9c0\uc9c0\ub3c4 \uc54a\uc558\uace0 \uc798 \uc0ac\uc6a9\ub418\uc9c0\ub3c4 \uc54a\uc558\ub2e4.\n",
      "- \uc774\ub294 \ud504\ub85c\uadf8\ub798\ubc0d\uc774 \uadf8\ub807\uac8c \ub9ce\uc774 \ub300\uc911\ud654\uac00 \ub418\uc9c0 \uc54a\uc740 \uc0c1\ud669\uc5d0\uc11c \uc804\ubb38 \ud504\ub85c\uadf8\ub798\uba38\ub4e4\uc5d0\uac8c \uc678\uba74\ubc1b\uc558\uc744 \ub54c\uc5d0 \ub098\uc62c \uc218 \uc788\ub294 \uacb0\uacfc\ub77c\uace0 \ubcfc \uc218 \uc788\ub2e4. \n",
      "- Guido\ub294 \ud30c\uc774\uc36c\uc73c\ub85c \uc2e4\uc81c \ubb38\uc81c\ub97c \ub354\uc6b1\ub354 \uc27d\uac8c \ud574\uacb0\ud560 \uc218 \uc788\ub3c4\ub85d \uc124\uacc4\ud558\uc600\uc73c\uba70 C\uc5b8\uc5b4\ub098 \uc720\ub2c9\uc2a4 \uc258\uc744 \ub300\uc2e0\ud574\uc11c \uc880 \ub354 \ud3b8\ud558\uac8c \uc0ac\uc6a9\ud560 \uc218 \uc788\ub294 \uc5b8\uc5b4\ub97c \uac1c\ubc1c\ud558\ub294 \ub370 \ucd08\uc810\uc744 \ub9de\ucd94\uc5c8\ub2e4. \n",
      "- Guido\uac00 \uc0dd\uac01\ud588\ub358 \ub610\ud558\ub098\uc758 \uc5b8\uc5b4\uc801 \ud2b9\uc9d5\uc740 \ub4e4\uc5ec\uc4f0\uae30\ub97c \ucca0\uc800\ud558\uac8c \uc9c0\ud0a8\ub3c4\ub85d \uc5b8\uc5b4\ub97c \uc124\uacc4\ud588\ub2e4\ub294 \uc810\uc774\ub2e4. \n",
      "- \uc774\ub7ec\ud55c \uc5b8\uc5b4\uc801\uc778 \ud2b9\uc9d5\ub3c4 ABC\ub77c\ub294 \uc5b8\uc5b4\uc5d0\uc11c \ub098\uc628 \uac83\uc774\uba70 \uc774\ub294 \ucf54\ub4dc\uc758 \uac00\ub3c5\uc131\uc744 \ub9e4\uc6b0 \ub192\ud600\uc8fc\ub294 \ud2b9\uc9d5\uc774\ub2e4.\n",
      "- \ud504\ub85c\uadf8\ub798\uba38\uac00 \ucf54\ub529\uc2dc\uc5d0 \uc5c4\uaca9\ud55c \ub4e4\uc5ec\uc4f0\uae30\ub97c \ud558\uc5ec \ud504\ub85c\uadf8\ub7a8\uc744 \ub9cc\ub4e4\uba74 \ub9cc\ub4e4\uba74 \ub2e4\ub978 \uc0ac\ub78c\uc774 \uadf8 \ucf54\ub4dc\ub97c \uc77d\ub294\ub370 \uc5b4\ub824\uc6c0\uc744 \ub35c\uc5b4\uc900\ub2e4. \n",
      "- C \uc5b8\uc5b4\uc5d0\uc11c\ucc98\ub7fc {} \ub4f1\uc758 \uad04\ud638\ub97c \ub123\uc9c0 \uc54a\ub294 \ub2e4\ub294 \uac83\uc774 \ud504\ub85c\uadf8\ub7a8\uc744 \uc880\ub354 \uae54\ub054\ud558\uace0 \uae68\ub057\ud558\uac8c \ub9cc\ub4e4\uc5b4\uc900\ub2e4. \n",
      "- \ud30c\uc774\uc36c\uc740 \uadf8 \ucf54\ub4dc\ub97c \uc7ac\uc0ac\uc6a9\ud558\uae30 \uc27d\uac8c \ub9cc\ub4e4\uc5b4\uc900\ub2e4. \n",
      "- \ucf54\ub4dc\uc758 \ubd84\uc11d\ub3c4 \uc26c\uc6b8\ubfd0 \uc544\ub2c8\ub77c \uc774\ub85c \uc778\ud574 \uadf8 \ucf54\ub4dc\ub97c \ubc1b\uc544\uc11c \uc791\uc5c5\ud558\ub294 \ub2e4\ub978 \uc0ac\ub78c\ub3c4 \ud6e8\uc52c \ub354 \uc791\uc5c5\uc744 \ud3b8\ud558\uac8c \ud574\uc900\ub2e4. \n",
      "- \uc774\ub294 ABC \uc5b8\uc5b4\ub97c \uac00\ub974\uce60 \ub54c \ud56d\uc0c1 \uac15\uc870\ud558\ub294 \ucf54\ub4dc\uc758 \uae54\ub054\ud568\uc744 Guido\uac00 \uadf8\ub300\ub85c \uac00\uc838\uc628 \uac83\uc774\ub77c \ud560 \uc218 \uc788\ub2e4. "
     ]
    },
    {
     "cell_type": "markdown",
     "metadata": {},
     "source": [
      "***\n",
      "## 02 \ud30c\uc774\uc36c \uc124\uce58\n",
      "***"
     ]
    },
    {
     "cell_type": "markdown",
     "metadata": {},
     "source": [
      "### 2-1 \ud30c\uc774\uc36c \ucf54\ub529 \ud658\uacbd \uad6c\ucd95 "
     ]
    },
    {
     "cell_type": "markdown",
     "metadata": {},
     "source": [
      "- Enthought Canopy\n",
      "  - https://www.enthought.com/products/canopy/\n",
      "  - CANOPY EXPRESS (Free) \ub2e4\uc6b4\ub85c\ub4dc \n",
      "- \ud30c\uc77c\ud3b8\uc9d1\uae30\n",
      "  - acroedit (http://www.acrosoft.pe.kr/board)\ub4f1 \uc0ac\uc6a9\n",
      "- Python \uc2e4\ud589\n",
      "  - CMD \ucc3d\n",
      "  - ipython \uba85\ub839\uc5b4 \uc774\uc6a9"
     ]
    },
    {
     "cell_type": "markdown",
     "metadata": {},
     "source": [
      "### 2-2 Github\ub97c \ud1b5\ud55c \uc18c\uc2a4\ucf54\ub4dc \uad00\ub9ac"
     ]
    },
    {
     "cell_type": "markdown",
     "metadata": {},
     "source": [
      "- github \uac00\uc785\n",
      "  - http://www.github.com\n",
      "  - sourcetree (http://www.sourcetreeapp.com/) \ud504\ub85c\uadf8\ub7a8\uc73c\ub85c git \uad00\ub828 \uc0ac\ud56d \ucc98\ub9ac"
     ]
    },
    {
     "cell_type": "markdown",
     "metadata": {},
     "source": [
      "### 2-3 ipython notebook\uc744 \ud1b5\ud55c \uc219\uc81c \ubcf4\uace0\uc11c \uc791\uc131"
     ]
    },
    {
     "cell_type": "markdown",
     "metadata": {},
     "source": [
      "- ipython \n",
      "http://analyticsstory.com/20\n",
      "- ipyhton notebook \uc2e4\ud589 \ubc0f \ube0c\ub77c\uc6b0\uc800\uc5d0\uc11c \ubcf4\uace0\uc11c \uc791\uc131\n",
      "- gist.github.com\uc5d0 sourcetree\ub97c \ud65c\uc6a9\ud558\uc5ec \ubcf4\uace0\uc11c \uc18c\uc2a4 \uad00\ub9ac\n",
      "- ipython notebook viewer(http://nbviewer.ipython.org )\ub97c \ud1b5\ud55c \ubcf4\uace0\uc11c \ub4f1\ub85d\n",
      "- el.koreatech.ac.kr\uc5d0 \ubcf4\uace0\uc11c URL \ub4f1\ub85d"
     ]
    },
    {
     "cell_type": "markdown",
     "metadata": {},
     "source": [
      "***\n",
      "## 03 \ud30c\uc774\uc36c \ud504\ub85c\uadf8\ub7a8 \uac04\ub2e8\ud788 \uc2e4\ud589\ud574 \ubcf4\uae30 (\uad50\uc7ac 48\ud398\uc774\uc9c0)\n",
      "***"
     ]
    },
    {
     "cell_type": "markdown",
     "metadata": {},
     "source": [
      "### 3-1 \ub300\ud654\uc2dd \ubaa8\ub4dc\ub85c \ubb38 \uc2e4\ud589\ud558\uae30"
     ]
    },
    {
     "cell_type": "code",
     "collapsed": false,
     "input": [
      "print 4+5\n",
      "print \"Hello World!\""
     ],
     "language": "python",
     "metadata": {},
     "outputs": [
      {
       "output_type": "stream",
       "stream": "stdout",
       "text": [
        "9\n",
        "Hello World!\n"
       ]
      }
     ],
     "prompt_number": 2
    },
    {
     "cell_type": "heading",
     "level": 3,
     "metadata": {},
     "source": [
      "3-2 \uc0b0\uc220 \uc5f0\uc0b0\ud558\uae30"
     ]
    },
    {
     "cell_type": "markdown",
     "metadata": {},
     "source": [
      "- \ud30c\uc774\uc36c\uc758 \uc218\uce58\ud615 \uc885\ub958\n",
      "  - int\n",
      "  - long (\uc790\ubc14\uc758 long\uacfc\ub294 \ub2e4\ub984. \uc790\ubc14\uc758 BigInteger\uc640 \uc720\uc0ac)\n",
      "  - float\n",
      "  - complex\n",
      "- \ucc38\uace0: https://docs.python.org/2/library/stdtypes.html#numeric-types-int-float-long-complex"
     ]
    },
    {
     "cell_type": "code",
     "collapsed": false,
     "input": [
      "print 4 + 5\n",
      "print 12 - 32\n",
      "print (4 + 5) * 6\n",
      "print 4 + 5 * 6\n",
      "print\n",
      "print 9 / 5 # \uc815\uc218/\uc815\uc218 \uc5f0\uc0b0 \uacb0\uacfc\ub294 \uc815\uc218. \uadf8\ub798\uc11c \ubaab\ub9cc \uacc4\uc0b0\uacb0\uacfc\ub85c \ub098\uc628\ub2e4.\n",
      "print - (9 / 5)\n",
      "print\n",
      "print 9.0 / 5.0\n",
      "print 9 / 5.0\n",
      "print\n",
      "print 9.0 // 5.0 # \ubaab \uc5f0\uc0b0\uc790\n",
      "print\n",
      "print 2 ** 3"
     ],
     "language": "python",
     "metadata": {},
     "outputs": [
      {
       "output_type": "stream",
       "stream": "stdout",
       "text": [
        "9\n",
        "-20\n",
        "54\n",
        "34\n",
        "\n",
        "1\n",
        "-1\n",
        "\n",
        "1.8\n",
        "1.8\n",
        "\n",
        "1.0\n",
        "\n",
        "8\n"
       ]
      }
     ],
     "prompt_number": 25
    },
    {
     "cell_type": "code",
     "collapsed": false,
     "input": [
      "print -9 / 5\n",
      "print 5 * (-2) + 1"
     ],
     "language": "python",
     "metadata": {},
     "outputs": [
      {
       "output_type": "stream",
       "stream": "stdout",
       "text": [
        "-2\n",
        "-9\n"
       ]
      }
     ],
     "prompt_number": 12
    },
    {
     "cell_type": "code",
     "collapsed": false,
     "input": [
      "print 9 % 5\n",
      "print -9 % 5"
     ],
     "language": "python",
     "metadata": {},
     "outputs": [
      {
       "output_type": "stream",
       "stream": "stdout",
       "text": [
        "4\n",
        "1\n"
       ]
      }
     ],
     "prompt_number": 13
    },
    {
     "cell_type": "markdown",
     "metadata": {},
     "source": [
      "- \ubaab\uc740 \ud56d\uc0c1 \uc74c\uc758 \ubb34\ud55c\ub300 \ubc29\ud5a5\uc73c\ub85c round up (\ubc18\uc62c\ub9bc) \ub41c\ub2e4. "
     ]
    },
    {
     "cell_type": "code",
     "collapsed": false,
     "input": [
      "print 1 / 2\n",
      "print -1 / 2\n",
      "print 1 / -2\n",
      "print -1 / -2"
     ],
     "language": "python",
     "metadata": {},
     "outputs": [
      {
       "output_type": "stream",
       "stream": "stdout",
       "text": [
        "0\n",
        "-1\n",
        "-1\n",
        "0\n"
       ]
      }
     ],
     "prompt_number": 2
    },
    {
     "cell_type": "markdown",
     "metadata": {},
     "source": [
      "- divmod(): \ubaab\uacfc \ub098\uba38\uc9c0\ub97c \ud55c\uaebc\ubc88\uc5d0 \uacc4\uc0b0\ud558\ub294 \ub0b4\uc7a5\ud568\uc218"
     ]
    },
    {
     "cell_type": "code",
     "collapsed": false,
     "input": [
      "print divmod(9, 5)\n",
      "a, b = divmod(9, 5)\n",
      "print a\n",
      "print b\n",
      "print\n",
      "c, d = (10, 11)\n",
      "print c\n",
      "print d"
     ],
     "language": "python",
     "metadata": {},
     "outputs": [
      {
       "output_type": "stream",
       "stream": "stdout",
       "text": [
        "(1, 4)\n",
        "1\n",
        "4\n",
        "\n",
        "10\n",
        "11\n"
       ]
      }
     ],
     "prompt_number": 23
    },
    {
     "cell_type": "code",
     "collapsed": false,
     "input": [
      "print divmod(1, 2)\n",
      "print divmod(-1, 2)\n",
      "print divmod(1, -2)\n",
      "print divmod(-1, -2)"
     ],
     "language": "python",
     "metadata": {},
     "outputs": [
      {
       "output_type": "stream",
       "stream": "stdout",
       "text": [
        "(0, 1)\n",
        "(-1, 1)\n",
        "(-1, -1)\n",
        "(0, -1)\n"
       ]
      }
     ],
     "prompt_number": 3
    },
    {
     "cell_type": "markdown",
     "metadata": {},
     "source": [
      "- \uc218\uce58\uc5d0 \uc18c\uc218\uc810\uc774 \uc788\uac70\ub098 e \ubb38\uc790\uc758 \uc9c0\uc218\uc2b9\uc774 \uc788\uc73c\uba74 \uc2e4\uc218\uac00 \ub428"
     ]
    },
    {
     "cell_type": "code",
     "collapsed": false,
     "input": [
      "print 5.\n",
      "print 5.0\n",
      "print 5.4e10\n",
      "print 5e10\n",
      "print -5e-3"
     ],
     "language": "python",
     "metadata": {},
     "outputs": [
      {
       "output_type": "stream",
       "stream": "stdout",
       "text": [
        "5.0\n",
        "5.0\n",
        "54000000000.0\n",
        "50000000000.0\n",
        "-0.005\n"
       ]
      }
     ],
     "prompt_number": 27
    },
    {
     "cell_type": "markdown",
     "metadata": {},
     "source": [
      "- int\uc758 max\uc640 min \uc54c\uc544\ubcf4\uae30"
     ]
    },
    {
     "cell_type": "code",
     "collapsed": false,
     "input": [
      "import sys\n",
      "print sys.maxint\n",
      "print -sys.maxint-1"
     ],
     "language": "python",
     "metadata": {},
     "outputs": [
      {
       "output_type": "stream",
       "stream": "stdout",
       "text": [
        "9223372036854775807\n",
        "-9223372036854775808\n"
       ]
      }
     ],
     "prompt_number": 4
    },
    {
     "cell_type": "markdown",
     "metadata": {},
     "source": [
      "###3-3 \ubb38\uc790\uc5f4 \uc5f0\uc0b0\ud558\uae30"
     ]
    },
    {
     "cell_type": "code",
     "collapsed": false,
     "input": [
      "print 'Hello'\n",
      "print \"Hi there!\""
     ],
     "language": "python",
     "metadata": {},
     "outputs": [
      {
       "output_type": "stream",
       "stream": "stdout",
       "text": [
        "Hello\n",
        "Hi there!\n"
       ]
      }
     ],
     "prompt_number": 5
    },
    {
     "cell_type": "code",
     "collapsed": false,
     "input": [
      "a = 'My name is '\n",
      "b = 'Amenda'\n",
      "print a + b"
     ],
     "language": "python",
     "metadata": {},
     "outputs": [
      {
       "output_type": "stream",
       "stream": "stdout",
       "text": [
        "My name is Amenda\n"
       ]
      }
     ],
     "prompt_number": 3
    },
    {
     "cell_type": "markdown",
     "metadata": {},
     "source": [
      "### 3-4 \uc885\ub8cc\ud558\uae30"
     ]
    },
    {
     "cell_type": "code",
     "collapsed": false,
     "input": [
      "raise SystemExit"
     ],
     "language": "python",
     "metadata": {},
     "outputs": [
      {
       "ename": "SystemExit",
       "evalue": "",
       "output_type": "pyerr",
       "traceback": [
        "An exception has occurred, use %tb to see the full traceback.\n",
        "\u001b[0;31mSystemExit\u001b[0m\n"
       ]
      },
      {
       "output_type": "stream",
       "stream": "stderr",
       "text": [
        "To exit: use 'exit', 'quit', or Ctrl-D.\n"
       ]
      }
     ],
     "prompt_number": 4
    },
    {
     "cell_type": "markdown",
     "metadata": {},
     "source": [
      "### 3-5 \ud30c\uc774\uc36c \ubc84\uc804 \uc54c\uc544\ubcf4\uae30"
     ]
    },
    {
     "cell_type": "code",
     "collapsed": false,
     "input": [
      "import sys\n",
      "print sys.version\n",
      "print\n",
      "print sys.version_info"
     ],
     "language": "python",
     "metadata": {},
     "outputs": [
      {
       "output_type": "stream",
       "stream": "stdout",
       "text": [
        "2.7.6 | 64-bit | (default, Jun  4 2014, 16:42:26) \n",
        "[GCC 4.2.1 (Apple Inc. build 5666) (dot 3)]\n",
        "\n",
        "sys.version_info(major=2, minor=7, micro=6, releaselevel='final', serial=0)\n"
       ]
      }
     ],
     "prompt_number": 10
    },
    {
     "cell_type": "markdown",
     "metadata": {},
     "source": [
      "### 3-6 \uc2e4\ud589\ud558\uae30"
     ]
    },
    {
     "cell_type": "markdown",
     "metadata": {},
     "source": [
      "- \ub2e4\uc74c \ub0b4\uc6a9\uc758 cal.py \ub9cc\ub4e4\uae30\n",
      "```\n",
      "# file: cal.py\n",
      "import calendar\n",
      "calendar.prmonth(2014, 9)\n",
      "```"
     ]
    },
    {
     "cell_type": "code",
     "collapsed": false,
     "input": [
      "import os\n",
      "print os.getcwd()  #ipython \uc2e4\ud589\ud6c4 \ud504\ub86c\ud504\ud2b8\uc5d0\uc11c %pwd\n",
      "print\n",
      "%run /Users/yhhan/git/ipython/cal.py  #cmd \ucc3d \ub0b4\uc5d0\uc11c \ud574\ub2f9 \ud3f4\ub354\ub85c \uc774\ub3d9 \ud6c4 ipython cal.py"
     ],
     "language": "python",
     "metadata": {},
     "outputs": [
      {
       "output_type": "stream",
       "stream": "stdout",
       "text": [
        "/Users/yhhan/git/jms\n",
        "\n",
        "   September 2014\n",
        "Mo Tu We Th Fr Sa Su\n",
        " 1  2  3  4  5  6  7\n",
        " 8  9 10 11 12 13 14\n",
        "15 16 17 18 19 20 21\n",
        "22 23 24 25 26 27 28\n",
        "29 30\n"
       ]
      }
     ],
     "prompt_number": 43
    },
    {
     "cell_type": "markdown",
     "metadata": {},
     "source": [
      "### 3-7 \ub300\ud654\uc2dd \ubaa8\ub4dc\uc5d0\uc11c \ud639\uc740 \ub2e4\ub978 \ubaa8\ub4c8\uc5d0\uc11c \ubaa8\ub4c8 \ud30c\uc77c \uc2e4\ud589\ud558\uae30"
     ]
    },
    {
     "cell_type": "code",
     "collapsed": false,
     "input": [
      "execfile('/Users/yhhan/git/python/cal.py')"
     ],
     "language": "python",
     "metadata": {},
     "outputs": [
      {
       "output_type": "stream",
       "stream": "stdout",
       "text": [
        "   September 2014\n",
        "Mo Tu We Th Fr Sa Su\n",
        " 1  2  3  4  5  6  7\n",
        " 8  9 10 11 12 13 14\n",
        "15 16 17 18 19 20 21\n",
        "22 23 24 25 26 27 28\n",
        "29 30\n"
       ]
      }
     ],
     "prompt_number": 27
    },
    {
     "cell_type": "markdown",
     "metadata": {},
     "source": [
      "- \ub2e4\uc74c \ub0b4\uc6a9\uc758 modfile.py \ub9cc\ub4e4\uae30\n",
      "\n",
      "```\n",
      "#!/usr/bin/env python\n",
      "#file: modfile.py\n",
      "\n",
      "s = 'module file sample'\n",
      "\n",
      "def add(a, b):\n",
      "\treturn a+b\n",
      "\n",
      "print add(3,4)\n",
      "```"
     ]
    },
    {
     "cell_type": "code",
     "collapsed": false,
     "input": [
      "import modfile\n",
      "modfile.s\n",
      "modfile.add(8,9)"
     ],
     "language": "python",
     "metadata": {},
     "outputs": [
      {
       "ename": "ImportError",
       "evalue": "No module named modfile",
       "output_type": "pyerr",
       "traceback": [
        "\u001b[0;31m---------------------------------------------------------------------------\u001b[0m\n\u001b[0;31mImportError\u001b[0m                               Traceback (most recent call last)",
        "\u001b[0;32m<ipython-input-44-42555e456c61>\u001b[0m in \u001b[0;36m<module>\u001b[0;34m()\u001b[0m\n\u001b[0;32m----> 1\u001b[0;31m \u001b[0;32mimport\u001b[0m \u001b[0mmodfile\u001b[0m\u001b[0;34m\u001b[0m\u001b[0m\n\u001b[0m\u001b[1;32m      2\u001b[0m \u001b[0mmodfile\u001b[0m\u001b[0;34m.\u001b[0m\u001b[0ms\u001b[0m\u001b[0;34m\u001b[0m\u001b[0m\n\u001b[1;32m      3\u001b[0m \u001b[0mmodfile\u001b[0m\u001b[0;34m.\u001b[0m\u001b[0madd\u001b[0m\u001b[0;34m(\u001b[0m\u001b[0;36m8\u001b[0m\u001b[0;34m,\u001b[0m\u001b[0;36m9\u001b[0m\u001b[0;34m)\u001b[0m\u001b[0;34m\u001b[0m\u001b[0m\n",
        "\u001b[0;31mImportError\u001b[0m: No module named modfile"
       ]
      }
     ],
     "prompt_number": 44
    },
    {
     "cell_type": "markdown",
     "metadata": {},
     "source": [
      "***\n",
      "## 04 \ud130\ud2c0 \uadf8\ub798\ud53d \uc2e4\ud589 (\uad50\uc7ac 60\ud398\uc774\uc9c0)\n",
      "***"
     ]
    },
    {
     "cell_type": "code",
     "collapsed": false,
     "input": [
      "from turtle import *\n",
      "reset()\n",
      "forward(100)\n",
      "left(90)\n",
      "forward(100)\n",
      "left(90)\n",
      "forward(100)\n",
      "left(90)\n",
      "forward(100)\n",
      "left(90)"
     ],
     "language": "python",
     "metadata": {},
     "outputs": [],
     "prompt_number": 3
    },
    {
     "cell_type": "code",
     "collapsed": true,
     "input": [
      "import matplotlib.pyplot as plt\n",
      "plt.plot([1,2,3,4,5,6], [1,4,9,16,25,36])\n",
      "plt.ylabel('some numbers')\n",
      "plt.show()"
     ],
     "language": "python",
     "metadata": {},
     "outputs": [
      {
       "metadata": {},
       "output_type": "display_data",
       "png": "[encoded data removed]",
       "text": [
        "<matplotlib.figure.Figure at 0x10b446450>"
       ]
      }
     ],
     "prompt_number": 1
    },
    {
     "cell_type": "markdown",
     "metadata": {},
     "source": [
      "***\n",
      "## 05 \ub3c4\uc6c0\ub9d0 \uc5bb\uae30 (\uad50\uc7ac 62\ud398\uc774\uc9c0)\n",
      "***"
     ]
    },
    {
     "cell_type": "code",
     "collapsed": false,
     "input": [
      "help(sys)"
     ],
     "language": "python",
     "metadata": {},
     "outputs": [
      {
       "output_type": "stream",
       "stream": "stdout",
       "text": [
        "Help on built-in module sys:\n",
        "\n",
        "NAME\n",
        "    sys\n",
        "\n",
        "FILE\n",
        "    (built-in)\n",
        "\n",
        "MODULE DOCS\n",
        "    http://docs.python.org/library/sys\n",
        "\n",
        "DESCRIPTION\n",
        "    This module provides access to some objects used or maintained by the\n",
        "    interpreter and to functions that interact strongly with the interpreter.\n",
        "    \n",
        "    Dynamic objects:\n",
        "    \n",
        "    argv -- command line arguments; argv[0] is the script pathname if known\n",
        "    path -- module search path; path[0] is the script directory, else ''\n",
        "    modules -- dictionary of loaded modules\n",
        "    \n",
        "    displayhook -- called to show results in an interactive session\n",
        "    excepthook -- called to handle any uncaught exception other than SystemExit\n",
        "      To customize printing in an interactive session or to install a custom\n",
        "      top-level exception handler, assign other functions to replace these.\n",
        "    \n",
        "    exitfunc -- if sys.exitfunc exists, this routine is called when Python exits\n",
        "      Assigning to sys.exitfunc is deprecated; use the atexit module instead.\n",
        "    \n",
        "    stdin -- standard input file object; used by raw_input() and input()\n",
        "    stdout -- standard output file object; used by the print statement\n",
        "    stderr -- standard error object; used for error messages\n",
        "      By assigning other file objects (or objects that behave like files)\n",
        "      to these, it is possible to redirect all of the interpreter's I/O.\n",
        "    \n",
        "    last_type -- type of last uncaught exception\n",
        "    last_value -- value of last uncaught exception\n",
        "    last_traceback -- traceback of last uncaught exception\n",
        "      These three are only available in an interactive session after a\n",
        "      traceback has been printed.\n",
        "    \n",
        "    exc_type -- type of exception currently being handled\n",
        "    exc_value -- value of exception currently being handled\n",
        "    exc_traceback -- traceback of exception currently being handled\n",
        "      The function exc_info() should be used instead of these three,\n",
        "      because it is thread-safe.\n",
        "    \n",
        "    Static objects:\n",
        "    \n",
        "    float_info -- a dict with information about the float inplementation.\n",
        "    long_info -- a struct sequence with information about the long implementation.\n",
        "    maxint -- the largest supported integer (the smallest is -maxint-1)\n",
        "    maxsize -- the largest supported length of containers.\n",
        "    maxunicode -- the largest supported character\n",
        "    builtin_module_names -- tuple of module names built into this interpreter\n",
        "    version -- the version of this interpreter as a string\n",
        "    version_info -- version information as a named tuple\n",
        "    hexversion -- version information encoded as a single integer\n",
        "    copyright -- copyright notice pertaining to this interpreter\n",
        "    platform -- platform identifier\n",
        "    executable -- absolute path of the executable binary of the Python interpreter\n",
        "    prefix -- prefix used to find the Python library\n",
        "    exec_prefix -- prefix used to find the machine-specific Python library\n",
        "    float_repr_style -- string indicating the style of repr() output for floats\n",
        "    __stdin__ -- the original stdin; don't touch!\n",
        "    __stdout__ -- the original stdout; don't touch!\n",
        "    __stderr__ -- the original stderr; don't touch!\n",
        "    __displayhook__ -- the original displayhook; don't touch!\n",
        "    __excepthook__ -- the original excepthook; don't touch!\n",
        "    \n",
        "    Functions:\n",
        "    \n",
        "    displayhook() -- print an object to the screen, and save it in __builtin__._\n",
        "    excepthook() -- print an exception and its traceback to sys.stderr\n",
        "    exc_info() -- return thread-safe information about the current exception\n",
        "    exc_clear() -- clear the exception state for the current thread\n",
        "    exit() -- exit the interpreter by raising SystemExit\n",
        "    getdlopenflags() -- returns flags to be used for dlopen() calls\n",
        "    getprofile() -- get the global profiling function\n",
        "    getrefcount() -- return the reference count for an object (plus one :-)\n",
        "    getrecursionlimit() -- return the max recursion depth for the interpreter\n",
        "    getsizeof() -- return the size of an object in bytes\n",
        "    gettrace() -- get the global debug tracing function\n",
        "    setcheckinterval() -- control how often the interpreter checks for events\n",
        "    setdlopenflags() -- set the flags to be used for dlopen() calls\n",
        "    setprofile() -- set the global profiling function\n",
        "    setrecursionlimit() -- set the max recursion depth for the interpreter\n",
        "    settrace() -- set the global debug tracing function\n",
        "\n",
        "FUNCTIONS\n",
        "    __displayhook__ = displayhook(...)\n",
        "        displayhook(object) -> None\n",
        "        \n",
        "        Print an object to sys.stdout and also save it in __builtin__._\n",
        "    \n",
        "    __excepthook__ = excepthook(...)\n",
        "        excepthook(exctype, value, traceback) -> None\n",
        "        \n",
        "        Handle an exception by displaying it with a traceback on sys.stderr.\n",
        "    \n",
        "    call_tracing(...)\n",
        "        call_tracing(func, args) -> object\n",
        "        \n",
        "        Call func(*args), while tracing is enabled.  The tracing state is\n",
        "        saved, and restored afterwards.  This is intended to be called from\n",
        "        a debugger from a checkpoint, to recursively debug some other code.\n",
        "    \n",
        "    callstats(...)\n",
        "        callstats() -> tuple of integers\n",
        "        \n",
        "        Return a tuple of function call statistics, if CALL_PROFILE was defined\n",
        "        when Python was built.  Otherwise, return None.\n",
        "        \n",
        "        When enabled, this function returns detailed, implementation-specific\n",
        "        details about the number of function calls executed. The return value is\n",
        "        a 11-tuple where the entries in the tuple are counts of:\n",
        "        0. all function calls\n",
        "        1. calls to PyFunction_Type objects\n",
        "        2. PyFunction calls that do not create an argument tuple\n",
        "        3. PyFunction calls that do not create an argument tuple\n",
        "           and bypass PyEval_EvalCodeEx()\n",
        "        4. PyMethod calls\n",
        "        5. PyMethod calls on bound methods\n",
        "        6. PyType calls\n",
        "        7. PyCFunction calls\n",
        "        8. generator calls\n",
        "        9. All other calls\n",
        "        10. Number of stack pops performed by call_function()\n",
        "    \n",
        "    exc_clear(...)\n",
        "        exc_clear() -> None\n",
        "        \n",
        "        Clear global information on the current exception.  Subsequent calls to\n",
        "        exc_info() will return (None,None,None) until another exception is raised\n",
        "        in the current thread or the execution stack returns to a frame where\n",
        "        another exception is being handled.\n",
        "    \n",
        "    exc_info(...)\n",
        "        exc_info() -> (type, value, traceback)\n",
        "        \n",
        "        Return information about the most recent exception caught by an except\n",
        "        clause in the current stack frame or in an older stack frame.\n",
        "    \n",
        "    exit(...)\n",
        "        exit([status])\n",
        "        \n",
        "        Exit the interpreter by raising SystemExit(status).\n",
        "        If the status is omitted or None, it defaults to zero (i.e., success).\n",
        "        If the status is an integer, it will be used as the system exit status.\n",
        "        If it is another kind of object, it will be printed and the system\n",
        "        exit status will be one (i.e., failure).\n",
        "    \n",
        "    getcheckinterval(...)\n",
        "        getcheckinterval() -> current check interval; see setcheckinterval().\n",
        "    \n",
        "    getdefaultencoding(...)\n",
        "        getdefaultencoding() -> string\n",
        "        \n",
        "        Return the current default string encoding used by the Unicode \n",
        "        implementation.\n",
        "    \n",
        "    getdlopenflags(...)\n",
        "        getdlopenflags() -> int\n",
        "        \n",
        "        Return the current value of the flags that are used for dlopen calls.\n",
        "        The flag constants are defined in the ctypes and DLFCN modules.\n",
        "    \n",
        "    getfilesystemencoding(...)\n",
        "        getfilesystemencoding() -> string\n",
        "        \n",
        "        Return the encoding used to convert Unicode filenames in\n",
        "        operating system filenames.\n",
        "    \n",
        "    getprofile(...)\n",
        "        getprofile()\n",
        "        \n",
        "        Return the profiling function set with sys.setprofile.\n",
        "        See the profiler chapter in the library manual.\n",
        "    \n",
        "    getrecursionlimit(...)\n",
        "        getrecursionlimit()\n",
        "        \n",
        "        Return the current value of the recursion limit, the maximum depth\n",
        "        of the Python interpreter stack.  This limit prevents infinite\n",
        "        recursion from causing an overflow of the C stack and crashing Python.\n",
        "    \n",
        "    getrefcount(...)\n",
        "        getrefcount(object) -> integer\n",
        "        \n",
        "        Return the reference count of object.  The count returned is generally\n",
        "        one higher than you might expect, because it includes the (temporary)\n",
        "        reference as an argument to getrefcount().\n",
        "    \n",
        "    getsizeof(...)\n",
        "        getsizeof(object, default) -> int\n",
        "        \n",
        "        Return the size of object in bytes.\n",
        "    \n",
        "    gettrace(...)\n",
        "        gettrace()\n",
        "        \n",
        "        Return the global debug tracing function set with sys.settrace.\n",
        "        See the debugger chapter in the library manual.\n",
        "    \n",
        "    setcheckinterval(...)\n",
        "        setcheckinterval(n)\n",
        "        \n",
        "        Tell the Python interpreter to check for asynchronous events every\n",
        "        n instructions.  This also affects how often thread switches occur.\n",
        "    \n",
        "    setdlopenflags(...)\n",
        "        setdlopenflags(n) -> None\n",
        "        \n",
        "        Set the flags used by the interpreter for dlopen calls, such as when the\n",
        "        interpreter loads extension modules.  Among other things, this will enable\n",
        "        a lazy resolving of symbols when importing a module, if called as\n",
        "        sys.setdlopenflags(0).  To share symbols across extension modules, call as\n",
        "        sys.setdlopenflags(ctypes.RTLD_GLOBAL).  Symbolic names for the flag modules\n",
        "        can be either found in the ctypes module, or in the DLFCN module. If DLFCN\n",
        "        is not available, it can be generated from /usr/include/dlfcn.h using the\n",
        "        h2py script.\n",
        "    \n",
        "    setprofile(...)\n",
        "        setprofile(function)\n",
        "        \n",
        "        Set the profiling function.  It will be called on each function call\n",
        "        and return.  See the profiler chapter in the library manual.\n",
        "    \n",
        "    setrecursionlimit(...)\n",
        "        setrecursionlimit(n)\n",
        "        \n",
        "        Set the maximum depth of the Python interpreter stack to n.  This\n",
        "        limit prevents infinite recursion from causing an overflow of the C\n",
        "        stack and crashing Python.  The highest possible limit is platform-\n",
        "        dependent.\n",
        "    \n",
        "    settrace(...)\n",
        "        settrace(function)\n",
        "        \n",
        "        Set the global debug tracing function.  It will be called on each\n",
        "        function call.  See the debugger chapter in the library manual.\n",
        "\n",
        "DATA\n",
        "    __stderr__ = <open file '<stderr>', mode 'w'>\n",
        "    __stdin__ = <open file '<stdin>', mode 'r'>\n",
        "    __stdout__ = <open file '<stdout>', mode 'w'>\n",
        "    api_version = 1013\n",
        "    argv = ['-c', '-f', '/Users/yhhan/.ipython/profile_default/security/ke...\n",
        "    base_exec_prefix = '/Applications/Canopy.app/appdata/canopy-1.4.1.1975...\n",
        "    base_prefix = '/Applications/Canopy.app/appdata/canopy-1.4.1.1975.maco...\n",
        "    builtin_module_names = ('__builtin__', '__main__', '_ast', '_codecs', ...\n",
        "    byteorder = 'little'\n",
        "    copyright = 'Copyright (c) 2001-2013 Python Software Foundati...ematis...\n",
        "    displayhook = <IPython.kernel.zmq.displayhook.ZMQShellDisplayHook obje...\n",
        "    dont_write_bytecode = False\n",
        "    exc_value = TypeError(\"<module 'sys' (built-in)> is a built-in module\"...\n",
        "    exec_prefix = '/Users/yhhan/Library/Enthought/Canopy_64bit/User'\n",
        "    executable = '/Users/yhhan/Library/Enthought/Canopy_64bit/User/bin/pyt...\n",
        "    flags = sys.flags(debug=0, py3k_warning=0, division_warn...unicode=0, ...\n",
        "    float_info = sys.float_info(max=1.7976931348623157e+308, max_...epsilo...\n",
        "    float_repr_style = 'short'\n",
        "    hexversion = 34014960\n",
        "    last_value = ImportError('No module named modfile',)\n",
        "    long_info = sys.long_info(bits_per_digit=30, sizeof_digit=4)\n",
        "    maxint = 9223372036854775807\n",
        "    maxsize = 9223372036854775807\n",
        "    maxunicode = 65535\n",
        "    meta_path = [<six._SixMetaPathImporter object>]\n",
        "    modules = {'ConfigParser': <module 'ConfigParser' from '/Applications/...\n",
        "    path = ['', '/Applications/Canopy.app/appdata/canopy-1.4.1.19...acosx-...\n",
        "    path_hooks = [<type 'zipimport.zipimporter'>]\n",
        "    path_importer_cache = {'': None, '/Applications/Canopy.app/appdata/can...\n",
        "    platform = 'darwin'\n",
        "    prefix = '/Users/yhhan/Library/Enthought/Canopy_64bit/User'\n",
        "    ps1 = 'In : '\n",
        "    ps2 = '...: '\n",
        "    ps3 = 'Out: '\n",
        "    py3kwarning = False\n",
        "    stderr = <IPython.kernel.zmq.iostream.OutStream object>\n",
        "    stdin = <open file '<stdin>', mode 'r'>\n",
        "    stdout = <IPython.kernel.zmq.iostream.OutStream object>\n",
        "    subversion = ('CPython', '', '')\n",
        "    version = '2.7.6 | 64-bit | (default, Jun  4 2014, 16:42:26) \\n[GCC 4....\n",
        "    version_info = sys.version_info(major=2, minor=7, micro=6, releaseleve...\n",
        "    warnoptions = []\n",
        "\n",
        "\n"
       ]
      }
     ],
     "prompt_number": 41
    },
    {
     "cell_type": "code",
     "collapsed": false,
     "input": [
      "?help"
     ],
     "language": "python",
     "metadata": {},
     "outputs": [],
     "prompt_number": 42
    },
    {
     "cell_type": "code",
     "collapsed": false,
     "input": [
      "help(sys.exit)"
     ],
     "language": "python",
     "metadata": {},
     "outputs": [
      {
       "output_type": "stream",
       "stream": "stdout",
       "text": [
        "Help on built-in function exit in module sys:\n",
        "\n",
        "exit(...)\n",
        "    exit([status])\n",
        "    \n",
        "    Exit the interpreter by raising SystemExit(status).\n",
        "    If the status is omitted or None, it defaults to zero (i.e., success).\n",
        "    If the status is an integer, it will be used as the system exit status.\n",
        "    If it is another kind of object, it will be printed and the system\n",
        "    exit status will be one (i.e., failure).\n",
        "\n"
       ]
      }
     ],
     "prompt_number": 10
    },
    {
     "cell_type": "markdown",
     "metadata": {},
     "source": []
    }
   ],
   "metadata": {}
  }
 ]
}