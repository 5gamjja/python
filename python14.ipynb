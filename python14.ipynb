{
 "metadata": {
  "name": "",
  "signature": "sha256:ce95e5e5f48c1cbe30a1e59e21fb213cc5570cb399f34934c4f2277c3d11860c"
 },
 "nbformat": 3,
 "nbformat_minor": 0,
 "worksheets": [
  {
   "cells": [
    {
     "cell_type": "markdown",
     "metadata": {},
     "source": [
      "***\n",
      "***\n",
      "# 14. \uc57d\ud55c\ucc38\uc870, \ubc18\ubcf5\uc790, \ubc1c\uc0dd\uc790\n",
      "***\n",
      "***"
     ]
    },
    {
     "cell_type": "markdown",
     "metadata": {},
     "source": [
      "***\n",
      "## 01 \uc57d\ud55c \ucc38\uc870\n",
      "***"
     ]
    },
    {
     "cell_type": "markdown",
     "metadata": {},
     "source": [
      "### 1-1 \uc57d\ud55c \ucc38\uc870\uc758 \uc815\uc758\n",
      "- \uc57d\ud55c \ucc38\uc870 (Weak Reference)\n",
      "  - \ub808\ud37c\ub7f0\uc2a4 \uce74\uc6b4\ud2b8\ub85c \uace0\ub824\ub418\uc9c0 \uc54a\ub294 \ucc38\uc870\n",
      "- \uc77c\ubc18\uc801\uc73c\ub85c \uac1d\uccb4\ub97c \ucc38\uc870\ud558\ub294 \ub808\ud37c\ub7f0\uc2a4 \uce74\uc6b4\ud2b8\uac00 0\uc774\uba74 \ud574\ub2f9 \uac1d\uccb4\ub294 \uc4f0\ub808\uae30 \uc218\uc9d1(\uba54\ubaa8\ub9ac \ud574\uc81c, Release)\ub428  \n",
      "- \uac1d\uccb4\uac00 \uba54\ubaa8\ub9ac\uc5d0\uc11c \ud574\uc81c \ub420 \ub54c \uc57d\ud55c \ucc38\uc870\ub294 \uc815\uc758\ub418\uc9c0 \uc54a\uc740 \uc0c1\ud0dc\ub85c \ubcc0\uacbd\ub428 "
     ]
    },
    {
     "cell_type": "markdown",
     "metadata": {},
     "source": [
      "### 1-2 \uc57d\ud55c \ucc38\uc870\uc758 \ud544\uc694\uc131\n",
      "- \uc21c\ud658 \ucc38\uc870 (Cyclic Reference)\n",
      "  - \uc0ac\ub85c \ub2e4\ub978 \uac1d\uccb4\ub4e4 \uc0ac\uc774\uc5d0 \ucc38\uc870 \ubc29\uc2dd\uc774 \uc21c\ud658 \ud615\ud0dc\ub85c \uc5f0\uacb0\ub418\ub294 \ubc29\uc2dd\n",
      "  - \ub3c5\ub9bd\uc801\uc73c\ub85c \uc874\uc7ac\ud558\uc9c0\ub9cc \uc21c\ud658 \ucc38\uc870\ub418\ub294 \uc11c\ub85c \ub2e4\ub978 \uac1d\uccb4 \uadf8\ub8f9\uc740 \uc4f0\ub808\uae30 \uc218\uc9d1\uc774 \uc798 \uc548\ub41c\ub2e4.\n",
      "    - \uc8fc\uae30\uc801\uc73c\ub85c \uc21c\ud658 \ucc38\uc870\ub97c \uc870\uc0ac\ud558\uc5ec \uc4f0\ub808\uae30 \uc218\uc9d1\ud558\ub294 \uae30\ub2a5\uc774 \uc788\uc9c0\ub9cc, CPU \uc790\uc6d0 \ub0ad\ube44\uac00 \uc2ec\ud558\ub2e4.\n",
      "    - \uc774\ub7ec\ud55c \uc4f0\ub808\uae30 \uc218\uc9d1 \ube48\ub3c4\uac00 \ub0ae\uc73c\uba74 \uc21c\ud658 \ucc38\uc870\ub418\ub294 \ub9ce\uc740 \uac1d\uccb4\ub4e4\uc774 \uba54\ubaa8\ub9ac\ub97c \uc4f8\ub370\uc5c6\uc774 \uc810\uc720\ud558\uac8c \ub428\n",
      "- \uc57d\ud55c \ucc38\uc870\uc758 \ud544\uc694\uc131\n",
      "  - 1) \ub808\ud37c\ub7f0\uc2a4 \uce74\uc6b4\ud2b8\uac00 \uc99d\uac00\ub418\uc9c0 \uc54a\uc73c\ubbc0\ub85c \uc21c\ud658 \ucc38\uc870\uac00 \ubc29\uc9c0\ub41c\ub2e4.\n",
      "  - 2) \ub2e4\uc591\ud55c \uc778\uc2a4\ud134\uc2a4\ub4e4 \uc0ac\uc774\uc5d0\uc11c \uacf5\uc720\ub418\ub294 \uac1d\uccb4\ub97c \ucc38\uc870\ud558\ub294\ub370 \ud65c\uc6a9\ub41c\ub2e4."
     ]
    },
    {
     "cell_type": "markdown",
     "metadata": {},
     "source": [
      "### 1-3 \uc57d\ud55c \ucc38\uc870 \ubaa8\ub4c8\n",
      "#### 1) weakref.ref(o)\n",
      "- weakref \ubaa8\ub4c8\uc758 ref(o) \ud568\uc218\n",
      "  - \uac1d\uccb4 o\uc5d0 \ub300\ud55c \uc57d\ud55c \ucc38\uc870\ub97c \uc0dd\uc131\ud55c\ub2e4.\n",
      "  - \ud574\ub2f9 \uac1d\uccb4\uac00 \uba54\ubaa8\ub9ac\uc5d0 \uc815\uc0c1\uc801\uc73c\ub85c \ub0a8\uc544 \uc788\ub294\uc9c0 \uc870\uc0ac\ud55c\ub2e4.\n",
      "  - \uac1d\uccb4\uac00 \uba54\ubaa8\ub9ac\uc5d0 \ub0a8\uc544 \uc788\uc9c0 \uc54a\uc73c\uba74 None\uc744 \ubc18\ud658\ud55c\ub2e4.\n",
      "\n",
      "- \uc57d\ud55c \ucc38\uc870\ub85c \ubd80\ud130 \uc2e4\uc81c \uac1d\uccb4\ub97c \ucc38\uc870\ud558\ub294 \ubc29\ubc95\n",
      "  - \uc57d\ud55c \ucc38\uc870 \uac1d\uccb4\uc5d0 \ud568\uc218\ud615\ud0dc \ud638\ucd9c"
     ]
    },
    {
     "cell_type": "code",
     "collapsed": false,
     "input": [
      "import sys\n",
      "import weakref            # weakref \ubaa8\ub4c8 \uc784\ud3ec\ud2b8\n",
      "class C:\n",
      "    pass\n",
      "c = C()                   # \ud074\ub798\uc2a4 C\uc758 \uc778\uc2a4\ud134\uc2a4 \uc0dd\uc131 \n",
      "c.a = 1                   # \uc778\uc2a4\ud134\uc2a4 c\uc5d0 \ud14c\uc2a4\ud2b8\uc6a9 \uac12 \uc124\uc815 \n",
      "print sys.getrefcount(c)  # \uac1d\uccb4 c\uc758 \ub808\ud37c\ub7f0\uc2a4 \uce74\uc6b4\ud2b8 \uc870\ud68c\n",
      "r = weakref.ref(c)        # \uc57d\ud55c \ucc38\uc870 \uac1d\uccb4 r \uc0dd\uc131\n",
      "print sys.getrefcount(c)  # \uac1d\uccb4 c\uc758 \ub808\ud37c\ub7f0\uc2a4 \uce74\uc6b4\ud2b8 \uc870\ud68c --> \uce74\uc6b4\ud2b8 \ubd88\ubcc0\n",
      "d = c                     # \uc77c\ubc18\uc801\uc778 \ub808\ud37c\ub7f0\uc2a4 \uce74\uc6b4\ud2b8 \uc99d\uac00 \ubc29\ubc95\n",
      "print sys.getrefcount(c)  # \uac1d\uccb4 c\uc758 \ub808\ud37c\ub7f0\uc2a4 \uce74\uc6b4\ud2b8 \uc870\ud68c\n",
      "print \n",
      "\n",
      "print r                   # \uc57d\ud55c \ucc38\uc870(weakref) \uac1d\uccb4\n",
      "print r()                 # \uc57d\ud55c \ucc38\uc870\ub85c \ubd80\ud130 \uc2e4\uc81c \uac1d\uccb4\ub97c \ucc38\uc870\ud558\ub294 \ubc29\ubc95: \uc57d\ud55c \ucc38\uc870 \uac1d\uccb4\uc5d0 \ud568\uc218\ud615\ud0dc\ub85c \ud638\ucd9c\n",
      "print c \n",
      "print r().a               # \uc57d\ud55c \ucc38\uc870\ub97c \uc774\uc6a9\ud55c \uc2e4\uc81c \uac1d\uccb4 \uba64\ubc84 \ucc38\uc870\n",
      "print \n",
      "\n",
      "del c                     # \uac1d\uccb4 \uc81c\uac70\n",
      "print sys.getrefcount(d)  # \uac1d\uccb4 d\uc758 \ub808\ud37c\ub7f0\uc2a4 \uce74\uc6b4\ud2b8 \uc870\ud68c\n",
      "del d\n",
      "print r()                 # None\uc744 \ub9ac\ud134\ud55c\ub2e4\n",
      "print r().a               # \uc18d\uc131\ub3c4 \ucc38\uc870\ud560 \uc218 \uc5c6\ub2e4"
     ],
     "language": "python",
     "metadata": {},
     "outputs": [
      {
       "output_type": "stream",
       "stream": "stdout",
       "text": [
        "2\n",
        "2\n",
        "3\n",
        "\n",
        "<weakref at 0x10de07520; to 'instance' at 0x10de06a28>\n",
        "<__main__.C instance at 0x10de06a28>\n",
        "<__main__.C instance at 0x10de06a28>\n",
        "1\n",
        "\n",
        "2\n",
        "None\n"
       ]
      },
      {
       "ename": "AttributeError",
       "evalue": "'NoneType' object has no attribute 'a'",
       "output_type": "pyerr",
       "traceback": [
        "\u001b[0;31m---------------------------------------------------------------------------\u001b[0m\n\u001b[0;31mAttributeError\u001b[0m                            Traceback (most recent call last)",
        "\u001b[0;32m<ipython-input-23-5f79c52a60a5>\u001b[0m in \u001b[0;36m<module>\u001b[0;34m()\u001b[0m\n\u001b[1;32m     22\u001b[0m \u001b[0;32mdel\u001b[0m \u001b[0md\u001b[0m\u001b[0;34m\u001b[0m\u001b[0m\n\u001b[1;32m     23\u001b[0m \u001b[0;32mprint\u001b[0m \u001b[0mr\u001b[0m\u001b[0;34m(\u001b[0m\u001b[0;34m)\u001b[0m                 \u001b[0;31m# None\uc744 \ub9ac\ud134\ud55c\ub2e4\u001b[0m\u001b[0;34m\u001b[0m\u001b[0m\n\u001b[0;32m---> 24\u001b[0;31m \u001b[0;32mprint\u001b[0m \u001b[0mr\u001b[0m\u001b[0;34m(\u001b[0m\u001b[0;34m)\u001b[0m\u001b[0;34m.\u001b[0m\u001b[0ma\u001b[0m               \u001b[0;31m# \uc18d\uc131\ub3c4 \ucc38\uc870\ud560 \uc218 \uc5c6\ub2e4\u001b[0m\u001b[0;34m\u001b[0m\u001b[0m\n\u001b[0m",
        "\u001b[0;31mAttributeError\u001b[0m: 'NoneType' object has no attribute 'a'"
       ]
      }
     ],
     "prompt_number": 23
    },
    {
     "cell_type": "markdown",
     "metadata": {},
     "source": [
      "- \ub0b4\uc7a5 \uc790\ub8cc\ud615 \uac1d\uccb4 (\ub9ac\uc2a4\ud2b8, \ud29c\ud50c, \uc0ac\uc804 \ub4f1)\uc5d0 \ub300\ud574\uc11c\ub294 \uc57d\ud55c \ucc38\uc870\ub97c \ub9cc\ub4e4 \uc218 \uc5c6\ub2e4."
     ]
    },
    {
     "cell_type": "code",
     "collapsed": false,
     "input": [
      "d = {'one': 1, 'two': 2}\n",
      "wd = weakref.ref(d)"
     ],
     "language": "python",
     "metadata": {},
     "outputs": [
      {
       "ename": "TypeError",
       "evalue": "cannot create weak reference to 'dict' object",
       "output_type": "pyerr",
       "traceback": [
        "\u001b[0;31m---------------------------------------------------------------------------\u001b[0m\n\u001b[0;31mTypeError\u001b[0m                                 Traceback (most recent call last)",
        "\u001b[0;32m<ipython-input-7-b2a48d12fd2b>\u001b[0m in \u001b[0;36m<module>\u001b[0;34m()\u001b[0m\n\u001b[1;32m      1\u001b[0m \u001b[0md\u001b[0m \u001b[0;34m=\u001b[0m \u001b[0;34m{\u001b[0m\u001b[0;34m'one'\u001b[0m\u001b[0;34m:\u001b[0m \u001b[0;36m1\u001b[0m\u001b[0;34m,\u001b[0m \u001b[0;34m'two'\u001b[0m\u001b[0;34m:\u001b[0m \u001b[0;36m2\u001b[0m\u001b[0;34m}\u001b[0m\u001b[0;34m\u001b[0m\u001b[0m\n\u001b[0;32m----> 2\u001b[0;31m \u001b[0mwd\u001b[0m \u001b[0;34m=\u001b[0m \u001b[0mweakref\u001b[0m\u001b[0;34m.\u001b[0m\u001b[0mref\u001b[0m\u001b[0;34m(\u001b[0m\u001b[0md\u001b[0m\u001b[0;34m)\u001b[0m\u001b[0;34m\u001b[0m\u001b[0m\n\u001b[0m",
        "\u001b[0;31mTypeError\u001b[0m: cannot create weak reference to 'dict' object"
       ]
      }
     ],
     "prompt_number": 7
    },
    {
     "cell_type": "markdown",
     "metadata": {},
     "source": [
      "- \ub0b4\uc7a5 \uc790\ub8cc\ud615 \uac1d\uccb4\uc5d0 \ub300\ud574 \uc57d\ud55c \ucc38\uc870\ub97c \uc0dd\uc131\ud558\ub824\uba74 \ub2e4\uc74c\uacfc \uac19\uc774 \ub0b4\uc7a5 \uc790\ub8cc\ud615\uc744 \uc774\uc6a9\ud55c \uc11c\ube0c \ud074\ub798\uc2a4\ub97c \ub9cc\ub4e0 \ud6c4 \ud65c\uc6a9"
     ]
    },
    {
     "cell_type": "code",
     "collapsed": false,
     "input": [
      "class Dict(dict):\n",
      "    pass\n",
      "\n",
      "d = Dict({'one': 1, 'two': 2})\n",
      "wd = weakref.ref(d)\n",
      "print wd\n",
      "print wd().keys()"
     ],
     "language": "python",
     "metadata": {},
     "outputs": [
      {
       "output_type": "stream",
       "stream": "stdout",
       "text": [
        "<weakref at 0x10ddda998; to 'Dict' at 0x10666f360>\n",
        "['two', 'one']\n"
       ]
      }
     ],
     "prompt_number": 12
    },
    {
     "cell_type": "markdown",
     "metadata": {},
     "source": [
      "#### 2) weakref.proxy(o)\n",
      "- weakref\uc758 proxy(o)\ub294 \uac1d\uccb4 o\uc5d0 \ub300\ud55c \uc57d\ud55c \ucc38\uc870 \ud504\ub85d\uc2dc\ub97c \uc0dd\uc131\ud55c\ub2e4.\n",
      "  - \ud504\ub85d\uc2dc\ub97c \uc774\uc6a9\ud558\uba74 \ud568\uc218 \ud615\uc2dd\uc744 \uc0ac\uc6a9\ud558\uc9c0 \uc54a\uc544\ub3c4 \uc2e4\uc81c \uac1d\uccb4\ub97c \ubc14\ub85c \ucc38\uc870\ud560 \uc218 \uc788\ub2e4.\n",
      "  - ref(o) \ud568\uc218\ubcf4\ub2e4 \ub354 \uc120\ud638\ub418\ub294 \ud568\uc218"
     ]
    },
    {
     "cell_type": "code",
     "collapsed": false,
     "input": [
      "import sys\n",
      "import weakref\n",
      "class C:\n",
      "    pass\n",
      "\n",
      "c = C()\n",
      "c.a = 2\n",
      "print sys.getrefcount(c)  # \uac1d\uccb4 c\uc758 \ub808\ud37c\ub7f0\uc2a4 \uce74\uc6b4\ud2b8 \uc870\ud68c\n",
      "p = weakref.proxy(c) #\ud504\ub85d\uc2dc \uac1d\uccb4\ub97c \ub9cc\ub4e0\ub2e4\n",
      "print sys.getrefcount(c)  # \uac1d\uccb4 c\uc758 \ub808\ud37c\ub7f0\uc2a4 \uce74\uc6b4\ud2b8 \uc870\ud68c --> \uce74\uc6b4\ud2b8 \ubd88\ubcc0\n",
      "print \n",
      "print p\n",
      "print c\n",
      "print p.a"
     ],
     "language": "python",
     "metadata": {},
     "outputs": [
      {
       "output_type": "stream",
       "stream": "stdout",
       "text": [
        "2\n",
        "2\n",
        "\n",
        "<__main__.C instance at 0x10de023f8>\n",
        "<__main__.C instance at 0x10de023f8>\n",
        "2\n"
       ]
      }
     ],
     "prompt_number": 29
    },
    {
     "cell_type": "code",
     "collapsed": false,
     "input": [
      "import weakref\n",
      "class C:\n",
      "    pass\n",
      "\n",
      "c = C()                          # \ucc38\uc870\ud560 \uac1d\uccb4 \uc0dd\uc131\n",
      "r = weakref.ref(c)               # weakref \uc0dd\uc131\n",
      "p = weakref.proxy(c)             # weakref \ud504\ub85d\uc2dc \uc0dd\uc131\n",
      "print weakref.getweakrefcount(c) # weakref \uac1c\uc218 \uc870\ud68c\n",
      "print weakref.getweakrefs(c)     # weakref \ubaa9\ub85d \uc870\ud68c"
     ],
     "language": "python",
     "metadata": {},
     "outputs": [
      {
       "output_type": "stream",
       "stream": "stdout",
       "text": [
        "2\n",
        "[<weakref at 0x10de07c58; to 'instance' at 0x10de06e60>, <weakproxy at 0x10de07ba8 to instance at 0x10de06e60>]\n"
       ]
      }
     ],
     "prompt_number": 30
    },
    {
     "cell_type": "markdown",
     "metadata": {},
     "source": [
      "### 1-4 \uc57d\ud55c \uc0ac\uc804\n",
      "- \uc57d\ud55c \uc0ac\uc804 (Weak Dictionary)\n",
      "  - \uc0ac\uc804\uc758 \ud0a4(key)\ub098 \uac12(value)\uc73c\ub85c \ub2e4\ub978 \uac1d\uccb4\ub4e4\uc5d0 \ub300\ud55c \uc57d\ud55c \ucc38\uc870\ub97c \uc9c0\ub2c8\ub294 \uc0ac\uc804\n",
      "  - \uc8fc\ub85c \ub2e4\ub978 \uac1d\uccb4\ub4e4\uc5d0 \ub300\ud55c \uce90\uc2dc(Cache)\ub85c \ud65c\uc6a9\n",
      "  - \uc77c\ubc18\uc801\uc778 \uc0ac\uc804\uacfc\uc758 \ucc28\uc774\uc810\n",
      "    - \ud0a4(key)\ub098 \uac12(value)\uc73c\ub85c \uc0ac\uc6a9\ub418\ub294 \uac1d\uccb4\ub294 \uc57d\ud55c \ucc38\uc870\ub97c \uc9c0\ub2cc\ub2e4.\n",
      "    - \uc2e4\uc81c \uac1d\uccb4\uac00 \uc0ad\uc81c\ub418\uba74 \uc790\ub3d9\uc801\uc73c\ub85c \uc57d\ud55c \uc0ac\uc804\uc5d0 \uc788\ub294 (\ud0a4, \uac12)\uc758 \uc30d\ub3c4 \uc0ad\uc81c\ub41c\ub2e4.\n",
      "    - \uc989, \uc2e4\uc81c \uac1d\uccb4\uac00 \uc0ac\ub77c\uc9c0\uba74 \uce90\uc2dc\uc5ed\ud560\uc744 \ud558\ub294 \uc57d\ud55c \uc0ac\uc804\uc5d0\uc11c\ub3c4 \ud574\ub2f9 \uc544\uc774\ud15c\uc774 \uc81c\uac70\ub418\ubbc0\ub85c \ud6a8\uc728\uc801\uc778 \uac1d\uccb4 \uc18c\uba78 \uad00\ub9ac\uac00 \uac00\ub2a5\ud558\ub2e4. "
     ]
    },
    {
     "cell_type": "markdown",
     "metadata": {},
     "source": [
      "#### 1) weakref \ubaa8\ub4c8\uc758 WeakValueDictionary \ud074\ub798\uc2a4\n",
      "- weakref \ubaa8\ub4c8\uc758 WeakValueDictionary \ud074\ub798\uc2a4\uc758 \uc0dd\uc131\uc790\ub294 \uc57d\ud55c \uc0ac\uc804\uc744 \uc0dd\uc131\ud55c\ub2e4."
     ]
    },
    {
     "cell_type": "code",
     "collapsed": false,
     "input": [
      "class C:\n",
      "    pass\n",
      "\n",
      "c = C()\n",
      "c.a = 4\n",
      "d = weakref.WeakValueDictionary() # WeakValueDictionary \uac1d\uccb4 \uc0dd\uc131\n",
      "print d\n",
      "\n",
      "d[1] = c                          # \uc2e4\uc81c \uac1d\uccb4\uc5d0 \ub300\ud55c \uc57d\ud55c \ucc38\uc870 \uc544\uc774\ud15c \uc0dd\uc131\n",
      "print d.items()                   # \uc0ac\uc804 \ub0b4\uc6a9 \ud655\uc778\n",
      "print d[1].a                      # \uc2e4\uc81c \uac1d\uccb4\uc758 \uc18d\uc131 \ucc38\uc870\n",
      "\n",
      "del c                             # \uc2e4\uc81c \uac1d\uccb4 \uc0ad\uc81c\n",
      "print d.items()                   # \uc57d\ud55c \uc0ac\uc804\uc5d0 \ud574\ub2f9 \uac1d\uccb4 \uc544\uc774\ud15c\ub3c4 \uc81c\uac70\ub418\uc5b4 \uc788\uc74c"
     ],
     "language": "python",
     "metadata": {},
     "outputs": [
      {
       "output_type": "stream",
       "stream": "stdout",
       "text": [
        "<WeakValueDictionary at 4527779424>\n",
        "[(1, <__main__.C instance at 0x10de06f38>)]\n",
        "4\n",
        "[]\n"
       ]
      }
     ],
     "prompt_number": 34
    },
    {
     "cell_type": "markdown",
     "metadata": {},
     "source": [
      "- \uc77c\ubc18 \uc0ac\uc804\uc744 \ud1b5\ud558\uc5ec \ub3d9\uc77c\ud55c \uc608\uc81c\ub97c \uc218\ud589\ud558\uba74 \ub9c8\uc9c0\ub9c9\uc5d0 \ud574\ub2f9 \uac1d\uccb4\ub97c \uc0ad\uc81c\ud574\ub3c4 \uc77c\ubc18 \uc0ac\uc804 \ub0b4\uc5d0\uc11c\ub294 \uc5ec\uc804\ud788 \uc874\uc7ac\ud568"
     ]
    },
    {
     "cell_type": "code",
     "collapsed": false,
     "input": [
      "class C:\n",
      "    pass\n",
      "\n",
      "c = C()\n",
      "c.a = 4\n",
      "d = {}               # \uc77c\ubc18 \uc0ac\uc804 \uac1d\uccb4 \uc0dd\uc131\n",
      "print d\n",
      "\n",
      "d[1] = c             # \uc2e4\uc81c \uac1d\uccb4\uc5d0 \ub300\ud55c \uc77c\ubc18 \ucc38\uc870 \uc544\uc774\ud15c \uc0dd\uc131\n",
      "print d.items()      # \uc0ac\uc804 \ub0b4\uc6a9 \ud655\uc778\n",
      "print d[1].a         # \uc2e4\uc81c \uac1d\uccb4\uc758 \uc18d\uc131 \ucc38\uc870\n",
      "\n",
      "del c                # \uac1d\uccb4 \uc0ad\uc81c (\uc0ac\uc804\uc5d0 \ud574\ub2f9 \uac1d\uccb4\uc758 \ub808\ud37c\ub7f0\uc2a4\uac00 \uc788\uc73c\ubbc0\ub85c \uac1d\uccb4\ub294 \uc2e4\uc81c\ub85c \uba54\ubaa8\ub9ac \ud574\uc81c\ub418\uc9c0 \uc54a\uc74c)\n",
      "print d.items()      # \uc77c\ubc18 \uc0ac\uc804\uc5d0 \ud574\ub2f9 \uac1d\uccb4 \uc544\uc774\ud15c\uc774 \uc5ec\uc804\ud788 \ub0a8\uc544 \uc788\uc74c"
     ],
     "language": "python",
     "metadata": {},
     "outputs": [
      {
       "output_type": "stream",
       "stream": "stdout",
       "text": [
        "{}\n",
        "[(1, <__main__.C instance at 0x10de023f8>)]\n",
        "4\n",
        "[(1, <__main__.C instance at 0x10de023f8>)]\n"
       ]
      }
     ],
     "prompt_number": 33
    },
    {
     "cell_type": "markdown",
     "metadata": {},
     "source": [
      "- \uc57d\ud55c \uc0ac\uc804\uc758 \ud0a4\uac12\uc5d0 \uc57d\ud55c \ucc38\uc870\ub97c \ud560\ub2f9\ud558\ub294 \uc608\uc81c"
     ]
    },
    {
     "cell_type": "code",
     "collapsed": false,
     "input": [
      "d = weakref.WeakKeyDictionary()\n",
      "c = C()\n",
      "c.a = 4\n",
      "d[c] = 1             # \uc2e4\uc81c \uac1d\uccb4\uc5d0 \ub300\ud55c \uc57d\ud55c \ucc38\uc870\ub97c \ud0a4\ub85c \uc9c0\ub2c8\ub294 \uc544\uc774\ud15c \uc0dd\uc131\n",
      "\n",
      "print d.items()\n",
      "\n",
      "del c                # \uc2e4\uc81c \uac1d\uccb4 \uc0ad\uc81c \n",
      "print d.items()      # \uc57d\ud55c \uc0ac\uc804\uc5d0 \ud574\ub2f9 \uac1d\uccb4 \uc544\uc774\ud15c\ub3c4 \uc81c\uac70\ub418\uc5b4 \uc788\uc74c"
     ],
     "language": "python",
     "metadata": {},
     "outputs": [
      {
       "output_type": "stream",
       "stream": "stdout",
       "text": [
        "[(<__main__.C instance at 0x10de023f8>, 1)]\n",
        "[]\n"
       ]
      }
     ],
     "prompt_number": 35
    },
    {
     "cell_type": "markdown",
     "metadata": {},
     "source": [
      "***\n",
      "## 02 \ubc18\ubcf5\uc790\n",
      "***"
     ]
    },
    {
     "cell_type": "markdown",
     "metadata": {},
     "source": [
      "### 2-1 \uae30\uc874 \uc778\ub371\uc2f1\uc758 \ubb38\uc81c\uc810\n",
      "- \\_\\_getitem\\_\\_ \uba54\uc18c\ub4dc\n",
      "  - \uc778\ub371\uc2f1 \uc815\uc758 \uba54\uc18c\ub4dc\n",
      "    - \uc778\uc790\ub85c self\uc640 k\ub97c \ubc1b\uc544\uc57c \ud55c\ub2e4.\n",
      "  - \uc774 \uba54\uc18c\ub4dc\ub294 for ~ in \uacfc \uac19\uc740 \ubc18\ubcf5\ubb38\uc5d0\uc11c\ub3c4 \ud638\ucd9c\ub41c\ub2e4.\n",
      "    - \uc774 \ub54c k \uc778\ub371\uc2a4\uc758 \ud6a8\uc728\uc801\uc778 \ud65c\uc6a9\uc774 \uc5b4\ub824\uc6b4 \uacbd\uc6b0\uac00 \uc788\ub2e4."
     ]
    },
    {
     "cell_type": "code",
     "collapsed": false,
     "input": [
      "class Even:\n",
      "    def __getitem__(self, k):\n",
      "        return k * 2\n",
      "    \n",
      "e = Even()\n",
      "for x in e:     # for ~ in \ubc18\ubcf5\ubb38\uc73c\ub85c \ucc38\uc870\ud558\ub294 \uacbd\uc6b0, \uc790\ub3d9\uc73c\ub85c __getitem__(e, 0), __getitem__(e, 1), __getitem__(e, 2)... \ub4f1\uc774 \ud638\ucd9c\ub41c\ub2e4.\n",
      "    print x,\n",
      "    if x > 20:\n",
      "        break\n",
      "\n",
      "print        \n",
      "print e[2]      # \ub2e8\uc21c \uc778\ub371\uc2f1\uc73c\ub85c \ucc38\uc870\ud558\ub294 \uacbd\uc6b0 --> \uc774 \uacbd\uc6b0 __getitem__(e, 2)\uac00 \ud638\ucd9c\ub41c\ub2e4."
     ],
     "language": "python",
     "metadata": {},
     "outputs": [
      {
       "output_type": "stream",
       "stream": "stdout",
       "text": [
        "0 2 4 6 8 10 12 14 16 18 20 22\n",
        "4\n"
       ]
      }
     ],
     "prompt_number": 51
    },
    {
     "cell_type": "markdown",
     "metadata": {},
     "source": [
      "- \ud30c\uc77c\uc758 \ub77c\uc778\uc744 \uc21c\ucc28\uc801\uc73c\ub85c \uc77d\ub294 \uc608\uc81c\n",
      "  - \uc544\ub798 \uc608\uc81c\uc5d0\uc11c \\_\\_getitem\\_\\_ \uba54\uc18c\ub4dc\uc758 k \uc778\uc790\ub294 \uc544\ubb34 \uc5ed\ud560\ub3c4 \ud558\uc9c0 \uc54a\ub294\ub2e4."
     ]
    },
    {
     "cell_type": "code",
     "collapsed": false,
     "input": [
      "class Seq:\n",
      "    def __init__(self, fname):      # \uc77d\uc744 \ud30c\uc77c \uc774\ub984 \uc124\uc815\n",
      "        self.file = open(fname)\n",
      "    def __getitem__(self, k):\n",
      "        line = self.file.readline() # \ud55c \ub77c\uc778\uc744 \uc77d\ub294\ub2e4.\n",
      "        if not line: \n",
      "            raise IndexError        # \uc77d\uc744 \uc218 \uc5c6\uc73c\uba74 \uc608\uc678 \ubc1c\uc0dd\n",
      "        return line                 # \uc77d\uc740 \ub77c\uc778\uc744 \ub9ac\ud134\ud55c\ub2e4.\n",
      "\n",
      "        \n",
      "s = Seq('readme.txt')\n",
      "for line in s:  # for ~ in \ub8e8\ud504, \uc790\ub3d9\uc73c\ub85c __getitem__(s, 0), __getitem__(s, 1), __getitem__(s, 2)... \ub4f1\uc774 \ud638\ucd9c\ub41c\ub2e4.\n",
      "    print line,"
     ],
     "language": "python",
     "metadata": {},
     "outputs": [
      {
       "output_type": "stream",
       "stream": "stdout",
       "text": [
        "1: Hello World\n",
        "2: Hello World\n",
        "3: Hello World\n",
        "4: Hello World\n",
        "5: Hello World\n"
       ]
      }
     ],
     "prompt_number": 2
    },
    {
     "cell_type": "markdown",
     "metadata": {},
     "source": [
      "- \uc778\ub371\uc2a4\ub85c \uc801\uc808\ud55c \uac12\uc744 \uc8fc\uc5b4\ub3c4 \\_\\_getitem\\_\\_ \uba54\uc18c\ub4dc\uc758 k \uc778\uc790\uc758 \uc5ed\ud560\uc774 \uc5c6\uc73c\ubbc0\ub85c \ub2e8\uc21c\ud788 \uac01 \ub77c\uc778\uc744 \uc21c\ucc28\uc801\uc73c\ub85c \uc77d\uc5b4 \ubc18\ud658\ud55c\ub2e4."
     ]
    },
    {
     "cell_type": "code",
     "collapsed": false,
     "input": [
      "S = Seq('readme.txt')\n",
      "print S[2]\n",
      "print S[4]"
     ],
     "language": "python",
     "metadata": {},
     "outputs": [
      {
       "output_type": "stream",
       "stream": "stdout",
       "text": [
        "1: Hello World\n",
        "\n",
        "2: Hello World\n",
        "\n"
       ]
      }
     ],
     "prompt_number": 45
    },
    {
     "cell_type": "markdown",
     "metadata": {},
     "source": [
      "### 2-2 \ubc18\ubcf5\uc790 \uac1d\uccb4\n",
      "- \ubc18\ubcf5\uc790 \uac1d\uccb4\uc758 \ud2b9\uc131\n",
      "  - iter(o) \ub0b4\uc7a5 \ud568\uc218\ub85c \uac1d\uccb4 o\uc758 \ubc18\ubcf5\uc790 \uac1d\uccb4\ub97c \ub9cc\ub4e0\ub2e4.\n",
      "  - \ubc18\ubcf5\uc790 \uac1d\uccb4\ub294 \ubc18\ub4dc\uc2dc next() \uba54\uc18c\ub97c \uc9c0\ub2cc\ub2e4 (\uc989, next() \uba54\uc18c\ub4dc\ub97c \uc9c0\ub2c8\uace0 \uc788\ub294 \uac1d\uccb4\uac00 \ubc18\ubcf5\uc790\uc774\ub2e4.)\n",
      "  - next() \uba54\uc18c\ub4dc\ub85c \ub354 \uc774\uc0c1 \uc790\ub8cc\ub97c \ub150\uaca8\uc904 \uc218 \uc5c6\uc744 \ub54c StopIteration \uc608\uc678\uac00 \ubc1c\uc0dd\ud55c\ub2e4.\n",
      "- \ubc18\ubcf5\uc790 \uac1d\uccb4\uc758 \ud544\uc694\uc131\n",
      "  - \uc21c\ucc28\uc801\uc73c\ub85c \ucc38\uc870\ud558\uc9c0\ub9cc \uc778\ub371\uc2f1\uc5d0 \uc758\ud55c \uc21c\ucc28\uc801\uc778 \ucc38\uc870(\\_\\_getitem\\_\\_ \uba54\uc18c\ub4dc\uc758 k \uc778\uc790)\uac00 \uc758\ubbf8 \uc5c6\ub294 \uacbd\uc6b0\ub97c \ubcf4\uc644\ud558\uae30 \uc704\ud568"
     ]
    },
    {
     "cell_type": "code",
     "collapsed": false,
     "input": [
      "I = iter([1,2,3])\n",
      "print I\n",
      "\n",
      "print I.next()\n",
      "print I.next()\n",
      "print I.next()\n",
      "print I.next()"
     ],
     "language": "python",
     "metadata": {},
     "outputs": [
      {
       "output_type": "stream",
       "stream": "stdout",
       "text": [
        "<listiterator object at 0x102648cd0>\n",
        "1\n",
        "2\n",
        "3\n"
       ]
      },
      {
       "ename": "StopIteration",
       "evalue": "",
       "output_type": "pyerr",
       "traceback": [
        "\u001b[0;31m---------------------------------------------------------------------------\u001b[0m\n\u001b[0;31mStopIteration\u001b[0m                             Traceback (most recent call last)",
        "\u001b[0;32m<ipython-input-20-98af67aeb8bc>\u001b[0m in \u001b[0;36m<module>\u001b[0;34m()\u001b[0m\n\u001b[1;32m      5\u001b[0m \u001b[0;32mprint\u001b[0m \u001b[0mI\u001b[0m\u001b[0;34m.\u001b[0m\u001b[0mnext\u001b[0m\u001b[0;34m(\u001b[0m\u001b[0;34m)\u001b[0m\u001b[0;34m\u001b[0m\u001b[0m\n\u001b[1;32m      6\u001b[0m \u001b[0;32mprint\u001b[0m \u001b[0mI\u001b[0m\u001b[0;34m.\u001b[0m\u001b[0mnext\u001b[0m\u001b[0;34m(\u001b[0m\u001b[0;34m)\u001b[0m\u001b[0;34m\u001b[0m\u001b[0m\n\u001b[0;32m----> 7\u001b[0;31m \u001b[0;32mprint\u001b[0m \u001b[0mI\u001b[0m\u001b[0;34m.\u001b[0m\u001b[0mnext\u001b[0m\u001b[0;34m(\u001b[0m\u001b[0;34m)\u001b[0m\u001b[0;34m\u001b[0m\u001b[0m\n\u001b[0m",
        "\u001b[0;31mStopIteration\u001b[0m: "
       ]
      }
     ],
     "prompt_number": 20
    },
    {
     "cell_type": "markdown",
     "metadata": {},
     "source": [
      "- \ub9ac\uc2a4\ud2b8 \uac1d\uccb4\uc5d0 \ub300\ud574 \uc77c\ubc18\uc801\uc778 for ~ in \ubc18\ubcf5 \ubb38 \uc0ac\uc6a9\uc608"
     ]
    },
    {
     "cell_type": "code",
     "collapsed": false,
     "input": [
      "def f(x):\n",
      "    print x + 1\n",
      "\n",
      "for x in [1,2,3]:\n",
      "    f(x)"
     ],
     "language": "python",
     "metadata": {},
     "outputs": [
      {
       "output_type": "stream",
       "stream": "stdout",
       "text": [
        "2\n",
        "3\n",
        "4\n"
       ]
      }
     ],
     "prompt_number": 53
    },
    {
     "cell_type": "markdown",
     "metadata": {},
     "source": [
      "- \ub9ac\uc2a4\ud2b8 \uac1d\uccb4\uc5d0 \ubc18\ubcf5\uc790\ub97c \ud65c\uc6a9\ud55c \uc608"
     ]
    },
    {
     "cell_type": "code",
     "collapsed": false,
     "input": [
      "def f(x):\n",
      "    print x + 1\n",
      "\n",
      "t = iter([1,2,3])\n",
      "while 1:\n",
      "    try:\n",
      "        x = t.next()\n",
      "    except StopIteration:\n",
      "        break\n",
      "    f(x)"
     ],
     "language": "python",
     "metadata": {},
     "outputs": [
      {
       "output_type": "stream",
       "stream": "stdout",
       "text": [
        "2\n",
        "3\n",
        "4\n"
       ]
      }
     ],
     "prompt_number": 54
    },
    {
     "cell_type": "markdown",
     "metadata": {},
     "source": [
      "### 2-3 \ud074\ub798\uc2a4\uc5d0 \ubc18\ubcf5\uc790 \uad6c\ud604\ud558\uae30"
     ]
    },
    {
     "cell_type": "markdown",
     "metadata": {},
     "source": [
      "- \ub0b4\uc7a5 \ud568\uc218 iter(o)\n",
      "  - \uac1d\uccb4 o\uac00 \uc9c0\ub2c8\uace0 \uc788\ub294 \\_\\_iter\\_\\_(self) \ud568\uc218 \ud638\ucd9c"
     ]
    },
    {
     "cell_type": "code",
     "collapsed": false,
     "input": [
      "class Seq:\n",
      "    def __init__(self, fname):\n",
      "        self.file = open(fname)\n",
      "    def __iter__(self):   # iter(..)\uc5d0 \uc758\ud574\uc11c \ud638\ucd9c\ub418\ub294 \uba54\uc18c\ub4dc\n",
      "        return self       # next \uba54\uc18c\ub4dc\ub97c \uad6c\ud604\ud558\uace0 \uc788\uc73c\ubbc0\ub85c self \uc790\uccb4\uac00 \ubc18\ubcf5\uc790\uac00 \ub420 \uc218 \uc788\ub2e4.\n",
      "    def next(self):\n",
      "        line = self.file.readline() # \ud55c \ub77c\uc778\uc744 \uc77d\ub294\ub2e4.\n",
      "        if not line: \n",
      "            raise StopIteration     # \uc77d\uc744 \uc218 \uc5c6\uc73c\uba74 \uc608\uc678 \ubc1c\uc0dd\n",
      "        return line                 # \uc77d\uc740 \ub77c\uc778\uc744 \ub9ac\ud134\ud55c\ub2e4.\n",
      "    \n",
      "s = Seq('readme.txt')     # s \uc778\uc2a4\ud134\uc2a4\uac00 next() \uba54\uc18c\ub4dc\ub97c \uc9c0\ub2c8\uace0 \uc788\uc73c\ubbc0\ub85c s \uc778\uc2a4\ud134\uc2a4 \uc790\uccb4\uac00 \ubc18\ubcf5\uc790\uc784 \n",
      "for line in s:            # \ubc18\ubcf5\uc790 \uc778\uc2a4\ud134\uc2a4\uc5d0 \ub300\ud574\uc11c\ub294 for ~ in \uad6c\ubb38\uc5d0 \uc758\ud558\uc5ec next() \uba54\uc18c\ub4dc\uac00 \ud638\ucd9c\ub428\n",
      "    print line,"
     ],
     "language": "python",
     "metadata": {},
     "outputs": [
      {
       "output_type": "stream",
       "stream": "stdout",
       "text": [
        "1: Hello World\n",
        "2: Hello World\n",
        "3: Hello World\n",
        "4: Hello World\n",
        "5: Hello World\n"
       ]
      }
     ],
     "prompt_number": 4
    },
    {
     "cell_type": "markdown",
     "metadata": {},
     "source": [
      "### 2-4 \uc0ac\uc804\uc758 \ubc18\ubcf5\uc790"
     ]
    },
    {
     "cell_type": "markdown",
     "metadata": {},
     "source": [
      "- \uc0ac\uc804\uc5d0 \ub300\ud574 for ~ in \uad6c\ubb38\uc740 \ud0a4\uc5d0 \ub300\ud574 \ubc18\ubcf5\ud55c\ub2e4."
     ]
    },
    {
     "cell_type": "code",
     "collapsed": false,
     "input": [
      "d = {'one':1, 'two':2, 'three':3, 'four':4, 'five':5}\n",
      "for key in d:\n",
      "    print key, d[key]"
     ],
     "language": "python",
     "metadata": {},
     "outputs": [
      {
       "output_type": "stream",
       "stream": "stdout",
       "text": [
        "four 4\n",
        "three 3\n",
        "five 5\n",
        "two 2\n",
        "one 1\n"
       ]
      }
     ],
     "prompt_number": 19
    },
    {
     "cell_type": "code",
     "collapsed": false,
     "input": [
      "for key in d.iterkeys():   # \ud0a4\uc5d0 \ub300\ud55c \ubc18\ubcf5\uc790, d.iterkeys() \uac00 \ubc18\ud658\ud55c \ubc18\ubcf5\uc790\uc5d0 \ub300\ud574 next() \ud568\uc218\uac00 \uc21c\ucc28\uc801\uc73c\ub85c \ubd88\ub9ac\uc6cc\uc9d0\n",
      "    print key,"
     ],
     "language": "python",
     "metadata": {},
     "outputs": [
      {
       "output_type": "stream",
       "stream": "stdout",
       "text": [
        "four three five two one\n"
       ]
      }
     ],
     "prompt_number": 15
    },
    {
     "cell_type": "code",
     "collapsed": false,
     "input": [
      "keyset = d.iterkeys()\n",
      "print keyset.next()     # \ubc18\ubcf5\uc790 \uac1d\uccb4\ub294 \ud56d\uc0c1 next() \uba54\uc18c\ub4dc\uac00 \ud638\ucd9c\ub428\n",
      "for key in keyset:      # keyset \ubc18\ubcf5\uc790\uc5d0 \ub300\ud574 next() \uba54\uc18c\ub4dc\uac00 \uc21c\ucc28\uc801\uc73c\ub85c \ud638\ucd9c\ub428\n",
      "    print key,"
     ],
     "language": "python",
     "metadata": {},
     "outputs": [
      {
       "output_type": "stream",
       "stream": "stdout",
       "text": [
        "four\n",
        "three five two one\n"
       ]
      }
     ],
     "prompt_number": 16
    },
    {
     "cell_type": "code",
     "collapsed": false,
     "input": [
      "for value in d.itervalues():    # \uac12\uc5d0 \ub300\ud55c \ubc18\ubcf5\uc790\n",
      "    print value, "
     ],
     "language": "python",
     "metadata": {},
     "outputs": [
      {
       "output_type": "stream",
       "stream": "stdout",
       "text": [
        "4 3 5 2 1\n"
       ]
      }
     ],
     "prompt_number": 10
    },
    {
     "cell_type": "code",
     "collapsed": false,
     "input": [
      "for key, value in d.iteritems(): #(\ud0a4,\uac12)\uc5d0 \ub300\ud55c \ubc18\ubcf5\uc790\n",
      "    print key, value"
     ],
     "language": "python",
     "metadata": {},
     "outputs": [
      {
       "output_type": "stream",
       "stream": "stdout",
       "text": [
        "four 4\n",
        "three 3\n",
        "five 5\n",
        "two 2\n",
        "one 1\n"
       ]
      }
     ],
     "prompt_number": 9
    },
    {
     "cell_type": "markdown",
     "metadata": {},
     "source": [
      "### 2-5 \ud30c\uc77c \uac1d\uccb4\uc758 \ubc18\ubcf5\uc790"
     ]
    },
    {
     "cell_type": "markdown",
     "metadata": {},
     "source": [
      "- \ud30c\uc77c \uac1d\uccb4\ub294 \uadf8 \uc790\uccb4\uac00 \ubc18\ubcf5\uc790\uc784\n",
      "  - next() \ud568\uc218\uc5d0 \uc758\ud574 \uac01 \ub77c\uc778\uc774 \uc21c\ucc28\uc801\uc73c\ub85c \uc77d\ud600\uc9d0"
     ]
    },
    {
     "cell_type": "code",
     "collapsed": false,
     "input": [
      "f = open('readme.txt')\n",
      "print \"f.next()\", f.next()\n",
      "for line in f:   # f.next() \uac00 \uc21c\ucc28\uc801\uc73c\ub85c \ud638\ucd9c\ub428\n",
      "    print line,    "
     ],
     "language": "python",
     "metadata": {},
     "outputs": [
      {
       "output_type": "stream",
       "stream": "stdout",
       "text": [
        "f.next() 1: Hello World\n",
        "\n",
        "2: Hello World\n",
        "3: Hello World\n",
        "4: Hello World\n",
        "5: Hello World\n"
       ]
      }
     ],
     "prompt_number": 21
    },
    {
     "cell_type": "markdown",
     "metadata": {},
     "source": [
      "### 2-6 \ud638\ucd9c \uac00\ub2a5\ud55c \uac1d\uccb4\uc5d0 \ubc18\ubcf5\uc790 \uc801\uc6a9\ud558\uae30\n",
      "- \uc0dd\ub7b5"
     ]
    },
    {
     "cell_type": "markdown",
     "metadata": {},
     "source": [
      "### 2-7 itertools \ubaa8\ub4c8"
     ]
    },
    {
     "cell_type": "code",
     "collapsed": false,
     "input": [
      "from itertools import *\n",
      "L1 = [1,2,3]\n",
      "L2 = [4,5,6]\n",
      "for k in chain(L1, L2):\n",
      "    print k,      # L1, L2\uc5d0 \ub300\ud574 \uc5f0\uc18d\ub41c \ub370\uc774\ud130\ub97c \ub118\uaca8\uc900\ub2e4.\n",
      "print\n",
      "for k in (L1+L2):\n",
      "    print k, #\uc774 \ubc29\ubc95\uc740 \uc0c8\ub85c\uc6b4 \ub9ac\uc2a4\ud2b8\ub97c \uc0dd\uc131\ud558\ubbc0\ub85c \uba54\ubaa8\ub9ac\ub97c \ub0ad\ube44\ud55c\ub2e4."
     ],
     "language": "python",
     "metadata": {},
     "outputs": [
      {
       "output_type": "stream",
       "stream": "stdout",
       "text": [
        "1 2 3 4 5 6\n",
        "1 2 3 4 5 6\n"
       ]
      }
     ],
     "prompt_number": 23
    },
    {
     "cell_type": "code",
     "collapsed": false,
     "input": [
      "for k in count(10):\n",
      "    if k == 100:\n",
      "        break\n",
      "    print k, "
     ],
     "language": "python",
     "metadata": {},
     "outputs": [
      {
       "output_type": "stream",
       "stream": "stdout",
       "text": [
        "10 11 12 13 14 15 16 17 18 19 20 21 22 23 24 25 26 27 28 29 30 31 32 33 34 35 36 37 38 39 40 41 42 43 44 45 46 47 48 49 50 51 52 53 54 55 56 57 58 59 60 61 62 63 64 65 66 67 68 69 70 71 72 73 74 75 76 77 78 79 80 81 82 83 84 85 86 87 88 89 90 91 92 93 94 95 96 97 98 99\n"
       ]
      }
     ],
     "prompt_number": 24
    },
    {
     "cell_type": "code",
     "collapsed": false,
     "input": [
      "i = 0\n",
      "for k in cycle([1, 2, 3]):\n",
      "    if i == 18:\n",
      "        break\n",
      "    print k,\n",
      "    i += 1"
     ],
     "language": "python",
     "metadata": {},
     "outputs": [
      {
       "output_type": "stream",
       "stream": "stdout",
       "text": [
        "1 2 3 1 2 3 1 2 3 1 2 3 1 2 3 1 2 3\n"
       ]
      }
     ],
     "prompt_number": 28
    },
    {
     "cell_type": "code",
     "collapsed": false,
     "input": [
      "names = ['gslee', 'kim', 'park']\n",
      "for regNo, name in izip(count(140), names): #\ud544\uc694\ud55c \ub9cc\ud07c \uac00\uc838\ub2e4\uc4f4\ub2e4.\n",
      "    print regNo, name"
     ],
     "language": "python",
     "metadata": {},
     "outputs": [
      {
       "output_type": "stream",
       "stream": "stdout",
       "text": [
        "140 gslee\n",
        "141 kim\n",
        "142 park\n"
       ]
      }
     ],
     "prompt_number": 29
    },
    {
     "cell_type": "markdown",
     "metadata": {},
     "source": [
      "***\n",
      "## 03 \ubc1c\uc0dd\uc790\n",
      "***"
     ]
    },
    {
     "cell_type": "markdown",
     "metadata": {},
     "source": [
      "### 3-1 \ubc1c\uc0dd\uc790\ub780?"
     ]
    },
    {
     "cell_type": "markdown",
     "metadata": {},
     "source": [
      "### 3-1 \ubc1c\uc0dd\uc790\ub780?"
     ]
    },
    {
     "cell_type": "markdown",
     "metadata": {},
     "source": [
      "### 3-2 \ubc1c\uc0dd\uc790\uac00 \uc5b4\ub514\uc5d0 \uc88b\uc744\uae4c"
     ]
    },
    {
     "cell_type": "markdown",
     "metadata": {},
     "source": [
      "### 3-3 \ubc1c\uc0dd\uc790\uc758 \ud65c\uc6a9 \uc6081-\ud53c\ubcf4\ub098\uce58 \uc218\uc5f4"
     ]
    },
    {
     "cell_type": "markdown",
     "metadata": {},
     "source": [
      "### 3-4 \ubc1c\uc0dd\uc790\uc758 \ud65c\uc6a9 \uc6082-\ud640\uc218 \uc9d1\ud569 \ub9cc\ub4e4\uae30"
     ]
    },
    {
     "cell_type": "markdown",
     "metadata": {},
     "source": [
      "### 3-5 \ubc1c\uc0dd\uc790\uc758 \ud65c\uc6a9 \uc6083-\ud558\ub098\uc529 \uac74\ub108 \ub6f0\uc5b4\uc11c \uac12 \ucde8\ud558\uae30"
     ]
    },
    {
     "cell_type": "markdown",
     "metadata": {},
     "source": [
      "### 3-6 \ubc1c\uc0dd\uc790\uc758 \ud65c\uc6a9 \uc6084-\ud2b8\ub9ac\ud0d0\uc0c9"
     ]
    },
    {
     "cell_type": "markdown",
     "metadata": {},
     "source": [
      "### 3-7 \ubc1c\uc0dd\uc790\uc758 \ud65c\uc6a9 \uc6085-\uc911\ucca9 \ub9ac\uc2a4\ud2b8\ub97c \ub2e8\uc77c \ub9ac\uc2a4\ud2b8\ub85c \ub9cc\ub4e4\uae30"
     ]
    }
   ],
   "metadata": {}
  }
 ]
}