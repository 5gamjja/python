{
 "metadata": {
  "name": "",
  "signature": "sha256:6ba60b13b03e19311cea9a8696c07256cc2768880056cd2ff414de71afaef457"
 },
 "nbformat": 3,
 "nbformat_minor": 0,
 "worksheets": [
  {
   "cells": [
    {
     "cell_type": "markdown",
     "metadata": {},
     "source": [
      "***\n",
      "***\n",
      "# 11. \ubaa8\ub4c8\n",
      "***\n",
      "***"
     ]
    },
    {
     "cell_type": "markdown",
     "metadata": {},
     "source": [
      "***\n",
      "## 01 \ubaa8\ub4c8\uc774\ub780?\n",
      "***"
     ]
    },
    {
     "cell_type": "markdown",
     "metadata": {},
     "source": [
      "### 1-1 \ubaa8\ub4c8\uc740 \uc5b4\ub514\uc5d0 \uc800\uc7a5\ub418\ub294\uac00"
     ]
    },
    {
     "cell_type": "code",
     "collapsed": false,
     "input": [],
     "language": "python",
     "metadata": {},
     "outputs": []
    },
    {
     "cell_type": "markdown",
     "metadata": {},
     "source": [
      "### 1-2 \uc0ac\uc6a9\uc790 \ubaa8\ub4c8 \ub9cc\ub4e4\uae30\uc640 \ud638\ucd9c\ud558\uae30"
     ]
    },
    {
     "cell_type": "code",
     "collapsed": false,
     "input": [
      "#File: mymath.py\n",
      "mypi = 3.14\n",
      "\n",
      "def add(a, b):\n",
      "    return a + b\n",
      "\n",
      "def area(r):\n",
      "    return mypi * r * r"
     ],
     "language": "python",
     "metadata": {},
     "outputs": [],
     "prompt_number": 3
    },
    {
     "cell_type": "code",
     "collapsed": false,
     "input": [
      "import mymath\n",
      "\n",
      "print dir(mymath) #mymath\uc5d0 \uc815\uc758\ub41c \uc774\ub984\ub4e4 \ud655\uc778\ud558\uae30\n",
      "print mymath.mypi #mymath \uc548\uc5d0 \uc815\uc758\ub41c mypi\ub97c \uc0ac\uc6a9\ud55c\ub2e4\n",
      "print mymath.area(5) #mymath \uc548\uc5d0 \uc815\uc758\ub41c area\ub97c \uc0ac\uc6a9\ud55c\ub2e4"
     ],
     "language": "python",
     "metadata": {},
     "outputs": [
      {
       "output_type": "stream",
       "stream": "stdout",
       "text": [
        "['__builtins__', '__doc__', '__file__', '__name__', '__package__', 'add', 'area', 'mypi']\n",
        "3.14\n",
        "78.5\n"
       ]
      }
     ],
     "prompt_number": 5
    },
    {
     "cell_type": "markdown",
     "metadata": {},
     "source": [
      "### 1-3 \ubaa8\ub4c8\uc744 \uc65c \uc0ac\uc6a9\ud558\ub294\uac00?"
     ]
    },
    {
     "cell_type": "code",
     "collapsed": false,
     "input": [],
     "language": "python",
     "metadata": {},
     "outputs": []
    },
    {
     "cell_type": "markdown",
     "metadata": {},
     "source": [
      "***\n",
      "## 02 \uc774\ub984 \uacf5\uac04\n",
      "***"
     ]
    },
    {
     "cell_type": "markdown",
     "metadata": {},
     "source": [
      "### 2-1 \uc774\ub984 \uacf5\uac04\uc774\ub780?"
     ]
    },
    {
     "cell_type": "code",
     "collapsed": false,
     "input": [],
     "language": "python",
     "metadata": {},
     "outputs": []
    },
    {
     "cell_type": "markdown",
     "metadata": {},
     "source": [
      "### 2-2 \uc790\uaca9\ubcc0\uc218, \ubb34\uc790\uaca9\ubcc0\uc218"
     ]
    },
    {
     "cell_type": "code",
     "collapsed": false,
     "input": [],
     "language": "python",
     "metadata": {},
     "outputs": []
    },
    {
     "cell_type": "markdown",
     "metadata": {},
     "source": [
      "### 2-3 \uc804\uc5ed\uacf5\uac04\uacfc \uc9c0\uc5ed\uacf5\uac04 \uc54c\uc544\ub0b4\uae30-globals(), locals()"
     ]
    },
    {
     "cell_type": "code",
     "collapsed": false,
     "input": [
      "x = 10\n",
      "#print globals()"
     ],
     "language": "python",
     "metadata": {},
     "outputs": [],
     "prompt_number": 90
    },
    {
     "cell_type": "code",
     "collapsed": false,
     "input": [
      "#print locals()"
     ],
     "language": "python",
     "metadata": {},
     "outputs": [],
     "prompt_number": 91
    },
    {
     "cell_type": "code",
     "collapsed": false,
     "input": [
      "#module01.py\n",
      "a = 1\n",
      "b = 2\n",
      "\n",
      "def f():\n",
      "    localx = 10\n",
      "    localy = 20\n",
      "    #print '\uc804\uc5ed \ubcc0\uc218:', globals()\n",
      "    print \n",
      "    #print '\uc9c0\uc5ed \ubcc0\uc218:', locals()\n",
      "    \n",
      "f()\n",
      "print\n",
      "#print '\ubaa8\ub4c8 \uc218\uc900\uc5d0\uc11c\uc758 \uc804\uc5ed \ubcc0\uc218:', globals()\n",
      "print\n",
      "#print '\ubaa8\ub4c8 \uc218\uc900\uc5d0\uc11c\uc758 \uc9c0\uc5ed \ubcc0\uc218:', locals()"
     ],
     "language": "python",
     "metadata": {},
     "outputs": [
      {
       "output_type": "stream",
       "stream": "stdout",
       "text": [
        "\n",
        "\n",
        "\n"
       ]
      }
     ],
     "prompt_number": 93
    },
    {
     "cell_type": "markdown",
     "metadata": {},
     "source": [
      "### 2-4 \uc804\uc5ed\uacf5\uac04 \ubcc0\uacbd\ud558\uae30-globals()"
     ]
    },
    {
     "cell_type": "code",
     "collapsed": false,
     "input": [
      "#module02.py\n",
      "a = 1\n",
      "b = 2\n",
      "\n",
      "gns = globals()\n",
      "#print gns\n",
      "gns['c'] = 3 #\uc0ac\uc804\uc5d0 \uc0c8 \uc774\ub984 \ucd94\uac00\n",
      "#print gns"
     ],
     "language": "python",
     "metadata": {},
     "outputs": [],
     "prompt_number": 95
    },
    {
     "cell_type": "markdown",
     "metadata": {},
     "source": [
      "### 2-5 \ubaa8\ub4c8\uc758 \uc774\ub984 \uacf5\uac04 \uc54c\uc544\ubcf4\uae30-dir()"
     ]
    },
    {
     "cell_type": "code",
     "collapsed": false,
     "input": [
      "import string\n",
      "print dir(string)"
     ],
     "language": "python",
     "metadata": {},
     "outputs": [
      {
       "output_type": "stream",
       "stream": "stdout",
       "text": [
        "['Formatter', 'Template', '_TemplateMetaclass', '__builtins__', '__doc__', '__file__', '__name__', '__package__', '_float', '_idmap', '_idmapL', '_int', '_long', '_multimap', '_re', 'ascii_letters', 'ascii_lowercase', 'ascii_uppercase', 'atof', 'atof_error', 'atoi', 'atoi_error', 'atol', 'atol_error', 'capitalize', 'capwords', 'center', 'count', 'digits', 'expandtabs', 'find', 'hexdigits', 'index', 'index_error', 'join', 'joinfields', 'letters', 'ljust', 'lower', 'lowercase', 'lstrip', 'maketrans', 'octdigits', 'printable', 'punctuation', 'replace', 'rfind', 'rindex', 'rjust', 'rsplit', 'rstrip', 'split', 'splitfields', 'strip', 'swapcase', 'translate', 'upper', 'uppercase', 'whitespace', 'zfill']\n"
       ]
      }
     ],
     "prompt_number": 14
    },
    {
     "cell_type": "code",
     "collapsed": false,
     "input": [
      "#print string.__dict__  #\ucd9c\ub825\uc740 \ub108\ubb34 \uae38\uc5b4\uc11c \uc0dd\ub7b5\n",
      "print string.__dict__.keys() #\uc774\ub807\uac8c\ud558\uba74 \ud0a4\ub9cc \ubf51\uc544\ub0bc \uc218 \uc788\ub2e4.\n",
      "                             #\uc774\uac83\uc740 dir(string)\ud55c \uac83\uacfc \uac19\ub2e4."
     ],
     "language": "python",
     "metadata": {},
     "outputs": [
      {
       "output_type": "stream",
       "stream": "stdout",
       "text": [
        "['ascii_lowercase', 'upper', '_re', 'letters', 'atol_error', 'lstrip', 'uppercase', 'ascii_letters', 'find', 'atof', 'replace', 'capwords', 'index_error', 'expandtabs', 'Template', 'strip', 'ascii_uppercase', 'octdigits', 'index', 'ljust', 'whitespace', '_int', 'rindex', '_float', 'punctuation', '__package__', 'printable', 'splitfields', 'split', 'rstrip', 'translate', '__doc__', '_multimap', 'count', 'joinfields', 'rjust', '__builtins__', '__file__', 'lower', 'swapcase', 'atof_error', 'atoi', 'hexdigits', 'Formatter', 'atol', '__name__', 'rsplit', '_idmapL', 'digits', 'lowercase', 'join', 'center', '_long', 'rfind', 'atoi_error', 'maketrans', 'capitalize', '_TemplateMetaclass', 'zfill', '_idmap']\n"
       ]
      }
     ],
     "prompt_number": 24
    },
    {
     "cell_type": "markdown",
     "metadata": {},
     "source": [
      "### 2-6 \uc774\ub984 \uacf5\uac04\uc758 \ub2e4\ub978 \uc608\ub4e4"
     ]
    },
    {
     "cell_type": "code",
     "collapsed": false,
     "input": [
      "#string \ubaa8\ub4c8 \uc774\ub984 \uacf5\uac04\uc5d0 \ubcc0\uc218 a\ub97c \uc0dd\uc131\ud55c\ub2e4.\n",
      "import string\n",
      "string.a = 1\n",
      "string.a"
     ],
     "language": "python",
     "metadata": {},
     "outputs": [
      {
       "metadata": {},
       "output_type": "pyout",
       "prompt_number": 25,
       "text": [
        "1"
       ]
      }
     ],
     "prompt_number": 25
    },
    {
     "cell_type": "code",
     "collapsed": false,
     "input": [
      "x = 10 #\ubaa8\ub4c8 \ub0b4\ubd80\uc758 \uc774\ub984\n",
      "def f():\n",
      "    a = 1\n",
      "    b = 2 #\ud568\uc218 f \ub0b4\uc5d0 \uc774\ub984 a,b\ub97c \uc815\uc758\ud558\uace0\uc788\ub2e4. \ud568\uc218\ub3c4 \uc774\ub984 \uacf5\uac04\uc774\ub2e4."
     ],
     "language": "python",
     "metadata": {},
     "outputs": [],
     "prompt_number": 26
    },
    {
     "cell_type": "code",
     "collapsed": false,
     "input": [
      "class C: #\ud074\ub798\uc2a4\ub3c4 \uc774\ub984\uacf5\uac04\uc774\ub2e4.\n",
      "    pass #\ud074\ub798\uc2a4 \uc815\uc758\n",
      "\n",
      "c = C() #\ud074\ub798\uc2a4 \uc778\uc2a4\ud134\uc2a4 \uac1d\uccb4 \uc0dd\uc131\n",
      "c.a = 1 #\uac1d\uccb4\ub3c4 \ubcc4\ub3c4\uc758 \uc774\ub984\uacf5\uac04\uc774\ub2e4.\n",
      "c.a"
     ],
     "language": "python",
     "metadata": {},
     "outputs": [
      {
       "metadata": {},
       "output_type": "pyout",
       "prompt_number": 28,
       "text": [
        "1"
       ]
      }
     ],
     "prompt_number": 28
    },
    {
     "cell_type": "code",
     "collapsed": false,
     "input": [
      "def f():\n",
      "    pass\n",
      "\n",
      "f.a = 1\n",
      "f.a"
     ],
     "language": "python",
     "metadata": {},
     "outputs": [
      {
       "metadata": {},
       "output_type": "pyout",
       "prompt_number": 29,
       "text": [
        "1"
       ]
      }
     ],
     "prompt_number": 29
    },
    {
     "cell_type": "markdown",
     "metadata": {},
     "source": [
      "***\n",
      "## 03 \ubaa8\ub4c8 \uac80\uc0c9 \uacbd\ub85c\n",
      "***"
     ]
    },
    {
     "cell_type": "markdown",
     "metadata": {},
     "source": [
      "### 3-1 PYTHONPATH \ud658\uacbd \ubcc0\uc218 \uc124\uc815\ud558\uae30"
     ]
    },
    {
     "cell_type": "code",
     "collapsed": false,
     "input": [],
     "language": "python",
     "metadata": {},
     "outputs": []
    },
    {
     "cell_type": "markdown",
     "metadata": {},
     "source": [
      "### 3-2 \ubaa8\ub4c8\uc758 \uac80\uc0c9 \uacbd\ub85c \ub3d9\uc801\uc73c\ub85c \ubc14\uafb8\uae30"
     ]
    },
    {
     "cell_type": "code",
     "collapsed": false,
     "input": [
      "import sys\n",
      "print sys.path"
     ],
     "language": "python",
     "metadata": {},
     "outputs": [
      {
       "output_type": "stream",
       "stream": "stdout",
       "text": [
        "['', '/Users/Soo-Jin/Library/Enthought/Canopy_64bit/User/lib/python2.7/site-packages/networkx-1.9.1-py2.7.egg', '/Users/Soo-Jin/Library/Enthought/Canopy_64bit/User/lib/python2.7/site-packages/decorator-3.4.0-py2.7.egg', '/Users/Soo-Jin/Library/Enthought/Canopy_64bit/User/lib/python2.7/site-packages/Pycluster-1.52-py2.7-macosx-10.6-x86_64.egg', '/Applications/Canopy.app/appdata/canopy-1.4.1.1975.macosx-x86_64/Canopy.app/Contents/lib/python27.zip', '/Applications/Canopy.app/appdata/canopy-1.4.1.1975.macosx-x86_64/Canopy.app/Contents/lib/python2.7', '/Applications/Canopy.app/appdata/canopy-1.4.1.1975.macosx-x86_64/Canopy.app/Contents/lib/python2.7/plat-darwin', '/Applications/Canopy.app/appdata/canopy-1.4.1.1975.macosx-x86_64/Canopy.app/Contents/lib/python2.7/plat-mac', '/Applications/Canopy.app/appdata/canopy-1.4.1.1975.macosx-x86_64/Canopy.app/Contents/lib/python2.7/plat-mac/lib-scriptpackages', '/Applications/Canopy.app/appdata/canopy-1.4.1.1975.macosx-x86_64/Canopy.app/Contents/lib/python2.7/lib-tk', '/Applications/Canopy.app/appdata/canopy-1.4.1.1975.macosx-x86_64/Canopy.app/Contents/lib/python2.7/lib-old', '/Applications/Canopy.app/appdata/canopy-1.4.1.1975.macosx-x86_64/Canopy.app/Contents/lib/python2.7/lib-dynload', '/Users/Soo-Jin/Library/Enthought/Canopy_64bit/User/lib/python2.7/site-packages', '/Users/Soo-Jin/Library/Enthought/Canopy_64bit/User/lib/python2.7/site-packages/PIL', '/Applications/Canopy.app/appdata/canopy-1.4.1.1975.macosx-x86_64/Canopy.app/Contents/lib/python2.7/site-packages', '/Users/Soo-Jin/Library/Enthought/Canopy_64bit/User/lib/python2.7/site-packages/IPython/extensions']\n"
       ]
      }
     ],
     "prompt_number": 32
    },
    {
     "cell_type": "code",
     "collapsed": false,
     "input": [
      "sys.path.append('~/mypythonlib')"
     ],
     "language": "python",
     "metadata": {},
     "outputs": [],
     "prompt_number": 33
    },
    {
     "cell_type": "markdown",
     "metadata": {},
     "source": [
      "***\n",
      "## 04 import\uc5d0 \ub300\ud574\uc11c \uc880 \ub354 \uc790\uc138\ud788\n",
      "***"
     ]
    },
    {
     "cell_type": "markdown",
     "metadata": {},
     "source": [
      "### 4-1 \ubaa8\ub4c8 import \ud558\uae30"
     ]
    },
    {
     "cell_type": "code",
     "collapsed": false,
     "input": [
      "import mymath\n",
      "mymath.area(5)"
     ],
     "language": "python",
     "metadata": {},
     "outputs": [
      {
       "metadata": {},
       "output_type": "pyout",
       "prompt_number": 34,
       "text": [
        "78.5"
       ]
      }
     ],
     "prompt_number": 34
    },
    {
     "cell_type": "code",
     "collapsed": false,
     "input": [
      "from mymath import area, mypi\n",
      "area(5)"
     ],
     "language": "python",
     "metadata": {},
     "outputs": [
      {
       "metadata": {},
       "output_type": "pyout",
       "prompt_number": 35,
       "text": [
        "78.5"
       ]
      }
     ],
     "prompt_number": 35
    },
    {
     "cell_type": "code",
     "collapsed": false,
     "input": [
      "from mymath import *\n",
      "area(5)"
     ],
     "language": "python",
     "metadata": {},
     "outputs": [
      {
       "metadata": {},
       "output_type": "pyout",
       "prompt_number": 36,
       "text": [
        "78.5"
       ]
      }
     ],
     "prompt_number": 36
    },
    {
     "cell_type": "code",
     "collapsed": false,
     "input": [
      "import string as chstr\n",
      "chstr"
     ],
     "language": "python",
     "metadata": {},
     "outputs": [
      {
       "metadata": {},
       "output_type": "pyout",
       "prompt_number": 37,
       "text": [
        "<module 'string' from '/Applications/Canopy.app/appdata/canopy-1.4.1.1975.macosx-x86_64/Canopy.app/Contents/lib/python2.7/string.pyc'>"
       ]
      }
     ],
     "prompt_number": 37
    },
    {
     "cell_type": "code",
     "collapsed": false,
     "input": [
      "from string import replace as substitute\n",
      "print substitute\n",
      "print substitute('ham chicken spam', 'chicken', 'egg')"
     ],
     "language": "python",
     "metadata": {},
     "outputs": [
      {
       "output_type": "stream",
       "stream": "stdout",
       "text": [
        "<function replace at 0x1006a01b8>\n",
        "ham egg spam\n"
       ]
      }
     ],
     "prompt_number": 38
    },
    {
     "cell_type": "code",
     "collapsed": false,
     "input": [
      "from string import replace as substitute, upper as up\n",
      "up"
     ],
     "language": "python",
     "metadata": {},
     "outputs": [
      {
       "metadata": {},
       "output_type": "pyout",
       "prompt_number": 39,
       "text": [
        "<function string.upper>"
       ]
      }
     ],
     "prompt_number": 39
    },
    {
     "cell_type": "code",
     "collapsed": false,
     "input": [
      "def str_test(s):\n",
      "    import string\n",
      "    t = string.split(s)\n",
      "    return t"
     ],
     "language": "python",
     "metadata": {},
     "outputs": [],
     "prompt_number": 40
    },
    {
     "cell_type": "code",
     "collapsed": false,
     "input": [
      "from Tkinter import  (Tk, Frame, Button, Entry, Canvas, Text, LEFT, DISABLED, NORMAL, RIDGE, END)"
     ],
     "language": "python",
     "metadata": {},
     "outputs": [],
     "prompt_number": 41
    },
    {
     "cell_type": "markdown",
     "metadata": {},
     "source": [
      "### 4-2 import\ub294 \ucf54\ub4dc\ub97c \uc218\ud589\ud55c\ub2e4"
     ]
    },
    {
     "cell_type": "code",
     "collapsed": false,
     "input": [
      "#FILE : mymath02.py\n",
      "mypi = 3.14\n",
      "\n",
      "def add(a, b):\n",
      "    return a + b\n",
      "\n",
      "def area(r):\n",
      "    return mypi * r * r\n",
      "\n",
      "print area(4.0)"
     ],
     "language": "python",
     "metadata": {},
     "outputs": [
      {
       "output_type": "stream",
       "stream": "stdout",
       "text": [
        "50.24\n"
       ]
      }
     ],
     "prompt_number": 43
    },
    {
     "cell_type": "code",
     "collapsed": false,
     "input": [
      "import mymath02"
     ],
     "language": "python",
     "metadata": {},
     "outputs": [
      {
       "output_type": "stream",
       "stream": "stdout",
       "text": [
        "50.24\n"
       ]
      }
     ],
     "prompt_number": 45
    },
    {
     "cell_type": "markdown",
     "metadata": {},
     "source": [
      "### 4-3 \ucef4\ud30c\uc77c\uacfc \uc801\uc7ac\uc2dc\uac04"
     ]
    },
    {
     "cell_type": "code",
     "collapsed": false,
     "input": [],
     "language": "python",
     "metadata": {},
     "outputs": []
    },
    {
     "cell_type": "markdown",
     "metadata": {},
     "source": [
      "### 4-4 \ubb38\uc790\uc5f4\ub85c \ud45c\ud604\ub41c \ubaa8\ub4c8 \uac00\uc838\uc624\uae30"
     ]
    },
    {
     "cell_type": "code",
     "collapsed": false,
     "input": [
      "modulename = 're'\n",
      "re = __import__(modulename)\n",
      "re"
     ],
     "language": "python",
     "metadata": {},
     "outputs": [
      {
       "metadata": {},
       "output_type": "pyout",
       "prompt_number": 46,
       "text": [
        "<module 're' from '/Applications/Canopy.app/appdata/canopy-1.4.1.1975.macosx-x86_64/Canopy.app/Contents/lib/python2.7/re.pyc'>"
       ]
      }
     ],
     "prompt_number": 46
    },
    {
     "cell_type": "markdown",
     "metadata": {},
     "source": [
      "### 4-5 \ubaa8\ub4c8 \uc774\ub984\uacfc \uc774\ubbf8 \uc0ac\uc6a9\ud558\uace0 \uc788\ub358 \uc774\ub984\uc774 \uac19\ub2e4\uba74?"
     ]
    },
    {
     "cell_type": "code",
     "collapsed": false,
     "input": [
      "string = \"My first string\"\n",
      "import string\n",
      "string"
     ],
     "language": "python",
     "metadata": {},
     "outputs": [
      {
       "metadata": {},
       "output_type": "pyout",
       "prompt_number": 47,
       "text": [
        "<module 'string' from '/Applications/Canopy.app/appdata/canopy-1.4.1.1975.macosx-x86_64/Canopy.app/Contents/lib/python2.7/string.pyc'>"
       ]
      }
     ],
     "prompt_number": 47
    },
    {
     "cell_type": "code",
     "collapsed": false,
     "input": [
      "import string\n",
      "string = \"My first string\" #\uc5ec\uae30\uc11c string\uc774\ub780 \uc774\ub984\uc740 \ubb38\uc790\uc5f4\uc744 \ucc38\uc870\ud558\uac8c \ub41c\ub2e4.\n",
      "string"
     ],
     "language": "python",
     "metadata": {},
     "outputs": [
      {
       "metadata": {},
       "output_type": "pyout",
       "prompt_number": 48,
       "text": [
        "'My first string'"
       ]
      }
     ],
     "prompt_number": 48
    },
    {
     "cell_type": "code",
     "collapsed": false,
     "input": [
      "import string\n",
      "string.a = 1\n",
      "string = \"My first string\"\n",
      "print string\n",
      "\n",
      "import string\n",
      "string.a #\uc5ec\uae30\uc11c \uc6b0\ub9ac\ub294 string \ubaa8\ub4c8\uc774 \uc0c8\ub85c \uc784\ud3ec\ud2b8\ub418\uc9c0 \uc54a\uc740 \uac83\uc784\uc744 \uc54c \uc218 \uc788\ub2e4."
     ],
     "language": "python",
     "metadata": {},
     "outputs": [
      {
       "output_type": "stream",
       "stream": "stdout",
       "text": [
        "My first string\n"
       ]
      },
      {
       "metadata": {},
       "output_type": "pyout",
       "prompt_number": 49,
       "text": [
        "1"
       ]
      }
     ],
     "prompt_number": 49
    },
    {
     "cell_type": "markdown",
     "metadata": {},
     "source": [
      "### 4-6 \ubaa8\ub4c8\uc740 \uacf5\uc720\ub41c\ub2e4"
     ]
    },
    {
     "cell_type": "code",
     "collapsed": false,
     "input": [
      "#file : teststring1.py\n",
      "import string\n",
      "\n",
      "print 'test string1'\n",
      "string.a = 1\n",
      "\n",
      "import teststring2\n",
      "\n",
      "print 'test string1 done'"
     ],
     "language": "python",
     "metadata": {},
     "outputs": [
      {
       "output_type": "stream",
       "stream": "stdout",
       "text": [
        "test string1\n",
        "test string2\n",
        "1\n",
        "test string2 done\n",
        "test string1 done\n"
       ]
      }
     ],
     "prompt_number": 52
    },
    {
     "cell_type": "code",
     "collapsed": false,
     "input": [
      "#file : teststring2.py\n",
      "import string\n",
      "\n",
      "print 'test string2'\n",
      "print string.a\n",
      "print 'test string2 done'"
     ],
     "language": "python",
     "metadata": {},
     "outputs": [
      {
       "output_type": "stream",
       "stream": "stdout",
       "text": [
        "test string2\n",
        "1\n",
        "test string2 done\n"
       ]
      }
     ],
     "prompt_number": 51
    },
    {
     "cell_type": "markdown",
     "metadata": {},
     "source": [
      "### 4-7 \ubaa8\ub4c8\uc758 \uc7ac\uc801\uc7ac(reload)"
     ]
    },
    {
     "cell_type": "code",
     "collapsed": false,
     "input": [
      "import mymath\n",
      "mymath.mypi = 6.2 #\uac12 \uc218\uc815(\uc6d0\ub798 \uac12\uc740 3.14)\n",
      "\n",
      "import mymath #\ub2e4\uc2dc import\n",
      "mymath.mypi #3.14\uac00 \uc544\ub2c8\ub77c 6.2 -> \uc989 \uc774\ubbf8 \uc801\uc7ac\ub418\uc5b4 \uc788\ub294 \ubaa8\ub4c8 \uadf8\ub0e5 \uc774\uc6a9"
     ],
     "language": "python",
     "metadata": {},
     "outputs": [
      {
       "metadata": {},
       "output_type": "pyout",
       "prompt_number": 54,
       "text": [
        "6.2"
       ]
      }
     ],
     "prompt_number": 54
    },
    {
     "cell_type": "code",
     "collapsed": false,
     "input": [
      "#file : A.py\n",
      "import B\n",
      "\n",
      "#file : B.py\n",
      "import A"
     ],
     "language": "python",
     "metadata": {},
     "outputs": []
    },
    {
     "cell_type": "code",
     "collapsed": false,
     "input": [
      "reload(mymath)"
     ],
     "language": "python",
     "metadata": {},
     "outputs": [
      {
       "metadata": {},
       "output_type": "pyout",
       "prompt_number": 56,
       "text": [
        "<module 'mymath' from 'mymath.pyc'>"
       ]
      }
     ],
     "prompt_number": 56
    },
    {
     "cell_type": "code",
     "collapsed": false,
     "input": [
      "mymath.mypi"
     ],
     "language": "python",
     "metadata": {},
     "outputs": [
      {
       "metadata": {},
       "output_type": "pyout",
       "prompt_number": 57,
       "text": [
        "3.14"
       ]
      }
     ],
     "prompt_number": 57
    },
    {
     "cell_type": "markdown",
     "metadata": {},
     "source": [
      "***\n",
      "## 05 \ubaa8\ub4c8\uc758 \uc2e4\ud589\n",
      "***"
     ]
    },
    {
     "cell_type": "code",
     "collapsed": false,
     "input": [
      "#FILE : prname.py\n",
      "print __name__"
     ],
     "language": "python",
     "metadata": {},
     "outputs": [
      {
       "output_type": "stream",
       "stream": "stdout",
       "text": [
        "__main__\n"
       ]
      }
     ],
     "prompt_number": 58
    },
    {
     "cell_type": "code",
     "collapsed": false,
     "input": [
      "import prname"
     ],
     "language": "python",
     "metadata": {},
     "outputs": [
      {
       "output_type": "stream",
       "stream": "stdout",
       "text": [
        "prname\n"
       ]
      }
     ],
     "prompt_number": 60
    },
    {
     "cell_type": "code",
     "collapsed": false,
     "input": [
      "import string\n",
      "print string.__name__\n",
      "\n",
      "import re\n",
      "print re.__name__\n",
      "\n",
      "import mimetools\n",
      "print mimetools.__name__\n",
      "\n",
      "import os\n",
      "print os.__name__"
     ],
     "language": "python",
     "metadata": {},
     "outputs": [
      {
       "output_type": "stream",
       "stream": "stdout",
       "text": [
        "string\n",
        "re\n",
        "mimetools\n",
        "os\n"
       ]
      }
     ],
     "prompt_number": 63
    },
    {
     "cell_type": "code",
     "collapsed": false,
     "input": [
      "#file: name_attr_test.py\n",
      "def test():\n",
      "    print \"Python is becoming popular.\"\n",
      "    \n",
      "if __name__ == \"__main__\":\n",
      "    test()"
     ],
     "language": "python",
     "metadata": {},
     "outputs": [
      {
       "output_type": "stream",
       "stream": "stdout",
       "text": [
        "Python is becoming popular.\n"
       ]
      }
     ],
     "prompt_number": 65
    },
    {
     "cell_type": "code",
     "collapsed": false,
     "input": [
      "import name_attr_test\n",
      "\n",
      "name_attr_test.test()"
     ],
     "language": "python",
     "metadata": {},
     "outputs": [
      {
       "output_type": "stream",
       "stream": "stdout",
       "text": [
        "Python is becoming popular.\n"
       ]
      }
     ],
     "prompt_number": 69
    },
    {
     "cell_type": "markdown",
     "metadata": {},
     "source": [
      "***\n",
      "## 06 \ubb38\uc790\uc5f4 \uc774\ub984\uc73c\ub85c \uc18d\uc131 \uac12 \ucc38\uc870\ud558\uae30\n",
      "***"
     ]
    },
    {
     "cell_type": "markdown",
     "metadata": {},
     "source": [
      "### 6-1 getattr(), setattr(), hasattr(), delattr()"
     ]
    },
    {
     "cell_type": "code",
     "collapsed": false,
     "input": [
      "import calendar\n",
      "\n",
      "print getattr(calendar, 'prmonth') #\ubb38\uc790\uc5f4 \uc774\ub984\uc744 \uc774\uc6a9\ud55c \uac1d\uccb4 \ucc38\uc870\n",
      "print calendar.prmonth #\uc9c1\uc811 calendar.prmonth\ub97c \ucc38\uc870\ud558\ub294 \uac83\uacfc \uac19\ub2e4"
     ],
     "language": "python",
     "metadata": {},
     "outputs": [
      {
       "output_type": "stream",
       "stream": "stdout",
       "text": [
        "<bound method TextCalendar.prmonth of <calendar.TextCalendar object at 0x101a16310>>\n",
        "<bound method TextCalendar.prmonth of <calendar.TextCalendar object at 0x101a16310>>\n"
       ]
      }
     ],
     "prompt_number": 71
    },
    {
     "cell_type": "code",
     "collapsed": false,
     "input": [
      "calendar.prmonth(2002, 4)"
     ],
     "language": "python",
     "metadata": {},
     "outputs": [
      {
       "output_type": "stream",
       "stream": "stdout",
       "text": [
        "     April 2002\n",
        "Mo Tu We Th Fr Sa Su\n",
        " 1  2  3  4  5  6  7\n",
        " 8  9 10 11 12 13 14\n",
        "15 16 17 18 19 20 21\n",
        "22 23 24 25 26 27 28\n",
        "29 30\n"
       ]
      }
     ],
     "prompt_number": 72
    },
    {
     "cell_type": "code",
     "collapsed": false,
     "input": [
      "getattr(calendar, 'prmonth')(2002, 4) #\uac19\uc740 \ucd9c\ub825\uacb0\uacfc"
     ],
     "language": "python",
     "metadata": {},
     "outputs": [
      {
       "output_type": "stream",
       "stream": "stdout",
       "text": [
        "     April 2002\n",
        "Mo Tu We Th Fr Sa Su\n",
        " 1  2  3  4  5  6  7\n",
        " 8  9 10 11 12 13 14\n",
        "15 16 17 18 19 20 21\n",
        "22 23 24 25 26 27 28\n",
        "29 30\n"
       ]
      }
     ],
     "prompt_number": 73
    },
    {
     "cell_type": "code",
     "collapsed": false,
     "input": [
      "f = getattr(calendar, 'prmonth')\n",
      "f(2002, 4) #\uac19\uc740 \ucd9c\ub825\uacb0\uacfc"
     ],
     "language": "python",
     "metadata": {},
     "outputs": [
      {
       "output_type": "stream",
       "stream": "stdout",
       "text": [
        "     April 2002\n",
        "Mo Tu We Th Fr Sa Su\n",
        " 1  2  3  4  5  6  7\n",
        " 8  9 10 11 12 13 14\n",
        "15 16 17 18 19 20 21\n",
        "22 23 24 25 26 27 28\n",
        "29 30\n"
       ]
      }
     ],
     "prompt_number": 77
    },
    {
     "cell_type": "code",
     "collapsed": false,
     "input": [
      "import calendar\n",
      "setattr(calendar, 'spam', 10)\n",
      "print calendar.spam\n",
      "\n",
      "print hasattr(calendar, 'spam')\n",
      "\n",
      "print delattr(calendar, 'spam')\n",
      "calendar.spam"
     ],
     "language": "python",
     "metadata": {},
     "outputs": [
      {
       "output_type": "stream",
       "stream": "stdout",
       "text": [
        "10\n",
        "True\n",
        "None\n"
       ]
      },
      {
       "ename": "AttributeError",
       "evalue": "'module' object has no attribute 'spam'",
       "output_type": "pyerr",
       "traceback": [
        "\u001b[0;31m---------------------------------------------------------------------------\u001b[0m\n\u001b[0;31mAttributeError\u001b[0m                            Traceback (most recent call last)",
        "\u001b[0;32m<ipython-input-80-4d9d1c3c811b>\u001b[0m in \u001b[0;36m<module>\u001b[0;34m()\u001b[0m\n\u001b[1;32m      6\u001b[0m \u001b[0;34m\u001b[0m\u001b[0m\n\u001b[1;32m      7\u001b[0m \u001b[0;32mprint\u001b[0m \u001b[0mdelattr\u001b[0m\u001b[0;34m(\u001b[0m\u001b[0mcalendar\u001b[0m\u001b[0;34m,\u001b[0m \u001b[0;34m'spam'\u001b[0m\u001b[0;34m)\u001b[0m\u001b[0;34m\u001b[0m\u001b[0m\n\u001b[0;32m----> 8\u001b[0;31m \u001b[0mcalendar\u001b[0m\u001b[0;34m.\u001b[0m\u001b[0mspam\u001b[0m\u001b[0;34m\u001b[0m\u001b[0m\n\u001b[0m",
        "\u001b[0;31mAttributeError\u001b[0m: 'module' object has no attribute 'spam'"
       ]
      }
     ],
     "prompt_number": 80
    },
    {
     "cell_type": "markdown",
     "metadata": {},
     "source": [
      "### 6-2 _dict_-\ubaa8\ub4c8\uc758 \uc774\ub984 \uacf5\uac04 \uc5bb\uae30"
     ]
    },
    {
     "cell_type": "code",
     "collapsed": false,
     "input": [
      "print dir(calendar)"
     ],
     "language": "python",
     "metadata": {},
     "outputs": [
      {
       "output_type": "stream",
       "stream": "stdout",
       "text": [
        "['Calendar', 'EPOCH', 'FRIDAY', 'February', 'HTMLCalendar', 'IllegalMonthError', 'IllegalWeekdayError', 'January', 'LocaleHTMLCalendar', 'LocaleTextCalendar', 'MONDAY', 'SATURDAY', 'SUNDAY', 'THURSDAY', 'TUESDAY', 'TextCalendar', 'TimeEncoding', 'WEDNESDAY', '_EPOCH_ORD', '__all__', '__builtins__', '__doc__', '__file__', '__name__', '__package__', '_colwidth', '_locale', '_localized_day', '_localized_month', '_spacing', 'c', 'calendar', 'datetime', 'day_abbr', 'day_name', 'error', 'firstweekday', 'format', 'formatstring', 'isleap', 'leapdays', 'main', 'mdays', 'month', 'month_abbr', 'month_name', 'monthcalendar', 'monthrange', 'prcal', 'prmonth', 'prweek', 'setfirstweekday', 'sys', 'timegm', 'week', 'weekday', 'weekheader']\n"
       ]
      }
     ],
     "prompt_number": 81
    },
    {
     "cell_type": "code",
     "collapsed": false,
     "input": [
      "for attr, val in calendar.__dict__.items():\n",
      "    print 'name = %-15s type = %s' % (attr, type(val))"
     ],
     "language": "python",
     "metadata": {},
     "outputs": [
      {
       "output_type": "stream",
       "stream": "stdout",
       "text": [
        "name = MONDAY          type = <type 'int'>\n",
        "name = weekheader      type = <type 'instancemethod'>\n",
        "name = FRIDAY          type = <type 'int'>\n",
        "name = formatstring    type = <type 'function'>\n",
        "name = datetime        type = <type 'module'>\n",
        "name = timegm          type = <type 'function'>\n",
        "name = mdays           type = <type 'list'>\n",
        "name = calendar        type = <type 'instancemethod'>\n",
        "name = __package__     type = <type 'NoneType'>\n",
        "name = SATURDAY        type = <type 'int'>\n",
        "name = _localized_day  type = <type 'classobj'>\n",
        "name = _localized_month type = <type 'classobj'>\n",
        "name = leapdays        type = <type 'function'>\n",
        "name = monthcalendar   type = <type 'instancemethod'>\n",
        "name = __all__         type = <type 'list'>\n",
        "name = c               type = <class 'calendar.TextCalendar'>\n",
        "name = TUESDAY         type = <type 'int'>\n",
        "name = format          type = <type 'function'>\n",
        "name = SUNDAY          type = <type 'int'>\n",
        "name = THURSDAY        type = <type 'int'>\n",
        "name = IllegalMonthError type = <type 'type'>\n",
        "name = LocaleTextCalendar type = <type 'type'>\n",
        "name = month_name      type = <type 'instance'>\n",
        "name = day_abbr        type = <type 'instance'>\n",
        "name = _colwidth       type = <type 'int'>\n",
        "name = _EPOCH_ORD      type = <type 'int'>\n",
        "name = main            type = <type 'function'>\n",
        "name = __doc__         type = <type 'str'>\n",
        "name = weekday         type = <type 'function'>\n",
        "name = week            type = <type 'instancemethod'>\n",
        "name = February        type = <type 'int'>\n",
        "name = monthrange      type = <type 'function'>\n",
        "name = LocaleHTMLCalendar type = <type 'type'>\n",
        "name = prmonth         type = <type 'instancemethod'>\n",
        "name = __builtins__    type = <type 'dict'>\n",
        "name = January         type = <type 'int'>\n",
        "name = __file__        type = <type 'str'>\n",
        "name = WEDNESDAY       type = <type 'int'>\n",
        "name = sys             type = <type 'module'>\n",
        "name = EPOCH           type = <type 'int'>\n",
        "name = _spacing        type = <type 'int'>\n",
        "name = prweek          type = <type 'instancemethod'>\n",
        "name = __name__        type = <type 'str'>\n",
        "name = month           type = <type 'instancemethod'>\n",
        "name = firstweekday    type = <type 'instancemethod'>\n",
        "name = setfirstweekday type = <type 'function'>\n",
        "name = TimeEncoding    type = <type 'classobj'>\n",
        "name = _locale         type = <type 'module'>\n",
        "name = prcal           type = <type 'instancemethod'>\n",
        "name = isleap          type = <type 'function'>\n",
        "name = TextCalendar    type = <type 'type'>\n",
        "name = day_name        type = <type 'instance'>\n",
        "name = month_abbr      type = <type 'instance'>\n",
        "name = IllegalWeekdayError type = <type 'type'>\n",
        "name = error           type = <type 'type'>\n",
        "name = HTMLCalendar    type = <type 'type'>\n",
        "name = Calendar        type = <type 'type'>\n"
       ]
      }
     ],
     "prompt_number": 82
    },
    {
     "cell_type": "markdown",
     "metadata": {},
     "source": [
      "***\n",
      "## 07 \ud328\ud0a4\uc9c0\n",
      "***"
     ]
    },
    {
     "cell_type": "markdown",
     "metadata": {},
     "source": [
      "\uad50\uc218\ub2d8 \ud328\ud0a4\uc9c0 \ubd80\ubd84\uc774 speech\ubaa8\ub4c8\uc744 \uae54\uc544\uc57c\ub418\ub294\ub370.. \ub9e5\uc5d0\uc11c\ub294 \uc791\ub3d9\uc774 \uc798\uc548\ub418\ub294\uac70\uac19\uc544\uc694\n",
      "\ubaa8\ub4c8\uae54\uace0 import \uc2dc\ud0a4\ub824\uace0\ud558\ub2c8\uae4c\n",
      "win32com.client \ubaa8\ub4c8\uc774 \uc5c6\ub2e4\uace0\ud558\ub124\uc694.\n",
      "\n",
      "\uad6c\uae00\ub9c1\ud574\ubcf4\ub2c8\uae4c \ubc84\uc804\uc774 \uc548\ub9de\ub294\uac70\uac19\uc544\uc694 \ub9e5\uc774\ub77c\uc11c \uadf8\ub7f0\uc9c0\u3160_\u3160.\n",
      "\ud639\uc2dc \ub2e4\ub978 \ubaa8\ub4c8\ub85c \ubc14\uafd4\uc11c \ud558\ub294 \ubc29\ubc95\uc774 \uc788\uc73c\ub824\ub098\uc694?"
     ]
    },
    {
     "cell_type": "markdown",
     "metadata": {},
     "source": [
      "### 7-1 \ud328\ud0a4\uc9c0\uc758 \uad6c\uc870"
     ]
    },
    {
     "cell_type": "markdown",
     "metadata": {},
     "source": [
      "### 7-2 _init_.py\uc758 \uc5ed\ud560"
     ]
    },
    {
     "cell_type": "markdown",
     "metadata": {},
     "source": [
      "### 7-3 import \ud558\uae30"
     ]
    },
    {
     "cell_type": "markdown",
     "metadata": {},
     "source": [
      "### 7-4 import* \ud558\uae30"
     ]
    },
    {
     "cell_type": "markdown",
     "metadata": {},
     "source": [
      "### 7-5 \ud558\uc704 \ubaa8\ub4c8\uc774 \uc790\ub3d9\uc801\uc73c\ub85c \uc801\uc7ac\ub418\uc9c0 \uc54a\ub294\ub2e4"
     ]
    },
    {
     "cell_type": "markdown",
     "metadata": {},
     "source": [
      "### 7-6 \ud328\ud0a4\uc9c0 \ub0b4\ubd80\uc5d0\uc11c\uc758 \uc0c1\ud638 \ucc38\uc870"
     ]
    }
   ],
   "metadata": {}
  }
 ]
}