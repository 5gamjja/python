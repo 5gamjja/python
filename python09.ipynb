{
 "metadata": {
  "name": "",
  "signature": "sha256:367845bbe567c66c2d353ea51371927712d4fa69e5d0f0261ba73d6ffa5e95c0"
 },
 "nbformat": 3,
 "nbformat_minor": 0,
 "worksheets": [
  {
   "cells": [
    {
     "cell_type": "markdown",
     "metadata": {},
     "source": [
      "***\n",
      "***\n",
      "# 9. \ud30c\uc77c\n",
      "***\n",
      "***"
     ]
    },
    {
     "cell_type": "markdown",
     "metadata": {},
     "source": [
      "***\n",
      "## 01 \ud30c\uc77c \uc4f0\uae30\n",
      "***"
     ]
    },
    {
     "cell_type": "code",
     "collapsed": false,
     "input": [
      "s = \"\"\"\n",
      "Its power: Python developers typically report \n",
      "they are able to develop applications in a half\n",
      "to a tenth the amount of time it takes them to do\n",
      "the same work in such languages as C.\n",
      "\"\"\"\n",
      "f = file('t.txt', 'w') #\ud639\uc740 f = open('t.txt', 'w')\n",
      "f.write(s) #\ubb38\uc790\uc5f4\uc744 \ud30c\uc77c\uc5d0 \uae30\ub85d\n",
      "f.close()"
     ],
     "language": "python",
     "metadata": {},
     "outputs": []
    },
    {
     "cell_type": "markdown",
     "metadata": {},
     "source": [
      "***\n",
      "## 02 \ud30c\uc77c \uc77d\uae30\n",
      "***"
     ]
    },
    {
     "cell_type": "code",
     "collapsed": false,
     "input": [
      "f = file('t.txt')\n",
      "s = f.read()\n",
      "print s"
     ],
     "language": "python",
     "metadata": {},
     "outputs": [
      {
       "output_type": "stream",
       "stream": "stdout",
       "text": [
        "\n",
        "Its power: Python developers typically report \n",
        "they are able to develop applications in a half\n",
        "to a tenth the amount of time it takes them to do\n",
        "the same work in such languages as C.\n",
        "\n"
       ]
      }
     ],
     "prompt_number": 2
    },
    {
     "cell_type": "markdown",
     "metadata": {},
     "source": [
      "***\n",
      "## 03 \ub77c\uc778 \ub2e8\uc704\ub85c \ud30c\uc77c \uc77d\uae30\n",
      "***"
     ]
    },
    {
     "cell_type": "code",
     "collapsed": false,
     "input": [
      "f = open('t.txt')\n",
      "for line in f:\n",
      "    print line,"
     ],
     "language": "python",
     "metadata": {},
     "outputs": [
      {
       "output_type": "stream",
       "stream": "stdout",
       "text": [
        "\n",
        "Its power: Python developers typically report \n",
        "they are able to develop applications in a half\n",
        "to a tenth the amount of time it takes them to do\n",
        "the same work in such languages as C.\n"
       ]
      }
     ],
     "prompt_number": 3
    },
    {
     "cell_type": "code",
     "collapsed": false,
     "input": [
      "f = open('t.txt')\n",
      "line = f.readline()\n",
      "while line:\n",
      "    print line,\n",
      "    line = f.readline()"
     ],
     "language": "python",
     "metadata": {},
     "outputs": [
      {
       "output_type": "stream",
       "stream": "stdout",
       "text": [
        "\n",
        "Its power: Python developers typically report \n",
        "they are able to develop applications in a half\n",
        "to a tenth the amount of time it takes them to do\n",
        "the same work in such languages as C.\n"
       ]
      }
     ],
     "prompt_number": 4
    },
    {
     "cell_type": "code",
     "collapsed": false,
     "input": [
      "f = open('t.txt')\n",
      "for line in f.readline():\n",
      "    print line,"
     ],
     "language": "python",
     "metadata": {},
     "outputs": [
      {
       "output_type": "stream",
       "stream": "stdout",
       "text": [
        "\n"
       ]
      }
     ],
     "prompt_number": 5
    },
    {
     "cell_type": "code",
     "collapsed": false,
     "input": [
      "f = open('t.txt')\n",
      "for line in f.xreadlines():\n",
      "    print line,"
     ],
     "language": "python",
     "metadata": {},
     "outputs": [
      {
       "output_type": "stream",
       "stream": "stdout",
       "text": [
        "\n",
        "Its power: Python developers typically report \n",
        "they are able to develop applications in a half\n",
        "to a tenth the amount of time it takes them to do\n",
        "the same work in such languages as C.\n"
       ]
      }
     ],
     "prompt_number": 6
    },
    {
     "cell_type": "markdown",
     "metadata": {},
     "source": [
      "***\n",
      "## 04 \ub77c\uc778 \ub2e8\uc704\ub85c \ud30c\uc77c \uc4f0\uae30\n",
      "***"
     ]
    },
    {
     "cell_type": "code",
     "collapsed": false,
     "input": [
      "lines = ['first line\\n', 'second line\\n', 'third line\\n']\n",
      "f = open('t1.txt', 'w')\n",
      "f.writelines(lines)"
     ],
     "language": "python",
     "metadata": {},
     "outputs": [],
     "prompt_number": 7
    },
    {
     "cell_type": "code",
     "collapsed": false,
     "input": [
      "lines = ['first line\\n', 'second line\\n', 'third line\\n']\n",
      "f = open('t1.txt', 'w')\n",
      "f.write(''.join(lines))"
     ],
     "language": "python",
     "metadata": {},
     "outputs": [],
     "prompt_number": 9
    },
    {
     "cell_type": "code",
     "collapsed": false,
     "input": [
      "lines = ['first line', 'second line', 'third line']\n",
      "f = open('t1.txt', 'w')\n",
      "f.write('\\n'.join(lines))"
     ],
     "language": "python",
     "metadata": {},
     "outputs": [],
     "prompt_number": 12
    },
    {
     "cell_type": "markdown",
     "metadata": {},
     "source": [
      "***\n",
      "## 05 \ud30c\uc77c\uc5d0\uc11c \uc6d0\ud558\ub294 \ub9cc\ud07c\uc758 \ubb38\uc790 \uc77d\uae30\n",
      "***"
     ]
    },
    {
     "cell_type": "markdown",
     "metadata": {},
     "source": [
      "***\n",
      "## 06 \ud30c\uc77c \ucc98\ub9ac \ubaa8\ub4dc\n",
      "***"
     ]
    },
    {
     "cell_type": "markdown",
     "metadata": {},
     "source": [
      "### 6-1 \ud30c\uc77c \ucc98\ub9ac \ubaa8\ub4dc\uc758 \uc885\ub958"
     ]
    },
    {
     "cell_type": "markdown",
     "metadata": {},
     "source": [
      "### 6-2 \ud30c\uc77c \ucd94\uac00\uc758 \uc608"
     ]
    },
    {
     "cell_type": "markdown",
     "metadata": {},
     "source": [
      "***\n",
      "## 07 \uc784\uc758 \uc811\uadfc \ud30c\uc77c\n",
      "***"
     ]
    },
    {
     "cell_type": "markdown",
     "metadata": {},
     "source": [
      "***\n",
      "## 08 \ud30c\uc77c \uac1d\uccb4 \uc18d\uc131\ub4e4\n",
      "***"
     ]
    },
    {
     "cell_type": "markdown",
     "metadata": {},
     "source": [
      "***\n",
      "## 09 \ud30c\uc77c \uc785\ucd9c\ub825 \uc608\uc81c\n",
      "***"
     ]
    },
    {
     "cell_type": "markdown",
     "metadata": {},
     "source": [
      "***\n",
      "## 10 \ud45c\uc900 \uc785\ucd9c\ub825 \ubc29\ud669 \uc804\ud658\n",
      "***"
     ]
    },
    {
     "cell_type": "markdown",
     "metadata": {},
     "source": [
      "### 10-1 \ud45c\uc900 \ucd9c\ub825\uc744 \ud30c\uc77c\ub85c \uc800\uc7a5\ud558\uae30"
     ]
    },
    {
     "cell_type": "markdown",
     "metadata": {},
     "source": [
      "### 10-2 \ud45c\uc900 \ucd9c\ub825\uc744 \ubb38\uc790\uc5f4\ub85c \uc800\uc7a5\ud558\uae30(StringIO)"
     ]
    },
    {
     "cell_type": "markdown",
     "metadata": {},
     "source": [
      "### 10-3 \ubb38\uc790\uc5f4\uc744 \ud30c\uc77c \uac1d\uccb4\ucc98\ub7fc \uc77d\uc5b4\ub0b4\uae30(StringIO)"
     ]
    },
    {
     "cell_type": "markdown",
     "metadata": {},
     "source": [
      "***\n",
      "## 11 \uc9c0\uc18d \ubaa8\ub4c8(Persistent Modules)\n",
      "***"
     ]
    },
    {
     "cell_type": "markdown",
     "metadata": {},
     "source": [
      "### 11-1 DBM \ud30c\uc77c \uad00\ub828 \ubaa8\ub4c8 \uc0ac\uc6a9\ud558\uae30"
     ]
    },
    {
     "cell_type": "markdown",
     "metadata": {},
     "source": [
      "### 11-2 \ud53c\ud074\ub9c1(pickling)"
     ]
    }
   ],
   "metadata": {}
  }
 ]
}