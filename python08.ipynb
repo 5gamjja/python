{
 "metadata": {
  "name": "",
  "signature": "sha256:cedc37fe302578d44994ff546630a0b4b02e8f7353ecfeafc92e94e26ddf273a"
 },
 "nbformat": 3,
 "nbformat_minor": 0,
 "worksheets": [
  {
   "cells": [
    {
     "cell_type": "markdown",
     "metadata": {},
     "source": [
      "***\n",
      "***\n",
      "# 8. \uac1d\uccb4\uc758 \ubcf5\uc0ac \ubc0f \ud615 \ubcc0\ud658\n",
      "***\n",
      "***"
     ]
    },
    {
     "cell_type": "markdown",
     "metadata": {},
     "source": [
      "***\n",
      "## 01 \uac1d\uccb4\uc758 \ubcf5\uc0ac\n",
      "***"
     ]
    },
    {
     "cell_type": "code",
     "collapsed": false,
     "input": [
      "a = 1\n",
      "b = a"
     ],
     "language": "python",
     "metadata": {},
     "outputs": [],
     "prompt_number": 1
    },
    {
     "cell_type": "code",
     "collapsed": false,
     "input": [
      "a = [1,2,3]\n",
      "b = [4,5,a]\n",
      "x = [a,b,100]\n",
      "y = x\n",
      "\n",
      "print x \n",
      "\n",
      "x.append(200)\n",
      "\n",
      "print y"
     ],
     "language": "python",
     "metadata": {},
     "outputs": [
      {
       "output_type": "stream",
       "stream": "stdout",
       "text": [
        "[[1, 2, 3], [4, 5, [1, 2, 3]], 100]\n",
        "[[1, 2, 3], [4, 5, [1, 2, 3]], 100, 200]\n"
       ]
      }
     ],
     "prompt_number": 4
    },
    {
     "cell_type": "code",
     "collapsed": false,
     "input": [
      "L = [1,2,3,4,5]\n",
      "M = L[1:4]\n",
      "\n",
      "L[1] = 200\n",
      "\n",
      "print L \n",
      "print M #L\uc758 \ubcc0\uacbd\uc774 M\uc5d0 \uc601\ud5a5\uc744 \ubbf8\uce58\uc9c0 \uc54a\ub294\ub2e4."
     ],
     "language": "python",
     "metadata": {},
     "outputs": [
      {
       "output_type": "stream",
       "stream": "stdout",
       "text": [
        "[1, 200, 3, 4, 5]\n",
        "[2, 3, 4]\n"
       ]
      }
     ],
     "prompt_number": 6
    },
    {
     "cell_type": "markdown",
     "metadata": {},
     "source": [
      "### 1-1 copy \ubaa8\ub4c8\uc744 \uc774\uc6a9\ud55c \uac1d\uccb4 \ubcf5\uc0ac"
     ]
    },
    {
     "cell_type": "code",
     "collapsed": false,
     "input": [
      "import copy\n",
      "\n",
      "a = [1,2,3]\n",
      "b = [4,5,a]\n",
      "x = [a,b,100]\n",
      "y = copy.copy(x)"
     ],
     "language": "python",
     "metadata": {},
     "outputs": [],
     "prompt_number": 8
    },
    {
     "cell_type": "code",
     "collapsed": false,
     "input": [
      "import copy\n",
      "\n",
      "a = [1,2,3]\n",
      "b = [4,5,a]\n",
      "x = [a,b,100]\n",
      "y = copy.deepcopy(x)"
     ],
     "language": "python",
     "metadata": {},
     "outputs": [],
     "prompt_number": 9
    },
    {
     "cell_type": "markdown",
     "metadata": {},
     "source": [
      "***\n",
      "## 02 \ud615 \ubcc0\ud658\n",
      "***"
     ]
    },
    {
     "cell_type": "markdown",
     "metadata": {},
     "source": [
      "### 2-1 \uc218\uce58 \ud615 \ubcc0\ud658"
     ]
    },
    {
     "cell_type": "code",
     "collapsed": false,
     "input": [
      "s = '1234'\n",
      "i = 10\n",
      "f = 4.56\n",
      "l = 12345678L\n",
      "\n",
      "print int(f), int(l), int(s)"
     ],
     "language": "python",
     "metadata": {},
     "outputs": [
      {
       "output_type": "stream",
       "stream": "stdout",
       "text": [
        "4 12345678 1234\n"
       ]
      }
     ],
     "prompt_number": 10
    },
    {
     "cell_type": "code",
     "collapsed": false,
     "input": [
      "print int(1.1)\n",
      "print int(1.9)\n",
      "print int(-1.1)\n",
      "print int(-1.9)"
     ],
     "language": "python",
     "metadata": {},
     "outputs": [
      {
       "output_type": "stream",
       "stream": "stdout",
       "text": [
        "1\n",
        "1\n",
        "-1\n",
        "-1\n"
       ]
      }
     ],
     "prompt_number": 12
    },
    {
     "cell_type": "code",
     "collapsed": false,
     "input": [
      "print round(1.1)\n",
      "print round(1.9)\n",
      "print round(-1.1)\n",
      "print round(-1.5)"
     ],
     "language": "python",
     "metadata": {},
     "outputs": [
      {
       "output_type": "stream",
       "stream": "stdout",
       "text": [
        "1.0\n",
        "2.0\n",
        "-1.0\n",
        "-2.0\n"
       ]
      }
     ],
     "prompt_number": 13
    },
    {
     "cell_type": "code",
     "collapsed": false,
     "input": [
      "import math\n",
      "\n",
      "print math.floor(1.1)\n",
      "print math.floor(1.9)\n",
      "print math.floor(-1.0)\n",
      "print math.floor(-1.1)\n",
      "print math.floor(-1.1)"
     ],
     "language": "python",
     "metadata": {},
     "outputs": [
      {
       "output_type": "stream",
       "stream": "stdout",
       "text": [
        "1.0\n",
        "1.0\n",
        "-1.0\n",
        "-2.0\n",
        "-2.0\n"
       ]
      }
     ],
     "prompt_number": 15
    },
    {
     "cell_type": "code",
     "collapsed": false,
     "input": [
      "print math.ceil(1.0)\n",
      "print math.ceil(1.1)\n",
      "print math.ceil(1.9)\n",
      "print math.ceil(-1.0)\n",
      "print math.ceil(-1.1)\n",
      "print math.ceil(-1.9)"
     ],
     "language": "python",
     "metadata": {},
     "outputs": [
      {
       "output_type": "stream",
       "stream": "stdout",
       "text": [
        "1.0\n",
        "2.0\n",
        "2.0\n",
        "-1.0\n",
        "-1.0\n",
        "-1.0\n"
       ]
      }
     ],
     "prompt_number": 16
    },
    {
     "cell_type": "code",
     "collapsed": false,
     "input": [
      "s = '1234'\n",
      "i = 10\n",
      "f = 4.56\n",
      "l = 12345678L\n",
      "\n",
      "print float(i), float(l), float(s)\n",
      "print long(i), long(f), long(s)"
     ],
     "language": "python",
     "metadata": {},
     "outputs": [
      {
       "output_type": "stream",
       "stream": "stdout",
       "text": [
        "10.0 12345678.0 1234.0\n",
        "10 4 1234\n"
       ]
      }
     ],
     "prompt_number": 19
    },
    {
     "cell_type": "code",
     "collapsed": false,
     "input": [
      "complex(1,3)"
     ],
     "language": "python",
     "metadata": {},
     "outputs": [
      {
       "metadata": {},
       "output_type": "pyout",
       "prompt_number": 20,
       "text": [
        "(1+3j)"
       ]
      }
     ],
     "prompt_number": 20
    },
    {
     "cell_type": "markdown",
     "metadata": {},
     "source": [
      "### 2-2 \uc2dc\ud000\uc2a4 \uc790\ub8cc \ud615 \ubcc0\ud658"
     ]
    },
    {
     "cell_type": "code",
     "collapsed": false,
     "input": [
      "t = (1,2,3,4)\n",
      "l = [5,6,7,8]\n",
      "s = 'abcd'\n",
      "\n",
      "print list(t), list(s)\n",
      "print tuple(l), tuple(s)"
     ],
     "language": "python",
     "metadata": {},
     "outputs": [
      {
       "output_type": "stream",
       "stream": "stdout",
       "text": [
        "[1, 2, 3, 4] ['a', 'b', 'c', 'd']\n",
        "(5, 6, 7, 8) ('a', 'b', 'c', 'd')\n"
       ]
      }
     ],
     "prompt_number": 21
    },
    {
     "cell_type": "markdown",
     "metadata": {},
     "source": [
      "### 2-3 \ubb38\uc790\uc5f4\ub85c\uc758 \ud615 \ubcc0\ud658"
     ]
    },
    {
     "cell_type": "code",
     "collapsed": false,
     "input": [
      "print str([1,2,3]), str([4,5,6]), str('abc')\n",
      "print repr([1,2,3]), repr([4,5,6]), repr('abc')\n",
      "print\n",
      "print str(123), str(123.34), str(123456L)\n",
      "print repr(123), repr(123.34), repr(123456L)\n",
      "print\n",
      "\n",
      "s1 = repr([5,6,7,8])\n",
      "print s1\n",
      "print list(s1)"
     ],
     "language": "python",
     "metadata": {},
     "outputs": [
      {
       "output_type": "stream",
       "stream": "stdout",
       "text": [
        "[1, 2, 3] [4, 5, 6] abc\n",
        "[1, 2, 3] [4, 5, 6] 'abc'\n",
        "\n",
        "123 123.34 123456\n",
        "123 123.34 123456L\n",
        "\n",
        "[5, 6, 7, 8]\n",
        "['[', '5', ',', ' ', '6', ',', ' ', '7', ',', ' ', '8', ']']\n"
       ]
      }
     ],
     "prompt_number": 22
    },
    {
     "cell_type": "code",
     "collapsed": false,
     "input": [
      "eval(s1) #\ubb38\uc790\uc5f4 '[5,6,7,8]'\ub85c\ubd80\ud130 \uc5ed\uc73c\ub85c \ub9ac\uc2a4\ud2b8 \uc0dd\uc131"
     ],
     "language": "python",
     "metadata": {},
     "outputs": [
      {
       "metadata": {},
       "output_type": "pyout",
       "prompt_number": 23,
       "text": [
        "[5, 6, 7, 8]"
       ]
      }
     ],
     "prompt_number": 23
    },
    {
     "cell_type": "code",
     "collapsed": false,
     "input": [
      "x = 1\n",
      "print eval('x+1')"
     ],
     "language": "python",
     "metadata": {},
     "outputs": [
      {
       "output_type": "stream",
       "stream": "stdout",
       "text": [
        "2\n"
       ]
      }
     ],
     "prompt_number": 24
    },
    {
     "cell_type": "code",
     "collapsed": false,
     "input": [
      "a = {1:\"one\", 2:\"two\"}\n",
      "b = repr(a) #a\ub97c \ud615\uc2dd\uc801\uc778 \ubb38\uc790\uc5f4\ub85c \ubcc0\ud658\n",
      "print b\n",
      "print\n",
      "\n",
      "c = eval(b) #b\ub97c \uc2e4\ud589\ud558\uc5ec(\uc989, \uc0ac\uc804\uc774\ub9cc\ub4e4\uc5b4\uc9c4\ub2e4) c\uc5d0 \uce58\ud658\n",
      "print c"
     ],
     "language": "python",
     "metadata": {},
     "outputs": [
      {
       "output_type": "stream",
       "stream": "stdout",
       "text": [
        "{1: 'one', 2: 'two'}\n",
        "\n",
        "{1: 'one', 2: 'two'}\n"
       ]
      }
     ],
     "prompt_number": 26
    },
    {
     "cell_type": "code",
     "collapsed": false,
     "input": [
      "L = ['\ud30c\ub780\ud558\ub298', 'blue sky', 1, 1234L, 1/3.0]\n",
      "for s in L:\n",
      "    print 's', s\n",
      "    print 'str(s)', str(s)\n",
      "    print 'repr(s)', repr(s)\n",
      "    print '\\'s\\'', `s`\n",
      "    print"
     ],
     "language": "python",
     "metadata": {},
     "outputs": [
      {
       "output_type": "stream",
       "stream": "stdout",
       "text": [
        "s \ud30c\ub780\ud558\ub298\n",
        "str(s) \ud30c\ub780\ud558\ub298\n",
        "repr(s) '\\xed\\x8c\\x8c\\xeb\\x9e\\x80\\xed\\x95\\x98\\xeb\\x8a\\x98'\n",
        "'s' '\\xed\\x8c\\x8c\\xeb\\x9e\\x80\\xed\\x95\\x98\\xeb\\x8a\\x98'\n",
        "\n",
        "s blue sky\n",
        "str(s) blue sky\n",
        "repr(s) 'blue sky'\n",
        "'s' 'blue sky'\n",
        "\n",
        "s 1\n",
        "str(s) 1\n",
        "repr(s) 1\n",
        "'s' 1\n",
        "\n",
        "s 1234\n",
        "str(s) 1234\n",
        "repr(s) 1234L\n",
        "'s' 1234L\n",
        "\n",
        "s 0.333333333333\n",
        "str(s) 0.333333333333\n",
        "repr(s) 0.3333333333333333\n",
        "'s' 0.3333333333333333\n",
        "\n"
       ]
      }
     ],
     "prompt_number": 34
    },
    {
     "cell_type": "markdown",
     "metadata": {},
     "source": [
      "### 2-4 \ubb38\uc790\uc5f4 \uc694\uc18c\ub97c \uac16\ub294 \ub9ac\uc2a4\ud2b8\ub098 \ud29c\ud50c\uc744 \ubb38\uc790\uc5f4\ub85c \ubcc0\ud658"
     ]
    },
    {
     "cell_type": "code",
     "collapsed": false,
     "input": [
      "import string\n",
      "\n",
      "s = 'Python is the first language'\n",
      "L = s.split()\n",
      "\n",
      "print L\n",
      "print ' '.join(L)"
     ],
     "language": "python",
     "metadata": {},
     "outputs": [
      {
       "output_type": "stream",
       "stream": "stdout",
       "text": [
        "['Python', 'is', 'the', 'first', 'language']\n",
        "Python is the first language\n"
       ]
      }
     ],
     "prompt_number": 36
    },
    {
     "cell_type": "markdown",
     "metadata": {},
     "source": [
      "### 2-5 \ub9ac\uc2a4\ud2b8, \ud29c\ud50c\uacfc \uc0ac\uc804\uc758 \ubcc0\ud658"
     ]
    },
    {
     "cell_type": "code",
     "collapsed": false,
     "input": [
      "d = {1:'one', 2:'two', 3:'three'}\n",
      "print d.keys()\n",
      "print d.values()\n",
      "print d.items()"
     ],
     "language": "python",
     "metadata": {},
     "outputs": [
      {
       "output_type": "stream",
       "stream": "stdout",
       "text": [
        "[1, 2, 3]\n",
        "['one', 'two', 'three']\n",
        "[(1, 'one'), (2, 'two'), (3, 'three')]\n"
       ]
      }
     ],
     "prompt_number": 37
    },
    {
     "cell_type": "code",
     "collapsed": false,
     "input": [
      "keys = ['a', 'b', 'c', 'd']\n",
      "values = [1,2,3,4]\n",
      "L = zip(keys, values)\n",
      "print L\n",
      "print dict(L)\n"
     ],
     "language": "python",
     "metadata": {},
     "outputs": [
      {
       "output_type": "stream",
       "stream": "stdout",
       "text": [
        "[('a', 1), ('b', 2), ('c', 3), ('d', 4)]\n",
        "{'a': 1, 'c': 3, 'b': 2, 'd': 4}\n"
       ]
      }
     ],
     "prompt_number": 38
    },
    {
     "cell_type": "markdown",
     "metadata": {},
     "source": [
      "### 2-6 \ubb38\uc790 \ubcc0\ud658"
     ]
    },
    {
     "cell_type": "code",
     "collapsed": false,
     "input": [
      "print chr(97) #\uc544\uc2a4\ud0a4\ucf54\ub4dc - \ubb38\uc790\n",
      "print ord('a') #\ubb38\uc790 - \uc544\uc2a4\ud0a4\ucf54\ub4dc"
     ],
     "language": "python",
     "metadata": {},
     "outputs": [
      {
       "output_type": "stream",
       "stream": "stdout",
       "text": [
        "a\n",
        "97\n"
       ]
      }
     ],
     "prompt_number": 39
    },
    {
     "cell_type": "markdown",
     "metadata": {},
     "source": [
      "### 2-7 \uc784\uc758\uc758 \uc9c4\uc218\ub97c 10\uc9c4\uc218\ub85c \ubcc0\ud658"
     ]
    },
    {
     "cell_type": "code",
     "collapsed": false,
     "input": [
      "print int('64', 16) #16\uc9c4\uc218 '64'\ub97c 10\uc9c4\uc218\ub85c\n",
      "print int('144', 8) #8\uc9c4\uc218 '144'\ub97c 10\uc9c4\uc218\ub85c\n",
      "print int('101111', 2) #2\uc9c4\uc218 '101111'\uc744 10\uc9c4\uc218\ub85c\n",
      "print int('14', 5) #5\uc9c4\uc218 '14'\ub97c 10\uc9c4\uc218\ub85c"
     ],
     "language": "python",
     "metadata": {},
     "outputs": [
      {
       "output_type": "stream",
       "stream": "stdout",
       "text": [
        "100\n",
        "100\n",
        "47\n",
        "9\n"
       ]
      }
     ],
     "prompt_number": 40
    },
    {
     "cell_type": "markdown",
     "metadata": {},
     "source": [
      "### 2-8 10\uc9c4\uc218\ub97c \uc784\uc758\uc758 \uc9c4\uc218\ub85c \ubcc0\ud658"
     ]
    },
    {
     "cell_type": "code",
     "collapsed": false,
     "input": [
      "print hex(100) #10\uc9c4\uc218 100\uc744 16\uc9c4\uc218 \ubb38\uc790\uc5f4\ub85c \ubcc0\ud658\n",
      "print oct(100) #10\uc9c4\uc218 100\uc744 8\uc9c4\uc218 \ubb38\uc790\uc5f4\ub85c \ubcc0\ud658"
     ],
     "language": "python",
     "metadata": {},
     "outputs": [
      {
       "output_type": "stream",
       "stream": "stdout",
       "text": [
        "0x64\n",
        "0144\n"
       ]
      }
     ],
     "prompt_number": 41
    },
    {
     "cell_type": "code",
     "collapsed": false,
     "input": [
      "#file : int2bin1.py\n",
      "\n",
      "octtab = {'0':'000', '1':'001', '2':'010', '3':'011', '4':'100', '5':'101', '6':'110', '7':'111', }\n",
      "\n",
      "def bin1(d, width = 0):\n",
      "    \"integer to binary (string)\"\n",
      "    s = \"%o\" % d\n",
      "    b = ''\n",
      "    for el in s:\n",
      "        b += octtab[el]\n",
      "    if width > 0:\n",
      "        if len(s) > width:\n",
      "            return b[:width]\n",
      "        b = b.zfill(width)\n",
      "    return b\n",
      "\n",
      "print bin1(23, 7)#10\uc9c4\uc218 23\uc744 2\uc9c4\uc218 7\uc790\ub9ac\ub85c "
     ],
     "language": "python",
     "metadata": {},
     "outputs": [
      {
       "output_type": "stream",
       "stream": "stdout",
       "text": [
        "0010111\n"
       ]
      }
     ],
     "prompt_number": 59
    },
    {
     "cell_type": "code",
     "collapsed": false,
     "input": [
      "#file : int2bin2.py\n",
      "\n",
      "octtab = {'0':'000', '1':'001', '2':'010', '3':'011', '4':'100', '5':'101', '6':'110', '7':'111', }\n",
      "\n",
      "def bin2(n, width = 0):\n",
      "    result = []\n",
      "    while 1:\n",
      "        result[:0] = [str(n&1)]\n",
      "        n >>= 1\n",
      "        if not n:\n",
      "            break\n",
      "    results = ''.join(result)\n",
      "    if not width:\n",
      "        width = len(results)\n",
      "    return results.zfill(width)[:width]\n",
      "\n",
      "print bin2(23, 7) #10\uc9c4\uc218 23\uc744 2\uc9c4\uc218 7\uc790\ub9ac\ub85c "
     ],
     "language": "python",
     "metadata": {},
     "outputs": [
      {
       "output_type": "stream",
       "stream": "stdout",
       "text": [
        "0010111\n"
       ]
      }
     ],
     "prompt_number": 60
    },
    {
     "cell_type": "code",
     "collapsed": false,
     "input": [
      "#file : dec2any.py\n",
      "#n : 10\uc9c4\uc218\n",
      "#base : \ubcc0\ud658\ud560 \uc9c4\uc218\n",
      "#width : \ucd9c\ub825 \ubb38\uc790\uc5f4 \ud3ed. 0\uc774\uba74 \uae30\ubcf8\uac12\n",
      "def int2digit(n, base, width=0):\n",
      "    res = ''\n",
      "    while n > 0:\n",
      "        n, r = divmod(n, base)\n",
      "        if r > 9:\n",
      "            r = chr(ord('a')+r-10)\n",
      "        res = str(r) + res\n",
      "    if not res: res = '0'\n",
      "    if not width:\n",
      "        width = len(res)\n",
      "    return res.zfill(width)[:width]\n",
      "    \n",
      "print int2digit(70, 5) #10\uc9c4\uc218 70\uc744 5\uc9c4\uc218\ub85c \ubcc0\ud658\n",
      "print int2digit(70, 12) #10\uc9c4\uc218 70\uc744 12\uc9c4\uc218\ub85c \ubcc0\ud658\n",
      "print int2digit(70, 15) #10\uc9c4\uc218 70\uc744 15\uc9c4\uc218\ub85c \ubcc0\ud658\n",
      "print int2digit(70, 16) #10\uc9c4\uc218 70\uc744 16\uc9c4\uc218\ub85c \ubcc0\ud658\n",
      "print int2digit(70, 2, 8) #10\uc9c4\uc218 70\uc744 2\uc9c4\uc218\ub85c \ubcc0\ud658, \ucd5c\uc18c 8\uc790\ub9ac\uc5d0 \ub9de\ucda4"
     ],
     "language": "python",
     "metadata": {},
     "outputs": [
      {
       "output_type": "stream",
       "stream": "stdout",
       "text": [
        "240\n",
        "5a\n",
        "4a\n",
        "46\n",
        "01000110\n"
       ]
      }
     ],
     "prompt_number": 63
    },
    {
     "cell_type": "markdown",
     "metadata": {},
     "source": [
      "### 2-9 \uc815\uc218\ub97c \ucf64\ub9c8\uac00 \uc788\ub294 \ubb38\uc790\uc5f4\ub85c \ubcc0\ud658 "
     ]
    },
    {
     "cell_type": "code",
     "collapsed": false,
     "input": [
      "import locale\n",
      "\n",
      "locale.setlocale(locale.LC_ALL, \"\") #\uc0ac\uc6a9\uc790 \uae30\ubcf8 \ud658\uacbd(\uad6d\uac00 \ud639\uc740 \uc5b8\uc5b4)\uc73c\ub85c \uc124\uc815\n",
      "print locale.format(\"%d\", 10030405, 1)"
     ],
     "language": "python",
     "metadata": {},
     "outputs": [
      {
       "output_type": "stream",
       "stream": "stdout",
       "text": [
        "10,030,405\n"
       ]
      }
     ],
     "prompt_number": 65
    }
   ],
   "metadata": {}
  }
 ]
}