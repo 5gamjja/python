{
 "metadata": {
  "name": "",
  "signature": "sha256:8b6b66c40b9981530147e122cc4a4477e0f87b6b271492ce545286963dd565ce"
 },
 "nbformat": 3,
 "nbformat_minor": 0,
 "worksheets": [
  {
   "cells": [
    {
     "cell_type": "markdown",
     "metadata": {},
     "source": [
      "***\n",
      "***\n",
      "# 4. \ubb38\uc790\uc5f4\n",
      "***\n",
      "***"
     ]
    },
    {
     "cell_type": "markdown",
     "metadata": {},
     "source": [
      "***\n",
      "## 01 \uc2dc\ud000\uc2a4 \uc790\ub8cc\ud615\uc758 \ud2b9\uc131\n",
      "***\n",
      "- \uc2dc\ud000\uc2a4(Sequence) \uc790\ub8cc\ud615: \ubb38\uc790\uc5f4, \ub9ac\uc2a4\ud2b8, \ud29c\ud50c"
     ]
    },
    {
     "cell_type": "markdown",
     "metadata": {},
     "source": [
      "***\n",
      "## 02 \ubb38\uc790\uc5f4 \uc815\uc758\ud558\uae30\n",
      "***"
     ]
    },
    {
     "cell_type": "markdown",
     "metadata": {},
     "source": [
      "***\n",
      "## 03 \ubb38\uc790\uc5f4\uc758 \ubcc0\uacbd\n",
      "***"
     ]
    },
    {
     "cell_type": "markdown",
     "metadata": {},
     "source": [
      "***\n",
      "## 04 \ubb38\uc790\uc5f4 \ud3ec\ub9e4\ud305\n",
      "***"
     ]
    },
    {
     "cell_type": "markdown",
     "metadata": {},
     "source": [
      "***\n",
      "## 05 \ubb38\uc790\uc5f4 \uba54\uc3d8\ub4dc\n",
      "***"
     ]
    },
    {
     "cell_type": "markdown",
     "metadata": {},
     "source": [
      "- \ubb38\uc790\uc5f4 \ubd99\uc774\uae30 \ucf54\ub529 \ubc29\ubc95 \ube44\uad50"
     ]
    },
    {
     "cell_type": "code",
     "collapsed": false,
     "input": [
      "import time\n",
      "start_time = time.time()\n",
      "s = ''\n",
      "for k in range(1000000):\n",
      "    s += 'python'\n",
      "end_time = time.time()\n",
      "print end_time - start_time"
     ],
     "language": "python",
     "metadata": {},
     "outputs": [
      {
       "output_type": "stream",
       "stream": "stdout",
       "text": [
        "0.500844955444\n"
       ]
      }
     ],
     "prompt_number": 11
    },
    {
     "cell_type": "code",
     "collapsed": false,
     "input": [
      "start_time = time.time()\n",
      "t = []\n",
      "for k in range(1000000):\n",
      "    t.append('python')\n",
      "s = ''.join(t)\n",
      "end_time = time.time()\n",
      "print end_time - start_time"
     ],
     "language": "python",
     "metadata": {},
     "outputs": [
      {
       "output_type": "stream",
       "stream": "stdout",
       "text": [
        "0.426742076874\n"
       ]
      }
     ],
     "prompt_number": 12
    },
    {
     "cell_type": "code",
     "collapsed": false,
     "input": [
      "start_time = time.time()\n",
      "s = 'python' * 1000000\n",
      "end_time = time.time()\n",
      "print end_time - start_time"
     ],
     "language": "python",
     "metadata": {},
     "outputs": [
      {
       "output_type": "stream",
       "stream": "stdout",
       "text": [
        "0.00513911247253\n"
       ]
      }
     ],
     "prompt_number": 13
    },
    {
     "cell_type": "markdown",
     "metadata": {},
     "source": [
      "***\n",
      "## 06 string \ubaa8\ub4c8\n",
      "***"
     ]
    },
    {
     "cell_type": "code",
     "collapsed": false,
     "input": [],
     "language": "python",
     "metadata": {},
     "outputs": []
    },
    {
     "cell_type": "markdown",
     "metadata": {},
     "source": [
      "***\n",
      "## 07 \uc720\ub2c8\ucf54\ub4dc\n",
      "***"
     ]
    },
    {
     "cell_type": "code",
     "collapsed": false,
     "input": [],
     "language": "python",
     "metadata": {},
     "outputs": []
    },
    {
     "cell_type": "markdown",
     "metadata": {},
     "source": [
      "***\n",
      "## 08 \ubb38\uc11c \ubb38\uc790\uc5f4\n",
      "***"
     ]
    },
    {
     "cell_type": "code",
     "collapsed": false,
     "input": [
      "docstring.__doc__\n",
      "docstring.Ham.__doc__\n",
      "docstring.Ham.func.__doc__\n",
      "\n",
      "help(docstring)\n",
      "help(docstring.Ham)\n",
      "help(docstring.Ham.func)\n",
      "\n",
      "?docstring\n",
      "?docstring.Ham\n",
      "?docstring.Ham.func"
     ],
     "language": "python",
     "metadata": {},
     "outputs": []
    }
   ],
   "metadata": {}
  }
 ]
}