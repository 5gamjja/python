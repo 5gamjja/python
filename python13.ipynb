{
 "metadata": {
  "name": "",
  "signature": "sha256:9720f90b084bf4ed2a9965aa296a7f05a93ee0168fcbc581720cadd14386ffaf"
 },
 "nbformat": 3,
 "nbformat_minor": 0,
 "worksheets": [
  {
   "cells": [
    {
     "cell_type": "markdown",
     "metadata": {},
     "source": [
      "***\n",
      "***\n",
      "# 13. \uc608\uc678\ucc98\ub9ac\n",
      "***\n",
      "***\n",
      "- \uad6c\ubb38 \uc5d0\ub7ec (Syntax Error)\n",
      "  - \ubb38\ubc95\uc801 \uc5d0\ub7ec\n",
      "  - \uc774\ud074\ub9bd\uc2a4 \ub4f1\uc758 \ud1b5\ud569\uac1c\ubc1c\ud658\uacbd \ub3c4\uad6c\uc5d0\uc11c\ub294 \uc790\ub3d9\uc73c\ub85c \uc2e4\ud589 \uc804\uc5d0 \uad6c\ubb38 \uc5d0\ub7ec\ub97c \uccb4\ud06c \ud574 \uc90c\n",
      "  - \ud30c\uc774\uc36c\uc740 \uc0c1\ub300\uc801\uc73c\ub85c \uc5b8\uc5b4\uc801 \ubb38\ubc95\uc774 \uac04\ub2e8\ud558\uae30 \ub54c\ubb38\uc5d0 \uad6c\ubb38 \uc790\uccb4\uc758 \uc5d0\ub7ec \ubc1c\uc0dd \ube44\uc728\uc774 \ub0ae\uac70\ub098 \ub2e4\ub978 \ub3c4\uad6c\ub97c \uc0ac\uc6a9\ud558\uc5ec \uc644\ubcbd\ud558\uac8c \uc81c\uac70\ud560 \uc218 \uc788\uc74c\n",
      "\n",
      "- \uc608\uc678 (Exception)\n",
      "  - \uad6c\ubb38 \uc5d0\ub7ec\ub294 \uc5c6\uc73c\ub098 \ud504\ub85c\uadf8\ub7a8 \uc2e4\ud589 \uc911 \ub354 \uc774\uc0c1 \uc9c4\ud589 \ud560 \uc218 \uc5c6\ub294 \uc0c1\ud669"
     ]
    },
    {
     "cell_type": "markdown",
     "metadata": {},
     "source": [
      "- \uc608\uc678 \ubc1c\uc0dd \uc608\uc81c 1: \uc815\uc758\ub418\uc9c0 \uc54a\uc740 \ubcc0\uc218 \uc0ac\uc6a9\ud558\uae30\n",
      "  - NameError"
     ]
    },
    {
     "cell_type": "code",
     "collapsed": false,
     "input": [
      "4 + spam*3"
     ],
     "language": "python",
     "metadata": {},
     "outputs": [
      {
       "ename": "NameError",
       "evalue": "name 'spam' is not defined",
       "output_type": "pyerr",
       "traceback": [
        "\u001b[0;31m---------------------------------------------------------------------------\u001b[0m\n\u001b[0;31mNameError\u001b[0m                                 Traceback (most recent call last)",
        "\u001b[0;32m<ipython-input-2-6b1dfe582d2e>\u001b[0m in \u001b[0;36m<module>\u001b[0;34m()\u001b[0m\n\u001b[0;32m----> 1\u001b[0;31m \u001b[0;36m4\u001b[0m \u001b[0;34m+\u001b[0m \u001b[0mspam\u001b[0m\u001b[0;34m*\u001b[0m\u001b[0;36m3\u001b[0m\u001b[0;34m\u001b[0m\u001b[0m\n\u001b[0m",
        "\u001b[0;31mNameError\u001b[0m: name 'spam' is not defined"
       ]
      }
     ],
     "prompt_number": 2
    },
    {
     "cell_type": "markdown",
     "metadata": {},
     "source": [
      "- \uc608\uc678 \ubc1c\uc0dd \uc608\uc81c 2: 0\uc73c\ub85c \uc22b\uc790 \ub098\ub204\uae30\n",
      "  - ZeroDivisionError"
     ]
    },
    {
     "cell_type": "code",
     "collapsed": false,
     "input": [
      "a = 10\n",
      "b = 0 \n",
      "c = a / b"
     ],
     "language": "python",
     "metadata": {},
     "outputs": [
      {
       "ename": "ZeroDivisionError",
       "evalue": "integer division or modulo by zero",
       "output_type": "pyerr",
       "traceback": [
        "\u001b[0;31m---------------------------------------------------------------------------\u001b[0m\n\u001b[0;31mZeroDivisionError\u001b[0m                         Traceback (most recent call last)",
        "\u001b[0;32m<ipython-input-1-d055e09331c6>\u001b[0m in \u001b[0;36m<module>\u001b[0;34m()\u001b[0m\n\u001b[1;32m      1\u001b[0m \u001b[0ma\u001b[0m \u001b[0;34m=\u001b[0m \u001b[0;36m10\u001b[0m\u001b[0;34m\u001b[0m\u001b[0m\n\u001b[1;32m      2\u001b[0m \u001b[0mb\u001b[0m \u001b[0;34m=\u001b[0m \u001b[0;36m0\u001b[0m\u001b[0;34m\u001b[0m\u001b[0m\n\u001b[0;32m----> 3\u001b[0;31m \u001b[0mc\u001b[0m \u001b[0;34m=\u001b[0m \u001b[0ma\u001b[0m \u001b[0;34m/\u001b[0m \u001b[0mb\u001b[0m\u001b[0;34m\u001b[0m\u001b[0m\n\u001b[0m",
        "\u001b[0;31mZeroDivisionError\u001b[0m: integer division or modulo by zero"
       ]
      }
     ],
     "prompt_number": 1
    },
    {
     "cell_type": "markdown",
     "metadata": {},
     "source": [
      "- [note] \uc608\uc678\uac00 \ubc1c\uc0dd\ud558\uba74 \ud504\ub85c\uadf8\ub7a8\uc740 \ubc14\ub85c \uc885\ub8cc\ub41c\ub2e4."
     ]
    },
    {
     "cell_type": "code",
     "collapsed": false,
     "input": [
      "def division():\n",
      "    for n in range(0, 5):\n",
      "        print 10.0 / n\n",
      "\n",
      "division()   "
     ],
     "language": "python",
     "metadata": {},
     "outputs": [
      {
       "ename": "ZeroDivisionError",
       "evalue": "float division by zero",
       "output_type": "pyerr",
       "traceback": [
        "\u001b[0;31m---------------------------------------------------------------------------\u001b[0m\n\u001b[0;31mZeroDivisionError\u001b[0m                         Traceback (most recent call last)",
        "\u001b[0;32m<ipython-input-48-9618f69a4b0e>\u001b[0m in \u001b[0;36m<module>\u001b[0;34m()\u001b[0m\n\u001b[1;32m      3\u001b[0m         \u001b[0;32mprint\u001b[0m \u001b[0;36m10.0\u001b[0m \u001b[0;34m/\u001b[0m \u001b[0mn\u001b[0m\u001b[0;34m\u001b[0m\u001b[0m\n\u001b[1;32m      4\u001b[0m \u001b[0;34m\u001b[0m\u001b[0m\n\u001b[0;32m----> 5\u001b[0;31m \u001b[0mdivision\u001b[0m\u001b[0;34m(\u001b[0m\u001b[0;34m)\u001b[0m\u001b[0;34m\u001b[0m\u001b[0m\n\u001b[0m",
        "\u001b[0;32m<ipython-input-48-9618f69a4b0e>\u001b[0m in \u001b[0;36mdivision\u001b[0;34m()\u001b[0m\n\u001b[1;32m      1\u001b[0m \u001b[0;32mdef\u001b[0m \u001b[0mdivision\u001b[0m\u001b[0;34m(\u001b[0m\u001b[0;34m)\u001b[0m\u001b[0;34m:\u001b[0m\u001b[0;34m\u001b[0m\u001b[0m\n\u001b[1;32m      2\u001b[0m     \u001b[0;32mfor\u001b[0m \u001b[0mn\u001b[0m \u001b[0;32min\u001b[0m \u001b[0mrange\u001b[0m\u001b[0;34m(\u001b[0m\u001b[0;36m0\u001b[0m\u001b[0;34m,\u001b[0m \u001b[0;36m5\u001b[0m\u001b[0;34m)\u001b[0m\u001b[0;34m:\u001b[0m\u001b[0;34m\u001b[0m\u001b[0m\n\u001b[0;32m----> 3\u001b[0;31m         \u001b[0;32mprint\u001b[0m \u001b[0;36m10.0\u001b[0m \u001b[0;34m/\u001b[0m \u001b[0mn\u001b[0m\u001b[0;34m\u001b[0m\u001b[0m\n\u001b[0m\u001b[1;32m      4\u001b[0m \u001b[0;34m\u001b[0m\u001b[0m\n\u001b[1;32m      5\u001b[0m \u001b[0mdivision\u001b[0m\u001b[0;34m(\u001b[0m\u001b[0;34m)\u001b[0m\u001b[0;34m\u001b[0m\u001b[0m\n",
        "\u001b[0;31mZeroDivisionError\u001b[0m: float division by zero"
       ]
      }
     ],
     "prompt_number": 48
    },
    {
     "cell_type": "markdown",
     "metadata": {},
     "source": [
      "- \uc608\uc678 \ubc1c\uc0dd \uc608\uc81c 3: \ubb38\uc790\uc5f4\uacfc \uc22b\uc790 \ub354\ud558\uae30\n",
      "  - TypeError"
     ]
    },
    {
     "cell_type": "code",
     "collapsed": false,
     "input": [
      "'2' + 2"
     ],
     "language": "python",
     "metadata": {},
     "outputs": [
      {
       "ename": "TypeError",
       "evalue": "cannot concatenate 'str' and 'int' objects",
       "output_type": "pyerr",
       "traceback": [
        "\u001b[0;31m---------------------------------------------------------------------------\u001b[0m\n\u001b[0;31mTypeError\u001b[0m                                 Traceback (most recent call last)",
        "\u001b[0;32m<ipython-input-3-4c6dd5170204>\u001b[0m in \u001b[0;36m<module>\u001b[0;34m()\u001b[0m\n\u001b[0;32m----> 1\u001b[0;31m \u001b[0;34m'2'\u001b[0m \u001b[0;34m+\u001b[0m \u001b[0;36m2\u001b[0m\u001b[0;34m\u001b[0m\u001b[0m\n\u001b[0m",
        "\u001b[0;31mTypeError\u001b[0m: cannot concatenate 'str' and 'int' objects"
       ]
      }
     ],
     "prompt_number": 3
    },
    {
     "cell_type": "markdown",
     "metadata": {},
     "source": [
      "- \uc608\uc678 \ubc1c\uc0dd \uc608\uc81c 4: \ucc38\uc870 \ubc94\uc704\ub97c \ub118\uc5b4\uc11c \uc778\ub371\uc2a4 \uc0ac\uc6a9\n",
      "  - IndexError"
     ]
    },
    {
     "cell_type": "code",
     "collapsed": false,
     "input": [
      "l = [1, 2]\n",
      "print l[2]"
     ],
     "language": "python",
     "metadata": {},
     "outputs": [
      {
       "ename": "IndexError",
       "evalue": "list index out of range",
       "output_type": "pyerr",
       "traceback": [
        "\u001b[0;31m---------------------------------------------------------------------------\u001b[0m\n\u001b[0;31mIndexError\u001b[0m                                Traceback (most recent call last)",
        "\u001b[0;32m<ipython-input-3-e36f806c83e5>\u001b[0m in \u001b[0;36m<module>\u001b[0;34m()\u001b[0m\n\u001b[1;32m      1\u001b[0m \u001b[0ml\u001b[0m \u001b[0;34m=\u001b[0m \u001b[0;34m[\u001b[0m\u001b[0;36m1\u001b[0m\u001b[0;34m,\u001b[0m \u001b[0;36m2\u001b[0m\u001b[0;34m]\u001b[0m\u001b[0;34m\u001b[0m\u001b[0m\n\u001b[0;32m----> 2\u001b[0;31m \u001b[0;32mprint\u001b[0m \u001b[0ml\u001b[0m\u001b[0;34m[\u001b[0m\u001b[0;36m2\u001b[0m\u001b[0;34m]\u001b[0m\u001b[0;34m\u001b[0m\u001b[0m\n\u001b[0m",
        "\u001b[0;31mIndexError\u001b[0m: list index out of range"
       ]
      }
     ],
     "prompt_number": 3
    },
    {
     "cell_type": "markdown",
     "metadata": {},
     "source": [
      "- \uc608\uc678 \ubc1c\uc0dd \uc608\uc81c 5: \ub4f1\ub85d\ub418\uc9c0 \uc54a\uc740 \ud0a4\ub85c \uc0ac\uc804 \uac80\uc0c9\n",
      "  - KeyError"
     ]
    },
    {
     "cell_type": "code",
     "collapsed": false,
     "input": [
      "d = {\"a\": 1, \"b\": 2}\n",
      "print d['c']"
     ],
     "language": "python",
     "metadata": {},
     "outputs": [
      {
       "ename": "KeyError",
       "evalue": "'c'",
       "output_type": "pyerr",
       "traceback": [
        "\u001b[0;31m---------------------------------------------------------------------------\u001b[0m\n\u001b[0;31mKeyError\u001b[0m                                  Traceback (most recent call last)",
        "\u001b[0;32m<ipython-input-4-c5d228d3ae3c>\u001b[0m in \u001b[0;36m<module>\u001b[0;34m()\u001b[0m\n\u001b[1;32m      1\u001b[0m \u001b[0md\u001b[0m \u001b[0;34m=\u001b[0m \u001b[0;34m{\u001b[0m\u001b[0;34m\"a\"\u001b[0m\u001b[0;34m:\u001b[0m \u001b[0;36m1\u001b[0m\u001b[0;34m,\u001b[0m \u001b[0;34m\"b\"\u001b[0m\u001b[0;34m:\u001b[0m \u001b[0;36m2\u001b[0m\u001b[0;34m}\u001b[0m\u001b[0;34m\u001b[0m\u001b[0m\n\u001b[0;32m----> 2\u001b[0;31m \u001b[0;32mprint\u001b[0m \u001b[0md\u001b[0m\u001b[0;34m[\u001b[0m\u001b[0;34m'c'\u001b[0m\u001b[0;34m]\u001b[0m\u001b[0;34m\u001b[0m\u001b[0m\n\u001b[0m",
        "\u001b[0;31mKeyError\u001b[0m: 'c'"
       ]
      }
     ],
     "prompt_number": 4
    },
    {
     "cell_type": "markdown",
     "metadata": {},
     "source": [
      "- \uc608\uc678 \ubc1c\uc0dd \uc608\uc81c 6: \uc788\uc9c0\ub3c4 \uc54a\uc740 \ud30c\uc77c\uc744 \uc5f4\ub824\uace0 \ud560 \ub54c\n",
      "  - IOError"
     ]
    },
    {
     "cell_type": "code",
     "collapsed": false,
     "input": [
      "a = open('aaa.txt')"
     ],
     "language": "python",
     "metadata": {},
     "outputs": [
      {
       "ename": "IOError",
       "evalue": "[Errno 2] No such file or directory: 'aaa.txt'",
       "output_type": "pyerr",
       "traceback": [
        "\u001b[0;31m---------------------------------------------------------------------------\u001b[0m\n\u001b[0;31mIOError\u001b[0m                                   Traceback (most recent call last)",
        "\u001b[0;32m<ipython-input-6-971bbb0a7949>\u001b[0m in \u001b[0;36m<module>\u001b[0;34m()\u001b[0m\n\u001b[0;32m----> 1\u001b[0;31m \u001b[0ma\u001b[0m \u001b[0;34m=\u001b[0m \u001b[0mopen\u001b[0m\u001b[0;34m(\u001b[0m\u001b[0;34m'aaa.txt'\u001b[0m\u001b[0;34m)\u001b[0m\u001b[0;34m\u001b[0m\u001b[0m\n\u001b[0m",
        "\u001b[0;31mIOError\u001b[0m: [Errno 2] No such file or directory: 'aaa.txt'"
       ]
      }
     ],
     "prompt_number": 6
    },
    {
     "cell_type": "markdown",
     "metadata": {},
     "source": [
      "***\n",
      "## 01 try/except/else/fianlly \uc808 \uc0ac\uc6a9\ud558\uae30\n",
      "***"
     ]
    },
    {
     "cell_type": "markdown",
     "metadata": {},
     "source": [
      "- \uc608\uc678\uac00 \ubc1c\uc0dd\ud560 \uc218 \uc788\ub294 \uc0c1\ud669\uc744 \uc608\uc0c1\ud558\uc5ec \uc608\uc678 \ubc1c\uc0dd \uc0c1\ud669\uc744 \uc804\uccb4 \ucf54\ub4dc \ud750\ub984\uc744 \ud568\uaed8 \uc81c\uc5b4\ud560 \uc218 \uc788\ub2e4.\n",
      "- try/except/else \uc808\n",
      "  - \uad6c\ubb38\n",
      "> try:<br/>\n",
      "> &nbsp;&nbsp;&nbsp;&nbsp;(\uc608\uc678 \ubc1c\uc0dd \uac00\ub2a5\ud55c) \uc77c\ubc18\uc801\uc778 \uc218\ud589\ubb38\ub4e4<br/>\n",
      "> except Exception:<br/>\n",
      "> &nbsp;&nbsp;&nbsp;&nbsp;\uc608\uc678\uac00 \ubc1c\uc0dd\ud558\uc600\uc744 \ub54c \uc218\ud589\ub418\ub294 \ubb38\ub4e4<br/>\n",
      "> else:<br/>\n",
      "> &nbsp;&nbsp;&nbsp;&nbsp;\uc608\uc678\uac00 \ubc1c\uc0dd\ud558\uc9c0 \uc54a\uc558\uc744 \ub54c \uc218\ud589\ub418\ub294 \ubb38\ub4e4<br/>\n",
      "> finally:<br/>\n",
      "> &nbsp;&nbsp;&nbsp;&nbsp;\uc608\uc678 \ubc1c\uc0dd \uc720\ubb34\uc640 \uad00\uacc4\uc5c6\uc774 \ubb34\uc870\uac74 \uc218\ud589\ub418\ub294 \ubb38\ub4e4<br/>"
     ]
    },
    {
     "cell_type": "code",
     "collapsed": false,
     "input": [
      "try:\n",
      "    print 1.0 / 0.0\n",
      "except ZeroDivisionError:\n",
      "    print 'zero division error!!!'"
     ],
     "language": "python",
     "metadata": {},
     "outputs": [
      {
       "output_type": "stream",
       "stream": "stdout",
       "text": [
        "zero division error!!!\n"
       ]
      }
     ],
     "prompt_number": 8
    },
    {
     "cell_type": "markdown",
     "metadata": {},
     "source": [
      "- \uc608\uc678 \ucc98\ub9ac\ub97c \ud558\uba74 \ud504\ub85c\uadf8\ub7a8\uc740 \uc885\ub8cc\ub418\uc9c0 \uc54a\ub294\ub2e4."
     ]
    },
    {
     "cell_type": "code",
     "collapsed": false,
     "input": [
      "def division():\n",
      "    for n in range(0, 5):\n",
      "        try:\n",
      "            print 10.0 / n\n",
      "        except ZeroDivisionError, msg:\n",
      "            print msg\n",
      "\n",
      "division()        "
     ],
     "language": "python",
     "metadata": {},
     "outputs": [
      {
       "output_type": "stream",
       "stream": "stdout",
       "text": [
        "float division by zero\n",
        "10.0\n",
        "5.0\n",
        "3.33333333333\n",
        "2.5\n"
       ]
      }
     ],
     "prompt_number": 47
    },
    {
     "cell_type": "markdown",
     "metadata": {},
     "source": [
      "- else: \uad6c\ubb38\uc740 except: \uad6c\ubb38\uc5c6\uc774 \uc0ac\uc6a9 \ubabb\ud55c\ub2e4.  "
     ]
    },
    {
     "cell_type": "code",
     "collapsed": false,
     "input": [
      "def division():\n",
      "    for n in range(0, 5):\n",
      "        try:\n",
      "            print 10.0 / n\n",
      "        else:\n",
      "            print \"Success\"\n",
      "\n",
      "division() "
     ],
     "language": "python",
     "metadata": {},
     "outputs": [
      {
       "ename": "SyntaxError",
       "evalue": "invalid syntax (<ipython-input-49-e039cc968e23>, line 5)",
       "output_type": "pyerr",
       "traceback": [
        "\u001b[0;36m  File \u001b[0;32m\"<ipython-input-49-e039cc968e23>\"\u001b[0;36m, line \u001b[0;32m5\u001b[0m\n\u001b[0;31m    else:\u001b[0m\n\u001b[0m       ^\u001b[0m\n\u001b[0;31mSyntaxError\u001b[0m\u001b[0;31m:\u001b[0m invalid syntax\n"
       ]
      }
     ],
     "prompt_number": 49
    },
    {
     "cell_type": "code",
     "collapsed": false,
     "input": [
      "name = 'aaa.txt'\n",
      "try:\n",
      "    f = open(name, 'r')\n",
      "except IOError:\n",
      "    print 'cannot open', name\n",
      "else:\n",
      "    print name, 'has', len(f.readline()), 'lines'\n",
      "    f.close()"
     ],
     "language": "python",
     "metadata": {},
     "outputs": [
      {
       "output_type": "stream",
       "stream": "stdout",
       "text": [
        "cannot open aaa.txt\n"
       ]
      }
     ],
     "prompt_number": 35
    },
    {
     "cell_type": "markdown",
     "metadata": {},
     "source": [
      "- \uc0c1\ud669\uc5d0 \ub530\ub77c\uc11c\ub294 \uc5d0\ub7ec\uc640 \ud568\uaed8 \ub530\ub77c\uc624\ub294 \uc815\ubcf4\ub97c \ud568\uaed8 \ubc1b\uc744 \uc218\ub3c4 \uc788\ub2e4."
     ]
    },
    {
     "cell_type": "code",
     "collapsed": false,
     "input": [
      "try:\n",
      "    spam()\n",
      "except NameError, msg:\n",
      "    print 'Error - ', msg"
     ],
     "language": "python",
     "metadata": {},
     "outputs": [
      {
       "output_type": "stream",
       "stream": "stdout",
       "text": [
        "Error -  name 'spam' is not defined\n"
       ]
      }
     ],
     "prompt_number": 17
    },
    {
     "cell_type": "markdown",
     "metadata": {},
     "source": [
      "- try \uc808 \uc548\uc5d0\uc11c \uac04\uc811\uc801\uc73c\ub85c \ud638\ucd9c\ud55c \ud568\uc218\uc758 \ub0b4\ubd80 \uc608\uc678\ub3c4 \ucc98\ub9ac\ud560 \uc218 \uc788\ub2e4."
     ]
    },
    {
     "cell_type": "code",
     "collapsed": false,
     "input": [
      "def zero_division():\n",
      "    x = 1 / 0\n",
      "\n",
      "try:\n",
      "    zero_division()\n",
      "except ZeroDivisionError, msg:\n",
      "    print 'zero division error!!! - ', msg"
     ],
     "language": "python",
     "metadata": {},
     "outputs": [
      {
       "output_type": "stream",
       "stream": "stdout",
       "text": [
        "zero division error!!! -  integer division or modulo by zero\n"
       ]
      }
     ],
     "prompt_number": 18
    },
    {
     "cell_type": "markdown",
     "metadata": {},
     "source": [
      "- except \ub4a4\uc5d0 \uc544\ubb34\ub7f0 \uc608\uc678\ub3c4 \uae30\uc220\ud558\uc9c0 \uc54a\uc73c\uba74 \ubaa8\ub4e0 \uc608\uc678\uc5d0 \ub300\ud574 \ucc98\ub9ac\ub41c\ub2e4."
     ]
    },
    {
     "cell_type": "code",
     "collapsed": false,
     "input": [
      "try:\n",
      "    spam()\n",
      "    print 1.0 / 0.0\n",
      "except:\n",
      "    print 'Error'"
     ],
     "language": "python",
     "metadata": {},
     "outputs": [
      {
       "output_type": "stream",
       "stream": "stdout",
       "text": [
        "Error\n"
       ]
      }
     ],
     "prompt_number": 31
    },
    {
     "cell_type": "markdown",
     "metadata": {},
     "source": [
      "- \uc5ec\ub7ec \uc608\uc678\ub4e4 \uac01\uac01\uc5d0 \ub300\ud574 except \uc808\uc744 \ub2e4\uc911\uc73c\ub85c \uc0bd\uc785\ud560 \uc218 \uc788\ub2e4."
     ]
    },
    {
     "cell_type": "code",
     "collapsed": false,
     "input": [
      "b = 0.0\n",
      "name = 'aaa.txt'\n",
      "try:\n",
      "    print 1.0 / b\n",
      "    spam()\n",
      "    f = open(name, 'r')\n",
      "    '2' + 2\n",
      "except NameError:\n",
      "    print 'NameError !!!'\n",
      "except ZeroDivisionError:\n",
      "    print 'ZeroDivisionError !!!'\n",
      "except (TypeError, IOError):\n",
      "    print 'TypeError or IOError !!!'\n",
      "else:\n",
      "    print 'No Exception !!!'\n",
      "finally:\n",
      "    print 'Exit !!!'"
     ],
     "language": "python",
     "metadata": {},
     "outputs": [
      {
       "output_type": "stream",
       "stream": "stdout",
       "text": [
        "ZeroDivisionError !!!\n",
        "Exit !!!\n"
       ]
      }
     ],
     "prompt_number": 33
    },
    {
     "cell_type": "markdown",
     "metadata": {},
     "source": [
      "- \ud30c\uc77c\uc5d0\uc11c \uc22b\uc790\ub97c \uc77d\uc5b4\uc640\uc11c \uc77d\uc740 \uc22b\uc790\ub85c \ub098\ub204\uae30\ub97c \ud558\ub294 \uc608\uc81c\n",
      "  - \uaf3c\uaf3c\ud55c \uc608\uc678 \ucc98\ub9ac \uc608\uc81c"
     ]
    },
    {
     "cell_type": "code",
     "collapsed": false,
     "input": [
      "import os\n",
      "print os.getcwd()\n",
      "filename = 't.txt'\n",
      "\n",
      "try:\n",
      "    f = open(filename, 'r')\n",
      "except IOError, msg:\n",
      "    print msg\n",
      "else:\n",
      "    a = float(f.readline())\n",
      "    try:\n",
      "        answer = 1.0 / a\n",
      "    except ZeroDivisionError, msg:\n",
      "        print msg\n",
      "    else:\n",
      "        print answer\n",
      "    finally:\n",
      "        print \"Finally!!!\"\n",
      "        f.close()"
     ],
     "language": "python",
     "metadata": {},
     "outputs": [
      {
       "output_type": "stream",
       "stream": "stdout",
       "text": [
        "/Users/yhhan/git/ipython\n",
        "float division by zero\n",
        "Finally!!!\n"
       ]
      }
     ],
     "prompt_number": 43
    },
    {
     "cell_type": "markdown",
     "metadata": {},
     "source": [
      "***\n",
      "## 03 \ub0b4\uc7a5 \uc608\uc678\uc758 \uc885\ub958\n",
      "***"
     ]
    },
    {
     "cell_type": "markdown",
     "metadata": {},
     "source": [
      "***\n",
      "## 04 \uac19\uc740 \ubd80\ub958\uc758 \uc608\uc678 \ub2e4 \uc7a1\uc544\ub0b4\uae30\n",
      "***"
     ]
    },
    {
     "cell_type": "code",
     "collapsed": false,
     "input": [
      "def dosomething():\n",
      "    a = 1/0\n",
      "try:\n",
      "    dosomething()\n",
      "except ArithmeticError:\n",
      "    print 'Exception occured'"
     ],
     "language": "python",
     "metadata": {},
     "outputs": [
      {
       "output_type": "stream",
       "stream": "stdout",
       "text": [
        "Exception occured\n"
       ]
      }
     ],
     "prompt_number": 9
    },
    {
     "cell_type": "markdown",
     "metadata": {},
     "source": [
      "***\n",
      "## 05 raise\ub85c \uc608\uc678 \ubc1c\uc0dd\ud558\uae30\n",
      "***"
     ]
    },
    {
     "cell_type": "markdown",
     "metadata": {},
     "source": [
      "### 5-1 \ub0b4\uc7a5 \uc608\uc678 \ubc1c\uc0dd"
     ]
    },
    {
     "cell_type": "code",
     "collapsed": false,
     "input": [
      "class SquareSeq:\n",
      "    def __init__(self, n):\n",
      "        self.n = n\n",
      "    def __getitem__(self, k):\n",
      "        if k >= self.n or k < 0 :\n",
      "            raise IndexError # \ucca8\uc790 \ubc94\uc704\ub97c \ubc97\uc5b4\ub098\uba74 IndexError \uc608\uc678\ub97c \ubc1c\uc0dd\uc2dc\ud0b4\n",
      "        return k*k\n",
      "    def __len__(self):\n",
      "        return self.n\n",
      "    \n",
      "s = SquareSeq(10)\n",
      "print s[2], s[4]\n",
      "for x in s: #IndexError\uac00 \ubc1c\uc0dd\ud558\ub294 \uc2dc\uc810\uae4c\uc9c0 \ubc18\ubcf5\ud55c\ub2e4\n",
      "    print x,\n",
      "print s[20] #\ucca8\uc790 \ubc94\uc704\uac00 \ub118\uc5c8\ub2e4"
     ],
     "language": "python",
     "metadata": {},
     "outputs": [
      {
       "output_type": "stream",
       "stream": "stdout",
       "text": [
        "4 16\n",
        "0 1 4 9 16 25 36 49 64 81"
       ]
      },
      {
       "ename": "IndexError",
       "evalue": "",
       "output_type": "pyerr",
       "traceback": [
        "\u001b[0;31m---------------------------------------------------------------------------\u001b[0m\n\u001b[0;31mIndexError\u001b[0m                                Traceback (most recent call last)",
        "\u001b[0;32m<ipython-input-10-d1032fd18c2c>\u001b[0m in \u001b[0;36m<module>\u001b[0;34m()\u001b[0m\n\u001b[1;32m     13\u001b[0m \u001b[0;32mfor\u001b[0m \u001b[0mx\u001b[0m \u001b[0;32min\u001b[0m \u001b[0ms\u001b[0m\u001b[0;34m:\u001b[0m \u001b[0;31m#IndexError\uac00 \ubc1c\uc0dd\ud558\ub294 \uc2dc\uc810\uae4c\uc9c0 \ubc18\ubcf5\ud55c\ub2e4\u001b[0m\u001b[0;34m\u001b[0m\u001b[0m\n\u001b[1;32m     14\u001b[0m     \u001b[0;32mprint\u001b[0m \u001b[0mx\u001b[0m\u001b[0;34m,\u001b[0m\u001b[0;34m\u001b[0m\u001b[0m\n\u001b[0;32m---> 15\u001b[0;31m \u001b[0;32mprint\u001b[0m \u001b[0ms\u001b[0m\u001b[0;34m[\u001b[0m\u001b[0;36m20\u001b[0m\u001b[0;34m]\u001b[0m \u001b[0;31m#\ucca8\uc790 \ubc94\uc704\uac00 \ub118\uc5c8\ub2e4\u001b[0m\u001b[0;34m\u001b[0m\u001b[0m\n\u001b[0m",
        "\u001b[0;32m<ipython-input-10-d1032fd18c2c>\u001b[0m in \u001b[0;36m__getitem__\u001b[0;34m(self, k)\u001b[0m\n\u001b[1;32m      4\u001b[0m     \u001b[0;32mdef\u001b[0m \u001b[0m__getitem__\u001b[0m\u001b[0;34m(\u001b[0m\u001b[0mself\u001b[0m\u001b[0;34m,\u001b[0m \u001b[0mk\u001b[0m\u001b[0;34m)\u001b[0m\u001b[0;34m:\u001b[0m\u001b[0;34m\u001b[0m\u001b[0m\n\u001b[1;32m      5\u001b[0m         \u001b[0;32mif\u001b[0m \u001b[0mk\u001b[0m \u001b[0;34m>=\u001b[0m \u001b[0mself\u001b[0m\u001b[0;34m.\u001b[0m\u001b[0mn\u001b[0m \u001b[0;32mor\u001b[0m \u001b[0mk\u001b[0m \u001b[0;34m<\u001b[0m \u001b[0;36m0\u001b[0m \u001b[0;34m:\u001b[0m\u001b[0;34m\u001b[0m\u001b[0m\n\u001b[0;32m----> 6\u001b[0;31m             \u001b[0;32mraise\u001b[0m \u001b[0mIndexError\u001b[0m \u001b[0;31m# \ucca8\uc790 \ubc94\uc704\ub97c \ubc97\uc5b4\ub098\uba74 IndexError \uc608\uc678\ub97c \ubc1c\uc0dd\uc2dc\ud0b4\u001b[0m\u001b[0;34m\u001b[0m\u001b[0m\n\u001b[0m\u001b[1;32m      7\u001b[0m         \u001b[0;32mreturn\u001b[0m \u001b[0mk\u001b[0m\u001b[0;34m*\u001b[0m\u001b[0mk\u001b[0m\u001b[0;34m\u001b[0m\u001b[0m\n\u001b[1;32m      8\u001b[0m     \u001b[0;32mdef\u001b[0m \u001b[0m__len__\u001b[0m\u001b[0;34m(\u001b[0m\u001b[0mself\u001b[0m\u001b[0;34m)\u001b[0m\u001b[0;34m:\u001b[0m\u001b[0;34m\u001b[0m\u001b[0m\n",
        "\u001b[0;31mIndexError\u001b[0m: "
       ]
      }
     ],
     "prompt_number": 10
    },
    {
     "cell_type": "markdown",
     "metadata": {},
     "source": [
      "### 5-2 \uc0ac\uc6a9\uc790 \ud074\ub798\uc2a4 \uc608\uc678 \ubc1c\uc0dd\uc2dc\ud0a4\uae30"
     ]
    },
    {
     "cell_type": "code",
     "collapsed": false,
     "input": [
      "#except01.py\n",
      "import sys\n",
      "class Big(Exception):\n",
      "    pass\n",
      "\n",
      "class Small(Big):\n",
      "    pass\n",
      "\n",
      "def dosomething1():\n",
      "    x = Big()\n",
      "    raise x\n",
      "    \n",
      "def dosomething2():\n",
      "    raise Small()\n",
      "    \n",
      "for f in (dosomething1, dosomething2):\n",
      "    try:\n",
      "        f()\n",
      "    except Big:\n",
      "        print sys.exc_info()"
     ],
     "language": "python",
     "metadata": {},
     "outputs": [
      {
       "output_type": "stream",
       "stream": "stdout",
       "text": [
        " (<class '__main__.Big'>, Big(), <traceback object at 0x1026444d0>)\n",
        "(<class '__main__.Small'>, Small(), <traceback object at 0x1026445a8>)\n"
       ]
      }
     ],
     "prompt_number": 11
    },
    {
     "cell_type": "markdown",
     "metadata": {},
     "source": [
      "### 5-3 \uc608\uc678\uac12 \uc804\ub2ec\ud558\uae30 "
     ]
    },
    {
     "cell_type": "code",
     "collapsed": false,
     "input": [
      "class MessageClass:\n",
      "    def __init__(self, message, dur):\n",
      "        self.message = message\n",
      "        self.duration = dur\n",
      "        \n",
      "def f():\n",
      "    raise Exception, MessageClass('message', 10)\n",
      "    \n",
      "try:\n",
      "    f()\n",
      "except Exception, a:\n",
      "    print a.message, a.duration #\uc5d0\ub7ec\ubc1c\uc0dd"
     ],
     "language": "python",
     "metadata": {},
     "outputs": [
      {
       "output_type": "stream",
       "stream": "stdout",
       "text": [
        "<__main__.MessageClass instance at 0x102644998>"
       ]
      },
      {
       "ename": "AttributeError",
       "evalue": "'exceptions.Exception' object has no attribute 'duration'",
       "output_type": "pyerr",
       "traceback": [
        "\u001b[0;31m---------------------------------------------------------------------------\u001b[0m\n\u001b[0;31mAttributeError\u001b[0m                            Traceback (most recent call last)",
        "\u001b[0;32m<ipython-input-12-8eae99e6e3ce>\u001b[0m in \u001b[0;36m<module>\u001b[0;34m()\u001b[0m\n\u001b[1;32m     10\u001b[0m     \u001b[0mf\u001b[0m\u001b[0;34m(\u001b[0m\u001b[0;34m)\u001b[0m\u001b[0;34m\u001b[0m\u001b[0m\n\u001b[1;32m     11\u001b[0m \u001b[0;32mexcept\u001b[0m \u001b[0mException\u001b[0m\u001b[0;34m,\u001b[0m \u001b[0ma\u001b[0m\u001b[0;34m:\u001b[0m\u001b[0;34m\u001b[0m\u001b[0m\n\u001b[0;32m---> 12\u001b[0;31m     \u001b[0;32mprint\u001b[0m \u001b[0ma\u001b[0m\u001b[0;34m.\u001b[0m\u001b[0mmessage\u001b[0m\u001b[0;34m,\u001b[0m \u001b[0ma\u001b[0m\u001b[0;34m.\u001b[0m\u001b[0mduration\u001b[0m \u001b[0;31m#\uc5d0\ub7ec\ubc1c\uc0dd\u001b[0m\u001b[0;34m\u001b[0m\u001b[0m\n\u001b[0m",
        "\u001b[0;31mAttributeError\u001b[0m: 'exceptions.Exception' object has no attribute 'duration'"
       ]
      }
     ],
     "prompt_number": 12
    },
    {
     "cell_type": "code",
     "collapsed": false,
     "input": [
      "class MessageClass:\n",
      "    def __init__(self, message, dur):\n",
      "        self.message = message\n",
      "        self.duration = dur\n",
      "        \n",
      "def f():\n",
      "    raise Exception, MessageClass('message', 10)\n",
      "    print id(m)\n",
      "    raise Exception, m\n",
      "    \n",
      "try:\n",
      "    f()\n",
      "except (Exception,), a:\n",
      "    print a, a.__class__.__name__, id(a)\n",
      "    print a.args[0], a.args[0].__class__.__name__, id(a.args[0])\n",
      "    print a[0], a[0].__class__.__name__, id(a[0])\n",
      "    print a.args[0].duration, a[0].duration"
     ],
     "language": "python",
     "metadata": {},
     "outputs": [
      {
       "output_type": "stream",
       "stream": "stdout",
       "text": [
        " <__main__.MessageClass instance at 0x102594638> Exception 4335020872\n",
        "<__main__.MessageClass instance at 0x102594638> MessageClass 4334372408\n",
        "<__main__.MessageClass instance at 0x102594638> MessageClass 4334372408\n",
        "10 10\n"
       ]
      }
     ],
     "prompt_number": 13
    },
    {
     "cell_type": "markdown",
     "metadata": {},
     "source": [
      "### 5-4 \uc0ac\uc6a9\uc790 \ubb38\uc790\uc5f4 \uc608\uc678 \ubc1c\uc0dd"
     ]
    },
    {
     "cell_type": "code",
     "collapsed": false,
     "input": [
      "raise 'myexcept', 123\n",
      "MyException = 'my exception'\n",
      "\n",
      "def dosomething():\n",
      "    raise MyException\n",
      "    \n",
      "try: \n",
      "    dosomething()\n",
      "except MyException:\n",
      "    print 'Exception occured'\n",
      "    \n",
      "try:\n",
      "    dosomething()\n",
      "except 'my exception':\n",
      "    print 'Exception occured'"
     ],
     "language": "python",
     "metadata": {},
     "outputs": [
      {
       "ename": "TypeError",
       "evalue": "exceptions must be old-style classes or derived from BaseException, not str",
       "output_type": "pyerr",
       "traceback": [
        "\u001b[0;31m---------------------------------------------------------------------------\u001b[0m\n\u001b[0;31mTypeError\u001b[0m                                 Traceback (most recent call last)",
        "\u001b[0;32m<ipython-input-17-a3d3459e3c66>\u001b[0m in \u001b[0;36m<module>\u001b[0;34m()\u001b[0m\n\u001b[0;32m----> 1\u001b[0;31m \u001b[0;32mraise\u001b[0m \u001b[0;34m'myexcept'\u001b[0m\u001b[0;34m,\u001b[0m \u001b[0;36m123\u001b[0m\u001b[0;34m\u001b[0m\u001b[0m\n\u001b[0m\u001b[1;32m      2\u001b[0m \u001b[0mMyException\u001b[0m \u001b[0;34m=\u001b[0m \u001b[0;34m'my exception'\u001b[0m\u001b[0;34m\u001b[0m\u001b[0m\n\u001b[1;32m      3\u001b[0m \u001b[0;34m\u001b[0m\u001b[0m\n\u001b[1;32m      4\u001b[0m \u001b[0;32mdef\u001b[0m \u001b[0mdosomething\u001b[0m\u001b[0;34m(\u001b[0m\u001b[0;34m)\u001b[0m\u001b[0;34m:\u001b[0m\u001b[0;34m\u001b[0m\u001b[0m\n\u001b[1;32m      5\u001b[0m     \u001b[0;32mraise\u001b[0m \u001b[0mMyException\u001b[0m\u001b[0;34m\u001b[0m\u001b[0m\n",
        "\u001b[0;31mTypeError\u001b[0m: exceptions must be old-style classes or derived from BaseException, not str"
       ]
      }
     ],
     "prompt_number": 17
    },
    {
     "cell_type": "markdown",
     "metadata": {},
     "source": [
      "***\n",
      "## 06 assert\ubb38\uc73c\ub85c \uc608\uc678 \ubc1c\uc0dd\uc2dc\ud0a4\uae30\n",
      "***"
     ]
    },
    {
     "cell_type": "code",
     "collapsed": false,
     "input": [
      "a = 30\n",
      "margin = 2 * 0.2\n",
      "assert margin > 10, 'not enough margin %s' %margin"
     ],
     "language": "python",
     "metadata": {},
     "outputs": [
      {
       "ename": "AssertionError",
       "evalue": "not enough margin 0.4",
       "output_type": "pyerr",
       "traceback": [
        "\u001b[0;31m---------------------------------------------------------------------------\u001b[0m\n\u001b[0;31mAssertionError\u001b[0m                            Traceback (most recent call last)",
        "\u001b[0;32m<ipython-input-18-05e5156ad21e>\u001b[0m in \u001b[0;36m<module>\u001b[0;34m()\u001b[0m\n\u001b[1;32m      1\u001b[0m \u001b[0ma\u001b[0m \u001b[0;34m=\u001b[0m \u001b[0;36m30\u001b[0m\u001b[0;34m\u001b[0m\u001b[0m\n\u001b[1;32m      2\u001b[0m \u001b[0mmargin\u001b[0m \u001b[0;34m=\u001b[0m \u001b[0;36m2\u001b[0m \u001b[0;34m*\u001b[0m \u001b[0;36m0.2\u001b[0m\u001b[0;34m\u001b[0m\u001b[0m\n\u001b[0;32m----> 3\u001b[0;31m \u001b[0;32massert\u001b[0m \u001b[0mmargin\u001b[0m \u001b[0;34m>\u001b[0m \u001b[0;36m10\u001b[0m\u001b[0;34m,\u001b[0m \u001b[0;34m'not enough margin %s'\u001b[0m \u001b[0;34m%\u001b[0m\u001b[0mmargin\u001b[0m\u001b[0;34m\u001b[0m\u001b[0m\n\u001b[0m",
        "\u001b[0;31mAssertionError\u001b[0m: not enough margin 0.4"
       ]
      }
     ],
     "prompt_number": 18
    },
    {
     "cell_type": "code",
     "collapsed": false,
     "input": [
      "\n",
      "a = 30\n",
      "margin = 2 * 0.2\n",
      "if __debug__:\n",
      "    assert margin > 10, 'not enough margin %s' % margin"
     ],
     "language": "python",
     "metadata": {},
     "outputs": [
      {
       "ename": "AssertionError",
       "evalue": "not enough margin 0.4",
       "output_type": "pyerr",
       "traceback": [
        "\u001b[0;31m---------------------------------------------------------------------------\u001b[0m\n\u001b[0;31mAssertionError\u001b[0m                            Traceback (most recent call last)",
        "\u001b[0;32m<ipython-input-19-0e9d5c09ff0f>\u001b[0m in \u001b[0;36m<module>\u001b[0;34m()\u001b[0m\n\u001b[1;32m      3\u001b[0m \u001b[0mmargin\u001b[0m \u001b[0;34m=\u001b[0m \u001b[0;36m2\u001b[0m \u001b[0;34m*\u001b[0m \u001b[0;36m0.2\u001b[0m\u001b[0;34m\u001b[0m\u001b[0m\n\u001b[1;32m      4\u001b[0m \u001b[0;32mif\u001b[0m \u001b[0m__debug__\u001b[0m\u001b[0;34m:\u001b[0m\u001b[0;34m\u001b[0m\u001b[0m\n\u001b[0;32m----> 5\u001b[0;31m     \u001b[0;32massert\u001b[0m \u001b[0mmargin\u001b[0m \u001b[0;34m>\u001b[0m \u001b[0;36m10\u001b[0m\u001b[0;34m,\u001b[0m \u001b[0;34m'not enough margin %s'\u001b[0m \u001b[0;34m%\u001b[0m \u001b[0mmargin\u001b[0m\u001b[0;34m\u001b[0m\u001b[0m\n\u001b[0m",
        "\u001b[0;31mAssertionError\u001b[0m: not enough margin 0.4"
       ]
      }
     ],
     "prompt_number": 19
    }
   ],
   "metadata": {}
  }
 ]
}