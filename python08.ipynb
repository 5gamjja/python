{
 "metadata": {
  "name": "",
  "signature": "sha256:4d988bd415264f01507bd518d62a5f094465bc2aa010eb85eb323e96bf49ae9a"
 },
 "nbformat": 3,
 "nbformat_minor": 0,
 "worksheets": [
  {
   "cells": [
    {
     "cell_type": "markdown",
     "metadata": {},
     "source": [
      "***\n",
      "***\n",
      "# 8. \uac1d\uccb4\uc758 \ubcf5\uc0ac \ubc0f \ud615 \ubcc0\ud658\n",
      "***\n",
      "***"
     ]
    },
    {
     "cell_type": "markdown",
     "metadata": {},
     "source": [
      "***\n",
      "## 01 \uac1d\uccb4\uc758 \ubcf5\uc0ac\n",
      "***"
     ]
    },
    {
     "cell_type": "markdown",
     "metadata": {},
     "source": [
      "### 1-1 copy \ubaa8\ub4c8\uc744 \uc774\uc6a9\ud55c \uac1d\uccb4 \ubcf5\uc0ac"
     ]
    },
    {
     "cell_type": "code",
     "collapsed": false,
     "input": [],
     "language": "python",
     "metadata": {},
     "outputs": []
    },
    {
     "cell_type": "markdown",
     "metadata": {},
     "source": [
      "***\n",
      "## 02 \ud615 \ubcc0\ud658\n",
      "***"
     ]
    },
    {
     "cell_type": "markdown",
     "metadata": {},
     "source": [
      "### 2-1 \uc218\uce58 \ud615 \ubcc0\ud658"
     ]
    },
    {
     "cell_type": "code",
     "collapsed": false,
     "input": [],
     "language": "python",
     "metadata": {},
     "outputs": []
    },
    {
     "cell_type": "markdown",
     "metadata": {},
     "source": [
      "### 2-2 \uc2dc\ud000\uc2a4 \uc790\ub8cc \ud615 \ubcc0\ud658"
     ]
    },
    {
     "cell_type": "code",
     "collapsed": false,
     "input": [],
     "language": "python",
     "metadata": {},
     "outputs": []
    },
    {
     "cell_type": "markdown",
     "metadata": {},
     "source": [
      "### 2-3 \ubb38\uc790\uc5f4\ub85c\uc758 \ud615 \ubcc0\ud658"
     ]
    },
    {
     "cell_type": "code",
     "collapsed": false,
     "input": [],
     "language": "python",
     "metadata": {},
     "outputs": []
    },
    {
     "cell_type": "markdown",
     "metadata": {},
     "source": [
      "### 2-4 \ubb38\uc790\uc5f4 \uc694\uc18c\ub97c \uac16\ub294 \ub9ac\uc2a4\ud2b8\ub098 \ud29c\ud50c\uc744 \ubb38\uc790\uc5f4\ub85c \ubcc0\ud658"
     ]
    },
    {
     "cell_type": "code",
     "collapsed": false,
     "input": [],
     "language": "python",
     "metadata": {},
     "outputs": []
    },
    {
     "cell_type": "markdown",
     "metadata": {},
     "source": [
      "### 2-5 \ub9ac\uc2a4\ud2b8, \ud29c\ud50c\uacfc \uc0ac\uc804\uc758 \ubcc0\ud658"
     ]
    },
    {
     "cell_type": "code",
     "collapsed": false,
     "input": [],
     "language": "python",
     "metadata": {},
     "outputs": []
    },
    {
     "cell_type": "markdown",
     "metadata": {},
     "source": [
      "### 2-6 \ubb38\uc790 \ubcc0\ud658"
     ]
    },
    {
     "cell_type": "code",
     "collapsed": false,
     "input": [],
     "language": "python",
     "metadata": {},
     "outputs": []
    },
    {
     "cell_type": "markdown",
     "metadata": {},
     "source": [
      "### 2-7 \uc784\uc758\uc758 \uc9c4\uc218\ub97c 10\uc9c4\uc218\ub85c \ubcc0\ud658"
     ]
    },
    {
     "cell_type": "code",
     "collapsed": false,
     "input": [],
     "language": "python",
     "metadata": {},
     "outputs": []
    },
    {
     "cell_type": "markdown",
     "metadata": {},
     "source": [
      "### 2-8 10\uc9c4\uc218\ub97c \uc784\uc758\uc758 \uc9c4\uc218\ub85c \ubcc0\ud658"
     ]
    },
    {
     "cell_type": "code",
     "collapsed": false,
     "input": [],
     "language": "python",
     "metadata": {},
     "outputs": []
    },
    {
     "cell_type": "markdown",
     "metadata": {},
     "source": [
      "### 2-9 \uc815\uc218\ub97c \ucf64\ub9c8\uac00 \uc788\ub294 \ubb38\uc790\uc5f4\ub85c \ubcc0\ud658 "
     ]
    },
    {
     "cell_type": "code",
     "collapsed": false,
     "input": [],
     "language": "python",
     "metadata": {},
     "outputs": []
    }
   ],
   "metadata": {}
  }
 ]
}