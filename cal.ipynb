# file: cal.py
import calnedar
calendar.prmonth(2014, 9)