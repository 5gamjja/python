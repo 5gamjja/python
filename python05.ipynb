{
 "metadata": {
  "name": "",
  "signature": "sha256:a52bd25f805ec6df11cde5ff12f417a47662334173bfa0abd66abe5c6fe18f53"
 },
 "nbformat": 3,
 "nbformat_minor": 0,
 "worksheets": [
  {
   "cells": [
    {
     "cell_type": "markdown",
     "metadata": {},
     "source": [
      "***\n",
      "***\n",
      "# 5. \ub9ac\uc2a4\ud2b8\n",
      "***\n",
      "***"
     ]
    },
    {
     "cell_type": "markdown",
     "metadata": {},
     "source": [
      "***\n",
      "## 01 \ub9ac\uc2a4\ud2b8\uc758 \uc77c\ubc18\uc5f0\uc0b0\n",
      "***\n",
      "- \ub9ac\uc2a4\ud2b8: \uc2dc\ud000\uc2a4 \uc790\ub8cc\ud615\uc774\uba74\uc11c \ubcc0\uacbd \uac00\ub2a5(Mutable)\n",
      "- \ub9ac\uc2a4\ud2b8\uc5d0\uc11c \uc9c0\uc6d0\ud558\ub294 \uc77c\ubc18\uc801\uc778 \uc5f0\uc0b0\n",
      "  - \uc778\ub371\uc2f1, \uc2ac\ub77c\uc774\uc2f1, \uc5f0\uacb0, \ubc18\ubcf5, \uba64\ubc84\uc27d \ud14c\uc2a4\ud2b8"
     ]
    },
    {
     "cell_type": "code",
     "collapsed": false,
     "input": [
      "l = []\n",
      "l = [1,2,\"Great\"]\n",
      "print l[0], l[-1]\n",
      "print l[1:3], l[:]\n",
      "print\n",
      "\n",
      "L = range(10)\n",
      "print L[::2]\n",
      "print\n",
      "\n",
      "print l * 2\n",
      "print l + [3, 4, 5]\n",
      "print len(l)\n",
      "print\n",
      "print 4 in L"
     ],
     "language": "python",
     "metadata": {},
     "outputs": [
      {
       "output_type": "stream",
       "stream": "stdout",
       "text": [
        "1 Great\n",
        "[2, 'Great'] [1, 2, 'Great']\n",
        "\n",
        "[0, 2, 4, 6, 8]\n",
        "\n",
        "[1, 2, 'Great', 1, 2, 'Great']\n",
        "[1, 2, 'Great', 3, 4, 5]\n",
        "3\n",
        "\n",
        "True\n"
       ]
      }
     ],
     "prompt_number": 3
    },
    {
     "cell_type": "markdown",
     "metadata": {},
     "source": [
      "- Mutable \ud2b9\uc131\uc744 \uc9c0\ub2cc \ub9ac\uc2a4\ud2b8\uc758 \uac12 \ubcc0\uacbd"
     ]
    },
    {
     "cell_type": "code",
     "collapsed": false,
     "input": [
      "a = ['spam', 'eggs', 100, 1234]\n",
      "a[2] = a[2] + 23\n",
      "print a"
     ],
     "language": "python",
     "metadata": {},
     "outputs": [
      {
       "output_type": "stream",
       "stream": "stdout",
       "text": [
        "['spam', 'eggs', 123, 1234]\n"
       ]
      }
     ],
     "prompt_number": 11
    },
    {
     "cell_type": "markdown",
     "metadata": {},
     "source": [
      "- \ub9ac\uc2a4\ud2b8 \uc6d0\uc18c\uc5d0 \ub300\ud55c \uc2ac\ub77c\uc774\uc2a4 \uce58\ud658"
     ]
    },
    {
     "cell_type": "code",
     "collapsed": false,
     "input": [
      "a = ['spam', 'eggs', 123, 1234]\n",
      "a[0:2] = [1,12]      # \ub3d9\uc77c\ud55c \ud06c\uae30\uc5d0 \ub300\ud55c \uc2ac\ub77c\uc774\uc2a4 \uce58\ud658\n",
      "print a\n",
      "\n",
      "a[0:2] = [1]         # \uc11c\ub85c \ub2e4\ub978 \ud06c\uae30\uc5d0 \ub300\ud55c \uc2ac\ub77c\uc774\uc2a4 \uce58\ud658\n",
      "print a\n",
      "\n",
      "a[0:1] = [1, 2, 3]   # \uc11c\ub85c \ub2e4\ub978 \ud06c\uae30\uc5d0 \ub300\ud55c \uc2ac\ub77c\uc774\uc2a4 \uce58\ud658\n",
      "print a"
     ],
     "language": "python",
     "metadata": {},
     "outputs": [
      {
       "output_type": "stream",
       "stream": "stdout",
       "text": [
        "[1, 12, 123, 1234]\n",
        "[1, 123, 1234]\n",
        "[1, 2, 3, 123, 1234]\n"
       ]
      }
     ],
     "prompt_number": 5
    },
    {
     "cell_type": "markdown",
     "metadata": {},
     "source": [
      "- \ub9ac\uc2a4\ud2b8 \uc6d0\uc18c\uc5d0 \ub300\ud55c \uc2ac\ub77c\uc774\uc2a4 \uc0ad\uc81c"
     ]
    },
    {
     "cell_type": "code",
     "collapsed": false,
     "input": [
      "a = [1, 12, 123, 1234]\n",
      "a[0:2] = []\n",
      "\n",
      "a"
     ],
     "language": "python",
     "metadata": {},
     "outputs": [
      {
       "metadata": {},
       "output_type": "pyout",
       "prompt_number": 13,
       "text": [
        "[123, 1234]"
       ]
      }
     ],
     "prompt_number": 13
    },
    {
     "cell_type": "markdown",
     "metadata": {},
     "source": [
      "- \ub9ac\uc2a4\ud2b8 \uc6d0\uc18c \uc0ac\uc774\uc5d0 \uc2ac\ub77c\uc774\uc2a4 \uc0bd\uc785"
     ]
    },
    {
     "cell_type": "code",
     "collapsed": false,
     "input": [
      "a = [123, 1234]\n",
      "a[1:1] = ['spam', 'ham']    # 1\ubc88\uc9f8 \uc778\ub371\uc2a4\uc5d0 \uc0bd\uc785\n",
      "print a\n",
      "\n",
      "b = [123, 1234]          \n",
      "b[1:2] = ['spam', 'ham']    # 1\ubc88\uc9f8 \uc6d0\uc18c\uc5d0 \ub300\ud55c \uce58\ud658\n",
      "print b\n",
      "\n",
      "a[:0] = a                   # \ub9ac\uc2a4\ud2b8 \ub9e8 \uc55e\uc5d0 \uc790\uae30 \uc790\uc2e0\uc744 \uc0bd\uc785\n",
      "print a"
     ],
     "language": "python",
     "metadata": {},
     "outputs": [
      {
       "output_type": "stream",
       "stream": "stdout",
       "text": [
        "[123, 'spam', 'ham', 1234]\n",
        "[123, 'spam', 'ham']\n",
        "[123, 'spam', 'ham', 1234, 123, 'spam', 'ham', 1234]\n"
       ]
      }
     ],
     "prompt_number": 3
    },
    {
     "cell_type": "markdown",
     "metadata": {},
     "source": [
      "- \ud655\uc7a5 \uc2ac\ub77c\uc774\uc2a4\ub97c \uc0ac\uc6a9\ud558\ub294 \uacbd\uc6b0 \uc2ac\ub77c\uc774\uc2a4 \uce58\ud658\ub54c \uc694\uc18c\uc758 \uac1c\uc218\uac00 \uc77c\uce58\ud574\uc57c \ud568\n",
      "- [\ucc38\uace0] range \uc778\uc790 \ud574\uc11d\n",
      "  - range(stop): \uc778\uc790\uac00 1\uac1c\uc778 \uacbd\uc6b0 start\ub294 0\uc774\uba70 \uc8fc\uc5b4\uc9c4 \uc778\uc790\ub294 stop(exclusive)\uc73c\ub85c \ud574\uc11d\n",
      "  - range(start, stop): \uc778\uc790\uac00 2\uac1c\uc778 \uacbd\uc6b0 start(inclusive), stop(exclusive)\uc774\uace0, step\uc740 1\ub85c \ud574\uc11d\n",
      "  - range(start, stop, step): \uc778\uc790\uac00 3\uac1c\uc778 \uacbd\uc6b0 \uac01\uac01\uc744 start(inclusive), stop(exclusive), step\uc73c\ub85c \ud574\uc11d"
     ]
    },
    {
     "cell_type": "code",
     "collapsed": false,
     "input": [
      "a = range(4)\n",
      "print a\n",
      "\n",
      "print a[::2]\n",
      "\n",
      "a[::2] = range(0, -2, -1)     # a[0::2] = [0, 2], range(0, -2 -1) = [0, -1]\n",
      "print a\n",
      "\n",
      "a[::2] = range(3)             # range(3) = [0, 1, 2], \ud655\uc7a5 \uc2ac\ub77c\uc774\uc2a4 \uc0ac\uc6a9\ud558\uc9c0\ub9cc \ud06c\uae30\uac00 \ub2e4\ub984"
     ],
     "language": "python",
     "metadata": {},
     "outputs": [
      {
       "output_type": "stream",
       "stream": "stdout",
       "text": [
        "[0, 1, 2, 3]\n",
        "[0, 2]\n",
        "[0, 1, -1, 3]\n"
       ]
      },
      {
       "ename": "ValueError",
       "evalue": "attempt to assign sequence of size 3 to extended slice of size 2",
       "output_type": "pyerr",
       "traceback": [
        "\u001b[0;31m---------------------------------------------------------------------------\u001b[0m\n\u001b[0;31mValueError\u001b[0m                                Traceback (most recent call last)",
        "\u001b[0;32m<ipython-input-8-e15058d5b07d>\u001b[0m in \u001b[0;36m<module>\u001b[0;34m()\u001b[0m\n\u001b[1;32m      7\u001b[0m \u001b[0;32mprint\u001b[0m \u001b[0ma\u001b[0m\u001b[0;34m\u001b[0m\u001b[0m\n\u001b[1;32m      8\u001b[0m \u001b[0;34m\u001b[0m\u001b[0m\n\u001b[0;32m----> 9\u001b[0;31m \u001b[0ma\u001b[0m\u001b[0;34m[\u001b[0m\u001b[0;34m:\u001b[0m\u001b[0;34m:\u001b[0m\u001b[0;36m2\u001b[0m\u001b[0;34m]\u001b[0m \u001b[0;34m=\u001b[0m \u001b[0mrange\u001b[0m\u001b[0;34m(\u001b[0m\u001b[0;36m3\u001b[0m\u001b[0;34m)\u001b[0m             \u001b[0;31m# range(3) = [0, 1, 2], \ud655\uc7a5 \uc2ac\ub77c\uc774\uc2a4 \uc0ac\uc6a9\ud558\uc9c0\ub9cc \ud06c\uae30\uac00 \ub2e4\ub984\u001b[0m\u001b[0;34m\u001b[0m\u001b[0m\n\u001b[0m",
        "\u001b[0;31mValueError\u001b[0m: attempt to assign sequence of size 3 to extended slice of size 2"
       ]
      }
     ],
     "prompt_number": 8
    },
    {
     "cell_type": "markdown",
     "metadata": {},
     "source": [
      "- del\uc744 \uc774\uc6a9\ud55c \ub9ac\uc2a4\ud2b8 \uc694\uc18c \uc0ad\uc81c"
     ]
    },
    {
     "cell_type": "code",
     "collapsed": false,
     "input": [
      "a = [1, 2, 3, 4]\n",
      "del a[0]\n",
      "print a\n",
      "\n",
      "del a[1:]\n",
      "print a"
     ],
     "language": "python",
     "metadata": {},
     "outputs": [
      {
       "output_type": "stream",
       "stream": "stdout",
       "text": [
        "[2, 3, 4]\n",
        "[2]\n"
       ]
      }
     ],
     "prompt_number": 17
    },
    {
     "cell_type": "code",
     "collapsed": false,
     "input": [
      "a = range(4)\n",
      "print a\n",
      "print a[::2]\n",
      "\n",
      "del a[::2]\n",
      "print a"
     ],
     "language": "python",
     "metadata": {},
     "outputs": [
      {
       "output_type": "stream",
       "stream": "stdout",
       "text": [
        "[0, 1, 2, 3]\n",
        "[0, 2]\n",
        "[1, 3]\n"
       ]
      }
     ],
     "prompt_number": 9
    },
    {
     "cell_type": "code",
     "collapsed": false,
     "input": [
      "a = range(5)\n",
      "del a          # \ub9ac\uc2a4\ud2b8 \uc790\uccb4\uc5d0 \ub300\ud55c \uc0ad\uc81c (\uc815\ud655\ud788\ub294 \ub9ac\uc2a4\ud2b8\ub97c \uac00\ub9ac\ud0a4\ub294 \ub808\ud37c\ub7f0\uc2a4\ub97c \uc9c0\ub2cc \ubcc0\uc218 a \uc0ad\uc81c)\n",
      "print a"
     ],
     "language": "python",
     "metadata": {},
     "outputs": [
      {
       "ename": "NameError",
       "evalue": "name 'a' is not defined",
       "output_type": "pyerr",
       "traceback": [
        "\u001b[0;31m---------------------------------------------------------------------------\u001b[0m\n\u001b[0;31mNameError\u001b[0m                                 Traceback (most recent call last)",
        "\u001b[0;32m<ipython-input-14-02d3151b8089>\u001b[0m in \u001b[0;36m<module>\u001b[0;34m()\u001b[0m\n\u001b[1;32m      1\u001b[0m \u001b[0ma\u001b[0m \u001b[0;34m=\u001b[0m \u001b[0mrange\u001b[0m\u001b[0;34m(\u001b[0m\u001b[0;36m5\u001b[0m\u001b[0;34m)\u001b[0m\u001b[0;34m\u001b[0m\u001b[0m\n\u001b[1;32m      2\u001b[0m \u001b[0;32mdel\u001b[0m \u001b[0ma\u001b[0m          \u001b[0;31m# \ub9ac\uc2a4\ud2b8 \uc790\uccb4\uc5d0 \ub300\ud55c \uc0ad\uc81c (\uc815\ud655\ud788\ub294 \ub9ac\uc2a4\ud2b8\ub97c \uac00\ub9ac\ud0a4\ub294 \ub808\ud37c\ub7f0\uc2a4\ub97c \uc9c0\ub2cc \ubcc0\uc218 a \uc0ad\uc81c)\u001b[0m\u001b[0;34m\u001b[0m\u001b[0m\n\u001b[0;32m----> 3\u001b[0;31m \u001b[0;32mprint\u001b[0m \u001b[0ma\u001b[0m\u001b[0;34m\u001b[0m\u001b[0m\n\u001b[0m",
        "\u001b[0;31mNameError\u001b[0m: name 'a' is not defined"
       ]
      }
     ],
     "prompt_number": 14
    },
    {
     "cell_type": "markdown",
     "metadata": {},
     "source": [
      "***\n",
      "## 02 \uc911\ucca9 \ub9ac\uc2a4\ud2b8(nested lists)\n",
      "***\n",
      "- \uc911\ucca9 \ub9ac\uc2a4\ud2b8: \ub9ac\uc2a4\ud2b8 \uc548\uc5d0 \uc694\uc18c\ub85c\uc11c \ub9ac\uc2a4\ud2b8\ub97c \uc9c0\ub2cc \ub9ac\uc2a4\ud2b8"
     ]
    },
    {
     "cell_type": "code",
     "collapsed": false,
     "input": [
      "s = [1, 2, 3]\n",
      "t = ['begin', s, 'end']\n",
      "print t\n",
      "\n",
      "print t[1][1]"
     ],
     "language": "python",
     "metadata": {},
     "outputs": [
      {
       "output_type": "stream",
       "stream": "stdout",
       "text": [
        "['begin', [1, 2, 3], 'end']\n",
        "2\n"
       ]
      }
     ],
     "prompt_number": 16
    },
    {
     "cell_type": "code",
     "collapsed": false,
     "input": [
      "s[1] = 100\n",
      "print t"
     ],
     "language": "python",
     "metadata": {},
     "outputs": [
      {
       "output_type": "stream",
       "stream": "stdout",
       "text": [
        "['begin', [1, 100, 3], 'end']\n"
       ]
      }
     ],
     "prompt_number": 17
    },
    {
     "cell_type": "code",
     "collapsed": false,
     "input": [
      "L = [1, ['a', ['x', 'y'], 'b'], 3]\n",
      "print L[0]\n",
      "print L[1]\n",
      "print L[1][1]\n",
      "print L[1][1][1]"
     ],
     "language": "python",
     "metadata": {},
     "outputs": [
      {
       "output_type": "stream",
       "stream": "stdout",
       "text": [
        "1\n",
        "['a', ['x', 'y'], 'b']\n",
        "['x', 'y']\n",
        "y\n"
       ]
      }
     ],
     "prompt_number": 22
    },
    {
     "cell_type": "markdown",
     "metadata": {},
     "source": [
      "***\n",
      "## 03 \ub9ac\uc2a4\ud2b8\uc758 \uba54\uc3d8\ub4dc\ub4e4\n",
      "***"
     ]
    },
    {
     "cell_type": "markdown",
     "metadata": {},
     "source": [
      "### 3-1 \ub9ac\uc2a4\ud2b8 \uba54\uc3d8\ub4dc"
     ]
    },
    {
     "cell_type": "code",
     "collapsed": false,
     "input": [
      "s = [1, 2, 3]\n",
      "\n",
      "s.append(5)             # \ub9ac\uc2a4\ud2b8 \ub9e8 \ub9c8\uc9c0\ub9c9\uc5d0 \uc815\uc218 \uac12 5 \ucd94\uac00\n",
      "print s\n",
      "\n",
      "s.insert(3, 4)          # 3 \uc778\ub371\uc2a4 \uc704\uce58\uc5d0 \uc815\uc218 \uac12 4 \ucd94\uac00\n",
      "print s"
     ],
     "language": "python",
     "metadata": {},
     "outputs": [
      {
       "output_type": "stream",
       "stream": "stdout",
       "text": [
        "[1, 2, 3, 5]\n",
        "[1, 2, 3, 4, 5]\n"
       ]
      }
     ],
     "prompt_number": 19
    },
    {
     "cell_type": "code",
     "collapsed": false,
     "input": [
      "s = [1, 2, 3, 4, 5]\n",
      "\n",
      "print s.index(3)        # \uac12 3\uc758 \uc778\ub371\uc2a4 \ubc18\ud658\n",
      "\n",
      "print s.count(2)        # \uac12 2\uc758 \uac1c\uc218 \ubc18\ud658\n",
      "\n",
      "s = [1, 2, 2, 2, 2, 2, 3, 4, 5]\n",
      "print s.count(2)"
     ],
     "language": "python",
     "metadata": {},
     "outputs": [
      {
       "output_type": "stream",
       "stream": "stdout",
       "text": [
        "2\n",
        "1\n",
        "5\n"
       ]
      }
     ],
     "prompt_number": 24
    },
    {
     "cell_type": "markdown",
     "metadata": {},
     "source": [
      "- python\uc758 \uc18c\ud305 \uc54c\uace0\ub9ac\uc998: Timsort (\ubcc0\ud615\ub41c merge sort)\n",
      "  - \ucc38\uace0: http://orchistro.tistory.com/175"
     ]
    },
    {
     "cell_type": "code",
     "collapsed": false,
     "input": [
      "s = [1, 2, -10, -7, 100]\n",
      "s.reverse()       # \uc790\ub8cc\uc758 \uc21c\uc11c\ub97c \ub4a4\uc9d1\uae30 (\ubc18\ud658\uac12 \uc5c6\uc74c)   \n",
      "print s\n",
      "\n",
      "s.sort()          # \uc815\ub82c (\ubc18\ud658\uac12 \uc5c6\uc74c)\n",
      "print s"
     ],
     "language": "python",
     "metadata": {},
     "outputs": [
      {
       "output_type": "stream",
       "stream": "stdout",
       "text": [
        "[100, -7, -10, 2, 1]\n",
        "[-10, -7, 1, 2, 100]\n"
       ]
      }
     ],
     "prompt_number": 28
    },
    {
     "cell_type": "code",
     "collapsed": false,
     "input": [
      "s = [10, 20, 30, 40, 50]\n",
      "s.remove(10)        # \uc790\ub8cc \uac12 10 \uc0ad\uc81c\n",
      "print s\n",
      "\n",
      "s = [10, 20, 30, 20, 40, 50]   # \uc790\ub8cc \uac12\uc774 \uc5ec\ub7ec\uac1c \uc874\uc7ac\ud558\uba74 \uccab\ubc88\uc9f8 \uac83\ub9cc \uc0ad\uc81c\n",
      "s.remove(20)\n",
      "print s\n",
      "\n",
      "s.extend([60, 70])  # \uc0c8\ub85c\uc6b4 \ub9ac\uc2a4\ud2b8([60, 70]\ub97c \uae30\uc874 \ub9ac\uc2a4\ud2b8 s \ub4a4\uc5d0 \ubcd1\ud569\n",
      "print s\n",
      "\n",
      "s.append([60, 70])  # \uc8fc\uc758: append\ub85c \uc0c8\ub85c\uc6b4 \ub9ac\uc2a4\ud2b8\ub97c \ucd94\uac00\ud558\uba74 \ud558\ub098\uc758 \uc790\ub8cc \uc694\uc18c\ub85c\uc11c \ucd94\uac00\n",
      "print s"
     ],
     "language": "python",
     "metadata": {},
     "outputs": [
      {
       "output_type": "stream",
       "stream": "stdout",
       "text": [
        "[20, 30, 40, 50]\n",
        "[10, 30, 20, 40, 50]\n",
        "[10, 30, 20, 40, 50, 60, 70]\n",
        "[10, 30, 20, 40, 50, 60, 70, [60, 70]]\n"
       ]
      }
     ],
     "prompt_number": 36
    },
    {
     "cell_type": "markdown",
     "metadata": {},
     "source": [
      "### 3-2 \ub9ac\uc2a4\ud2b8\ub97c \uc2a4\ud0dd(Stack)\uc73c\ub85c \uc4f0\uae30"
     ]
    },
    {
     "cell_type": "code",
     "collapsed": false,
     "input": [
      "s = [10, 20, 30, 40, 50]\n",
      "s.append(60)\n",
      "print s\n",
      "\n",
      "print s.pop()\n",
      "\n",
      "print s"
     ],
     "language": "python",
     "metadata": {},
     "outputs": [
      {
       "output_type": "stream",
       "stream": "stdout",
       "text": [
        "[10, 20, 30, 40, 50, 60]\n",
        "60\n",
        "[10, 20, 30, 40, 50]\n"
       ]
      }
     ],
     "prompt_number": 37
    },
    {
     "cell_type": "markdown",
     "metadata": {},
     "source": [
      "![image](images/stack.png)"
     ]
    },
    {
     "cell_type": "code",
     "collapsed": false,
     "input": [
      "s = [10, 20, 30, 40, 50]\n",
      "print s.pop(0)   #0 \ubc88\uc9f8 \uc778\ub371\uc2a4 \uac12\uc744 \uaebc\ub0b8\ub2e4.\n",
      "\n",
      "print s\n",
      "\n",
      "print s.pop(1)   #1 \ubc88\uc9f8 \uc778\ub371\uc2a4 \uac12\uc744 \uaebc\ub0b8\ub2e4.\n",
      "\n",
      "print s"
     ],
     "language": "python",
     "metadata": {},
     "outputs": [
      {
       "output_type": "stream",
       "stream": "stdout",
       "text": [
        "10\n",
        "[20, 30, 40, 50]\n",
        "30\n",
        "[20, 40, 50]\n"
       ]
      }
     ],
     "prompt_number": 2
    },
    {
     "cell_type": "markdown",
     "metadata": {},
     "source": [
      "### 3-3 \ub9ac\uc2a4\ud2b8\ub97c \ud050(Queue)\ub85c \uc4f0\uae30"
     ]
    },
    {
     "cell_type": "code",
     "collapsed": false,
     "input": [
      "q = [10, 20, 30, 40, 50]\n",
      "q.append(60)\n",
      "print q.pop(0)\n",
      "\n",
      "print q"
     ],
     "language": "python",
     "metadata": {},
     "outputs": [
      {
       "output_type": "stream",
       "stream": "stdout",
       "text": [
        "10\n",
        "[20, 30, 40, 50, 60]\n"
       ]
      }
     ],
     "prompt_number": 3
    },
    {
     "cell_type": "markdown",
     "metadata": {},
     "source": [
      "![image](images/queue.png)"
     ]
    },
    {
     "cell_type": "markdown",
     "metadata": {},
     "source": [
      "***\n",
      "## 04 \ud29c\ud50c \ud639\uc740 \ub9ac\uc2a4\ud2b8\uc758 \ub9ac\uc2a4\ud2b8 \ubc18\ubcf5 \ucc38\uc870\ud558\uae30\n",
      "***\n",
      "- \ub9ac\uc2a4\ud2b8 \uc548\uc758 \uac01 \uc790\ub8cc\uac00 \ud29c\ud50c\uc77c \ub54c for \ubb38\uc744 \uc0ac\uc6a9\ud558\uc5ec \uac12 \ucd94\ucd9c \ubc29\ubc95"
     ]
    },
    {
     "cell_type": "code",
     "collapsed": false,
     "input": [
      "lt = [('one', 1), ('two', 2), ('three', 3)]\n",
      "for t in lt:\n",
      "    print 'name =', t[0] ,', num =', t[1]"
     ],
     "language": "python",
     "metadata": {},
     "outputs": [
      {
       "output_type": "stream",
       "stream": "stdout",
       "text": [
        "name = one , num = 1\n",
        "name = two , num = 2\n",
        "name = three , num = 3\n"
       ]
      }
     ],
     "prompt_number": 4
    },
    {
     "cell_type": "markdown",
     "metadata": {},
     "source": [
      "- \uc544\ub798 \ucf54\ub4dc\uac00 \ub354 \ud6a8\uc728\uc801"
     ]
    },
    {
     "cell_type": "code",
     "collapsed": false,
     "input": [
      "lt = [('one', 1), ('two', 2), ('three', 3)]\n",
      "for t in lt:\n",
      "    print 'name = %s, num = %s' % t"
     ],
     "language": "python",
     "metadata": {},
     "outputs": [
      {
       "output_type": "stream",
       "stream": "stdout",
       "text": [
        "name = one, num = 1\n",
        "name = two, num = 2\n",
        "name = three, num = 3\n"
       ]
      }
     ],
     "prompt_number": 8
    },
    {
     "cell_type": "markdown",
     "metadata": {},
     "source": [
      "- for \ubb38\uc758 \ud5e4\ub354\uc5d0\uc11c \uac01 \ud29c\ud50c\uc758 \uac12 \ucd94\ucd9c"
     ]
    },
    {
     "cell_type": "code",
     "collapsed": false,
     "input": [
      "lt = [('one', 1), ('two', 2), ('three', 3)]\n",
      "for name, num in lt:\n",
      "    print name, num"
     ],
     "language": "python",
     "metadata": {},
     "outputs": [
      {
       "output_type": "stream",
       "stream": "stdout",
       "text": [
        "one 1\n",
        "two 2\n",
        "three 3\n"
       ]
      }
     ],
     "prompt_number": 12
    },
    {
     "cell_type": "markdown",
     "metadata": {},
     "source": [
      "- \ub9ac\uc2a4\ud2b8 \uc548\uc758 \uac01 \uc790\ub8cc\uac00 \ub9ac\uc2a4\ud2b8\uc5ec\ub3c4 for \ubb38\uc758 \ud5e4\ub354\uc5d0\uc11c \ub3d9\uc77c\ud558\uac8c \uac12 \ucd94\ucd9c \uac00\ub2a5"
     ]
    },
    {
     "cell_type": "code",
     "collapsed": false,
     "input": [
      "LL = [['one', 1], ['two', 2], ['three', 3]]\n",
      "for name, num in LL:\n",
      "    print name, num"
     ],
     "language": "python",
     "metadata": {},
     "outputs": [
      {
       "output_type": "stream",
       "stream": "stdout",
       "text": [
        "one 1\n",
        "two 2\n",
        "three 3\n"
       ]
      }
     ],
     "prompt_number": 38
    },
    {
     "cell_type": "markdown",
     "metadata": {},
     "source": [
      "***\n",
      "## 05 \uc6d0\ud558\ub294 \uc21c\uc11c\ub300\ub85c \uc815\ub82c\ud558\uae30-sort\n",
      "***"
     ]
    },
    {
     "cell_type": "markdown",
     "metadata": {},
     "source": [
      "### 5-1 \ub9ac\uc2a4\ud2b8\uc758 sort \uba54\uc3d8\ub4dc"
     ]
    },
    {
     "cell_type": "code",
     "collapsed": false,
     "input": [
      "L = [1, 5, 3, 9, 8, 4, 2]\n",
      "L.sort()\n",
      "L"
     ],
     "language": "python",
     "metadata": {},
     "outputs": [
      {
       "metadata": {},
       "output_type": "pyout",
       "prompt_number": 44,
       "text": [
        "[1, 2, 3, 4, 5, 8, 9]"
       ]
      }
     ],
     "prompt_number": 44
    },
    {
     "cell_type": "markdown",
     "metadata": {},
     "source": [
      "- \ud30c\uc774\uc36c\uc740 \ub514\ud3f4\ud2b8\ub85c cmp(a, b) \ub0b4\uc7a5 \ud568\uc218\ub97c \uc774\uc6a9\ud558\uc5ec \uc815\ub82c \ubc29\uc2dd\uc744 \uacb0\uc815\ud55c\ub2e4.\n",
      "- cmp(a, b)\n",
      "  - if a < b: return -1\n",
      "  - if a > b: return 1\n",
      "  - if a == b: return 0"
     ]
    },
    {
     "cell_type": "code",
     "collapsed": false,
     "input": [
      "print cmp(1,2)\n",
      "\n",
      "print cmp(5,2)\n",
      "\n",
      "print cmp('abc', 'abc')"
     ],
     "language": "python",
     "metadata": {},
     "outputs": [
      {
       "output_type": "stream",
       "stream": "stdout",
       "text": [
        "-1\n",
        "1\n",
        "0\n"
       ]
      }
     ],
     "prompt_number": 45
    },
    {
     "cell_type": "markdown",
     "metadata": {},
     "source": [
      "- \uae30\ubcf8 \uc815\ub82c \ubc29\uc2dd\uc744 \ubcc0\uacbd\ud558\ub824\uba74 cmp(a, b)\uc640 \uac19\uc740 \ube44\uad50 \ud568\uc218\ub97c \uc9c1\uc811 \ub9cc\ub4e4\uc5b4\uc11c sort() \ud568\uc218\uc758 \uc778\uc790\ub85c \ub123\ub294\ub2e4."
     ]
    },
    {
     "cell_type": "code",
     "collapsed": false,
     "input": [
      "def mycmp(a1, a2):      # \ub300\uc18c\uad00\uacc4\uc5d0 \ub530\ub978 \uc21c\uc11c\ub97c \ubc18\ub300\ub85c \ubc14\uafb8\uc5c8\uc74c\n",
      "    return cmp(a2, a1)\n",
      "\n",
      "L = [1, 5, 3, 2, 4, 6]\n",
      "L.sort(mycmp)           # \uc5ed\uc21c\uc73c\ub85c \uc815\ub82c\n",
      "print L"
     ],
     "language": "python",
     "metadata": {},
     "outputs": [
      {
       "output_type": "stream",
       "stream": "stdout",
       "text": [
        "[6, 5, 4, 3, 2, 1]\n"
       ]
      }
     ],
     "prompt_number": 14
    },
    {
     "cell_type": "markdown",
     "metadata": {},
     "source": [
      "- \uc5ec\ub7ec \ud29c\ud50c\uc744 \uc694\uc18c\ub85c \uc9c0\ub2cc \ub9ac\uc2a4\ud2b8\uc778 \uacbd\uc6b0, \ud29c\ud50c\uc758 \uccab\ubc88\uc9f8 \uac12\uc774 \uc544\ub2cc \ub2e4\ub978 \uac12\uc744 \uae30\uc900\uc73c\ub85c \uc815\ub82c "
     ]
    },
    {
     "cell_type": "code",
     "collapsed": false,
     "input": [
      "def cmp_1(a1, a2):\n",
      "    return cmp(a1[1], a2[1])\n",
      "\n",
      "def cmp_2(a1, a2):\n",
      "    return cmp(a1[2], a2[2])\n",
      "\n",
      "L = [ ('lee', 5, 38), ('kim', 3, 28), ('jung', 10, 36)]\n",
      "L.sort()\n",
      "print 'sorted by name:', L\n",
      "\n",
      "L.sort(cmp_1)\n",
      "print 'sorted by experience:', L\n",
      "\n",
      "L.sort(cmp_2)\n",
      "print 'sorted by age:', L"
     ],
     "language": "python",
     "metadata": {},
     "outputs": [
      {
       "output_type": "stream",
       "stream": "stdout",
       "text": [
        "sorted by name: [('jung', 10, 36), ('kim', 3, 28), ('lee', 5, 38)]\n",
        "sorted by experience: [('kim', 3, 28), ('lee', 5, 38), ('jung', 10, 36)]\n",
        "sorted by age: [('kim', 3, 28), ('jung', 10, 36), ('lee', 5, 38)]\n"
       ]
      }
     ],
     "prompt_number": 49
    },
    {
     "cell_type": "code",
     "collapsed": false,
     "input": [
      "L = [1, 6, 3, 8, 6, 2, 9]\n",
      "L.sort(reverse = True)\n",
      "L"
     ],
     "language": "python",
     "metadata": {},
     "outputs": [
      {
       "metadata": {},
       "output_type": "pyout",
       "prompt_number": 56,
       "text": [
        "[9, 8, 6, 6, 3, 2, 1]"
       ]
      }
     ],
     "prompt_number": 56
    },
    {
     "cell_type": "code",
     "collapsed": false,
     "input": [
      "L = ['123', '34', '56', '2345']\n",
      "L.sort()\n",
      "print L\n",
      "\n",
      "L.sort(key=int)\n",
      "print L"
     ],
     "language": "python",
     "metadata": {},
     "outputs": [
      {
       "output_type": "stream",
       "stream": "stdout",
       "text": [
        "['123', '2345', '34', '56']\n",
        "['34', '56', '123', '2345']\n"
       ]
      }
     ],
     "prompt_number": 51
    },
    {
     "cell_type": "markdown",
     "metadata": {},
     "source": [
      "### 5-2 sorted \ub0b4\uc7a5 \ud568\uc218"
     ]
    },
    {
     "cell_type": "code",
     "collapsed": false,
     "input": [
      "L = [1, 6, 3, 8, 6, 2, 9]\n",
      "newList = L.sort()\n",
      "print newList"
     ],
     "language": "python",
     "metadata": {},
     "outputs": [
      {
       "output_type": "stream",
       "stream": "stdout",
       "text": [
        "None\n"
       ]
      }
     ],
     "prompt_number": 53
    },
    {
     "cell_type": "code",
     "collapsed": false,
     "input": [
      "L = [1, 6, 3, 8, 6, 2, 9]\n",
      "newList = sorted(L)\n",
      "newList"
     ],
     "language": "python",
     "metadata": {},
     "outputs": [
      {
       "metadata": {},
       "output_type": "pyout",
       "prompt_number": 54,
       "text": [
        "[1, 2, 3, 6, 6, 8, 9]"
       ]
      }
     ],
     "prompt_number": 54
    },
    {
     "cell_type": "code",
     "collapsed": false,
     "input": [
      "for ele in sorted(L):\n",
      "    print ele,"
     ],
     "language": "python",
     "metadata": {},
     "outputs": [
      {
       "output_type": "stream",
       "stream": "stdout",
       "text": [
        "1 2 3 6 6 8 9\n"
       ]
      }
     ],
     "prompt_number": 55
    },
    {
     "cell_type": "code",
     "collapsed": false,
     "input": [
      "L = [1, 6, 3, 8, 6, 2, 9]\n",
      "print sorted(L, reverse = True)\n",
      "\n",
      "L = ['123', '34', '56', '2345']\n",
      "print sorted(L, key=int)"
     ],
     "language": "python",
     "metadata": {},
     "outputs": [
      {
       "output_type": "stream",
       "stream": "stdout",
       "text": [
        "[9, 8, 6, 6, 3, 2, 1]\n",
        "['34', '56', '123', '2345']\n"
       ]
      }
     ],
     "prompt_number": 57
    },
    {
     "cell_type": "markdown",
     "metadata": {},
     "source": [
      "### 5-3 reversed \ub0b4\uc7a5 \ud568\uc218"
     ]
    },
    {
     "cell_type": "code",
     "collapsed": false,
     "input": [
      "L.reverse()\n",
      "\n",
      "#for ele in L:\n",
      "    #some_function()\n",
      "\n",
      "#L.reverse()"
     ],
     "language": "python",
     "metadata": {},
     "outputs": [],
     "prompt_number": 71
    },
    {
     "cell_type": "code",
     "collapsed": false,
     "input": [
      "print L\n",
      "for ele in reversed(L):\n",
      "    print ele"
     ],
     "language": "python",
     "metadata": {},
     "outputs": [
      {
       "output_type": "stream",
       "stream": "stdout",
       "text": [
        "['2345', '56', '34', '123']\n",
        "123\n",
        "34\n",
        "56\n",
        "2345\n"
       ]
      }
     ],
     "prompt_number": 72
    },
    {
     "cell_type": "markdown",
     "metadata": {},
     "source": [
      "***\n",
      "## 06 \ub9ac\uc2a4\ud2b8 \ub0b4\uc7a5(List Comprehension)(2.0 \uc774\uc0c1)\n",
      "***"
     ]
    },
    {
     "cell_type": "code",
     "collapsed": false,
     "input": [
      "L = [k * k for k in range(10)]\n",
      "print L"
     ],
     "language": "python",
     "metadata": {},
     "outputs": [
      {
       "output_type": "stream",
       "stream": "stdout",
       "text": [
        "[0, 1, 4, 9, 16, 25, 36, 49, 64, 81]\n"
       ]
      }
     ],
     "prompt_number": 73
    },
    {
     "cell_type": "code",
     "collapsed": false,
     "input": [
      "L = []\n",
      "for k in range(10):\n",
      "    L.append(k*k)\n",
      "    \n",
      "print L"
     ],
     "language": "python",
     "metadata": {},
     "outputs": [
      {
       "output_type": "stream",
       "stream": "stdout",
       "text": [
        "[0, 1, 4, 9, 16, 25, 36, 49, 64, 81]\n"
       ]
      }
     ],
     "prompt_number": 74
    },
    {
     "cell_type": "code",
     "collapsed": false,
     "input": [
      "L = [k * k for k in range(10) if k%2]\n",
      "L"
     ],
     "language": "python",
     "metadata": {},
     "outputs": [
      {
       "metadata": {},
       "output_type": "pyout",
       "prompt_number": 75,
       "text": [
        "[1, 9, 25, 49, 81]"
       ]
      }
     ],
     "prompt_number": 75
    },
    {
     "cell_type": "code",
     "collapsed": false,
     "input": [
      "[(i, j, i*j) for i in range(2, 100, 2)\n",
      "            for j in range(3, 100, 3)\n",
      "             if (i + j) % 7 == 0]\n"
     ],
     "language": "python",
     "metadata": {},
     "outputs": [
      {
       "metadata": {},
       "output_type": "pyout",
       "prompt_number": 76,
       "text": [
        "[(2, 12, 24),\n",
        " (2, 33, 66),\n",
        " (2, 54, 108),\n",
        " (2, 75, 150),\n",
        " (2, 96, 192),\n",
        " (4, 3, 12),\n",
        " (4, 24, 96),\n",
        " (4, 45, 180),\n",
        " (4, 66, 264),\n",
        " (4, 87, 348),\n",
        " (6, 15, 90),\n",
        " (6, 36, 216),\n",
        " (6, 57, 342),\n",
        " (6, 78, 468),\n",
        " (6, 99, 594),\n",
        " (8, 6, 48),\n",
        " (8, 27, 216),\n",
        " (8, 48, 384),\n",
        " (8, 69, 552),\n",
        " (8, 90, 720),\n",
        " (10, 18, 180),\n",
        " (10, 39, 390),\n",
        " (10, 60, 600),\n",
        " (10, 81, 810),\n",
        " (12, 9, 108),\n",
        " (12, 30, 360),\n",
        " (12, 51, 612),\n",
        " (12, 72, 864),\n",
        " (12, 93, 1116),\n",
        " (14, 21, 294),\n",
        " (14, 42, 588),\n",
        " (14, 63, 882),\n",
        " (14, 84, 1176),\n",
        " (16, 12, 192),\n",
        " (16, 33, 528),\n",
        " (16, 54, 864),\n",
        " (16, 75, 1200),\n",
        " (16, 96, 1536),\n",
        " (18, 3, 54),\n",
        " (18, 24, 432),\n",
        " (18, 45, 810),\n",
        " (18, 66, 1188),\n",
        " (18, 87, 1566),\n",
        " (20, 15, 300),\n",
        " (20, 36, 720),\n",
        " (20, 57, 1140),\n",
        " (20, 78, 1560),\n",
        " (20, 99, 1980),\n",
        " (22, 6, 132),\n",
        " (22, 27, 594),\n",
        " (22, 48, 1056),\n",
        " (22, 69, 1518),\n",
        " (22, 90, 1980),\n",
        " (24, 18, 432),\n",
        " (24, 39, 936),\n",
        " (24, 60, 1440),\n",
        " (24, 81, 1944),\n",
        " (26, 9, 234),\n",
        " (26, 30, 780),\n",
        " (26, 51, 1326),\n",
        " (26, 72, 1872),\n",
        " (26, 93, 2418),\n",
        " (28, 21, 588),\n",
        " (28, 42, 1176),\n",
        " (28, 63, 1764),\n",
        " (28, 84, 2352),\n",
        " (30, 12, 360),\n",
        " (30, 33, 990),\n",
        " (30, 54, 1620),\n",
        " (30, 75, 2250),\n",
        " (30, 96, 2880),\n",
        " (32, 3, 96),\n",
        " (32, 24, 768),\n",
        " (32, 45, 1440),\n",
        " (32, 66, 2112),\n",
        " (32, 87, 2784),\n",
        " (34, 15, 510),\n",
        " (34, 36, 1224),\n",
        " (34, 57, 1938),\n",
        " (34, 78, 2652),\n",
        " (34, 99, 3366),\n",
        " (36, 6, 216),\n",
        " (36, 27, 972),\n",
        " (36, 48, 1728),\n",
        " (36, 69, 2484),\n",
        " (36, 90, 3240),\n",
        " (38, 18, 684),\n",
        " (38, 39, 1482),\n",
        " (38, 60, 2280),\n",
        " (38, 81, 3078),\n",
        " (40, 9, 360),\n",
        " (40, 30, 1200),\n",
        " (40, 51, 2040),\n",
        " (40, 72, 2880),\n",
        " (40, 93, 3720),\n",
        " (42, 21, 882),\n",
        " (42, 42, 1764),\n",
        " (42, 63, 2646),\n",
        " (42, 84, 3528),\n",
        " (44, 12, 528),\n",
        " (44, 33, 1452),\n",
        " (44, 54, 2376),\n",
        " (44, 75, 3300),\n",
        " (44, 96, 4224),\n",
        " (46, 3, 138),\n",
        " (46, 24, 1104),\n",
        " (46, 45, 2070),\n",
        " (46, 66, 3036),\n",
        " (46, 87, 4002),\n",
        " (48, 15, 720),\n",
        " (48, 36, 1728),\n",
        " (48, 57, 2736),\n",
        " (48, 78, 3744),\n",
        " (48, 99, 4752),\n",
        " (50, 6, 300),\n",
        " (50, 27, 1350),\n",
        " (50, 48, 2400),\n",
        " (50, 69, 3450),\n",
        " (50, 90, 4500),\n",
        " (52, 18, 936),\n",
        " (52, 39, 2028),\n",
        " (52, 60, 3120),\n",
        " (52, 81, 4212),\n",
        " (54, 9, 486),\n",
        " (54, 30, 1620),\n",
        " (54, 51, 2754),\n",
        " (54, 72, 3888),\n",
        " (54, 93, 5022),\n",
        " (56, 21, 1176),\n",
        " (56, 42, 2352),\n",
        " (56, 63, 3528),\n",
        " (56, 84, 4704),\n",
        " (58, 12, 696),\n",
        " (58, 33, 1914),\n",
        " (58, 54, 3132),\n",
        " (58, 75, 4350),\n",
        " (58, 96, 5568),\n",
        " (60, 3, 180),\n",
        " (60, 24, 1440),\n",
        " (60, 45, 2700),\n",
        " (60, 66, 3960),\n",
        " (60, 87, 5220),\n",
        " (62, 15, 930),\n",
        " (62, 36, 2232),\n",
        " (62, 57, 3534),\n",
        " (62, 78, 4836),\n",
        " (62, 99, 6138),\n",
        " (64, 6, 384),\n",
        " (64, 27, 1728),\n",
        " (64, 48, 3072),\n",
        " (64, 69, 4416),\n",
        " (64, 90, 5760),\n",
        " (66, 18, 1188),\n",
        " (66, 39, 2574),\n",
        " (66, 60, 3960),\n",
        " (66, 81, 5346),\n",
        " (68, 9, 612),\n",
        " (68, 30, 2040),\n",
        " (68, 51, 3468),\n",
        " (68, 72, 4896),\n",
        " (68, 93, 6324),\n",
        " (70, 21, 1470),\n",
        " (70, 42, 2940),\n",
        " (70, 63, 4410),\n",
        " (70, 84, 5880),\n",
        " (72, 12, 864),\n",
        " (72, 33, 2376),\n",
        " (72, 54, 3888),\n",
        " (72, 75, 5400),\n",
        " (72, 96, 6912),\n",
        " (74, 3, 222),\n",
        " (74, 24, 1776),\n",
        " (74, 45, 3330),\n",
        " (74, 66, 4884),\n",
        " (74, 87, 6438),\n",
        " (76, 15, 1140),\n",
        " (76, 36, 2736),\n",
        " (76, 57, 4332),\n",
        " (76, 78, 5928),\n",
        " (76, 99, 7524),\n",
        " (78, 6, 468),\n",
        " (78, 27, 2106),\n",
        " (78, 48, 3744),\n",
        " (78, 69, 5382),\n",
        " (78, 90, 7020),\n",
        " (80, 18, 1440),\n",
        " (80, 39, 3120),\n",
        " (80, 60, 4800),\n",
        " (80, 81, 6480),\n",
        " (82, 9, 738),\n",
        " (82, 30, 2460),\n",
        " (82, 51, 4182),\n",
        " (82, 72, 5904),\n",
        " (82, 93, 7626),\n",
        " (84, 21, 1764),\n",
        " (84, 42, 3528),\n",
        " (84, 63, 5292),\n",
        " (84, 84, 7056),\n",
        " (86, 12, 1032),\n",
        " (86, 33, 2838),\n",
        " (86, 54, 4644),\n",
        " (86, 75, 6450),\n",
        " (86, 96, 8256),\n",
        " (88, 3, 264),\n",
        " (88, 24, 2112),\n",
        " (88, 45, 3960),\n",
        " (88, 66, 5808),\n",
        " (88, 87, 7656),\n",
        " (90, 15, 1350),\n",
        " (90, 36, 3240),\n",
        " (90, 57, 5130),\n",
        " (90, 78, 7020),\n",
        " (90, 99, 8910),\n",
        " (92, 6, 552),\n",
        " (92, 27, 2484),\n",
        " (92, 48, 4416),\n",
        " (92, 69, 6348),\n",
        " (92, 90, 8280),\n",
        " (94, 18, 1692),\n",
        " (94, 39, 3666),\n",
        " (94, 60, 5640),\n",
        " (94, 81, 7614),\n",
        " (96, 9, 864),\n",
        " (96, 30, 2880),\n",
        " (96, 51, 4896),\n",
        " (96, 72, 6912),\n",
        " (96, 93, 8928),\n",
        " (98, 21, 2058),\n",
        " (98, 42, 4116),\n",
        " (98, 63, 6174),\n",
        " (98, 84, 8232)]"
       ]
      }
     ],
     "prompt_number": 76
    },
    {
     "cell_type": "code",
     "collapsed": false,
     "input": [
      "seq1 = 'abc'\n",
      "seq2 = (1, 2, 3)\n",
      "[ (x, y) for x in seq1 for y in seq2]"
     ],
     "language": "python",
     "metadata": {},
     "outputs": [
      {
       "metadata": {},
       "output_type": "pyout",
       "prompt_number": 77,
       "text": [
        "[('a', 1),\n",
        " ('a', 2),\n",
        " ('a', 3),\n",
        " ('b', 1),\n",
        " ('b', 2),\n",
        " ('b', 3),\n",
        " ('c', 1),\n",
        " ('c', 2),\n",
        " ('c', 3)]"
       ]
      }
     ],
     "prompt_number": 77
    },
    {
     "cell_type": "markdown",
     "metadata": {},
     "source": [
      "***\n",
      "## 07 \uc21c\ud658 \ucc38\uc870 \ub9ac\uc2a4\ud2b8\n",
      "***"
     ]
    },
    {
     "cell_type": "code",
     "collapsed": false,
     "input": [
      "GNU = ['is not Unix']\n",
      "GNU.insert(0, GNU)\n",
      "print GNU\n",
      "\n",
      "print GNU[0]\n",
      "\n",
      "print GNU[0][0]\n",
      "\n",
      "print GNU[0][0][0]"
     ],
     "language": "python",
     "metadata": {},
     "outputs": [
      {
       "output_type": "stream",
       "stream": "stdout",
       "text": [
        "[[...], 'is not Unix']\n",
        "[[...], 'is not Unix']\n",
        "[[...], 'is not Unix']\n",
        "[[...], 'is not Unix']\n"
       ]
      }
     ],
     "prompt_number": 78
    },
    {
     "cell_type": "markdown",
     "metadata": {},
     "source": [
      "***\n",
      "## 08 range-\uc21c\ucc28\uc801\uc778 \uc815\uc218 \ub9ac\uc2a4\ud2b8 \ub9cc\ub4e4\uae30\n",
      "***"
     ]
    },
    {
     "cell_type": "code",
     "collapsed": false,
     "input": [
      "print range(10)\n",
      "\n",
      "print range(5, 15)\n",
      "\n",
      "print range(5, 15, 2)\n",
      "\n",
      "print range(0, -10, -1)"
     ],
     "language": "python",
     "metadata": {},
     "outputs": [
      {
       "output_type": "stream",
       "stream": "stdout",
       "text": [
        "[0, 1, 2, 3, 4, 5, 6, 7, 8, 9]\n",
        "[5, 6, 7, 8, 9, 10, 11, 12, 13, 14]\n",
        "[5, 7, 9, 11, 13]\n",
        "[0, -1, -2, -3, -4, -5, -6, -7, -8, -9]\n"
       ]
      }
     ],
     "prompt_number": 79
    },
    {
     "cell_type": "code",
     "collapsed": false,
     "input": [
      "for el in range(10):\n",
      "    print el, 'inch=', el * 2.54, 'centi'"
     ],
     "language": "python",
     "metadata": {},
     "outputs": [
      {
       "output_type": "stream",
       "stream": "stdout",
       "text": [
        "0 inch= 0.0 centi\n",
        "1 inch= 2.54 centi\n",
        "2 inch= 5.08 centi\n",
        "3 inch= 7.62 centi\n",
        "4 inch= 10.16 centi\n",
        "5 inch= 12.7 centi\n",
        "6 inch= 15.24 centi\n",
        "7 inch= 17.78 centi\n",
        "8 inch= 20.32 centi\n",
        "9 inch= 22.86 centi\n"
       ]
      }
     ],
     "prompt_number": 80
    },
    {
     "cell_type": "code",
     "collapsed": false,
     "input": [
      "sun, mon, tue, wed, thu, fri, sat = range(7)"
     ],
     "language": "python",
     "metadata": {},
     "outputs": [],
     "prompt_number": 81
    },
    {
     "cell_type": "markdown",
     "metadata": {},
     "source": [
      "***\n",
      "## 09 \uc9c0\uc5ed\uc801\uc73c\ub85c \uc0ac\uc6a9 \uac00\ub2a5\ud55c \uc774\ub984 \ub9ac\uc2a4\ud2b8 \uc5bb\uae30\n",
      "***"
     ]
    },
    {
     "cell_type": "code",
     "collapsed": false,
     "input": [
      "print dir()\n",
      "\n",
      "a = 100\n",
      "\n",
      "print dir()\n",
      "\n",
      "print __name__\n",
      "\n",
      "print __doc__\n",
      "print __builtins__"
     ],
     "language": "python",
     "metadata": {},
     "outputs": [
      {
       "output_type": "stream",
       "stream": "stdout",
       "text": [
        "['In', 'Out', '_', '_1', '_3', '_6', '__', '___', '__builtin__', '__builtins__', '__doc__', '__name__', '_dh', '_i', '_i1', '_i2', '_i3', '_i4', '_i5', '_i6', '_i7', '_ih', '_ii', '_iii', '_oh', '_sh', 'a', 'exit', 'get_ipython', 'quit']\n",
        "['In', 'Out', '_', '_1', '_3', '_6', '__', '___', '__builtin__', '__builtins__', '__doc__', '__name__', '_dh', '_i', '_i1', '_i2', '_i3', '_i4', '_i5', '_i6', '_i7', '_ih', '_ii', '_iii', '_oh', '_sh', 'a', 'exit', 'get_ipython', 'quit']\n",
        "__main__\n",
        "Automatically created module for IPython interactive environment\n",
        "<module '__builtin__' (built-in)>\n"
       ]
      }
     ],
     "prompt_number": 7
    },
    {
     "cell_type": "code",
     "collapsed": false,
     "input": [
      "import sys\n",
      "dir(sys)"
     ],
     "language": "python",
     "metadata": {},
     "outputs": [
      {
       "metadata": {},
       "output_type": "pyout",
       "prompt_number": 8,
       "text": [
        "['__displayhook__',\n",
        " '__doc__',\n",
        " '__excepthook__',\n",
        " '__name__',\n",
        " '__package__',\n",
        " '__stderr__',\n",
        " '__stdin__',\n",
        " '__stdout__',\n",
        " '_clear_type_cache',\n",
        " '_current_frames',\n",
        " '_executable',\n",
        " '_getframe',\n",
        " '_home',\n",
        " '_mercurial',\n",
        " 'api_version',\n",
        " 'argv',\n",
        " 'base_exec_prefix',\n",
        " 'base_prefix',\n",
        " 'builtin_module_names',\n",
        " 'byteorder',\n",
        " 'call_tracing',\n",
        " 'callstats',\n",
        " 'copyright',\n",
        " 'displayhook',\n",
        " 'dont_write_bytecode',\n",
        " 'exc_clear',\n",
        " 'exc_info',\n",
        " 'exc_type',\n",
        " 'excepthook',\n",
        " 'exec_prefix',\n",
        " 'executable',\n",
        " 'exit',\n",
        " 'exitfunc',\n",
        " 'flags',\n",
        " 'float_info',\n",
        " 'float_repr_style',\n",
        " 'getcheckinterval',\n",
        " 'getdefaultencoding',\n",
        " 'getdlopenflags',\n",
        " 'getfilesystemencoding',\n",
        " 'getprofile',\n",
        " 'getrecursionlimit',\n",
        " 'getrefcount',\n",
        " 'getsizeof',\n",
        " 'gettrace',\n",
        " 'hexversion',\n",
        " 'long_info',\n",
        " 'maxint',\n",
        " 'maxsize',\n",
        " 'maxunicode',\n",
        " 'meta_path',\n",
        " 'modules',\n",
        " 'path',\n",
        " 'path_hooks',\n",
        " 'path_importer_cache',\n",
        " 'platform',\n",
        " 'prefix',\n",
        " 'ps1',\n",
        " 'ps2',\n",
        " 'ps3',\n",
        " 'py3kwarning',\n",
        " 'setcheckinterval',\n",
        " 'setdlopenflags',\n",
        " 'setprofile',\n",
        " 'setrecursionlimit',\n",
        " 'settrace',\n",
        " 'stderr',\n",
        " 'stdin',\n",
        " 'stdout',\n",
        " 'subversion',\n",
        " 'version',\n",
        " 'version_info',\n",
        " 'warnoptions']"
       ]
      }
     ],
     "prompt_number": 8
    },
    {
     "cell_type": "markdown",
     "metadata": {},
     "source": [
      "***\n",
      "## 10 \uba85\ub839\ud589 \uc778\uc218 \ucc98\ub9ac\n",
      "***"
     ]
    },
    {
     "cell_type": "markdown",
     "metadata": {},
     "source": [
      "### 10-1 \uba85\ub839\ud589 \uc778\uc218 \uc5bb\uae30"
     ]
    },
    {
     "cell_type": "code",
     "collapsed": false,
     "input": [
      "# file : arg.py\n",
      "import sys\n",
      "print sys.argv"
     ],
     "language": "python",
     "metadata": {},
     "outputs": [
      {
       "output_type": "stream",
       "stream": "stdout",
       "text": [
        "['-c', '-f', '/Users/Soo-Jin/.ipython/profile_default/security/kernel-13091aa3-bfd4-41a2-8441-c139b461791e.json', \"--IPKernelApp.parent_appname='ipython-notebook'\", '--profile-dir', '/Users/Soo-Jin/.ipython/profile_default', '--parent=1']\n"
       ]
      }
     ],
     "prompt_number": 11
    },
    {
     "cell_type": "markdown",
     "metadata": {},
     "source": [
      "### 10-2 \uba85\ub839\ud589 \uc635\uc158 \ucc98\ub9ac"
     ]
    },
    {
     "cell_type": "code",
     "collapsed": false,
     "input": [
      "import getopt\n",
      "args = '-a -b -c123 -d 456 spam and ham'.split()\n",
      "print args\n",
      "\n",
      "optlist, args = getopt.getopt(args, 'abc:d:')\n",
      "print optlist\n",
      "\n",
      "print args"
     ],
     "language": "python",
     "metadata": {},
     "outputs": [
      {
       "output_type": "stream",
       "stream": "stdout",
       "text": [
        "['-a', '-b', '-c123', '-d', '456', 'spam', 'and', 'ham']\n",
        "[('-a', ''), ('-b', ''), ('-c', '123'), ('-d', '456')]\n",
        "['spam', 'and', 'ham']\n"
       ]
      }
     ],
     "prompt_number": 13
    },
    {
     "cell_type": "code",
     "collapsed": false,
     "input": [
      "#file : getopt_test.py\n",
      "import sys\n",
      "import getopt\n",
      "\n",
      "options, args = getopt.getopt(sys.argv[1:], 'a:b:c:')\n",
      "for op, p in options:\n",
      "    \n",
      "    if op == 'a':\n",
      "        print 'option a', p\n",
      "    \n",
      "    elif op == 'b':\n",
      "        print 'option b', p\n",
      "    \n",
      "    elif op == '-c':\n",
      "        print 'option c', p\n",
      "    \n",
      "    else:\n",
      "        print 'Unknown option', op\n",
      "\n",
      "print args\n",
      "    "
     ],
     "language": "python",
     "metadata": {},
     "outputs": [
      {
       "ename": "GetoptError",
       "evalue": "option -f not recognized",
       "output_type": "pyerr",
       "traceback": [
        "\u001b[0;31m---------------------------------------------------------------------------\u001b[0m\n\u001b[0;31mGetoptError\u001b[0m                               Traceback (most recent call last)",
        "\u001b[0;32m<ipython-input-15-4bcd9cc81318>\u001b[0m in \u001b[0;36m<module>\u001b[0;34m()\u001b[0m\n\u001b[1;32m      3\u001b[0m \u001b[0;32mimport\u001b[0m \u001b[0mgetopt\u001b[0m\u001b[0;34m\u001b[0m\u001b[0m\n\u001b[1;32m      4\u001b[0m \u001b[0;34m\u001b[0m\u001b[0m\n\u001b[0;32m----> 5\u001b[0;31m \u001b[0moptions\u001b[0m\u001b[0;34m,\u001b[0m \u001b[0margs\u001b[0m \u001b[0;34m=\u001b[0m \u001b[0mgetopt\u001b[0m\u001b[0;34m.\u001b[0m\u001b[0mgetopt\u001b[0m\u001b[0;34m(\u001b[0m\u001b[0msys\u001b[0m\u001b[0;34m.\u001b[0m\u001b[0margv\u001b[0m\u001b[0;34m[\u001b[0m\u001b[0;36m1\u001b[0m\u001b[0;34m:\u001b[0m\u001b[0;34m]\u001b[0m\u001b[0;34m,\u001b[0m \u001b[0;34m'a:b:c:'\u001b[0m\u001b[0;34m)\u001b[0m\u001b[0;34m\u001b[0m\u001b[0m\n\u001b[0m\u001b[1;32m      6\u001b[0m \u001b[0;32mfor\u001b[0m \u001b[0mop\u001b[0m\u001b[0;34m,\u001b[0m \u001b[0mp\u001b[0m \u001b[0;32min\u001b[0m \u001b[0moptions\u001b[0m\u001b[0;34m:\u001b[0m\u001b[0;34m\u001b[0m\u001b[0m\n\u001b[1;32m      7\u001b[0m \u001b[0;34m\u001b[0m\u001b[0m\n",
        "\u001b[0;32m/Applications/Canopy.app/appdata/canopy-1.4.1.1975.macosx-x86_64/Canopy.app/Contents/lib/python2.7/getopt.pyc\u001b[0m in \u001b[0;36mgetopt\u001b[0;34m(args, shortopts, longopts)\u001b[0m\n\u001b[1;32m     88\u001b[0m             \u001b[0mopts\u001b[0m\u001b[0;34m,\u001b[0m \u001b[0margs\u001b[0m \u001b[0;34m=\u001b[0m \u001b[0mdo_longs\u001b[0m\u001b[0;34m(\u001b[0m\u001b[0mopts\u001b[0m\u001b[0;34m,\u001b[0m \u001b[0margs\u001b[0m\u001b[0;34m[\u001b[0m\u001b[0;36m0\u001b[0m\u001b[0;34m]\u001b[0m\u001b[0;34m[\u001b[0m\u001b[0;36m2\u001b[0m\u001b[0;34m:\u001b[0m\u001b[0;34m]\u001b[0m\u001b[0;34m,\u001b[0m \u001b[0mlongopts\u001b[0m\u001b[0;34m,\u001b[0m \u001b[0margs\u001b[0m\u001b[0;34m[\u001b[0m\u001b[0;36m1\u001b[0m\u001b[0;34m:\u001b[0m\u001b[0;34m]\u001b[0m\u001b[0;34m)\u001b[0m\u001b[0;34m\u001b[0m\u001b[0m\n\u001b[1;32m     89\u001b[0m         \u001b[0;32melse\u001b[0m\u001b[0;34m:\u001b[0m\u001b[0;34m\u001b[0m\u001b[0m\n\u001b[0;32m---> 90\u001b[0;31m             \u001b[0mopts\u001b[0m\u001b[0;34m,\u001b[0m \u001b[0margs\u001b[0m \u001b[0;34m=\u001b[0m \u001b[0mdo_shorts\u001b[0m\u001b[0;34m(\u001b[0m\u001b[0mopts\u001b[0m\u001b[0;34m,\u001b[0m \u001b[0margs\u001b[0m\u001b[0;34m[\u001b[0m\u001b[0;36m0\u001b[0m\u001b[0;34m]\u001b[0m\u001b[0;34m[\u001b[0m\u001b[0;36m1\u001b[0m\u001b[0;34m:\u001b[0m\u001b[0;34m]\u001b[0m\u001b[0;34m,\u001b[0m \u001b[0mshortopts\u001b[0m\u001b[0;34m,\u001b[0m \u001b[0margs\u001b[0m\u001b[0;34m[\u001b[0m\u001b[0;36m1\u001b[0m\u001b[0;34m:\u001b[0m\u001b[0;34m]\u001b[0m\u001b[0;34m)\u001b[0m\u001b[0;34m\u001b[0m\u001b[0m\n\u001b[0m\u001b[1;32m     91\u001b[0m \u001b[0;34m\u001b[0m\u001b[0m\n\u001b[1;32m     92\u001b[0m     \u001b[0;32mreturn\u001b[0m \u001b[0mopts\u001b[0m\u001b[0;34m,\u001b[0m \u001b[0margs\u001b[0m\u001b[0;34m\u001b[0m\u001b[0m\n",
        "\u001b[0;32m/Applications/Canopy.app/appdata/canopy-1.4.1.1975.macosx-x86_64/Canopy.app/Contents/lib/python2.7/getopt.pyc\u001b[0m in \u001b[0;36mdo_shorts\u001b[0;34m(opts, optstring, shortopts, args)\u001b[0m\n\u001b[1;32m    188\u001b[0m     \u001b[0;32mwhile\u001b[0m \u001b[0moptstring\u001b[0m \u001b[0;34m!=\u001b[0m \u001b[0;34m''\u001b[0m\u001b[0;34m:\u001b[0m\u001b[0;34m\u001b[0m\u001b[0m\n\u001b[1;32m    189\u001b[0m         \u001b[0mopt\u001b[0m\u001b[0;34m,\u001b[0m \u001b[0moptstring\u001b[0m \u001b[0;34m=\u001b[0m \u001b[0moptstring\u001b[0m\u001b[0;34m[\u001b[0m\u001b[0;36m0\u001b[0m\u001b[0;34m]\u001b[0m\u001b[0;34m,\u001b[0m \u001b[0moptstring\u001b[0m\u001b[0;34m[\u001b[0m\u001b[0;36m1\u001b[0m\u001b[0;34m:\u001b[0m\u001b[0;34m]\u001b[0m\u001b[0;34m\u001b[0m\u001b[0m\n\u001b[0;32m--> 190\u001b[0;31m         \u001b[0;32mif\u001b[0m \u001b[0mshort_has_arg\u001b[0m\u001b[0;34m(\u001b[0m\u001b[0mopt\u001b[0m\u001b[0;34m,\u001b[0m \u001b[0mshortopts\u001b[0m\u001b[0;34m)\u001b[0m\u001b[0;34m:\u001b[0m\u001b[0;34m\u001b[0m\u001b[0m\n\u001b[0m\u001b[1;32m    191\u001b[0m             \u001b[0;32mif\u001b[0m \u001b[0moptstring\u001b[0m \u001b[0;34m==\u001b[0m \u001b[0;34m''\u001b[0m\u001b[0;34m:\u001b[0m\u001b[0;34m\u001b[0m\u001b[0m\n\u001b[1;32m    192\u001b[0m                 \u001b[0;32mif\u001b[0m \u001b[0;32mnot\u001b[0m \u001b[0margs\u001b[0m\u001b[0;34m:\u001b[0m\u001b[0;34m\u001b[0m\u001b[0m\n",
        "\u001b[0;32m/Applications/Canopy.app/appdata/canopy-1.4.1.1975.macosx-x86_64/Canopy.app/Contents/lib/python2.7/getopt.pyc\u001b[0m in \u001b[0;36mshort_has_arg\u001b[0;34m(opt, shortopts)\u001b[0m\n\u001b[1;32m    204\u001b[0m         \u001b[0;32mif\u001b[0m \u001b[0mopt\u001b[0m \u001b[0;34m==\u001b[0m \u001b[0mshortopts\u001b[0m\u001b[0;34m[\u001b[0m\u001b[0mi\u001b[0m\u001b[0;34m]\u001b[0m \u001b[0;34m!=\u001b[0m \u001b[0;34m':'\u001b[0m\u001b[0;34m:\u001b[0m\u001b[0;34m\u001b[0m\u001b[0m\n\u001b[1;32m    205\u001b[0m             \u001b[0;32mreturn\u001b[0m \u001b[0mshortopts\u001b[0m\u001b[0;34m.\u001b[0m\u001b[0mstartswith\u001b[0m\u001b[0;34m(\u001b[0m\u001b[0;34m':'\u001b[0m\u001b[0;34m,\u001b[0m \u001b[0mi\u001b[0m\u001b[0;34m+\u001b[0m\u001b[0;36m1\u001b[0m\u001b[0;34m)\u001b[0m\u001b[0;34m\u001b[0m\u001b[0m\n\u001b[0;32m--> 206\u001b[0;31m     \u001b[0;32mraise\u001b[0m \u001b[0mGetoptError\u001b[0m\u001b[0;34m(\u001b[0m\u001b[0;34m'option -%s not recognized'\u001b[0m \u001b[0;34m%\u001b[0m \u001b[0mopt\u001b[0m\u001b[0;34m,\u001b[0m \u001b[0mopt\u001b[0m\u001b[0;34m)\u001b[0m\u001b[0;34m\u001b[0m\u001b[0m\n\u001b[0m\u001b[1;32m    207\u001b[0m \u001b[0;34m\u001b[0m\u001b[0m\n\u001b[1;32m    208\u001b[0m \u001b[0;32mif\u001b[0m \u001b[0m__name__\u001b[0m \u001b[0;34m==\u001b[0m \u001b[0;34m'__main__'\u001b[0m\u001b[0;34m:\u001b[0m\u001b[0;34m\u001b[0m\u001b[0m\n",
        "\u001b[0;31mGetoptError\u001b[0m: option -f not recognized"
       ]
      }
     ],
     "prompt_number": 15
    },
    {
     "cell_type": "markdown",
     "metadata": {},
     "source": [
      "***\n",
      "## 11 \ubc30\uc5f4 \ud45c\ud604\ud558\uae30\n",
      "***"
     ]
    },
    {
     "cell_type": "markdown",
     "metadata": {},
     "source": [
      "### 11-1 \ub9ac\uc2a4\ud2b8\ub85c 1\ucc28\uc6d0 \ubc30\uc5f4 \ud45c\ud604\ud558\uae30"
     ]
    },
    {
     "cell_type": "code",
     "collapsed": false,
     "input": [
      "a = [1, 2, 3, 4, 5]\n",
      "b = range(10)\n",
      "print a\n",
      "print b"
     ],
     "language": "python",
     "metadata": {},
     "outputs": [
      {
       "output_type": "stream",
       "stream": "stdout",
       "text": [
        "[1, 2, 3, 4, 5]\n",
        "[0, 1, 2, 3, 4, 5, 6, 7, 8, 9]\n"
       ]
      }
     ],
     "prompt_number": 16
    },
    {
     "cell_type": "code",
     "collapsed": false,
     "input": [
      "a = [0] * 10\n",
      "a"
     ],
     "language": "python",
     "metadata": {},
     "outputs": [
      {
       "metadata": {},
       "output_type": "pyout",
       "prompt_number": 17,
       "text": [
        "[0, 0, 0, 0, 0, 0, 0, 0, 0, 0]"
       ]
      }
     ],
     "prompt_number": 17
    },
    {
     "cell_type": "markdown",
     "metadata": {},
     "source": [
      "### 11-2 \ub0b4\uc6a9\uc5c6\ub294 \ub9ac\uc2a4\ud2b8 \ubbf8\ub9ac \uc0dd\uc131\ud558\uae30"
     ]
    },
    {
     "cell_type": "code",
     "collapsed": false,
     "input": [
      "N = [20, 15, 39, 2, 7, 5, 223, 75, 46, 87]\n",
      "M = [3, 5, 9, 2, 7]\n",
      "L = [None] * 10\n",
      "for k in M:\n",
      "    L[k] = k * N[k]\n",
      "print L"
     ],
     "language": "python",
     "metadata": {},
     "outputs": [
      {
       "output_type": "stream",
       "stream": "stdout",
       "text": [
        "[None, None, 78, 6, None, 25, None, 525, None, 783]\n"
       ]
      }
     ],
     "prompt_number": 19
    },
    {
     "cell_type": "markdown",
     "metadata": {},
     "source": [
      "### 11-3 \ub9ac\uc2a4\ud2b8\ub85c 2\ucc28\uc6d0 \ubc30\uc5f4(\ud589\ub82c)\ud45c\ud604\ud558\uae30"
     ]
    },
    {
     "cell_type": "code",
     "collapsed": false,
     "input": [
      "mat = [     [1, 2, 3],\n",
      "            [4, 5, 6],\n",
      "            [7, 8, 9]     ]\n",
      "print mat\n",
      "print mat[1][2]"
     ],
     "language": "python",
     "metadata": {},
     "outputs": [
      {
       "output_type": "stream",
       "stream": "stdout",
       "text": [
        "[[1, 2, 3], [4, 5, 6], [7, 8, 9]]\n",
        "6\n"
       ]
      }
     ],
     "prompt_number": 20
    },
    {
     "cell_type": "code",
     "collapsed": false,
     "input": [
      "mat = [[0] * 4] * 3\n",
      "mat"
     ],
     "language": "python",
     "metadata": {},
     "outputs": [
      {
       "metadata": {},
       "output_type": "pyout",
       "prompt_number": 21,
       "text": [
        "[[0, 0, 0, 0], [0, 0, 0, 0], [0, 0, 0, 0]]"
       ]
      }
     ],
     "prompt_number": 21
    },
    {
     "cell_type": "code",
     "collapsed": false,
     "input": [
      "mat[0][0] = 100\n",
      "mat"
     ],
     "language": "python",
     "metadata": {},
     "outputs": [
      {
       "metadata": {},
       "output_type": "pyout",
       "prompt_number": 22,
       "text": [
        "[[100, 0, 0, 0], [100, 0, 0, 0], [100, 0, 0, 0]]"
       ]
      }
     ],
     "prompt_number": 22
    },
    {
     "cell_type": "code",
     "collapsed": false,
     "input": [
      "mat = []\n",
      "for x in range(3):\n",
      "    mat.append( [0] * 4)\n",
      "    \n",
      "print mat\n",
      "\n",
      "mat[0][0] = 100\n",
      "print mat"
     ],
     "language": "python",
     "metadata": {},
     "outputs": [
      {
       "output_type": "stream",
       "stream": "stdout",
       "text": [
        "[[0, 0, 0, 0], [0, 0, 0, 0], [0, 0, 0, 0]]\n",
        "[[100, 0, 0, 0], [0, 0, 0, 0], [0, 0, 0, 0]]\n"
       ]
      }
     ],
     "prompt_number": 25
    },
    {
     "cell_type": "code",
     "collapsed": false,
     "input": [
      "mat = [ [0]*4 for x in range(3)]\n",
      "print mat\n",
      "\n",
      "mat[0][0] = 100\n",
      "print mat"
     ],
     "language": "python",
     "metadata": {},
     "outputs": [
      {
       "output_type": "stream",
       "stream": "stdout",
       "text": [
        "[[0, 0, 0, 0], [0, 0, 0, 0], [0, 0, 0, 0]]\n",
        "[[100, 0, 0, 0], [0, 0, 0, 0], [0, 0, 0, 0]]\n"
       ]
      }
     ],
     "prompt_number": 27
    },
    {
     "cell_type": "markdown",
     "metadata": {},
     "source": [
      "### 11-4 array \ubaa8\ub4c8 \uc774\uc6a9\ud558\uae30"
     ]
    },
    {
     "cell_type": "markdown",
     "metadata": {},
     "source": [
      "#### 1) \ucd08\uae30 \uac12\uc73c\ub85c \uc0dd\uc131\ud558\uae30"
     ]
    },
    {
     "cell_type": "code",
     "collapsed": false,
     "input": [
      "from array import *\n",
      "\n",
      "a = array('i', range(10))\n",
      "print a\n",
      "\n",
      "a = array('i', [0] * 10)\n",
      "print a"
     ],
     "language": "python",
     "metadata": {},
     "outputs": [
      {
       "output_type": "stream",
       "stream": "stdout",
       "text": [
        "array('i', [0, 1, 2, 3, 4, 5, 6, 7, 8, 9])\n",
        "array('i', [0, 0, 0, 0, 0, 0, 0, 0, 0, 0])\n"
       ]
      }
     ],
     "prompt_number": 30
    },
    {
     "cell_type": "markdown",
     "metadata": {},
     "source": [
      "#### 2) \ub3d9\uc801\uc73c\ub85c \uc0dd\uc131\ud558\uae30 \ub9ac\uc2a4\ud2b8\uc640 \uac19\uc774 append, insrt, extend \uba54\uc3d8\ub4dc\ub97c \uc774\uc6a9\ud55c\ub2e4."
     ]
    },
    {
     "cell_type": "code",
     "collapsed": false,
     "input": [
      "a = array('i')\n",
      "a.append(1)\n",
      "a.append(4)\n",
      "print a\n",
      "\n",
      "a.insert(1,2)\n",
      "print a\n",
      "\n",
      "a.extend(array('i', [1, 2, 3, 4, 5]))\n",
      "print a"
     ],
     "language": "python",
     "metadata": {},
     "outputs": [
      {
       "output_type": "stream",
       "stream": "stdout",
       "text": [
        "array('i', [1, 4])\n",
        "array('i', [1, 2, 4])\n",
        "array('i', [1, 2, 4, 1, 2, 3, 4, 5])\n"
       ]
      }
     ],
     "prompt_number": 42
    },
    {
     "cell_type": "markdown",
     "metadata": {},
     "source": [
      "#### 3) \ubc30\uc5f4 \ucc38\uc870"
     ]
    },
    {
     "cell_type": "code",
     "collapsed": false,
     "input": [
      "print a[0]\n",
      "print a[-1]\n",
      "print a[1:3]\n",
      "print a[1:-1]\n",
      "\n",
      "del a[0]\n",
      "print a\n",
      "\n",
      "del a[:3]\n",
      "print a\n"
     ],
     "language": "python",
     "metadata": {},
     "outputs": [
      {
       "output_type": "stream",
       "stream": "stdout",
       "text": [
        "1\n",
        "5\n",
        "array('i', [2, 4])\n",
        "array('i', [2, 4, 1, 2, 3, 4])\n",
        "array('i', [2, 4, 1, 2, 3, 4, 5])\n",
        "array('i', [2, 3, 4, 5])\n"
       ]
      }
     ],
     "prompt_number": 45
    },
    {
     "cell_type": "code",
     "collapsed": false,
     "input": [
      "a = array.array('i')\n",
      "dir(a)"
     ],
     "language": "python",
     "metadata": {},
     "outputs": [
      {
       "ename": "AttributeError",
       "evalue": "type object 'array.array' has no attribute 'array'",
       "output_type": "pyerr",
       "traceback": [
        "\u001b[0;31m---------------------------------------------------------------------------\u001b[0m\n\u001b[0;31mAttributeError\u001b[0m                            Traceback (most recent call last)",
        "\u001b[0;32m<ipython-input-46-02656439efc2>\u001b[0m in \u001b[0;36m<module>\u001b[0;34m()\u001b[0m\n\u001b[0;32m----> 1\u001b[0;31m \u001b[0ma\u001b[0m \u001b[0;34m=\u001b[0m \u001b[0marray\u001b[0m\u001b[0;34m.\u001b[0m\u001b[0marray\u001b[0m\u001b[0;34m(\u001b[0m\u001b[0;34m'i'\u001b[0m\u001b[0;34m)\u001b[0m\u001b[0;34m\u001b[0m\u001b[0m\n\u001b[0m\u001b[1;32m      2\u001b[0m \u001b[0mdir\u001b[0m\u001b[0;34m(\u001b[0m\u001b[0ma\u001b[0m\u001b[0;34m)\u001b[0m\u001b[0;34m\u001b[0m\u001b[0m\n",
        "\u001b[0;31mAttributeError\u001b[0m: type object 'array.array' has no attribute 'array'"
       ]
      }
     ],
     "prompt_number": 46
    },
    {
     "cell_type": "markdown",
     "metadata": {},
     "source": [
      "***\n",
      "## 12 \ub514\ub809\ud1a0\ub9ac \ud30c\uc77c \ubaa9\ub85d \uc5bb\uae30\n",
      "***"
     ]
    },
    {
     "cell_type": "markdown",
     "metadata": {},
     "source": [
      "### 12-1 \ubaa9\ub85d \uc5bb\uae30"
     ]
    },
    {
     "cell_type": "code",
     "collapsed": false,
     "input": [
      "import glob\n",
      "print glob.glob('./[0-9].*')\n",
      "print glob.glob('*.gif')\n",
      "print glob.glob('?.gif')"
     ],
     "language": "python",
     "metadata": {},
     "outputs": [
      {
       "output_type": "stream",
       "stream": "stdout",
       "text": [
        "[]\n",
        "[]\n",
        "[]\n"
       ]
      }
     ],
     "prompt_number": 50
    },
    {
     "cell_type": "markdown",
     "metadata": {},
     "source": [
      "### 12-2 \ud30c\uc77c\uc758 \ucd94\uac00 \uc815\ubcf4 \uc54c\uc544\ub0b4\uae30"
     ]
    },
    {
     "cell_type": "code",
     "collapsed": false,
     "input": [
      "import glob\n",
      "import os\n",
      "flist = glob.glob('*')\n",
      "for fname in flist:\n",
      "    \n",
      "    if os.path.isfile(fname):\n",
      "        print fname, 'is a regular file.'\n",
      "        \n",
      "    elif os.path.isdir(fname):\n",
      "        print fname, 'is a dir'\n",
      "            \n",
      "    elif os.path.islink(fname):\n",
      "        print fname, 'is a symbolic link'\n",
      "                \n",
      "                "
     ],
     "language": "python",
     "metadata": {},
     "outputs": [
      {
       "output_type": "stream",
       "stream": "stdout",
       "text": [
        "assignment-1.ipynb is a regular file.\n",
        "cal.ipynb is a regular file.\n",
        "cal.py is a regular file.\n",
        "docstring.py is a regular file.\n",
        "docstring.pyc is a regular file.\n",
        "images is a dir\n",
        "modfile.py is a regular file.\n",
        "modfile.pyc is a regular file.\n",
        "python01.ipynb is a regular file.\n",
        "python02.ipynb is a regular file.\n",
        "python03.ipynb is a regular file.\n",
        "python04.ipynb is a regular file.\n",
        "python05.ipynb is a regular file.\n",
        "python06.ipynb is a regular file.\n",
        "python07.ipynb is a regular file.\n",
        "python08.ipynb is a regular file.\n",
        "README.md is a regular file.\n"
       ]
      }
     ],
     "prompt_number": 51
    },
    {
     "cell_type": "code",
     "collapsed": false,
     "input": [
      "print os.path.getsize('python05.ipynb')\n",
      "\n",
      "import time\n",
      "\n",
      "t = os.path.getatime('python05.ipynb')\n",
      "print t\n",
      "\n",
      "print time.ctime(t)\n",
      "\n",
      "print time.ctime(os.path.getmtime('python01.ipynb'))"
     ],
     "language": "python",
     "metadata": {},
     "outputs": [
      {
       "output_type": "stream",
       "stream": "stdout",
       "text": [
        "53154\n",
        "1411099808.0\n",
        "Fri Sep 19 13:10:08 2014\n",
        "Wed Sep 10 18:18:08 2014\n"
       ]
      }
     ],
     "prompt_number": 58
    },
    {
     "cell_type": "code",
     "collapsed": false,
     "input": [],
     "language": "python",
     "metadata": {},
     "outputs": []
    }
   ],
   "metadata": {}
  }
 ]
}